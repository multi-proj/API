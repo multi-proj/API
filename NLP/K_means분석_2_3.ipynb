{
  "nbformat": 4,
  "nbformat_minor": 0,
  "metadata": {
    "colab": {
      "name": "K-means분석-2-3.ipynb",
      "version": "0.3.2",
      "provenance": [],
      "collapsed_sections": [
        "V2WSIuSH5JuY",
        "KWZWTtZ9HSQV"
      ],
      "include_colab_link": true
    },
    "kernelspec": {
      "name": "python3",
      "display_name": "Python 3"
    }
  },
  "cells": [
    {
      "cell_type": "markdown",
      "metadata": {
        "id": "view-in-github",
        "colab_type": "text"
      },
      "source": [
        "<a href=\"https://colab.research.google.com/github/multi-proj/API/blob/master/NLP/K_means%EB%B6%84%EC%84%9D_2_3.ipynb\" target=\"_parent\"><img src=\"https://colab.research.google.com/assets/colab-badge.svg\" alt=\"Open In Colab\"/></a>"
      ]
    },
    {
      "cell_type": "markdown",
      "metadata": {
        "id": "3sunvYIKH_Nk",
        "colab_type": "text"
      },
      "source": [
        "Reference\n",
        "\n",
        "- WikiDocs"
      ]
    },
    {
      "cell_type": "markdown",
      "metadata": {
        "id": "jxK1S142wSyO",
        "colab_type": "text"
      },
      "source": [
        "### File Preprocessing"
      ]
    },
    {
      "cell_type": "code",
      "metadata": {
        "id": "VWkin2MqwU-G",
        "colab_type": "code",
        "colab": {}
      },
      "source": [
        "# xlsx to csv\n",
        "\n",
        "import xlrd\n",
        "import csv\n",
        "\n",
        "def csv_from_excel():\n",
        "    wb = xlrd.open_workbook('test.xlsx')\n",
        "    sh = wb.sheet_by_name('test')\n",
        "    your_csv_file = open('test.csv', 'w')\n",
        "    wr = csv.writer(your_csv_file, quoting=csv.QUOTE_ALL)\n",
        "\n",
        "    for rownum in range(sh.nrows):\n",
        "        wr.writerow(sh.row_values(rownum))\n",
        "\n",
        "    your_csv_file.close()\n",
        "\n",
        "# runs the csv_from_excel function:\n",
        "csv_from_excel()"
      ],
      "execution_count": 0,
      "outputs": []
    },
    {
      "cell_type": "code",
      "metadata": {
        "id": "gx5ao4uPwVi3",
        "colab_type": "code",
        "outputId": "c1f044a5-2570-4f68-daa0-d036700e7185",
        "colab": {
          "base_uri": "https://localhost:8080/",
          "height": 53
        }
      },
      "source": [
        "import pandas as pd\n",
        "import numpy as np\n",
        "\n",
        "!pip install konlpy\n",
        "from konlpy.tag import Hannanum, Kkma, Komoran, Okt\n",
        "from gensim.models import Word2Vec\n",
        "import gensim.models\n",
        "\n",
        "hannanum = Hannanum()\n",
        "kkma = Kkma()\n",
        "komoran = Komoran()\n",
        "okt = Okt()"
      ],
      "execution_count": 406,
      "outputs": [
        {
          "output_type": "stream",
          "text": [
            "Requirement already satisfied: konlpy in /usr/local/lib/python3.6/dist-packages (0.5.1)\n",
            "Requirement already satisfied: JPype1>=0.5.7 in /usr/local/lib/python3.6/dist-packages (from konlpy) (0.6.3)\n"
          ],
          "name": "stdout"
        }
      ]
    },
    {
      "cell_type": "code",
      "metadata": {
        "id": "0ddkTBtgwYhE",
        "colab_type": "code",
        "colab": {}
      },
      "source": [
        "from konlpy.corpus import kobill\n",
        "from gensim import corpora"
      ],
      "execution_count": 0,
      "outputs": []
    },
    {
      "cell_type": "markdown",
      "metadata": {
        "id": "ivtikMGywciq",
        "colab_type": "text"
      },
      "source": [
        "### 데이터 불러오기"
      ]
    },
    {
      "cell_type": "code",
      "metadata": {
        "id": "1zExS_Cdwcbx",
        "colab_type": "code",
        "outputId": "423b34d0-fd74-4a33-dc2f-a8cd1f7bdc92",
        "colab": {
          "base_uri": "https://localhost:8080/",
          "height": 408
        }
      },
      "source": [
        "test_1 = pd.read_csv('test.csv', encoding='utf-8')\n",
        "# csvreader = csv.reader(x.replace('\\0', '') for x in test_1)\n",
        "test_1 = test_1.fillna('asdf')\n",
        "test_1.head()"
      ],
      "execution_count": 408,
      "outputs": [
        {
          "output_type": "execute_result",
          "data": {
            "text/html": [
              "<div>\n",
              "<style scoped>\n",
              "    .dataframe tbody tr th:only-of-type {\n",
              "        vertical-align: middle;\n",
              "    }\n",
              "\n",
              "    .dataframe tbody tr th {\n",
              "        vertical-align: top;\n",
              "    }\n",
              "\n",
              "    .dataframe thead th {\n",
              "        text-align: right;\n",
              "    }\n",
              "</style>\n",
              "<table border=\"1\" class=\"dataframe\">\n",
              "  <thead>\n",
              "    <tr style=\"text-align: right;\">\n",
              "      <th></th>\n",
              "      <th>명칭</th>\n",
              "      <th>소속</th>\n",
              "      <th>왕(인물)</th>\n",
              "      <th>왕(시기)</th>\n",
              "      <th>유형</th>\n",
              "      <th>분류</th>\n",
              "      <th>행정 구</th>\n",
              "      <th>연도</th>\n",
              "      <th>설명1</th>\n",
              "      <th>설명2</th>\n",
              "    </tr>\n",
              "  </thead>\n",
              "  <tbody>\n",
              "    <tr>\n",
              "      <th>0</th>\n",
              "      <td>지광국사현묘탑</td>\n",
              "      <td>경복궁</td>\n",
              "      <td>문종(고려)</td>\n",
              "      <td>문종(고려)</td>\n",
              "      <td>승탑</td>\n",
              "      <td>국보</td>\n",
              "      <td>종로구</td>\n",
              "      <td>1075년</td>\n",
              "      <td>1962년 12월 20일 국보 제101호로 지정되었다. 전체 높이는 6.1m이다. ...</td>\n",
              "      <td>지광국사탑은 고려시대 조정이 최고의 승려에게 내리는 법계인 ‘국사’(國師)를 받은 ...</td>\n",
              "    </tr>\n",
              "    <tr>\n",
              "      <th>1</th>\n",
              "      <td>홍화문</td>\n",
              "      <td>창경궁</td>\n",
              "      <td>성종</td>\n",
              "      <td>광해군</td>\n",
              "      <td>궁궐, 궁문</td>\n",
              "      <td>보물</td>\n",
              "      <td>종로구</td>\n",
              "      <td>1484년</td>\n",
              "      <td>보물 제384호. 우진각지붕집. 정면 3칸, 측면 2칸의 다포계 중층 문루. 148...</td>\n",
              "      <td>정면 3칸, 측면 2칸의 중층(2층) 우진각지붕으로 동쪽으로 향한 점이 특징인 대문...</td>\n",
              "    </tr>\n",
              "    <tr>\n",
              "      <th>2</th>\n",
              "      <td>창녕위궁재사</td>\n",
              "      <td>무덤</td>\n",
              "      <td>순조</td>\n",
              "      <td>순조</td>\n",
              "      <td>건축, 재사</td>\n",
              "      <td>등록문화재</td>\n",
              "      <td>강북구</td>\n",
              "      <td>1832년</td>\n",
              "      <td>조선 제23대 순조의 둘째 딸 복온공주(福溫公主:1818~1832)와 부마 창녕위(...</td>\n",
              "      <td>1832년에 복온공주가 세상을 떠난 뒤 무덤이 주변에 자리하였고, 이어서 김병주의 ...</td>\n",
              "    </tr>\n",
              "    <tr>\n",
              "      <th>3</th>\n",
              "      <td>후원</td>\n",
              "      <td>창덕궁</td>\n",
              "      <td>태종</td>\n",
              "      <td>태종</td>\n",
              "      <td>유적, 정원</td>\n",
              "      <td>사적</td>\n",
              "      <td>종로구</td>\n",
              "      <td>1405년</td>\n",
              "      <td>면적 10만 3000여 평. 사적 제122호로 지정된 창덕궁 안에 있는 조선시대 정...</td>\n",
              "      <td>창덕궁 후원(昌德宮後苑) 또는 비원(祕苑)은 창덕궁 북쪽에 창경궁과 붙어 있는 한국...</td>\n",
              "    </tr>\n",
              "    <tr>\n",
              "      <th>4</th>\n",
              "      <td>창빈안씨묘역</td>\n",
              "      <td>국립현충원</td>\n",
              "      <td>숙종</td>\n",
              "      <td>선조</td>\n",
              "      <td>묘</td>\n",
              "      <td>시도유형문화재</td>\n",
              "      <td>동작구</td>\n",
              "      <td>1683년</td>\n",
              "      <td>1983년에 서울시유형문화재 제54호로 지정되었다. 조선 제11대 중종의 후궁(後宮...</td>\n",
              "      <td>창빈 안씨 묘역(昌嬪 安氏 墓域)은 조선 제11대 임금 중종(1488∼1544)의 ...</td>\n",
              "    </tr>\n",
              "  </tbody>\n",
              "</table>\n",
              "</div>"
            ],
            "text/plain": [
              "        명칭     소속   왕(인물)   왕(시기)      유형       분류 행정 구     연도  \\\n",
              "0  지광국사현묘탑    경복궁  문종(고려)  문종(고려)      승탑       국보  종로구  1075년   \n",
              "1      홍화문    창경궁      성종     광해군  궁궐, 궁문       보물  종로구  1484년   \n",
              "2   창녕위궁재사     무덤      순조      순조  건축, 재사    등록문화재  강북구  1832년   \n",
              "3       후원    창덕궁      태종      태종  유적, 정원       사적  종로구  1405년   \n",
              "4   창빈안씨묘역  국립현충원      숙종      선조       묘  시도유형문화재  동작구  1683년   \n",
              "\n",
              "                                                 설명1  \\\n",
              "0  1962년 12월 20일 국보 제101호로 지정되었다. 전체 높이는 6.1m이다. ...   \n",
              "1  보물 제384호. 우진각지붕집. 정면 3칸, 측면 2칸의 다포계 중층 문루. 148...   \n",
              "2  조선 제23대 순조의 둘째 딸 복온공주(福溫公主:1818~1832)와 부마 창녕위(...   \n",
              "3  면적 10만 3000여 평. 사적 제122호로 지정된 창덕궁 안에 있는 조선시대 정...   \n",
              "4  1983년에 서울시유형문화재 제54호로 지정되었다. 조선 제11대 중종의 후궁(後宮...   \n",
              "\n",
              "                                                 설명2  \n",
              "0  지광국사탑은 고려시대 조정이 최고의 승려에게 내리는 법계인 ‘국사’(國師)를 받은 ...  \n",
              "1  정면 3칸, 측면 2칸의 중층(2층) 우진각지붕으로 동쪽으로 향한 점이 특징인 대문...  \n",
              "2  1832년에 복온공주가 세상을 떠난 뒤 무덤이 주변에 자리하였고, 이어서 김병주의 ...  \n",
              "3  창덕궁 후원(昌德宮後苑) 또는 비원(祕苑)은 창덕궁 북쪽에 창경궁과 붙어 있는 한국...  \n",
              "4  창빈 안씨 묘역(昌嬪 安氏 墓域)은 조선 제11대 임금 중종(1488∼1544)의 ...  "
            ]
          },
          "metadata": {
            "tags": []
          },
          "execution_count": 408
        }
      ]
    },
    {
      "cell_type": "code",
      "metadata": {
        "id": "WJGJ1nnDmgxI",
        "colab_type": "code",
        "outputId": "0eb433a9-dab9-4e3f-f056-9c89c5fe1b7c",
        "colab": {
          "base_uri": "https://localhost:8080/",
          "height": 35
        }
      },
      "source": [
        "type(test_1)"
      ],
      "execution_count": 409,
      "outputs": [
        {
          "output_type": "execute_result",
          "data": {
            "text/plain": [
              "pandas.core.frame.DataFrame"
            ]
          },
          "metadata": {
            "tags": []
          },
          "execution_count": 409
        }
      ]
    },
    {
      "cell_type": "markdown",
      "metadata": {
        "id": "bYSM4b5ZwvCS",
        "colab_type": "text"
      },
      "source": [
        "### Data Preprocessing"
      ]
    },
    {
      "cell_type": "markdown",
      "metadata": {
        "id": "7aD8ZCjZ38wp",
        "colab_type": "text"
      },
      "source": [
        "- Concatenate several columns in one"
      ]
    },
    {
      "cell_type": "code",
      "metadata": {
        "id": "0dalsTQexLFo",
        "colab_type": "code",
        "colab": {
          "base_uri": "https://localhost:8080/",
          "height": 55
        },
        "outputId": "b847a607-602c-4636-e0be-9c49e12e0ba6"
      },
      "source": [
        "test_1['명칭_유형'] = list(i[-2:] for i in test_1['명칭'])\n",
        "test_1['명칭_유형'].head()\n",
        "test_type = test_1['명칭_유형']\n",
        "\n",
        "use_col = ['명칭', '연도']\n",
        "'''\n",
        "use_col_tot = ['명칭', '명칭_유형', '연도', '유형', '왕(인물)', '왕(시기)', '소속', '분류']\n",
        "use_col_dist = ['명칭', '명칭_유형', '연도', '분류', '유형', '소속']\n",
        "'''"
      ],
      "execution_count": 410,
      "outputs": [
        {
          "output_type": "execute_result",
          "data": {
            "text/plain": [
              "\"\\nuse_col_tot = ['명칭', '명칭_유형', '연도', '유형', '왕(인물)', '왕(시기)', '소속', '분류']\\nuse_col_dist = ['명칭', '명칭_유형', '연도', '분류', '유형', '소속']\\n\""
            ]
          },
          "metadata": {
            "tags": []
          },
          "execution_count": 410
        }
      ]
    },
    {
      "cell_type": "markdown",
      "metadata": {
        "id": "OHDW5Cy1LKsG",
        "colab_type": "text"
      },
      "source": [
        "- K-means용 프레임데이터"
      ]
    },
    {
      "cell_type": "code",
      "metadata": {
        "id": "VBLr3rqjxiCl",
        "colab_type": "code",
        "colab": {}
      },
      "source": [
        "test_1['설명1'] = test_1['설명1'].apply(hannanum.nouns)"
      ],
      "execution_count": 0,
      "outputs": []
    },
    {
      "cell_type": "code",
      "metadata": {
        "id": "w6hgEX_5wxoM",
        "colab_type": "code",
        "outputId": "40538e23-b252-4955-cf4d-499ff7d11dca",
        "colab": {
          "base_uri": "https://localhost:8080/",
          "height": 35
        }
      },
      "source": [
        "test_1['설명1']\n",
        "type(test_1['설명1'][0])"
      ],
      "execution_count": 412,
      "outputs": [
        {
          "output_type": "execute_result",
          "data": {
            "text/plain": [
              "list"
            ]
          },
          "metadata": {
            "tags": []
          },
          "execution_count": 412
        }
      ]
    },
    {
      "cell_type": "code",
      "metadata": {
        "id": "CulHbLhx70Yz",
        "colab_type": "code",
        "outputId": "f598e55a-29d9-4cb3-a81c-07fe10cc9d41",
        "colab": {
          "base_uri": "https://localhost:8080/",
          "height": 359
        }
      },
      "source": [
        "test_1['설명1'][0]"
      ],
      "execution_count": 413,
      "outputs": [
        {
          "output_type": "execute_result",
          "data": {
            "text/plain": [
              "['1962년',\n",
              " '12월',\n",
              " '20일',\n",
              " '국보',\n",
              " '제101호',\n",
              " '지정',\n",
              " '전체',\n",
              " '6.',\n",
              " '1m',\n",
              " '강원',\n",
              " '원주시',\n",
              " '부론면(富論面)',\n",
              " '법천리(法泉里)',\n",
              " '국권침탈',\n",
              " '직후',\n",
              " '일본',\n",
              " '반출',\n",
              " '반환',\n",
              " '경복궁']"
            ]
          },
          "metadata": {
            "tags": []
          },
          "execution_count": 413
        }
      ]
    },
    {
      "cell_type": "code",
      "metadata": {
        "colab_type": "code",
        "outputId": "023d4684-a1ca-48c3-cc74-eb09ea088d1a",
        "id": "4wFxZbb3Bln5",
        "colab": {
          "base_uri": "https://localhost:8080/",
          "height": 35
        }
      },
      "source": [
        "# test_2 = test_1['설명1'].apply(lambda x: x.remove('adsf'))\n",
        "'''for aa in list(test_1['설명1']) :\n",
        "  aa.remove(\"adsf\")'''"
      ],
      "execution_count": 414,
      "outputs": [
        {
          "output_type": "execute_result",
          "data": {
            "text/plain": [
              "'for aa in list(test_1[\\'설명1\\']) :\\n  aa.remove(\"adsf\")'"
            ]
          },
          "metadata": {
            "tags": []
          },
          "execution_count": 414
        }
      ]
    },
    {
      "cell_type": "code",
      "metadata": {
        "id": "VtfRnn6BwqOh",
        "colab_type": "code",
        "outputId": "ea82aaaf-8fea-472d-fab7-697a21332c88",
        "colab": {
          "base_uri": "https://localhost:8080/",
          "height": 125
        }
      },
      "source": [
        "test_sulmyung = test_1['설명1']\n",
        "# hannanum.nouns(list(i for i in test_1['명칭'])) \n",
        "\n",
        "test_sulmyung.head()"
      ],
      "execution_count": 415,
      "outputs": [
        {
          "output_type": "execute_result",
          "data": {
            "text/plain": [
              "0    [1962년, 12월, 20일, 국보, 제101호, 지정, 전체, 6., 1m, 강...\n",
              "1    [보물, 제384호, 우진각지붕집, 정면, 3칸, 측면, 2칸, 다포계, 중층, 문...\n",
              "2    [조선, 제23대, 순조, 둘째, 복온공주(福溫公主:1818~1832), 부마, 창...\n",
              "3    [면적, 10, 3000, 평, 사적, 제122호, 지정, 창덕궁, 안, 조선시대,...\n",
              "4    [1983년, 서울시유형문화재, 제54호, 지정, 조선, 제11대, 중종, 후궁(後...\n",
              "Name: 설명1, dtype: object"
            ]
          },
          "metadata": {
            "tags": []
          },
          "execution_count": 415
        }
      ]
    },
    {
      "cell_type": "code",
      "metadata": {
        "id": "BcUFSxWuzBP5",
        "colab_type": "code",
        "outputId": "2ac36c07-3458-4cb7-812f-3758970a9aa2",
        "colab": {
          "base_uri": "https://localhost:8080/",
          "height": 35
        }
      },
      "source": [
        "type(test_sulmyung[0])"
      ],
      "execution_count": 416,
      "outputs": [
        {
          "output_type": "execute_result",
          "data": {
            "text/plain": [
              "list"
            ]
          },
          "metadata": {
            "tags": []
          },
          "execution_count": 416
        }
      ]
    },
    {
      "cell_type": "code",
      "metadata": {
        "id": "bE2GLL7d28bN",
        "colab_type": "code",
        "outputId": "0c958f80-a879-4b00-ee37-b148342a61f3",
        "colab": {
          "base_uri": "https://localhost:8080/",
          "height": 35
        }
      },
      "source": [
        "type(test_1['명칭_유형'][0])"
      ],
      "execution_count": 417,
      "outputs": [
        {
          "output_type": "execute_result",
          "data": {
            "text/plain": [
              "str"
            ]
          },
          "metadata": {
            "tags": []
          },
          "execution_count": 417
        }
      ]
    },
    {
      "cell_type": "markdown",
      "metadata": {
        "id": "CFGpYswSFoyY",
        "colab_type": "text"
      },
      "source": [
        "#### sub-preprocessing according to 'classification type'"
      ]
    },
    {
      "cell_type": "markdown",
      "metadata": {
        "id": "2y9Xlo-WSY-L",
        "colab_type": "text"
      },
      "source": [
        "**1. For Overall Classification**"
      ]
    },
    {
      "cell_type": "code",
      "metadata": {
        "id": "K6wVPzjf2aFu",
        "colab_type": "code",
        "colab": {}
      },
      "source": [
        "for j in range(0,len(use_col)):\n",
        "  \n",
        "  for i in range(len(test_sulmyung)):\n",
        "    test_sulmyung[i].append(test_1[use_col[j]][i])"
      ],
      "execution_count": 0,
      "outputs": []
    },
    {
      "cell_type": "code",
      "metadata": {
        "id": "lEZVbtkn-2Gg",
        "colab_type": "code",
        "colab": {}
      },
      "source": [
        "test_sulmyung=test_sulmyung.str.join(\" \")"
      ],
      "execution_count": 0,
      "outputs": []
    },
    {
      "cell_type": "code",
      "metadata": {
        "id": "t0A6RL1h602_",
        "colab_type": "code",
        "outputId": "2e1fa1ad-c6c6-41da-97b0-cf47060c676d",
        "colab": {
          "base_uri": "https://localhost:8080/",
          "height": 35
        }
      },
      "source": [
        "test_sulmyung[0]\n",
        "\n",
        "type(test_sulmyung)\n",
        "\n",
        "test_sulmyung.dropna(axis=0)\n",
        "\n",
        "test_sulmyung[0]"
      ],
      "execution_count": 420,
      "outputs": [
        {
          "output_type": "execute_result",
          "data": {
            "text/plain": [
              "'1962년 12월 20일 국보 제101호 지정 전체 6. 1m 강원 원주시 부론면(富論面) 법천리(法泉里) 국권침탈 직후 일본 반출 반환 경복궁 지광국사현묘탑 1075년'"
            ]
          },
          "metadata": {
            "tags": []
          },
          "execution_count": 420
        }
      ]
    },
    {
      "cell_type": "code",
      "metadata": {
        "id": "p8dpAoJ0yCFH",
        "colab_type": "code",
        "outputId": "28868b2c-f03a-4581-8df3-eb4977a32056",
        "colab": {
          "base_uri": "https://localhost:8080/",
          "height": 35
        }
      },
      "source": [
        "test_sulmyung.shape\n",
        "# pd.concat([test_sulmyung, test_add], axis=1)    "
      ],
      "execution_count": 421,
      "outputs": [
        {
          "output_type": "execute_result",
          "data": {
            "text/plain": [
              "(121,)"
            ]
          },
          "metadata": {
            "tags": []
          },
          "execution_count": 421
        }
      ]
    },
    {
      "cell_type": "markdown",
      "metadata": {
        "id": "oZZxG8y0LQom",
        "colab_type": "text"
      },
      "source": [
        "- KNN용 프레임데이터"
      ]
    },
    {
      "cell_type": "code",
      "metadata": {
        "id": "7KKNE230LTAU",
        "colab_type": "code",
        "outputId": "f7efc41b-430a-48be-ae8c-6182c145515e",
        "colab": {
          "base_uri": "https://localhost:8080/",
          "height": 125
        }
      },
      "source": [
        "test_1['설명2'] = test_1['설명2'].apply(hannanum.nouns)\n",
        "test_sulmyung_knn = test_1['설명2']\n",
        "test_sulmyung_knn.head()"
      ],
      "execution_count": 422,
      "outputs": [
        {
          "output_type": "execute_result",
          "data": {
            "text/plain": [
              "0    [지광국사탑, 고려시대, 조정, 최고, 승려, 법계, ‘국사’(國師), 지광국사, ...\n",
              "1    [정면, 3칸, 측면, 2칸, 중, 2층, 우진각지붕, 동쪽, 점, 특징, 대문, ...\n",
              "2    [1832년, 복온공주, 세상, 뒤, 무덤, 주변, 자리하였고,, 이, 김병주, 무...\n",
              "3    [창덕궁, 후원(昌德宮後苑), 비원(祕苑), 창덕궁, 북쪽, 창경궁, 한국, 최대,...\n",
              "4    [창빈, 안씨, 묘역(昌嬪, 安氏, 墓域, 조선, 제11대, 임금, 중종(1488∼...\n",
              "Name: 설명2, dtype: object"
            ]
          },
          "metadata": {
            "tags": []
          },
          "execution_count": 422
        }
      ]
    },
    {
      "cell_type": "code",
      "metadata": {
        "id": "KaAcVCr0Nve7",
        "colab_type": "code",
        "outputId": "993cbb75-85c9-4920-db71-d1b9c7b83f66",
        "colab": {
          "base_uri": "https://localhost:8080/",
          "height": 35
        }
      },
      "source": [
        "type(test_sulmyung_knn[0])"
      ],
      "execution_count": 423,
      "outputs": [
        {
          "output_type": "execute_result",
          "data": {
            "text/plain": [
              "list"
            ]
          },
          "metadata": {
            "tags": []
          },
          "execution_count": 423
        }
      ]
    },
    {
      "cell_type": "code",
      "metadata": {
        "colab_type": "code",
        "id": "q4N8gAxvBm7-",
        "colab": {}
      },
      "source": [
        ""
      ],
      "execution_count": 0,
      "outputs": []
    },
    {
      "cell_type": "code",
      "metadata": {
        "id": "cSpb9vKjOU_L",
        "colab_type": "code",
        "colab": {}
      },
      "source": [
        "test_sulmyung_knn=test_sulmyung_knn.str.join(\" \")"
      ],
      "execution_count": 0,
      "outputs": []
    },
    {
      "cell_type": "code",
      "metadata": {
        "id": "Qb8xeu5C8jwT",
        "colab_type": "code",
        "colab": {}
      },
      "source": [
        ""
      ],
      "execution_count": 0,
      "outputs": []
    },
    {
      "cell_type": "code",
      "metadata": {
        "id": "1iGqOTJGOU1D",
        "colab_type": "code",
        "outputId": "8b043738-0efa-4605-de08-1ab59bcf7554",
        "colab": {
          "base_uri": "https://localhost:8080/",
          "height": 35
        }
      },
      "source": [
        "test_sulmyung_knn.shape"
      ],
      "execution_count": 425,
      "outputs": [
        {
          "output_type": "execute_result",
          "data": {
            "text/plain": [
              "(121,)"
            ]
          },
          "metadata": {
            "tags": []
          },
          "execution_count": 425
        }
      ]
    },
    {
      "cell_type": "markdown",
      "metadata": {
        "id": "_wLI_fEw4k8R",
        "colab_type": "text"
      },
      "source": [
        "### Training"
      ]
    },
    {
      "cell_type": "code",
      "metadata": {
        "id": "50NIIu9v0Voj",
        "colab_type": "code",
        "colab": {}
      },
      "source": [
        "from gensim.models import Word2Vec\n",
        "\n",
        "from sklearn.feature_extraction.text import TfidfVectorizer\n",
        "from sklearn.naive_bayes import MultinomialNB\n",
        "from sklearn.linear_model import SGDClassifier\n",
        "from sklearn.pipeline import Pipeline\n",
        "from sklearn.metrics import accuracy_score\n",
        "from sklearn.cluster import KMeans\n",
        "from sklearn.neighbors import KNeighborsClassifier  "
      ],
      "execution_count": 0,
      "outputs": []
    },
    {
      "cell_type": "code",
      "metadata": {
        "id": "crO_PxvL5-A-",
        "colab_type": "code",
        "outputId": "7da9dbbf-6317-4145-f698-a52a4cc074d9",
        "colab": {
          "base_uri": "https://localhost:8080/",
          "height": 35
        }
      },
      "source": [
        "type(test_sulmyung)"
      ],
      "execution_count": 427,
      "outputs": [
        {
          "output_type": "execute_result",
          "data": {
            "text/plain": [
              "pandas.core.series.Series"
            ]
          },
          "metadata": {
            "tags": []
          },
          "execution_count": 427
        }
      ]
    },
    {
      "cell_type": "markdown",
      "metadata": {
        "id": "V2WSIuSH5JuY",
        "colab_type": "text"
      },
      "source": [
        "#### K-means"
      ]
    },
    {
      "cell_type": "code",
      "metadata": {
        "id": "B0x9K5GU5JgZ",
        "colab_type": "code",
        "outputId": "3c6b415d-d1bd-497a-a4e3-3123fe62eb0c",
        "colab": {
          "base_uri": "https://localhost:8080/",
          "height": 125
        }
      },
      "source": [
        "X_train = test_sulmyung\n",
        "X_train.head()\n"
      ],
      "execution_count": 428,
      "outputs": [
        {
          "output_type": "execute_result",
          "data": {
            "text/plain": [
              "0    1962년 12월 20일 국보 제101호 지정 전체 6. 1m 강원 원주시 부론면(...\n",
              "1    보물 제384호 우진각지붕집 정면 3칸 측면 2칸 다포계 중층 문루 1484년(성종...\n",
              "2    조선 제23대 순조 둘째 복온공주(福溫公主:1818~1832) 부마 창녕위(昌寧尉)...\n",
              "3    면적 10 3000 평 사적 제122호 지정 창덕궁 안 조선시대 정원 조선왕궁 놀이...\n",
              "4    1983년 서울시유형문화재 제54호 지정 조선 제11대 중종 후궁(後宮) 선조 할머...\n",
              "Name: 설명1, dtype: object"
            ]
          },
          "metadata": {
            "tags": []
          },
          "execution_count": 428
        }
      ]
    },
    {
      "cell_type": "code",
      "metadata": {
        "colab_type": "code",
        "outputId": "5472b648-ee43-4461-acbb-95034066fa80",
        "id": "WxxhC6UFBmgq",
        "colab": {
          "base_uri": "https://localhost:8080/",
          "height": 143
        }
      },
      "source": [
        "tfidf = TfidfVectorizer()\n",
        "dataset1 = tfidf.fit_transform(X_train)\n",
        "type(dataset1)\n",
        "tfidf"
      ],
      "execution_count": 429,
      "outputs": [
        {
          "output_type": "execute_result",
          "data": {
            "text/plain": [
              "TfidfVectorizer(analyzer='word', binary=False, decode_error='strict',\n",
              "        dtype=<class 'numpy.float64'>, encoding='utf-8', input='content',\n",
              "        lowercase=True, max_df=1.0, max_features=None, min_df=1,\n",
              "        ngram_range=(1, 1), norm='l2', preprocessor=None, smooth_idf=True,\n",
              "        stop_words=None, strip_accents=None, sublinear_tf=False,\n",
              "        token_pattern='(?u)\\\\b\\\\w\\\\w+\\\\b', tokenizer=None, use_idf=True,\n",
              "        vocabulary=None)"
            ]
          },
          "metadata": {
            "tags": []
          },
          "execution_count": 429
        }
      ]
    },
    {
      "cell_type": "code",
      "metadata": {
        "id": "--qDiQLB5XP8",
        "colab_type": "code",
        "colab": {}
      },
      "source": [
        "cluster_number = 5\n",
        "# '소속' 기준으로 cluster_number=13 (제일 정확도 높음)\n",
        "km1=KMeans(n_clusters=cluster_number)\n",
        "out1=km1.fit_predict(dataset1)"
      ],
      "execution_count": 0,
      "outputs": []
    },
    {
      "cell_type": "markdown",
      "metadata": {
        "id": "KWZWTtZ9HSQV",
        "colab_type": "text"
      },
      "source": [
        "####  KNN"
      ]
    },
    {
      "cell_type": "code",
      "metadata": {
        "id": "vRnPwYDtHR-P",
        "colab_type": "code",
        "colab": {}
      },
      "source": [
        "from sklearn.neighbors import KNeighborsClassifier"
      ],
      "execution_count": 0,
      "outputs": []
    },
    {
      "cell_type": "code",
      "metadata": {
        "id": "xf0ch6vsPNK4",
        "colab_type": "code",
        "outputId": "8dce66e5-ca80-4b37-f27a-96b752ddfedd",
        "colab": {
          "base_uri": "https://localhost:8080/",
          "height": 125
        }
      },
      "source": [
        "X2_train = test_sulmyung_knn\n",
        "X2_train.head()"
      ],
      "execution_count": 443,
      "outputs": [
        {
          "output_type": "execute_result",
          "data": {
            "text/plain": [
              "0    지광국사탑 고려시대 조정 최고 승려 법계 ‘국사’(國師) 지광국사 해린(984∼10...\n",
              "1    정면 3칸 측면 2칸 중 2층 우진각지붕 동쪽 점 특징 대문 왼쪽 서북쪽 모서리 계...\n",
              "2    1832년 복온공주 세상 뒤 무덤 주변 자리하였고, 이 김병주 무덤 위치 재사 건립...\n",
              "3    창덕궁 후원(昌德宮後苑) 비원(祕苑) 창덕궁 북쪽 창경궁 한국 최대 궁중 정원 궁원...\n",
              "4    창빈 안씨 묘역(昌嬪 安氏 墓域 조선 제11대 임금 중종(1488∼1544) 후궁 ...\n",
              "Name: 설명2, dtype: object"
            ]
          },
          "metadata": {
            "tags": []
          },
          "execution_count": 443
        }
      ]
    },
    {
      "cell_type": "code",
      "metadata": {
        "id": "C5P_LrEcPOsr",
        "colab_type": "code",
        "outputId": "de4c17db-20a9-4a78-e738-7393e2079b14",
        "colab": {
          "base_uri": "https://localhost:8080/",
          "height": 35
        }
      },
      "source": [
        "# training\n",
        "\n",
        "\n",
        "tfidf = TfidfVectorizer()\n",
        "dataset2 = tfidf.fit_transform(X2_train)\n",
        "dataset2.shape"
      ],
      "execution_count": 444,
      "outputs": [
        {
          "output_type": "execute_result",
          "data": {
            "text/plain": [
              "(121, 4049)"
            ]
          },
          "metadata": {
            "tags": []
          },
          "execution_count": 444
        }
      ]
    },
    {
      "cell_type": "markdown",
      "metadata": {
        "id": "jmyymy1O7PcB",
        "colab_type": "text"
      },
      "source": [
        "### 예측값 정확도 확인하기"
      ]
    },
    {
      "cell_type": "code",
      "metadata": {
        "id": "gqZsjdyW831P",
        "colab_type": "code",
        "outputId": "12760c4c-14dd-4a6a-e9df-33b7f30f04b3",
        "colab": {
          "base_uri": "https://localhost:8080/",
          "height": 125
        }
      },
      "source": [
        "\n",
        "# 분류 bins 바꾸려면 cluster_number 지정해주기\n",
        "out1"
      ],
      "execution_count": 445,
      "outputs": [
        {
          "output_type": "execute_result",
          "data": {
            "text/plain": [
              "array([0, 3, 2, 1, 0, 0, 1, 1, 1, 1, 0, 0, 0, 0, 2, 1, 2, 0, 2, 0, 0, 4,\n",
              "       0, 3, 0, 1, 1, 2, 2, 3, 2, 3, 0, 2, 1, 0, 1, 2, 0, 0, 2, 4, 1, 3,\n",
              "       3, 1, 3, 2, 0, 0, 2, 2, 4, 4, 0, 1, 1, 1, 1, 3, 0, 3, 0, 1, 1, 1,\n",
              "       0, 0, 0, 3, 2, 2, 4, 3, 1, 0, 0, 2, 0, 2, 2, 1, 3, 0, 1, 1, 1, 3,\n",
              "       1, 0, 3, 1, 1, 0, 1, 0, 0, 0, 1, 1, 1, 1, 1, 4, 2, 1, 0, 3, 0, 1,\n",
              "       1, 1, 1, 0, 0, 1, 0, 1, 1, 3, 2], dtype=int32)"
            ]
          },
          "metadata": {
            "tags": []
          },
          "execution_count": 445
        }
      ]
    },
    {
      "cell_type": "code",
      "metadata": {
        "id": "3oljKfIwBdQC",
        "colab_type": "code",
        "outputId": "8010843c-a515-427a-ffb2-d52b273087d2",
        "colab": {
          "base_uri": "https://localhost:8080/",
          "height": 269
        }
      },
      "source": [
        "import matplotlib.pyplot as plt\n",
        "import seaborn as sns\n",
        "from scipy import stats\n",
        "\n",
        "# x = np.random.normal(size=100)\n",
        "sns.distplot(out1, bins=cluster_number); # , fit=stats.gamma"
      ],
      "execution_count": 446,
      "outputs": [
        {
          "output_type": "display_data",
          "data": {
            "image/png": "[encoded data removed]",
            "text/plain": [
              "<Figure size 432x288 with 1 Axes>"
            ]
          },
          "metadata": {
            "tags": []
          }
        }
      ]
    },
    {
      "cell_type": "code",
      "metadata": {
        "id": "3F1d3H4-5zPc",
        "colab_type": "code",
        "outputId": "01ed7bc1-2668-4fe6-831f-b3eb74851e56",
        "colab": {
          "base_uri": "https://localhost:8080/",
          "height": 773
        }
      },
      "source": [
        "test_1['연도'][out1==2]"
      ],
      "execution_count": 449,
      "outputs": [
        {
          "output_type": "execute_result",
          "data": {
            "text/plain": [
              "3      1405년\n",
              "6      1395년\n",
              "7      1737년\n",
              "8        미확인\n",
              "9      1661년\n",
              "15     1770년\n",
              "25     1737년\n",
              "26     1609년\n",
              "34     1405년\n",
              "36     1405년\n",
              "42     1412년\n",
              "45      10세기\n",
              "55     1847년\n",
              "56      990년\n",
              "57     1394년\n",
              "58     1392년\n",
              "63     1892년\n",
              "64      15세기\n",
              "65     1905년\n",
              "74      747년\n",
              "81     1792년\n",
              "84     1370년\n",
              "85     1639년\n",
              "86     1904년\n",
              "88     1530년\n",
              "91     1618년\n",
              "92     1725년\n",
              "94       미확인\n",
              "98     1985년\n",
              "99      15세기\n",
              "100    1506년\n",
              "101    1426년\n",
              "102    1536년\n",
              "105    1911년\n",
              "109    1969년\n",
              "110    1724년\n",
              "111    1405년\n",
              "112    1804년\n",
              "115    1900년\n",
              "117    1421년\n",
              "118    1776년\n",
              "Name: 연도, dtype: object"
            ]
          },
          "metadata": {
            "tags": []
          },
          "execution_count": 449
        }
      ]
    },
    {
      "cell_type": "code",
      "metadata": {
        "id": "PnssF-d67VsB",
        "colab_type": "code",
        "outputId": "75942d06-f4fd-4bc2-d9d9-9aab857f4f95",
        "colab": {
          "base_uri": "https://localhost:8080/",
          "height": 773
        }
      },
      "source": [
        "test_1['명칭'][out1==1]"
      ],
      "execution_count": 448,
      "outputs": [
        {
          "output_type": "execute_result",
          "data": {
            "text/plain": [
              "3               후원\n",
              "6              천추전\n",
              "7              청권사\n",
              "8       초안산조선시대분묘군\n",
              "9         충숙공이상길묘역\n",
              "15             풍기대\n",
              "25        효령대군이보묘역\n",
              "26             희정당\n",
              "34     창덕궁(세계문화유산)\n",
              "36             가정당\n",
              "42             경회루\n",
              "45       고달사지쌍사자석등\n",
              "55             낙선재\n",
              "56             낙성대\n",
              "57           남산봉수대\n",
              "58             내의원\n",
              "63         대웅전감로왕도\n",
              "64             대조전\n",
              "65             대한문\n",
              "74             백련사\n",
              "81             부용정\n",
              "84         삼봉정도전시비\n",
              "85            삼전도비\n",
              "86             석어당\n",
              "88      정릉(세계문화유산)\n",
              "91             숭정전\n",
              "92         신법구법천문도\n",
              "94         아차산봉수대터\n",
              "98              어정\n",
              "99            여계묘역\n",
              "100           연산군묘\n",
              "101            연추문\n",
              "102          영은문주초\n",
              "105            영휘원\n",
              "109        을지문덕장군상\n",
              "110             의릉\n",
              "111            인정문\n",
              "112            인정전\n",
              "115            정관헌\n",
              "117            영녕전\n",
              "118            주합루\n",
              "Name: 명칭, dtype: object"
            ]
          },
          "metadata": {
            "tags": []
          },
          "execution_count": 448
        }
      ]
    },
    {
      "cell_type": "code",
      "metadata": {
        "id": "VX-r5psFS1VZ",
        "colab_type": "code",
        "colab": {}
      },
      "source": [
        ""
      ],
      "execution_count": 0,
      "outputs": []
    }
  ]
}