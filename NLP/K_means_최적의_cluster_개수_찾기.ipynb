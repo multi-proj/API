{
  "nbformat": 4,
  "nbformat_minor": 0,
  "metadata": {
    "colab": {
      "name": "K-means_최적의 cluster 개수 찾기.ipynb",
      "version": "0.3.2",
      "provenance": [],
      "collapsed_sections": [],
      "include_colab_link": true
    },
    "kernelspec": {
      "name": "python3",
      "display_name": "Python 3"
    }
  },
  "cells": [
    {
      "cell_type": "markdown",
      "metadata": {
        "id": "view-in-github",
        "colab_type": "text"
      },
      "source": [
        "<a href=\"https://colab.research.google.com/github/multi-proj/API/blob/master/NLP/K_means_%EC%B5%9C%EC%A0%81%EC%9D%98_cluster_%EA%B0%9C%EC%88%98_%EC%B0%BE%EA%B8%B0.ipynb\" target=\"_parent\"><img src=\"https://colab.research.google.com/assets/colab-badge.svg\" alt=\"Open In Colab\"/></a>"
      ]
    },
    {
      "cell_type": "markdown",
      "metadata": {
        "id": "5uoeI4VkQuSc",
        "colab_type": "text"
      },
      "source": [
        "https://m.blog.naver.com/PostView.nhn?blogId=samsjang&logNo=221017639342&proxyReferer=https%3A%2F%2Fwww.google.com%2F"
      ]
    },
    {
      "cell_type": "markdown",
      "metadata": {
        "id": "C9cidPQhQ3So",
        "colab_type": "text"
      },
      "source": [
        "# 실루엣 기법\n",
        "\n",
        " * 실루엣 기법은 클러스터링의 품질을 정량적으로 계산해주는 방법입니다. \n",
        " * i번째 데이터 x(i)에 대한 실루엣 계수 s(i) 값은 아래의 식으로 정의됩니다.\n",
        " * 여기서 a(i)는 클러스터내 데이터 응집도(cohesion)를 나타내는 값으로, 데이터 x(i)와 동일한 클러스터내의 나머지 데이터들과의 평균 거리입니다. 이 거리가 작으면 응집도가 높겠지요.\n",
        " * b(i)는 클러스터간 분리도(separation)를 나타내는 값으로, 데이터 x(i)와 가장 가까운 클러스터내의 모든 데이터들과의 평균거리입니다.\n",
        " * 만약 클러스터 개수가 최적화 되어 있다면 b(i)의 값은 크고, a(i)의 값은 작아집니다. 따라서 s(i)의 값은 1에 가까운 숫자가 됩니다. 반대로 클러스터내 데이터 응집도와 클러스터간 분리도의 값이 같으면 실루엣 계수 s(i)는 0이 됩니다. 즉 실루엣 계수가 0이라는 것은 데이터들을 클러스터로 분리하는 것이 무의미하다는 것이겠지요.\n",
        " * 아무튼 클러스터의 개수가 최적화되어 있으면 실루엣 계수의 값은 1에 가까운 값이 됩니다.\n",
        "\n",
        "![image](https://user-images.githubusercontent.com/47211162/57421797-24ac6380-7248-11e9-823b-9648e6ac8176.png)\n",
        "\n",
        "\n",
        " * 참고로 JET 컬러맵은 아래와 같습니다.\n",
        "\n",
        " * 왼쪽 파란색 부분은 0.0, 오른쪽 빨간색 부분은 1.0 값을 가집니다. 중간 부분의 색상을 선택하려면 0과 1사이의 실수를 정해주면 됩니다.\n",
        "\n",
        "![image](https://user-images.githubusercontent.com/47211162/57422198-0b0c1b80-724a-11e9-8b2e-f6ebdd5866ca.png)\n",
        "\n",
        "\n",
        "\n"
      ]
    },
    {
      "cell_type": "code",
      "metadata": {
        "id": "bAinc-yFQvTY",
        "colab_type": "code",
        "colab": {}
      },
      "source": [
        "import numpy as np\n",
        "from sklearn.metrics import silhouette_samples\n",
        "from matplotlib import cm\n",
        "\n",
        "def plotSilhouette(X, y_km):\n",
        "    cluster_labels = np.unique(y_km)\n",
        "    n_clusters = cluster_labels.shape[0]\n",
        "    silhouette_vals = silhouette_samples(X, y_km, metric = 'euclidean')\n",
        "    y_ax_lower, y_ax_upper = 0, 0\n",
        "    yticks = []\n",
        "    \n",
        "    for i, c in enumerate(cluster_labels):\n",
        "        c_silhouette_vals = silhouette_vals[y_km == c]\n",
        "        c_silhouette_vals.sort()\n",
        "        y_ax_upper += len(c_silhouette_vals)\n",
        "        color = cm.jet(i/n_clusters)\n",
        "        \n",
        "        plt.barh(range(y_ax_lower, y_ax_upper), c_silhouette_vals, height =1.0,\n",
        "                edgecolor = 'none', color = color)\n",
        "        yticks.append((y_ax_lower + y_ax_upper) / 2)\n",
        "        y_ax_lower += len(c_silhouette_vals)\n",
        "        \n",
        "    silhouette_avg = np.mean(silhouette_vals)\n",
        "    plt.axvline(silhouette_avg, color = 'red', linestyle = '--')\n",
        "    plt.yticks(yticks, cluster_labels + 1)\n",
        "    plt.ylabel('클러스터')\n",
        "    plt.xlabel('실루엣 계수')\n",
        "    plt.show()"
      ],
      "execution_count": 0,
      "outputs": []
    },
    {
      "cell_type": "code",
      "metadata": {
        "id": "eFVYKCMDQy2y",
        "colab_type": "code",
        "colab": {}
      },
      "source": [
        "km = KMeans(n_clusters = 13, random_state =0)\n",
        "y_km = km.fit_predict(dataset1)\n",
        "plotSilhouette(dataset1, y_km)"
      ],
      "execution_count": 0,
      "outputs": []
    }
  ]
}