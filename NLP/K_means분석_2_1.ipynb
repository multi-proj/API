{
  "nbformat": 4,
  "nbformat_minor": 0,
  "metadata": {
    "colab": {
      "name": "K-means분석-2-1.ipynb",
      "version": "0.3.2",
      "provenance": [],
      "toc_visible": true,
      "include_colab_link": true
    },
    "kernelspec": {
      "name": "python3",
      "display_name": "Python 3"
    }
  },
  "cells": [
    {
      "cell_type": "markdown",
      "metadata": {
        "id": "view-in-github",
        "colab_type": "text"
      },
      "source": [
        "<a href=\"https://colab.research.google.com/github/multi-proj/API/blob/master/K_means%EB%B6%84%EC%84%9D_2_1.ipynb\" target=\"_parent\"><img src=\"https://colab.research.google.com/assets/colab-badge.svg\" alt=\"Open In Colab\"/></a>"
      ]
    },
    {
      "cell_type": "code",
      "metadata": {
        "id": "Klyxi4O_wP_7",
        "colab_type": "code",
        "colab": {}
      },
      "source": [
        ""
      ],
      "execution_count": 0,
      "outputs": []
    },
    {
      "cell_type": "markdown",
      "metadata": {
        "id": "3sunvYIKH_Nk",
        "colab_type": "text"
      },
      "source": [
        "Reference\n",
        "\n",
        "- WikiDocs"
      ]
    },
    {
      "cell_type": "markdown",
      "metadata": {
        "id": "jxK1S142wSyO",
        "colab_type": "text"
      },
      "source": [
        "### File Preprocessing"
      ]
    },
    {
      "cell_type": "code",
      "metadata": {
        "id": "VWkin2MqwU-G",
        "colab_type": "code",
        "colab": {}
      },
      "source": [
        "# xlsx to csv\n",
        "\n",
        "import xlrd\n",
        "import csv\n",
        "\n",
        "def csv_from_excel():\n",
        "    wb = xlrd.open_workbook('test.xlsx')\n",
        "    sh = wb.sheet_by_name('test')\n",
        "    your_csv_file = open('test.csv', 'w')\n",
        "    wr = csv.writer(your_csv_file, quoting=csv.QUOTE_ALL)\n",
        "\n",
        "    for rownum in range(sh.nrows):\n",
        "        wr.writerow(sh.row_values(rownum))\n",
        "\n",
        "    your_csv_file.close()\n",
        "\n",
        "# runs the csv_from_excel function:\n",
        "csv_from_excel()"
      ],
      "execution_count": 0,
      "outputs": []
    },
    {
      "cell_type": "code",
      "metadata": {
        "id": "gx5ao4uPwVi3",
        "colab_type": "code",
        "colab": {}
      },
      "source": [
        "import pandas as pd\n",
        "import numpy as np\n",
        "\n",
        "from konlpy.tag import Hannanum, Kkma, Komoran, Okt\n",
        "from gensim.models import Word2Vec\n",
        "import gensim.models\n",
        "\n",
        "hannanum = Hannanum()\n",
        "kkma = Kkma()\n",
        "komoran = Komoran()\n",
        "okt = Okt()"
      ],
      "execution_count": 0,
      "outputs": []
    },
    {
      "cell_type": "code",
      "metadata": {
        "id": "0ddkTBtgwYhE",
        "colab_type": "code",
        "colab": {}
      },
      "source": [
        "from konlpy.corpus import kobill\n",
        "from gensim import corpora"
      ],
      "execution_count": 0,
      "outputs": []
    },
    {
      "cell_type": "markdown",
      "metadata": {
        "id": "ivtikMGywciq",
        "colab_type": "text"
      },
      "source": [
        "### 데이터 불러오기"
      ]
    },
    {
      "cell_type": "code",
      "metadata": {
        "id": "WJGJ1nnDmgxI",
        "colab_type": "code",
        "outputId": "77dd67c3-4739-4ab3-db72-46a5d3c54e49",
        "colab": {
          "base_uri": "https://localhost:8080/",
          "height": 35
        }
      },
      "source": [
        "type(test_1)"
      ],
      "execution_count": 321,
      "outputs": [
        {
          "output_type": "execute_result",
          "data": {
            "text/plain": [
              "pandas.core.frame.DataFrame"
            ]
          },
          "metadata": {
            "tags": []
          },
          "execution_count": 321
        }
      ]
    },
    {
      "cell_type": "code",
      "metadata": {
        "id": "1zExS_Cdwcbx",
        "colab_type": "code",
        "outputId": "fe800d22-5062-4a03-fc93-75ded6f93cdc",
        "colab": {
          "base_uri": "https://localhost:8080/",
          "height": 493
        }
      },
      "source": [
        "test_1 = pd.read_csv('test.csv', encoding='utf-8')\n",
        "# csvreader = csv.reader(x.replace('\\0', '') for x in test_1)\n",
        "test_1 = test_1.fillna('asdf')\n",
        "test_1.head()"
      ],
      "execution_count": 322,
      "outputs": [
        {
          "output_type": "execute_result",
          "data": {
            "text/html": [
              "<div>\n",
              "<style scoped>\n",
              "    .dataframe tbody tr th:only-of-type {\n",
              "        vertical-align: middle;\n",
              "    }\n",
              "\n",
              "    .dataframe tbody tr th {\n",
              "        vertical-align: top;\n",
              "    }\n",
              "\n",
              "    .dataframe thead th {\n",
              "        text-align: right;\n",
              "    }\n",
              "</style>\n",
              "<table border=\"1\" class=\"dataframe\">\n",
              "  <thead>\n",
              "    <tr style=\"text-align: right;\">\n",
              "      <th></th>\n",
              "      <th>명칭</th>\n",
              "      <th>소속</th>\n",
              "      <th>왕(인물)</th>\n",
              "      <th>왕(시기)</th>\n",
              "      <th>유형</th>\n",
              "      <th>분류</th>\n",
              "      <th>행정 구</th>\n",
              "      <th>연도</th>\n",
              "      <th>설명1</th>\n",
              "      <th>설명2</th>\n",
              "    </tr>\n",
              "  </thead>\n",
              "  <tbody>\n",
              "    <tr>\n",
              "      <th>0</th>\n",
              "      <td>지광국사현묘탑</td>\n",
              "      <td>asdf</td>\n",
              "      <td>asdf</td>\n",
              "      <td>문종(고려)</td>\n",
              "      <td>승탑</td>\n",
              "      <td>국보</td>\n",
              "      <td>종로구</td>\n",
              "      <td>1075년</td>\n",
              "      <td>1962년 12월 20일 국보 제101호로 지정되었다. 전체 높이는 6.1m이다. ...</td>\n",
              "      <td>지광국사탑은 고려시대 조정이 최고의 승려에게 내리는 법계인 ‘국사’(國師)를 받은 ...</td>\n",
              "    </tr>\n",
              "    <tr>\n",
              "      <th>1</th>\n",
              "      <td>홍화문</td>\n",
              "      <td>창경궁</td>\n",
              "      <td>asdf</td>\n",
              "      <td>성종(건립), 광해군(재건)</td>\n",
              "      <td>궁궐, 궁문</td>\n",
              "      <td>보물</td>\n",
              "      <td>종로구</td>\n",
              "      <td>1484년</td>\n",
              "      <td>보물 제384호. 우진각지붕집. 정면 3칸, 측면 2칸의 다포계 중층 문루. 148...</td>\n",
              "      <td>정면 3칸, 측면 2칸의 중층(2층) 우진각지붕으로 동쪽으로 향한 점이 특징인 대문...</td>\n",
              "    </tr>\n",
              "    <tr>\n",
              "      <th>2</th>\n",
              "      <td>창녕위궁재사</td>\n",
              "      <td>asdf</td>\n",
              "      <td>asdf</td>\n",
              "      <td>순조</td>\n",
              "      <td>건축, 재사</td>\n",
              "      <td>등록문화재</td>\n",
              "      <td>강북구</td>\n",
              "      <td>1832년</td>\n",
              "      <td>조선 제23대 순조의 둘째 딸 복온공주(福溫公主:1818~1832)와 부마 창녕위(...</td>\n",
              "      <td>1832년에 복온공주가 세상을 떠난 뒤 무덤이 주변에 자리하였고, 이어서 김병주의 ...</td>\n",
              "    </tr>\n",
              "    <tr>\n",
              "      <th>3</th>\n",
              "      <td>후원</td>\n",
              "      <td>창덕궁</td>\n",
              "      <td>asdf</td>\n",
              "      <td>태종</td>\n",
              "      <td>유적, 정원</td>\n",
              "      <td>사적</td>\n",
              "      <td>종로구</td>\n",
              "      <td>1405년</td>\n",
              "      <td>면적 10만 3000여 평. 사적 제122호로 지정된 창덕궁 안에 있는 조선시대 정...</td>\n",
              "      <td>창덕궁 후원(昌德宮後苑) 또는 비원(祕苑)은 창덕궁 북쪽에 창경궁과 붙어 있는 한국...</td>\n",
              "    </tr>\n",
              "    <tr>\n",
              "      <th>4</th>\n",
              "      <td>창빈안씨묘역</td>\n",
              "      <td>asdf</td>\n",
              "      <td>숙종, 선조</td>\n",
              "      <td>명종</td>\n",
              "      <td>묘</td>\n",
              "      <td>시도유형문화재</td>\n",
              "      <td>동작구</td>\n",
              "      <td>1683년</td>\n",
              "      <td>1983년에 서울시유형문화재 제54호로 지정되었다. 조선 제11대 중종의 후궁(後宮...</td>\n",
              "      <td>창빈 안씨 묘역(昌嬪 安氏 墓域)은 조선 제11대 임금 중종(1488∼1544)의 ...</td>\n",
              "    </tr>\n",
              "  </tbody>\n",
              "</table>\n",
              "</div>"
            ],
            "text/plain": [
              "        명칭    소속   왕(인물)            왕(시기)      유형       분류 행정 구     연도  \\\n",
              "0  지광국사현묘탑  asdf    asdf           문종(고려)      승탑       국보  종로구  1075년   \n",
              "1      홍화문   창경궁    asdf  성종(건립), 광해군(재건)  궁궐, 궁문       보물  종로구  1484년   \n",
              "2   창녕위궁재사  asdf    asdf               순조  건축, 재사    등록문화재  강북구  1832년   \n",
              "3       후원   창덕궁    asdf               태종  유적, 정원       사적  종로구  1405년   \n",
              "4   창빈안씨묘역  asdf  숙종, 선조               명종       묘  시도유형문화재  동작구  1683년   \n",
              "\n",
              "                                                 설명1  \\\n",
              "0  1962년 12월 20일 국보 제101호로 지정되었다. 전체 높이는 6.1m이다. ...   \n",
              "1  보물 제384호. 우진각지붕집. 정면 3칸, 측면 2칸의 다포계 중층 문루. 148...   \n",
              "2  조선 제23대 순조의 둘째 딸 복온공주(福溫公主:1818~1832)와 부마 창녕위(...   \n",
              "3  면적 10만 3000여 평. 사적 제122호로 지정된 창덕궁 안에 있는 조선시대 정...   \n",
              "4  1983년에 서울시유형문화재 제54호로 지정되었다. 조선 제11대 중종의 후궁(後宮...   \n",
              "\n",
              "                                                 설명2  \n",
              "0  지광국사탑은 고려시대 조정이 최고의 승려에게 내리는 법계인 ‘국사’(國師)를 받은 ...  \n",
              "1  정면 3칸, 측면 2칸의 중층(2층) 우진각지붕으로 동쪽으로 향한 점이 특징인 대문...  \n",
              "2  1832년에 복온공주가 세상을 떠난 뒤 무덤이 주변에 자리하였고, 이어서 김병주의 ...  \n",
              "3  창덕궁 후원(昌德宮後苑) 또는 비원(祕苑)은 창덕궁 북쪽에 창경궁과 붙어 있는 한국...  \n",
              "4  창빈 안씨 묘역(昌嬪 安氏 墓域)은 조선 제11대 임금 중종(1488∼1544)의 ...  "
            ]
          },
          "metadata": {
            "tags": []
          },
          "execution_count": 322
        }
      ]
    },
    {
      "cell_type": "markdown",
      "metadata": {
        "id": "bYSM4b5ZwvCS",
        "colab_type": "text"
      },
      "source": [
        "### Data Preprocessing"
      ]
    },
    {
      "cell_type": "markdown",
      "metadata": {
        "id": "7aD8ZCjZ38wp",
        "colab_type": "text"
      },
      "source": [
        "- Concatenate several columns in one"
      ]
    },
    {
      "cell_type": "code",
      "metadata": {
        "id": "0dalsTQexLFo",
        "colab_type": "code",
        "colab": {}
      },
      "source": [
        "test_1['명칭_유형'] = list(i[-2:] for i in test_1['명칭'])\n",
        "test_1['명칭_유형'].head()\n",
        "test_type = test_1['명칭_유형']\n",
        "\n",
        "use_col = ['명칭', '명칭_유형', '연도', '행정 구', '분류', '유형', '소속']\n"
      ],
      "execution_count": 0,
      "outputs": []
    },
    {
      "cell_type": "markdown",
      "metadata": {
        "id": "OHDW5Cy1LKsG",
        "colab_type": "text"
      },
      "source": [
        "- K-means용 프레임데이터"
      ]
    },
    {
      "cell_type": "code",
      "metadata": {
        "id": "VBLr3rqjxiCl",
        "colab_type": "code",
        "colab": {}
      },
      "source": [
        "test_1['설명1'] = test_1['설명1'].apply(hannanum.nouns)"
      ],
      "execution_count": 0,
      "outputs": []
    },
    {
      "cell_type": "code",
      "metadata": {
        "id": "w6hgEX_5wxoM",
        "colab_type": "code",
        "colab": {
          "base_uri": "https://localhost:8080/",
          "height": 35
        },
        "outputId": "ff8c25de-5ba0-44ee-f9f3-bd3b69bb3ac2"
      },
      "source": [
        "test_1['설명1']\n",
        "type(test_1['설명1'][0])"
      ],
      "execution_count": 325,
      "outputs": [
        {
          "output_type": "execute_result",
          "data": {
            "text/plain": [
              "list"
            ]
          },
          "metadata": {
            "tags": []
          },
          "execution_count": 325
        }
      ]
    },
    {
      "cell_type": "code",
      "metadata": {
        "id": "CulHbLhx70Yz",
        "colab_type": "code",
        "colab": {
          "base_uri": "https://localhost:8080/",
          "height": 359
        },
        "outputId": "f50a59bb-f5fe-4980-832a-35b64a3e2256"
      },
      "source": [
        "test_1['설명1'][0]"
      ],
      "execution_count": 326,
      "outputs": [
        {
          "output_type": "execute_result",
          "data": {
            "text/plain": [
              "['1962년',\n",
              " '12월',\n",
              " '20일',\n",
              " '국보',\n",
              " '제101호',\n",
              " '지정',\n",
              " '전체',\n",
              " '6.',\n",
              " '1m',\n",
              " '강원',\n",
              " '원주시',\n",
              " '부론면(富論面)',\n",
              " '법천리(法泉里)',\n",
              " '국권침탈',\n",
              " '직후',\n",
              " '일본',\n",
              " '반출',\n",
              " '반환',\n",
              " '경복궁']"
            ]
          },
          "metadata": {
            "tags": []
          },
          "execution_count": 326
        }
      ]
    },
    {
      "cell_type": "code",
      "metadata": {
        "id": "hJ_MmOYUwaGs",
        "colab_type": "code",
        "outputId": "c50f07ec-15be-4d63-dd3c-2764ea3eb90c",
        "colab": {
          "base_uri": "https://localhost:8080/",
          "height": 35
        }
      },
      "source": [
        "# test_2 = test_1['설명1'].apply(lambda x: x.remove('adsf'))\n",
        "'''for aa in list(test_1['설명1']) :\n",
        "  aa.remove(\"adsf\")'''"
      ],
      "execution_count": 327,
      "outputs": [
        {
          "output_type": "execute_result",
          "data": {
            "text/plain": [
              "'for aa in list(test_1[\\'설명1\\']) :\\n  aa.remove(\"adsf\")'"
            ]
          },
          "metadata": {
            "tags": []
          },
          "execution_count": 327
        }
      ]
    },
    {
      "cell_type": "code",
      "metadata": {
        "id": "f7Pg2GN95PpH",
        "colab_type": "code",
        "colab": {
          "base_uri": "https://localhost:8080/",
          "height": 359
        },
        "outputId": "4e76c3a4-1627-4337-9959-a928202d75c9"
      },
      "source": [
        "test_1['설명1'][0]"
      ],
      "execution_count": 328,
      "outputs": [
        {
          "output_type": "execute_result",
          "data": {
            "text/plain": [
              "['1962년',\n",
              " '12월',\n",
              " '20일',\n",
              " '국보',\n",
              " '제101호',\n",
              " '지정',\n",
              " '전체',\n",
              " '6.',\n",
              " '1m',\n",
              " '강원',\n",
              " '원주시',\n",
              " '부론면(富論面)',\n",
              " '법천리(法泉里)',\n",
              " '국권침탈',\n",
              " '직후',\n",
              " '일본',\n",
              " '반출',\n",
              " '반환',\n",
              " '경복궁']"
            ]
          },
          "metadata": {
            "tags": []
          },
          "execution_count": 328
        }
      ]
    },
    {
      "cell_type": "code",
      "metadata": {
        "id": "nqXy43snxSD2",
        "colab_type": "code",
        "colab": {
          "base_uri": "https://localhost:8080/",
          "height": 376
        },
        "outputId": "dd8507c4-82b6-4547-f4df-d7a43ed5b66b"
      },
      "source": [
        "test_1['설명1'] = test_1['설명1'].apply(hannanum.nouns)\n",
        "test_1['설명1'][0]"
      ],
      "execution_count": 329,
      "outputs": [
        {
          "output_type": "error",
          "ename": "RuntimeError",
          "evalue": "ignored",
          "traceback": [
            "\u001b[0;31m---------------------------------------------------------------------------\u001b[0m",
            "\u001b[0;31mRuntimeError\u001b[0m                              Traceback (most recent call last)",
            "\u001b[0;32m<ipython-input-329-4f3a69519b48>\u001b[0m in \u001b[0;36m<module>\u001b[0;34m()\u001b[0m\n\u001b[0;32m----> 1\u001b[0;31m \u001b[0mtest_1\u001b[0m\u001b[0;34m[\u001b[0m\u001b[0;34m'설명1'\u001b[0m\u001b[0;34m]\u001b[0m \u001b[0;34m=\u001b[0m \u001b[0mtest_1\u001b[0m\u001b[0;34m[\u001b[0m\u001b[0;34m'설명1'\u001b[0m\u001b[0;34m]\u001b[0m\u001b[0;34m.\u001b[0m\u001b[0mapply\u001b[0m\u001b[0;34m(\u001b[0m\u001b[0mhannanum\u001b[0m\u001b[0;34m.\u001b[0m\u001b[0mnouns\u001b[0m\u001b[0;34m)\u001b[0m\u001b[0;34m\u001b[0m\u001b[0;34m\u001b[0m\u001b[0m\n\u001b[0m\u001b[1;32m      2\u001b[0m \u001b[0mtest_1\u001b[0m\u001b[0;34m[\u001b[0m\u001b[0;34m'설명1'\u001b[0m\u001b[0;34m]\u001b[0m\u001b[0;34m[\u001b[0m\u001b[0;36m0\u001b[0m\u001b[0;34m]\u001b[0m\u001b[0;34m\u001b[0m\u001b[0;34m\u001b[0m\u001b[0m\n",
            "\u001b[0;32m/usr/local/lib/python3.6/dist-packages/pandas/core/series.py\u001b[0m in \u001b[0;36mapply\u001b[0;34m(self, func, convert_dtype, args, **kwds)\u001b[0m\n\u001b[1;32m   3589\u001b[0m             \u001b[0;32melse\u001b[0m\u001b[0;34m:\u001b[0m\u001b[0;34m\u001b[0m\u001b[0;34m\u001b[0m\u001b[0m\n\u001b[1;32m   3590\u001b[0m                 \u001b[0mvalues\u001b[0m \u001b[0;34m=\u001b[0m \u001b[0mself\u001b[0m\u001b[0;34m.\u001b[0m\u001b[0mastype\u001b[0m\u001b[0;34m(\u001b[0m\u001b[0mobject\u001b[0m\u001b[0;34m)\u001b[0m\u001b[0;34m.\u001b[0m\u001b[0mvalues\u001b[0m\u001b[0;34m\u001b[0m\u001b[0;34m\u001b[0m\u001b[0m\n\u001b[0;32m-> 3591\u001b[0;31m                 \u001b[0mmapped\u001b[0m \u001b[0;34m=\u001b[0m \u001b[0mlib\u001b[0m\u001b[0;34m.\u001b[0m\u001b[0mmap_infer\u001b[0m\u001b[0;34m(\u001b[0m\u001b[0mvalues\u001b[0m\u001b[0;34m,\u001b[0m \u001b[0mf\u001b[0m\u001b[0;34m,\u001b[0m \u001b[0mconvert\u001b[0m\u001b[0;34m=\u001b[0m\u001b[0mconvert_dtype\u001b[0m\u001b[0;34m)\u001b[0m\u001b[0;34m\u001b[0m\u001b[0;34m\u001b[0m\u001b[0m\n\u001b[0m\u001b[1;32m   3592\u001b[0m \u001b[0;34m\u001b[0m\u001b[0m\n\u001b[1;32m   3593\u001b[0m         \u001b[0;32mif\u001b[0m \u001b[0mlen\u001b[0m\u001b[0;34m(\u001b[0m\u001b[0mmapped\u001b[0m\u001b[0;34m)\u001b[0m \u001b[0;32mand\u001b[0m \u001b[0misinstance\u001b[0m\u001b[0;34m(\u001b[0m\u001b[0mmapped\u001b[0m\u001b[0;34m[\u001b[0m\u001b[0;36m0\u001b[0m\u001b[0;34m]\u001b[0m\u001b[0;34m,\u001b[0m \u001b[0mSeries\u001b[0m\u001b[0;34m)\u001b[0m\u001b[0;34m:\u001b[0m\u001b[0;34m\u001b[0m\u001b[0;34m\u001b[0m\u001b[0m\n",
            "\u001b[0;32mpandas/_libs/lib.pyx\u001b[0m in \u001b[0;36mpandas._libs.lib.map_infer\u001b[0;34m()\u001b[0m\n",
            "\u001b[0;32m/usr/local/lib/python3.6/dist-packages/konlpy/tag/_hannanum.py\u001b[0m in \u001b[0;36mnouns\u001b[0;34m(self, phrase)\u001b[0m\n\u001b[1;32m     96\u001b[0m         \u001b[0;34m\"\"\"Noun extractor.\"\"\"\u001b[0m\u001b[0;34m\u001b[0m\u001b[0;34m\u001b[0m\u001b[0m\n\u001b[1;32m     97\u001b[0m \u001b[0;34m\u001b[0m\u001b[0m\n\u001b[0;32m---> 98\u001b[0;31m         \u001b[0mtagged\u001b[0m \u001b[0;34m=\u001b[0m \u001b[0mself\u001b[0m\u001b[0;34m.\u001b[0m\u001b[0mpos\u001b[0m\u001b[0;34m(\u001b[0m\u001b[0mphrase\u001b[0m\u001b[0;34m)\u001b[0m\u001b[0;34m\u001b[0m\u001b[0;34m\u001b[0m\u001b[0m\n\u001b[0m\u001b[1;32m     99\u001b[0m         \u001b[0;32mreturn\u001b[0m \u001b[0;34m[\u001b[0m\u001b[0ms\u001b[0m \u001b[0;32mfor\u001b[0m \u001b[0ms\u001b[0m\u001b[0;34m,\u001b[0m \u001b[0mt\u001b[0m \u001b[0;32min\u001b[0m \u001b[0mtagged\u001b[0m \u001b[0;32mif\u001b[0m \u001b[0mt\u001b[0m\u001b[0;34m.\u001b[0m\u001b[0mstartswith\u001b[0m\u001b[0;34m(\u001b[0m\u001b[0;34m'N'\u001b[0m\u001b[0;34m)\u001b[0m\u001b[0;34m]\u001b[0m\u001b[0;34m\u001b[0m\u001b[0;34m\u001b[0m\u001b[0m\n\u001b[1;32m    100\u001b[0m \u001b[0;34m\u001b[0m\u001b[0m\n",
            "\u001b[0;32m/usr/local/lib/python3.6/dist-packages/konlpy/tag/_hannanum.py\u001b[0m in \u001b[0;36mpos\u001b[0;34m(self, phrase, ntags, flatten, join)\u001b[0m\n\u001b[1;32m     86\u001b[0m \u001b[0;34m\u001b[0m\u001b[0m\n\u001b[1;32m     87\u001b[0m         \u001b[0;32mif\u001b[0m \u001b[0mntags\u001b[0m \u001b[0;34m==\u001b[0m \u001b[0;36m9\u001b[0m\u001b[0;34m:\u001b[0m\u001b[0;34m\u001b[0m\u001b[0;34m\u001b[0m\u001b[0m\n\u001b[0;32m---> 88\u001b[0;31m             \u001b[0mresult\u001b[0m \u001b[0;34m=\u001b[0m \u001b[0mself\u001b[0m\u001b[0;34m.\u001b[0m\u001b[0mjhi\u001b[0m\u001b[0;34m.\u001b[0m\u001b[0msimplePos09\u001b[0m\u001b[0;34m(\u001b[0m\u001b[0mphrase\u001b[0m\u001b[0;34m)\u001b[0m\u001b[0;34m\u001b[0m\u001b[0;34m\u001b[0m\u001b[0m\n\u001b[0m\u001b[1;32m     89\u001b[0m         \u001b[0;32melif\u001b[0m \u001b[0mntags\u001b[0m \u001b[0;34m==\u001b[0m \u001b[0;36m22\u001b[0m\u001b[0;34m:\u001b[0m\u001b[0;34m\u001b[0m\u001b[0;34m\u001b[0m\u001b[0m\n\u001b[1;32m     90\u001b[0m             \u001b[0mresult\u001b[0m \u001b[0;34m=\u001b[0m \u001b[0mself\u001b[0m\u001b[0;34m.\u001b[0m\u001b[0mjhi\u001b[0m\u001b[0;34m.\u001b[0m\u001b[0msimplePos22\u001b[0m\u001b[0;34m(\u001b[0m\u001b[0mphrase\u001b[0m\u001b[0;34m)\u001b[0m\u001b[0;34m\u001b[0m\u001b[0;34m\u001b[0m\u001b[0m\n",
            "\u001b[0;31mRuntimeError\u001b[0m: No matching overloads found for simplePos09 in find. at native/common/jp_method.cpp:127"
          ]
        }
      ]
    },
    {
      "cell_type": "code",
      "metadata": {
        "id": "VtfRnn6BwqOh",
        "colab_type": "code",
        "colab": {}
      },
      "source": [
        "test_sulmyung = test_1['설명1']\n",
        "# hannanum.nouns(list(i for i in test_1['명칭'])) \n",
        "\n",
        "test_sulmyung.head()"
      ],
      "execution_count": 0,
      "outputs": []
    },
    {
      "cell_type": "code",
      "metadata": {
        "id": "BcUFSxWuzBP5",
        "colab_type": "code",
        "colab": {}
      },
      "source": [
        "type(test_sulmyung[0])"
      ],
      "execution_count": 0,
      "outputs": []
    },
    {
      "cell_type": "code",
      "metadata": {
        "id": "bE2GLL7d28bN",
        "colab_type": "code",
        "colab": {}
      },
      "source": [
        "type(test_1['명칭_유형'][0])"
      ],
      "execution_count": 0,
      "outputs": []
    },
    {
      "cell_type": "code",
      "metadata": {
        "id": "K6wVPzjf2aFu",
        "colab_type": "code",
        "colab": {}
      },
      "source": [
        "for j in range(0,len(use_col)):\n",
        "  \n",
        "  for i in range(len(test_sulmyung)):\n",
        "    test_sulmyung[i].append(test_1[use_col[j]][i])"
      ],
      "execution_count": 0,
      "outputs": []
    },
    {
      "cell_type": "code",
      "metadata": {
        "id": "lEZVbtkn-2Gg",
        "colab_type": "code",
        "colab": {}
      },
      "source": [
        "test_sulmyung=test_sulmyung.str.join(\" \")\n",
        "\" \".join(test_sulmyung[0])"
      ],
      "execution_count": 0,
      "outputs": []
    },
    {
      "cell_type": "code",
      "metadata": {
        "id": "t0A6RL1h602_",
        "colab_type": "code",
        "colab": {}
      },
      "source": [
        "test_sulmyung=test_sulmyung.str.join(\" \")\n",
        "# test_sulmyung[0]\n",
        "\n",
        "# I have more args that might be None / or not exist like and that breaks\n",
        "# str(' ').join(test_sulmyung)\n",
        "\n",
        "'''\n",
        "for i in test_sulmyung:\n",
        "  i = list(filter(None, i))\n",
        "  \n",
        "for i in range(len(test_sulmyung)):\n",
        "  test_sulmyung[i] = list(filter(None, test_sulmyung[i])) # fastest\n",
        "'''\n",
        "\n",
        "# cleanedList = [x for x in countries if str(x) != 'nan']\n",
        "\n",
        "'''\n",
        "cleanedList = [x for x in test_sulmyung if str(x) != 'nan']\n",
        "cleanedList[0] = list(filter(None, cleanedList[0]))\n",
        "cleanedList[0]\n",
        "\n",
        "for i in test_sulmyung:\n",
        "  for j in i:\n",
        "    if len(j) == 0 :\n",
        "      del test_sulmyung[i][j]\n",
        "\n",
        "for i in test_sulmyung:\n",
        "  for j in i:\n",
        "    if j == 'null':\n",
        "      del test_sulmyung[i][j]\n",
        "    else:\n",
        "      continue\n",
        "\n",
        "for i in test_sulmyung:\n",
        "  for j in i:\n",
        "    if j == 'null':\n",
        "      del test_sulmyung[len(i)][len(j)]\n",
        "    else:\n",
        "      continue\n",
        "'''\n",
        "type(test_sulmyung)\n",
        "\n",
        "test_sulmyung.dropna(axis=0)\n",
        "\n",
        "test_sulmyung[0]\n",
        "# pd.isnull(test_sulmyung[0]) # 왜안되지...."
      ],
      "execution_count": 0,
      "outputs": []
    },
    {
      "cell_type": "code",
      "metadata": {
        "id": "p8dpAoJ0yCFH",
        "colab_type": "code",
        "colab": {}
      },
      "source": [
        "test_sulmyung.shape\n",
        "# pd.concat([test_sulmyung, test_add], axis=1)    "
      ],
      "execution_count": 0,
      "outputs": []
    },
    {
      "cell_type": "markdown",
      "metadata": {
        "id": "oZZxG8y0LQom",
        "colab_type": "text"
      },
      "source": [
        "- KNN용 프레임데이터"
      ]
    },
    {
      "cell_type": "code",
      "metadata": {
        "id": "7KKNE230LTAU",
        "colab_type": "code",
        "colab": {
          "base_uri": "https://localhost:8080/",
          "height": 125
        },
        "outputId": "a574f69e-2511-4c10-e7c6-418420192e45"
      },
      "source": [
        "test_1['설명2'] = test_1['설명2'].apply(hannanum.nouns)\n",
        "test_sulmyung_knn = test_1['설명2']\n",
        "test_sulmyung_knn.head()"
      ],
      "execution_count": 344,
      "outputs": [
        {
          "output_type": "execute_result",
          "data": {
            "text/plain": [
              "0    [지광국사탑, 고려시대, 조정, 최고, 승려, 법계, ‘국사’(國師), 지광국사, ...\n",
              "1    [정면, 3칸, 측면, 2칸, 중, 2층, 우진각지붕, 동쪽, 점, 특징, 대문, ...\n",
              "2    [1832년, 복온공주, 세상, 뒤, 무덤, 주변, 자리하였고,, 이, 김병주, 무...\n",
              "3    [창덕궁, 후원(昌德宮後苑), 비원(祕苑), 창덕궁, 북쪽, 창경궁, 한국, 최대,...\n",
              "4    [창빈, 안씨, 묘역(昌嬪, 安氏, 墓域, 조선, 제11대, 임금, 중종(1488∼...\n",
              "Name: 설명2, dtype: object"
            ]
          },
          "metadata": {
            "tags": []
          },
          "execution_count": 344
        }
      ]
    },
    {
      "cell_type": "code",
      "metadata": {
        "id": "KaAcVCr0Nve7",
        "colab_type": "code",
        "colab": {
          "base_uri": "https://localhost:8080/",
          "height": 35
        },
        "outputId": "dcd802a6-2b1a-4757-840a-c2678f318b87"
      },
      "source": [
        "type(test_sulmyung_knn[0])"
      ],
      "execution_count": 345,
      "outputs": [
        {
          "output_type": "execute_result",
          "data": {
            "text/plain": [
              "list"
            ]
          },
          "metadata": {
            "tags": []
          },
          "execution_count": 345
        }
      ]
    },
    {
      "cell_type": "code",
      "metadata": {
        "id": "cSpb9vKjOU_L",
        "colab_type": "code",
        "colab": {
          "base_uri": "https://localhost:8080/",
          "height": 55
        },
        "outputId": "9bc25984-aa29-4c92-c588-44a849d63b9c"
      },
      "source": [
        "test_sulmyung_knn=test_sulmyung_knn.str.join(\" \")\n",
        "\" \".join(test_sulmyung_knn[0])"
      ],
      "execution_count": 348,
      "outputs": [
        {
          "output_type": "execute_result",
          "data": {
            "text/plain": [
              "'지 광 국 사 탑   고 려 시 대   조 정   최 고   승 려   법 계   ‘ 국 사 ’ ( 國 師 )   지 광 국 사   해 린 ( 9 8 4 ∼ 1 0 6 7 )   사 리   탑   화 강 암   제 작   6 . 1 m 다   기 단   탑 신   사 각 형   탑   전 체   보 살 상   봉 황   연 꽃   등   장 식   정 교   혼 란   고 려 시 대   석 탑   가 운 데   수 작   국 보   제 5 9 호   원 주   법 천 사 지   지 광 국 사 탑 비   강 원   원 주   법 천 사   터   1 9 1 1 년   일 본 인   해 체   서 울   1 9 1 2 년   일 본   반 출   1 9 1 5 년   조 선 총 독 부   명 령   한 국   법 천 사   터   경 복 궁   한 국 전 쟁   때   폭 격   상 부   부 재   조 각   파 손   1 9 5 7 년   시 멘 트   땜 질   복 원'"
            ]
          },
          "metadata": {
            "tags": []
          },
          "execution_count": 348
        }
      ]
    },
    {
      "cell_type": "code",
      "metadata": {
        "id": "1iGqOTJGOU1D",
        "colab_type": "code",
        "colab": {
          "base_uri": "https://localhost:8080/",
          "height": 35
        },
        "outputId": "13d15b12-d428-44cc-b144-305dcf17d3b4"
      },
      "source": [
        "test_sulmyung_knn.shape"
      ],
      "execution_count": 330,
      "outputs": [
        {
          "output_type": "execute_result",
          "data": {
            "text/plain": [
              "(122,)"
            ]
          },
          "metadata": {
            "tags": []
          },
          "execution_count": 330
        }
      ]
    },
    {
      "cell_type": "markdown",
      "metadata": {
        "id": "_wLI_fEw4k8R",
        "colab_type": "text"
      },
      "source": [
        "### Training"
      ]
    },
    {
      "cell_type": "code",
      "metadata": {
        "id": "50NIIu9v0Voj",
        "colab_type": "code",
        "colab": {}
      },
      "source": [
        "from gensim.models import Word2Vec\n",
        "\n",
        "from sklearn.feature_extraction.text import TfidfVectorizer\n",
        "from sklearn.naive_bayes import MultinomialNB\n",
        "from sklearn.linear_model import SGDClassifier\n",
        "from sklearn.pipeline import Pipeline\n",
        "from sklearn.metrics import accuracy_score\n",
        "from sklearn.cluster import KMeans\n",
        "from sklearn.neighbors import KNeighborsClassifier  "
      ],
      "execution_count": 0,
      "outputs": []
    },
    {
      "cell_type": "code",
      "metadata": {
        "id": "w9Smv4AO0dbm",
        "colab_type": "code",
        "colab": {}
      },
      "source": [
        "'''# 사용할 데이터 Word2Vec포멧으로 embedding시키기\n",
        "\n",
        "embedding_model2 = Word2Vec(test_sulmyung, min_count = 1)\n",
        "embedding_model2'''"
      ],
      "execution_count": 0,
      "outputs": []
    },
    {
      "cell_type": "code",
      "metadata": {
        "id": "crO_PxvL5-A-",
        "colab_type": "code",
        "colab": {
          "base_uri": "https://localhost:8080/",
          "height": 35
        },
        "outputId": "a2166c7d-c992-47f2-a6a7-bbd70265d640"
      },
      "source": [
        "type(test_sulmyung)"
      ],
      "execution_count": 332,
      "outputs": [
        {
          "output_type": "execute_result",
          "data": {
            "text/plain": [
              "pandas.core.series.Series"
            ]
          },
          "metadata": {
            "tags": []
          },
          "execution_count": 332
        }
      ]
    },
    {
      "cell_type": "markdown",
      "metadata": {
        "id": "V2WSIuSH5JuY",
        "colab_type": "text"
      },
      "source": [
        "#### K-means"
      ]
    },
    {
      "cell_type": "code",
      "metadata": {
        "id": "B0x9K5GU5JgZ",
        "colab_type": "code",
        "colab": {
          "base_uri": "https://localhost:8080/",
          "height": 125
        },
        "outputId": "6ae6d2f3-c328-4194-bb22-472138ee5b01"
      },
      "source": [
        "X_train = test_sulmyung\n",
        "X_train.head()"
      ],
      "execution_count": 333,
      "outputs": [
        {
          "output_type": "execute_result",
          "data": {
            "text/plain": [
              "0    1962년 12월 20일 국보 제101호 지정 전체 6. 1m 강원 원주시 부론면(...\n",
              "1    보물 제384호 우진각지붕집 정면 3칸 측면 2칸 다포계 중층 문루 1484년(성종...\n",
              "2    조선 제23대 순조 둘째 복온공주(福溫公主:1818~1832) 부마 창녕위(昌寧尉)...\n",
              "3    면적 10 3000 평 사적 제122호 지정 창덕궁 안 조선시대 정원 조선왕궁 놀이...\n",
              "4    1983년 서울시유형문화재 제54호 지정 조선 제11대 중종 후궁(後宮) 선조 할머...\n",
              "Name: 설명1, dtype: object"
            ]
          },
          "metadata": {
            "tags": []
          },
          "execution_count": 333
        }
      ]
    },
    {
      "cell_type": "code",
      "metadata": {
        "id": "oeA_xZ0c4w83",
        "colab_type": "code",
        "colab": {
          "base_uri": "https://localhost:8080/",
          "height": 73
        },
        "outputId": "7053ff4c-1b82-49f5-9523-1e7490b1d990"
      },
      "source": [
        "# training\n",
        "\n",
        "\n",
        "tfidf = TfidfVectorizer()\n",
        "dataset1 = tfidf.fit_transform(X_train)\n",
        "\n",
        "from scipy.sparse import csr_matrix\n",
        "dataset1_mat = csr_matrix(dataset1, dtype=np.int8).toarray()\n",
        "dataset1_mat\n",
        "# k-means에는 바로 적용가능하지만 다른 적용을 위해서는 numpy형태로 바꿔줘야해서 array배열로 바꿔주는 작업이 필요하다.(.toarray())\n",
        "\n",
        "from sklearn.decomposition import PCA\n",
        "PCA1 = PCA(n_components = 5)\n",
        "PCA2 = PCA1.fit_transform(dataset1_mat)"
      ],
      "execution_count": 334,
      "outputs": [
        {
          "output_type": "stream",
          "text": [
            "/usr/local/lib/python3.6/dist-packages/sklearn/decomposition/pca.py:535: RuntimeWarning: invalid value encountered in true_divide\n",
            "  self.explained_variance_ / total_var.sum()\n"
          ],
          "name": "stderr"
        }
      ]
    },
    {
      "cell_type": "code",
      "metadata": {
        "id": "--qDiQLB5XP8",
        "colab_type": "code",
        "colab": {}
      },
      "source": [
        "cluster_number = 15\n",
        "km1=KMeans(n_clusters=cluster_number)\n",
        "out1=km1.fit_predict(dataset1)"
      ],
      "execution_count": 0,
      "outputs": []
    },
    {
      "cell_type": "markdown",
      "metadata": {
        "id": "KWZWTtZ9HSQV",
        "colab_type": "text"
      },
      "source": [
        "####  KNN"
      ]
    },
    {
      "cell_type": "code",
      "metadata": {
        "id": "vRnPwYDtHR-P",
        "colab_type": "code",
        "colab": {}
      },
      "source": [
        "from sklearn.neighbors import KNeighborsClassifier"
      ],
      "execution_count": 0,
      "outputs": []
    },
    {
      "cell_type": "code",
      "metadata": {
        "id": "xf0ch6vsPNK4",
        "colab_type": "code",
        "colab": {
          "base_uri": "https://localhost:8080/",
          "height": 125
        },
        "outputId": "6e48fdeb-917d-4669-d18e-6eb67fde3b15"
      },
      "source": [
        "X2_train = test_sulmyung_knn\n",
        "X2_train.head()"
      ],
      "execution_count": 350,
      "outputs": [
        {
          "output_type": "execute_result",
          "data": {
            "text/plain": [
              "0    지광국사탑 고려시대 조정 최고 승려 법계 ‘국사’(國師) 지광국사 해린(984∼10...\n",
              "1    정면 3칸 측면 2칸 중 2층 우진각지붕 동쪽 점 특징 대문 왼쪽 서북쪽 모서리 계...\n",
              "2    1832년 복온공주 세상 뒤 무덤 주변 자리하였고, 이 김병주 무덤 위치 재사 건립...\n",
              "3    창덕궁 후원(昌德宮後苑) 비원(祕苑) 창덕궁 북쪽 창경궁 한국 최대 궁중 정원 궁원...\n",
              "4    창빈 안씨 묘역(昌嬪 安氏 墓域 조선 제11대 임금 중종(1488∼1544) 후궁 ...\n",
              "Name: 설명2, dtype: object"
            ]
          },
          "metadata": {
            "tags": []
          },
          "execution_count": 350
        }
      ]
    },
    {
      "cell_type": "code",
      "metadata": {
        "id": "C5P_LrEcPOsr",
        "colab_type": "code",
        "colab": {
          "base_uri": "https://localhost:8080/",
          "height": 394
        },
        "outputId": "fc82f72e-7cfd-4106-8658-45bdc9ddd9cf"
      },
      "source": [
        "# training\n",
        "\n",
        "\n",
        "tfidf = TfidfVectorizer()\n",
        "dataset2 = tfidf.fit_transform(X2_train)\n",
        "dataset2.shape\n",
        "\n",
        "'''\n",
        "# from scipy.sparse import csr_matrix\n",
        "dataset2_mat = csr_matrix(dataset2, dtype=np.int8).toarray()\n",
        "dataset2_mat\n",
        "\n",
        "# from sklearn.decomposition import PCA\n",
        "PCA2_1 = PCA(n_components = 5)\n",
        "PCA2_2 = PCA2_1.transform(dataset2_mat)\n",
        "\n",
        "neighbors_number = 5\n",
        "knn1 = KNeighborsClassifier(n_neighbors=neighbors_number)\n",
        "knn.fit(dataset2)\n",
        "'''\n",
        "\n",
        "# out2 = knn1.predict(dataset2)\n"
      ],
      "execution_count": 347,
      "outputs": [
        {
          "output_type": "error",
          "ename": "AttributeError",
          "evalue": "ignored",
          "traceback": [
            "\u001b[0;31m---------------------------------------------------------------------------\u001b[0m",
            "\u001b[0;31mAttributeError\u001b[0m                            Traceback (most recent call last)",
            "\u001b[0;32m<ipython-input-347-d6e204b033c2>\u001b[0m in \u001b[0;36m<module>\u001b[0;34m()\u001b[0m\n\u001b[1;32m      2\u001b[0m \u001b[0;34m\u001b[0m\u001b[0m\n\u001b[1;32m      3\u001b[0m \u001b[0mtfidf\u001b[0m \u001b[0;34m=\u001b[0m \u001b[0mTfidfVectorizer\u001b[0m\u001b[0;34m(\u001b[0m\u001b[0;34m)\u001b[0m\u001b[0;34m\u001b[0m\u001b[0;34m\u001b[0m\u001b[0m\n\u001b[0;32m----> 4\u001b[0;31m \u001b[0mdataset2\u001b[0m \u001b[0;34m=\u001b[0m \u001b[0mtfidf\u001b[0m\u001b[0;34m.\u001b[0m\u001b[0mfit_transform\u001b[0m\u001b[0;34m(\u001b[0m\u001b[0mX2_train\u001b[0m\u001b[0;34m)\u001b[0m\u001b[0;34m\u001b[0m\u001b[0;34m\u001b[0m\u001b[0m\n\u001b[0m\u001b[1;32m      5\u001b[0m \u001b[0mdataset2\u001b[0m\u001b[0;34m.\u001b[0m\u001b[0mshape\u001b[0m\u001b[0;34m\u001b[0m\u001b[0;34m\u001b[0m\u001b[0m\n\u001b[1;32m      6\u001b[0m \u001b[0;34m\u001b[0m\u001b[0m\n",
            "\u001b[0;32m/usr/local/lib/python3.6/dist-packages/sklearn/feature_extraction/text.py\u001b[0m in \u001b[0;36mfit_transform\u001b[0;34m(self, raw_documents, y)\u001b[0m\n\u001b[1;32m   1611\u001b[0m         \"\"\"\n\u001b[1;32m   1612\u001b[0m         \u001b[0mself\u001b[0m\u001b[0;34m.\u001b[0m\u001b[0m_check_params\u001b[0m\u001b[0;34m(\u001b[0m\u001b[0;34m)\u001b[0m\u001b[0;34m\u001b[0m\u001b[0;34m\u001b[0m\u001b[0m\n\u001b[0;32m-> 1613\u001b[0;31m         \u001b[0mX\u001b[0m \u001b[0;34m=\u001b[0m \u001b[0msuper\u001b[0m\u001b[0;34m(\u001b[0m\u001b[0mTfidfVectorizer\u001b[0m\u001b[0;34m,\u001b[0m \u001b[0mself\u001b[0m\u001b[0;34m)\u001b[0m\u001b[0;34m.\u001b[0m\u001b[0mfit_transform\u001b[0m\u001b[0;34m(\u001b[0m\u001b[0mraw_documents\u001b[0m\u001b[0;34m)\u001b[0m\u001b[0;34m\u001b[0m\u001b[0;34m\u001b[0m\u001b[0m\n\u001b[0m\u001b[1;32m   1614\u001b[0m         \u001b[0mself\u001b[0m\u001b[0;34m.\u001b[0m\u001b[0m_tfidf\u001b[0m\u001b[0;34m.\u001b[0m\u001b[0mfit\u001b[0m\u001b[0;34m(\u001b[0m\u001b[0mX\u001b[0m\u001b[0;34m)\u001b[0m\u001b[0;34m\u001b[0m\u001b[0;34m\u001b[0m\u001b[0m\n\u001b[1;32m   1615\u001b[0m         \u001b[0;31m# X is already a transformed view of raw_documents so\u001b[0m\u001b[0;34m\u001b[0m\u001b[0;34m\u001b[0m\u001b[0;34m\u001b[0m\u001b[0m\n",
            "\u001b[0;32m/usr/local/lib/python3.6/dist-packages/sklearn/feature_extraction/text.py\u001b[0m in \u001b[0;36mfit_transform\u001b[0;34m(self, raw_documents, y)\u001b[0m\n\u001b[1;32m   1029\u001b[0m \u001b[0;34m\u001b[0m\u001b[0m\n\u001b[1;32m   1030\u001b[0m         vocabulary, X = self._count_vocab(raw_documents,\n\u001b[0;32m-> 1031\u001b[0;31m                                           self.fixed_vocabulary_)\n\u001b[0m\u001b[1;32m   1032\u001b[0m \u001b[0;34m\u001b[0m\u001b[0m\n\u001b[1;32m   1033\u001b[0m         \u001b[0;32mif\u001b[0m \u001b[0mself\u001b[0m\u001b[0;34m.\u001b[0m\u001b[0mbinary\u001b[0m\u001b[0;34m:\u001b[0m\u001b[0;34m\u001b[0m\u001b[0;34m\u001b[0m\u001b[0m\n",
            "\u001b[0;32m/usr/local/lib/python3.6/dist-packages/sklearn/feature_extraction/text.py\u001b[0m in \u001b[0;36m_count_vocab\u001b[0;34m(self, raw_documents, fixed_vocab)\u001b[0m\n\u001b[1;32m    941\u001b[0m         \u001b[0;32mfor\u001b[0m \u001b[0mdoc\u001b[0m \u001b[0;32min\u001b[0m \u001b[0mraw_documents\u001b[0m\u001b[0;34m:\u001b[0m\u001b[0;34m\u001b[0m\u001b[0;34m\u001b[0m\u001b[0m\n\u001b[1;32m    942\u001b[0m             \u001b[0mfeature_counter\u001b[0m \u001b[0;34m=\u001b[0m \u001b[0;34m{\u001b[0m\u001b[0;34m}\u001b[0m\u001b[0;34m\u001b[0m\u001b[0;34m\u001b[0m\u001b[0m\n\u001b[0;32m--> 943\u001b[0;31m             \u001b[0;32mfor\u001b[0m \u001b[0mfeature\u001b[0m \u001b[0;32min\u001b[0m \u001b[0manalyze\u001b[0m\u001b[0;34m(\u001b[0m\u001b[0mdoc\u001b[0m\u001b[0;34m)\u001b[0m\u001b[0;34m:\u001b[0m\u001b[0;34m\u001b[0m\u001b[0;34m\u001b[0m\u001b[0m\n\u001b[0m\u001b[1;32m    944\u001b[0m                 \u001b[0;32mtry\u001b[0m\u001b[0;34m:\u001b[0m\u001b[0;34m\u001b[0m\u001b[0;34m\u001b[0m\u001b[0m\n\u001b[1;32m    945\u001b[0m                     \u001b[0mfeature_idx\u001b[0m \u001b[0;34m=\u001b[0m \u001b[0mvocabulary\u001b[0m\u001b[0;34m[\u001b[0m\u001b[0mfeature\u001b[0m\u001b[0;34m]\u001b[0m\u001b[0;34m\u001b[0m\u001b[0;34m\u001b[0m\u001b[0m\n",
            "\u001b[0;32m/usr/local/lib/python3.6/dist-packages/sklearn/feature_extraction/text.py\u001b[0m in \u001b[0;36m<lambda>\u001b[0;34m(doc)\u001b[0m\n\u001b[1;32m    327\u001b[0m                                                tokenize)\n\u001b[1;32m    328\u001b[0m             return lambda doc: self._word_ngrams(\n\u001b[0;32m--> 329\u001b[0;31m                 tokenize(preprocess(self.decode(doc))), stop_words)\n\u001b[0m\u001b[1;32m    330\u001b[0m \u001b[0;34m\u001b[0m\u001b[0m\n\u001b[1;32m    331\u001b[0m         \u001b[0;32melse\u001b[0m\u001b[0;34m:\u001b[0m\u001b[0;34m\u001b[0m\u001b[0;34m\u001b[0m\u001b[0m\n",
            "\u001b[0;32m/usr/local/lib/python3.6/dist-packages/sklearn/feature_extraction/text.py\u001b[0m in \u001b[0;36m<lambda>\u001b[0;34m(x)\u001b[0m\n\u001b[1;32m    255\u001b[0m \u001b[0;34m\u001b[0m\u001b[0m\n\u001b[1;32m    256\u001b[0m         \u001b[0;32mif\u001b[0m \u001b[0mself\u001b[0m\u001b[0;34m.\u001b[0m\u001b[0mlowercase\u001b[0m\u001b[0;34m:\u001b[0m\u001b[0;34m\u001b[0m\u001b[0;34m\u001b[0m\u001b[0m\n\u001b[0;32m--> 257\u001b[0;31m             \u001b[0;32mreturn\u001b[0m \u001b[0;32mlambda\u001b[0m \u001b[0mx\u001b[0m\u001b[0;34m:\u001b[0m \u001b[0mstrip_accents\u001b[0m\u001b[0;34m(\u001b[0m\u001b[0mx\u001b[0m\u001b[0;34m.\u001b[0m\u001b[0mlower\u001b[0m\u001b[0;34m(\u001b[0m\u001b[0;34m)\u001b[0m\u001b[0;34m)\u001b[0m\u001b[0;34m\u001b[0m\u001b[0;34m\u001b[0m\u001b[0m\n\u001b[0m\u001b[1;32m    258\u001b[0m         \u001b[0;32melse\u001b[0m\u001b[0;34m:\u001b[0m\u001b[0;34m\u001b[0m\u001b[0;34m\u001b[0m\u001b[0m\n\u001b[1;32m    259\u001b[0m             \u001b[0;32mreturn\u001b[0m \u001b[0mstrip_accents\u001b[0m\u001b[0;34m\u001b[0m\u001b[0;34m\u001b[0m\u001b[0m\n",
            "\u001b[0;31mAttributeError\u001b[0m: 'list' object has no attribute 'lower'"
          ]
        }
      ]
    },
    {
      "cell_type": "markdown",
      "metadata": {
        "id": "Kshs-dzqQCD1",
        "colab_type": "text"
      },
      "source": [
        "Reference Code\n",
        "```\n",
        "tf1 = TfidfVectorizer()\n",
        "tf2 = tf1.fit_transform(data)\n",
        "type(tf2)\n",
        "\n",
        "knn1 = KNeighborsClassifier(n_neighbors=5)\n",
        "knn1.fit(tf2, out1)\n",
        "\n",
        "from scipy.sparse import scr_matrix\n",
        "tf3 = csr_matrix(tf2, dtype=np.int8).toarray()\n",
        "\n",
        "from sklearn.cluster import KMeans\n",
        "km1 = KMeans(n_clsuter=3)\n",
        "out1 = km1.fit_predict(tf3)\n",
        "txt2 = txt1[out==k]\n",
        "\n",
        "tf4 = tf1.transform(data) # tf2와 달리 fit과정을 거치지 않는다\n",
        "tf4.shape\n",
        "\n",
        "out2 = knn1.predict(tf4)\n",
        "```"
      ]
    },
    {
      "cell_type": "code",
      "metadata": {
        "id": "2Z7LKTLcHRV6",
        "colab_type": "code",
        "colab": {}
      },
      "source": [
        ""
      ],
      "execution_count": 0,
      "outputs": []
    },
    {
      "cell_type": "markdown",
      "metadata": {
        "id": "jmyymy1O7PcB",
        "colab_type": "text"
      },
      "source": [
        "### 예측값 정확도 확인하기"
      ]
    },
    {
      "cell_type": "code",
      "metadata": {
        "id": "gqZsjdyW831P",
        "colab_type": "code",
        "colab": {}
      },
      "source": [
        "'''\n",
        "cluster_number = ?\n",
        "'''\n",
        "out1"
      ],
      "execution_count": 0,
      "outputs": []
    },
    {
      "cell_type": "code",
      "metadata": {
        "id": "3oljKfIwBdQC",
        "colab_type": "code",
        "colab": {}
      },
      "source": [
        "import matplotlib.pyplot as plt\n",
        "import seaborn as sns\n",
        "from scipy import stats\n",
        "\n",
        "# x = np.random.normal(size=100)\n",
        "sns.distplot(out1, bins=cluster_number); # , fit=stats.gamma"
      ],
      "execution_count": 0,
      "outputs": []
    },
    {
      "cell_type": "code",
      "metadata": {
        "id": "3F1d3H4-5zPc",
        "colab_type": "code",
        "colab": {}
      },
      "source": [
        "test_1['명칭'][out1==3]"
      ],
      "execution_count": 0,
      "outputs": []
    },
    {
      "cell_type": "markdown",
      "metadata": {
        "id": "MkoNHljTFw6g",
        "colab_type": "text"
      },
      "source": [
        "### Plot"
      ]
    },
    {
      "cell_type": "code",
      "metadata": {
        "id": "PnssF-d67VsB",
        "colab_type": "code",
        "colab": {}
      },
      "source": [
        ""
      ],
      "execution_count": 0,
      "outputs": []
    }
  ]
}
