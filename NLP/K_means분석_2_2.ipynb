{
  "nbformat": 4,
  "nbformat_minor": 0,
  "metadata": {
    "colab": {
      "name": "K-means분석-2-2.ipynb",
      "version": "0.3.2",
      "provenance": [],
      "include_colab_link": true
    },
    "kernelspec": {
      "name": "python3",
      "display_name": "Python 3"
    }
  },
  "cells": [
    {
      "cell_type": "markdown",
      "metadata": {
        "id": "view-in-github",
        "colab_type": "text"
      },
      "source": [
        "<a href=\"https://colab.research.google.com/github/multi-proj/API/blob/master/NLP/K_means%EB%B6%84%EC%84%9D_2_2.ipynb\" target=\"_parent\"><img src=\"https://colab.research.google.com/assets/colab-badge.svg\" alt=\"Open In Colab\"/></a>"
      ]
    },
    {
      "cell_type": "markdown",
      "metadata": {
        "id": "3sunvYIKH_Nk",
        "colab_type": "text"
      },
      "source": [
        "Reference\n",
        "\n",
        "- WikiDocs"
      ]
    },
    {
      "cell_type": "markdown",
      "metadata": {
        "id": "jxK1S142wSyO",
        "colab_type": "text"
      },
      "source": [
        "### File Preprocessing"
      ]
    },
    {
      "cell_type": "code",
      "metadata": {
        "id": "VWkin2MqwU-G",
        "colab_type": "code",
        "colab": {}
      },
      "source": [
        "# xlsx to csv\n",
        "\n",
        "import xlrd\n",
        "import csv\n",
        "\n",
        "def csv_from_excel():\n",
        "    wb = xlrd.open_workbook('test.xlsx')\n",
        "    sh = wb.sheet_by_name('test')\n",
        "    your_csv_file = open('test.csv', 'w')\n",
        "    wr = csv.writer(your_csv_file, quoting=csv.QUOTE_ALL)\n",
        "\n",
        "    for rownum in range(sh.nrows):\n",
        "        wr.writerow(sh.row_values(rownum))\n",
        "\n",
        "    your_csv_file.close()\n",
        "\n",
        "# runs the csv_from_excel function:\n",
        "csv_from_excel()"
      ],
      "execution_count": 0,
      "outputs": []
    },
    {
      "cell_type": "code",
      "metadata": {
        "id": "gx5ao4uPwVi3",
        "colab_type": "code",
        "outputId": "1993d838-9187-4eba-e677-3d0affab6543",
        "colab": {
          "base_uri": "https://localhost:8080/",
          "height": 53
        }
      },
      "source": [
        "import pandas as pd\n",
        "import numpy as np\n",
        "\n",
        "!pip install konlpy\n",
        "from konlpy.tag import Hannanum, Kkma, Komoran, Okt\n",
        "from gensim.models import Word2Vec\n",
        "import gensim.models\n",
        "\n",
        "hannanum = Hannanum()\n",
        "kkma = Kkma()\n",
        "komoran = Komoran()\n",
        "okt = Okt()"
      ],
      "execution_count": 0,
      "outputs": [
        {
          "output_type": "stream",
          "text": [
            "Requirement already satisfied: konlpy in /usr/local/lib/python3.6/dist-packages (0.5.1)\n",
            "Requirement already satisfied: JPype1>=0.5.7 in /usr/local/lib/python3.6/dist-packages (from konlpy) (0.6.3)\n"
          ],
          "name": "stdout"
        }
      ]
    },
    {
      "cell_type": "code",
      "metadata": {
        "id": "0ddkTBtgwYhE",
        "colab_type": "code",
        "colab": {}
      },
      "source": [
        "from konlpy.corpus import kobill\n",
        "from gensim import corpora"
      ],
      "execution_count": 0,
      "outputs": []
    },
    {
      "cell_type": "markdown",
      "metadata": {
        "id": "ivtikMGywciq",
        "colab_type": "text"
      },
      "source": [
        "### 데이터 불러오기"
      ]
    },
    {
      "cell_type": "code",
      "metadata": {
        "id": "1zExS_Cdwcbx",
        "colab_type": "code",
        "outputId": "a3c4dd55-56ad-4927-b9f1-192efc9a9aca",
        "colab": {
          "base_uri": "https://localhost:8080/",
          "height": 408
        }
      },
      "source": [
        "test_1 = pd.read_csv('test.csv', encoding='utf-8')\n",
        "# csvreader = csv.reader(x.replace('\\0', '') for x in test_1)\n",
        "test_1 = test_1.fillna('asdf')\n",
        "test_1.head()"
      ],
      "execution_count": 0,
      "outputs": [
        {
          "output_type": "execute_result",
          "data": {
            "text/html": [
              "<div>\n",
              "<style scoped>\n",
              "    .dataframe tbody tr th:only-of-type {\n",
              "        vertical-align: middle;\n",
              "    }\n",
              "\n",
              "    .dataframe tbody tr th {\n",
              "        vertical-align: top;\n",
              "    }\n",
              "\n",
              "    .dataframe thead th {\n",
              "        text-align: right;\n",
              "    }\n",
              "</style>\n",
              "<table border=\"1\" class=\"dataframe\">\n",
              "  <thead>\n",
              "    <tr style=\"text-align: right;\">\n",
              "      <th></th>\n",
              "      <th>명칭</th>\n",
              "      <th>소속</th>\n",
              "      <th>왕(인물)</th>\n",
              "      <th>왕(시기)</th>\n",
              "      <th>유형</th>\n",
              "      <th>분류</th>\n",
              "      <th>행정 구</th>\n",
              "      <th>연도</th>\n",
              "      <th>설명1</th>\n",
              "      <th>설명2</th>\n",
              "    </tr>\n",
              "  </thead>\n",
              "  <tbody>\n",
              "    <tr>\n",
              "      <th>0</th>\n",
              "      <td>지광국사현묘탑</td>\n",
              "      <td>asdf</td>\n",
              "      <td>asdf</td>\n",
              "      <td>문종(고려)</td>\n",
              "      <td>승탑</td>\n",
              "      <td>국보</td>\n",
              "      <td>종로구</td>\n",
              "      <td>1075년</td>\n",
              "      <td>1962년 12월 20일 국보 제101호로 지정되었다. 전체 높이는 6.1m이다. ...</td>\n",
              "      <td>지광국사탑은 고려시대 조정이 최고의 승려에게 내리는 법계인 ‘국사’(國師)를 받은 ...</td>\n",
              "    </tr>\n",
              "    <tr>\n",
              "      <th>1</th>\n",
              "      <td>홍화문</td>\n",
              "      <td>창경궁</td>\n",
              "      <td>asdf</td>\n",
              "      <td>성종(건립), 광해군(재건)</td>\n",
              "      <td>궁궐, 궁문</td>\n",
              "      <td>보물</td>\n",
              "      <td>종로구</td>\n",
              "      <td>1484년</td>\n",
              "      <td>보물 제384호. 우진각지붕집. 정면 3칸, 측면 2칸의 다포계 중층 문루. 148...</td>\n",
              "      <td>정면 3칸, 측면 2칸의 중층(2층) 우진각지붕으로 동쪽으로 향한 점이 특징인 대문...</td>\n",
              "    </tr>\n",
              "    <tr>\n",
              "      <th>2</th>\n",
              "      <td>창녕위궁재사</td>\n",
              "      <td>asdf</td>\n",
              "      <td>asdf</td>\n",
              "      <td>순조</td>\n",
              "      <td>건축, 재사</td>\n",
              "      <td>등록문화재</td>\n",
              "      <td>강북구</td>\n",
              "      <td>1832년</td>\n",
              "      <td>조선 제23대 순조의 둘째 딸 복온공주(福溫公主:1818~1832)와 부마 창녕위(...</td>\n",
              "      <td>1832년에 복온공주가 세상을 떠난 뒤 무덤이 주변에 자리하였고, 이어서 김병주의 ...</td>\n",
              "    </tr>\n",
              "    <tr>\n",
              "      <th>3</th>\n",
              "      <td>후원</td>\n",
              "      <td>창덕궁</td>\n",
              "      <td>asdf</td>\n",
              "      <td>태종</td>\n",
              "      <td>유적, 정원</td>\n",
              "      <td>사적</td>\n",
              "      <td>종로구</td>\n",
              "      <td>1405년</td>\n",
              "      <td>면적 10만 3000여 평. 사적 제122호로 지정된 창덕궁 안에 있는 조선시대 정...</td>\n",
              "      <td>창덕궁 후원(昌德宮後苑) 또는 비원(祕苑)은 창덕궁 북쪽에 창경궁과 붙어 있는 한국...</td>\n",
              "    </tr>\n",
              "    <tr>\n",
              "      <th>4</th>\n",
              "      <td>창빈안씨묘역</td>\n",
              "      <td>asdf</td>\n",
              "      <td>숙종, 선조</td>\n",
              "      <td>명종</td>\n",
              "      <td>묘</td>\n",
              "      <td>시도유형문화재</td>\n",
              "      <td>동작구</td>\n",
              "      <td>1683년</td>\n",
              "      <td>1983년에 서울시유형문화재 제54호로 지정되었다. 조선 제11대 중종의 후궁(後宮...</td>\n",
              "      <td>창빈 안씨 묘역(昌嬪 安氏 墓域)은 조선 제11대 임금 중종(1488∼1544)의 ...</td>\n",
              "    </tr>\n",
              "  </tbody>\n",
              "</table>\n",
              "</div>"
            ],
            "text/plain": [
              "        명칭    소속   왕(인물)            왕(시기)      유형       분류 행정 구     연도  \\\n",
              "0  지광국사현묘탑  asdf    asdf           문종(고려)      승탑       국보  종로구  1075년   \n",
              "1      홍화문   창경궁    asdf  성종(건립), 광해군(재건)  궁궐, 궁문       보물  종로구  1484년   \n",
              "2   창녕위궁재사  asdf    asdf               순조  건축, 재사    등록문화재  강북구  1832년   \n",
              "3       후원   창덕궁    asdf               태종  유적, 정원       사적  종로구  1405년   \n",
              "4   창빈안씨묘역  asdf  숙종, 선조               명종       묘  시도유형문화재  동작구  1683년   \n",
              "\n",
              "                                                 설명1  \\\n",
              "0  1962년 12월 20일 국보 제101호로 지정되었다. 전체 높이는 6.1m이다. ...   \n",
              "1  보물 제384호. 우진각지붕집. 정면 3칸, 측면 2칸의 다포계 중층 문루. 148...   \n",
              "2  조선 제23대 순조의 둘째 딸 복온공주(福溫公主:1818~1832)와 부마 창녕위(...   \n",
              "3  면적 10만 3000여 평. 사적 제122호로 지정된 창덕궁 안에 있는 조선시대 정...   \n",
              "4  1983년에 서울시유형문화재 제54호로 지정되었다. 조선 제11대 중종의 후궁(後宮...   \n",
              "\n",
              "                                                 설명2  \n",
              "0  지광국사탑은 고려시대 조정이 최고의 승려에게 내리는 법계인 ‘국사’(國師)를 받은 ...  \n",
              "1  정면 3칸, 측면 2칸의 중층(2층) 우진각지붕으로 동쪽으로 향한 점이 특징인 대문...  \n",
              "2  1832년에 복온공주가 세상을 떠난 뒤 무덤이 주변에 자리하였고, 이어서 김병주의 ...  \n",
              "3  창덕궁 후원(昌德宮後苑) 또는 비원(祕苑)은 창덕궁 북쪽에 창경궁과 붙어 있는 한국...  \n",
              "4  창빈 안씨 묘역(昌嬪 安氏 墓域)은 조선 제11대 임금 중종(1488∼1544)의 ...  "
            ]
          },
          "metadata": {
            "tags": []
          },
          "execution_count": 104
        }
      ]
    },
    {
      "cell_type": "code",
      "metadata": {
        "id": "WJGJ1nnDmgxI",
        "colab_type": "code",
        "outputId": "d4489c8d-c640-44ff-970d-a3789f5b5811",
        "colab": {
          "base_uri": "https://localhost:8080/",
          "height": 35
        }
      },
      "source": [
        "type(test_1)"
      ],
      "execution_count": 0,
      "outputs": [
        {
          "output_type": "execute_result",
          "data": {
            "text/plain": [
              "pandas.core.frame.DataFrame"
            ]
          },
          "metadata": {
            "tags": []
          },
          "execution_count": 105
        }
      ]
    },
    {
      "cell_type": "markdown",
      "metadata": {
        "id": "bYSM4b5ZwvCS",
        "colab_type": "text"
      },
      "source": [
        "### Data Preprocessing"
      ]
    },
    {
      "cell_type": "markdown",
      "metadata": {
        "id": "7aD8ZCjZ38wp",
        "colab_type": "text"
      },
      "source": [
        "- Concatenate several columns in one"
      ]
    },
    {
      "cell_type": "code",
      "metadata": {
        "id": "0dalsTQexLFo",
        "colab_type": "code",
        "colab": {}
      },
      "source": [
        "test_1['명칭_유형'] = list(i[-2:] for i in test_1['명칭'])\n",
        "test_1['명칭_유형'].head()\n",
        "test_type = test_1['명칭_유형']\n",
        "\n",
        "use_col = ['명칭', '명칭_유형', '연도', '행정 구', '분류', '유형', '소속']\n"
      ],
      "execution_count": 0,
      "outputs": []
    },
    {
      "cell_type": "markdown",
      "metadata": {
        "id": "OHDW5Cy1LKsG",
        "colab_type": "text"
      },
      "source": [
        "- K-means용 프레임데이터"
      ]
    },
    {
      "cell_type": "code",
      "metadata": {
        "id": "VBLr3rqjxiCl",
        "colab_type": "code",
        "colab": {}
      },
      "source": [
        "test_1['설명1'] = test_1['설명1'].apply(hannanum.nouns)"
      ],
      "execution_count": 0,
      "outputs": []
    },
    {
      "cell_type": "code",
      "metadata": {
        "id": "w6hgEX_5wxoM",
        "colab_type": "code",
        "outputId": "7aa23e98-9d0a-44ac-a669-70c372f6543f",
        "colab": {
          "base_uri": "https://localhost:8080/",
          "height": 35
        }
      },
      "source": [
        "test_1['설명1']\n",
        "type(test_1['설명1'][0])"
      ],
      "execution_count": 0,
      "outputs": [
        {
          "output_type": "execute_result",
          "data": {
            "text/plain": [
              "list"
            ]
          },
          "metadata": {
            "tags": []
          },
          "execution_count": 108
        }
      ]
    },
    {
      "cell_type": "code",
      "metadata": {
        "id": "CulHbLhx70Yz",
        "colab_type": "code",
        "outputId": "87eda1a5-eec7-4ae9-ecec-1b42669a5bb3",
        "colab": {
          "base_uri": "https://localhost:8080/",
          "height": 359
        }
      },
      "source": [
        "test_1['설명1'][0]"
      ],
      "execution_count": 0,
      "outputs": [
        {
          "output_type": "execute_result",
          "data": {
            "text/plain": [
              "['1962년',\n",
              " '12월',\n",
              " '20일',\n",
              " '국보',\n",
              " '제101호',\n",
              " '지정',\n",
              " '전체',\n",
              " '6.',\n",
              " '1m',\n",
              " '강원',\n",
              " '원주시',\n",
              " '부론면(富論面)',\n",
              " '법천리(法泉里)',\n",
              " '국권침탈',\n",
              " '직후',\n",
              " '일본',\n",
              " '반출',\n",
              " '반환',\n",
              " '경복궁']"
            ]
          },
          "metadata": {
            "tags": []
          },
          "execution_count": 109
        }
      ]
    },
    {
      "cell_type": "code",
      "metadata": {
        "colab_type": "code",
        "outputId": "ab116b17-0078-4ba7-bdf5-e0e8e008a4da",
        "id": "4wFxZbb3Bln5",
        "colab": {
          "base_uri": "https://localhost:8080/",
          "height": 35
        }
      },
      "source": [
        "# test_2 = test_1['설명1'].apply(lambda x: x.remove('adsf'))\n",
        "'''for aa in list(test_1['설명1']) :\n",
        "  aa.remove(\"adsf\")'''"
      ],
      "execution_count": 0,
      "outputs": [
        {
          "output_type": "execute_result",
          "data": {
            "text/plain": [
              "'for aa in list(test_1[\\'설명1\\']) :\\n  aa.remove(\"adsf\")'"
            ]
          },
          "metadata": {
            "tags": []
          },
          "execution_count": 110
        }
      ]
    },
    {
      "cell_type": "code",
      "metadata": {
        "id": "VtfRnn6BwqOh",
        "colab_type": "code",
        "outputId": "736020d9-e923-40d4-a224-9f98414b7825",
        "colab": {
          "base_uri": "https://localhost:8080/",
          "height": 125
        }
      },
      "source": [
        "test_sulmyung = test_1['설명1']\n",
        "# hannanum.nouns(list(i for i in test_1['명칭'])) \n",
        "\n",
        "test_sulmyung.head()"
      ],
      "execution_count": 0,
      "outputs": [
        {
          "output_type": "execute_result",
          "data": {
            "text/plain": [
              "0    [1962년, 12월, 20일, 국보, 제101호, 지정, 전체, 6., 1m, 강...\n",
              "1    [보물, 제384호, 우진각지붕집, 정면, 3칸, 측면, 2칸, 다포계, 중층, 문...\n",
              "2    [조선, 제23대, 순조, 둘째, 복온공주(福溫公主:1818~1832), 부마, 창...\n",
              "3    [면적, 10, 3000, 평, 사적, 제122호, 지정, 창덕궁, 안, 조선시대,...\n",
              "4    [1983년, 서울시유형문화재, 제54호, 지정, 조선, 제11대, 중종, 후궁(後...\n",
              "Name: 설명1, dtype: object"
            ]
          },
          "metadata": {
            "tags": []
          },
          "execution_count": 111
        }
      ]
    },
    {
      "cell_type": "code",
      "metadata": {
        "id": "BcUFSxWuzBP5",
        "colab_type": "code",
        "outputId": "93b61667-2ffd-4278-81cd-85d1f20ae69d",
        "colab": {
          "base_uri": "https://localhost:8080/",
          "height": 35
        }
      },
      "source": [
        "type(test_sulmyung[0])"
      ],
      "execution_count": 0,
      "outputs": [
        {
          "output_type": "execute_result",
          "data": {
            "text/plain": [
              "list"
            ]
          },
          "metadata": {
            "tags": []
          },
          "execution_count": 112
        }
      ]
    },
    {
      "cell_type": "code",
      "metadata": {
        "id": "bE2GLL7d28bN",
        "colab_type": "code",
        "outputId": "27955116-e458-4a10-aeba-185ebaef2c90",
        "colab": {
          "base_uri": "https://localhost:8080/",
          "height": 35
        }
      },
      "source": [
        "type(test_1['명칭_유형'][0])"
      ],
      "execution_count": 0,
      "outputs": [
        {
          "output_type": "execute_result",
          "data": {
            "text/plain": [
              "str"
            ]
          },
          "metadata": {
            "tags": []
          },
          "execution_count": 113
        }
      ]
    },
    {
      "cell_type": "code",
      "metadata": {
        "id": "K6wVPzjf2aFu",
        "colab_type": "code",
        "colab": {}
      },
      "source": [
        "for j in range(0,len(use_col)):\n",
        "  \n",
        "  for i in range(len(test_sulmyung)):\n",
        "    test_sulmyung[i].append(test_1[use_col[j]][i])"
      ],
      "execution_count": 0,
      "outputs": []
    },
    {
      "cell_type": "code",
      "metadata": {
        "id": "lEZVbtkn-2Gg",
        "colab_type": "code",
        "outputId": "d0b1677f-72a6-40e3-c156-45c48e23288d",
        "colab": {
          "base_uri": "https://localhost:8080/",
          "height": 55
        }
      },
      "source": [
        "test_sulmyung=test_sulmyung.str.join(\" \")"
      ],
      "execution_count": 0,
      "outputs": [
        {
          "output_type": "execute_result",
          "data": {
            "text/plain": [
              "'1 9 6 2 년   1 2 월   2 0 일   국 보   제 1 0 1 호   지 정   전 체   6 .   1 m   강 원   원 주 시   부 론 면 ( 富 論 面 )   법 천 리 ( 法 泉 里 )   국 권 침 탈   직 후   일 본   반 출   반 환   경 복 궁   지 광 국 사 현 묘 탑   묘 탑   1 0 7 5 년   종 로 구   국 보   승 탑   a s d f'"
            ]
          },
          "metadata": {
            "tags": []
          },
          "execution_count": 115
        }
      ]
    },
    {
      "cell_type": "code",
      "metadata": {
        "id": "t0A6RL1h602_",
        "colab_type": "code",
        "outputId": "5525b3d0-3a94-4bf5-aac8-7f5653842bcd",
        "colab": {
          "base_uri": "https://localhost:8080/",
          "height": 55
        }
      },
      "source": [
        "test_sulmyung[0]\n",
        "\n",
        "type(test_sulmyung)\n",
        "\n",
        "test_sulmyung.dropna(axis=0)\n",
        "\n",
        "test_sulmyung[0]"
      ],
      "execution_count": 0,
      "outputs": [
        {
          "output_type": "execute_result",
          "data": {
            "text/plain": [
              "'1962년 12월 20일 국보 제101호 지정 전체 6. 1m 강원 원주시 부론면(富論面) 법천리(法泉里) 국권침탈 직후 일본 반출 반환 경복궁 지광국사현묘탑 묘탑 1075년 종로구 국보 승탑 asdf'"
            ]
          },
          "metadata": {
            "tags": []
          },
          "execution_count": 116
        }
      ]
    },
    {
      "cell_type": "code",
      "metadata": {
        "id": "p8dpAoJ0yCFH",
        "colab_type": "code",
        "outputId": "49ab6759-0e82-4873-df63-1972515fe0f9",
        "colab": {
          "base_uri": "https://localhost:8080/",
          "height": 35
        }
      },
      "source": [
        "test_sulmyung.shape\n",
        "# pd.concat([test_sulmyung, test_add], axis=1)    "
      ],
      "execution_count": 0,
      "outputs": [
        {
          "output_type": "execute_result",
          "data": {
            "text/plain": [
              "(122,)"
            ]
          },
          "metadata": {
            "tags": []
          },
          "execution_count": 93
        }
      ]
    },
    {
      "cell_type": "markdown",
      "metadata": {
        "id": "oZZxG8y0LQom",
        "colab_type": "text"
      },
      "source": [
        "- KNN용 프레임데이터"
      ]
    },
    {
      "cell_type": "code",
      "metadata": {
        "id": "7KKNE230LTAU",
        "colab_type": "code",
        "outputId": "e1d30fdd-c0d0-449d-f271-2d882540f3f6",
        "colab": {
          "base_uri": "https://localhost:8080/",
          "height": 125
        }
      },
      "source": [
        "test_1['설명2'] = test_1['설명2'].apply(hannanum.nouns)\n",
        "test_sulmyung_knn = test_1['설명2']\n",
        "test_sulmyung_knn.head()"
      ],
      "execution_count": 0,
      "outputs": [
        {
          "output_type": "execute_result",
          "data": {
            "text/plain": [
              "0    [지광국사탑, 고려시대, 조정, 최고, 승려, 법계, ‘국사’(國師), 지광국사, ...\n",
              "1    [정면, 3칸, 측면, 2칸, 중, 2층, 우진각지붕, 동쪽, 점, 특징, 대문, ...\n",
              "2    [1832년, 복온공주, 세상, 뒤, 무덤, 주변, 자리하였고,, 이, 김병주, 무...\n",
              "3    [창덕궁, 후원(昌德宮後苑), 비원(祕苑), 창덕궁, 북쪽, 창경궁, 한국, 최대,...\n",
              "4    [창빈, 안씨, 묘역(昌嬪, 安氏, 墓域, 조선, 제11대, 임금, 중종(1488∼...\n",
              "Name: 설명2, dtype: object"
            ]
          },
          "metadata": {
            "tags": []
          },
          "execution_count": 94
        }
      ]
    },
    {
      "cell_type": "code",
      "metadata": {
        "id": "KaAcVCr0Nve7",
        "colab_type": "code",
        "outputId": "ef06890f-00e6-4e0d-ec1d-0dbd1fefff83",
        "colab": {
          "base_uri": "https://localhost:8080/",
          "height": 35
        }
      },
      "source": [
        "type(test_sulmyung_knn[0])"
      ],
      "execution_count": 0,
      "outputs": [
        {
          "output_type": "execute_result",
          "data": {
            "text/plain": [
              "list"
            ]
          },
          "metadata": {
            "tags": []
          },
          "execution_count": 95
        }
      ]
    },
    {
      "cell_type": "code",
      "metadata": {
        "colab_type": "code",
        "id": "q4N8gAxvBm7-",
        "colab": {}
      },
      "source": [
        ""
      ],
      "execution_count": 0,
      "outputs": []
    },
    {
      "cell_type": "code",
      "metadata": {
        "id": "cSpb9vKjOU_L",
        "colab_type": "code",
        "colab": {}
      },
      "source": [
        "test_sulmyung_knn=test_sulmyung_knn.str.join(\" \")"
      ],
      "execution_count": 0,
      "outputs": []
    },
    {
      "cell_type": "code",
      "metadata": {
        "id": "Qb8xeu5C8jwT",
        "colab_type": "code",
        "colab": {}
      },
      "source": [
        ""
      ],
      "execution_count": 0,
      "outputs": []
    },
    {
      "cell_type": "code",
      "metadata": {
        "id": "1iGqOTJGOU1D",
        "colab_type": "code",
        "outputId": "27335915-0714-41ea-9ff0-f54f933fabb4",
        "colab": {
          "base_uri": "https://localhost:8080/",
          "height": 35
        }
      },
      "source": [
        "test_sulmyung_knn.shape"
      ],
      "execution_count": 0,
      "outputs": [
        {
          "output_type": "execute_result",
          "data": {
            "text/plain": [
              "(122,)"
            ]
          },
          "metadata": {
            "tags": []
          },
          "execution_count": 61
        }
      ]
    },
    {
      "cell_type": "markdown",
      "metadata": {
        "id": "_wLI_fEw4k8R",
        "colab_type": "text"
      },
      "source": [
        "### Training"
      ]
    },
    {
      "cell_type": "code",
      "metadata": {
        "id": "50NIIu9v0Voj",
        "colab_type": "code",
        "colab": {}
      },
      "source": [
        "from gensim.models import Word2Vec\n",
        "\n",
        "from sklearn.feature_extraction.text import TfidfVectorizer\n",
        "from sklearn.naive_bayes import MultinomialNB\n",
        "from sklearn.linear_model import SGDClassifier\n",
        "from sklearn.pipeline import Pipeline\n",
        "from sklearn.metrics import accuracy_score\n",
        "from sklearn.cluster import KMeans\n",
        "from sklearn.neighbors import KNeighborsClassifier  "
      ],
      "execution_count": 0,
      "outputs": []
    },
    {
      "cell_type": "code",
      "metadata": {
        "id": "crO_PxvL5-A-",
        "colab_type": "code",
        "outputId": "b7b2bebd-9fcc-4ad3-d418-44b2dfd5c7fd",
        "colab": {
          "base_uri": "https://localhost:8080/",
          "height": 35
        }
      },
      "source": [
        "type(test_sulmyung)"
      ],
      "execution_count": 0,
      "outputs": [
        {
          "output_type": "execute_result",
          "data": {
            "text/plain": [
              "pandas.core.series.Series"
            ]
          },
          "metadata": {
            "tags": []
          },
          "execution_count": 99
        }
      ]
    },
    {
      "cell_type": "markdown",
      "metadata": {
        "id": "V2WSIuSH5JuY",
        "colab_type": "text"
      },
      "source": [
        "#### K-means"
      ]
    },
    {
      "cell_type": "code",
      "metadata": {
        "id": "B0x9K5GU5JgZ",
        "colab_type": "code",
        "outputId": "1c2d5758-22f5-416e-bf2f-760f8b823054",
        "colab": {
          "base_uri": "https://localhost:8080/",
          "height": 125
        }
      },
      "source": [
        "X_train = test_sulmyung\n",
        "X_train.head()\n"
      ],
      "execution_count": 0,
      "outputs": [
        {
          "output_type": "execute_result",
          "data": {
            "text/plain": [
              "0    1962년 12월 20일 국보 제101호 지정 전체 6. 1m 강원 원주시 부론면(...\n",
              "1    보물 제384호 우진각지붕집 정면 3칸 측면 2칸 다포계 중층 문루 1484년(성종...\n",
              "2    조선 제23대 순조 둘째 복온공주(福溫公主:1818~1832) 부마 창녕위(昌寧尉)...\n",
              "3    면적 10 3000 평 사적 제122호 지정 창덕궁 안 조선시대 정원 조선왕궁 놀이...\n",
              "4    1983년 서울시유형문화재 제54호 지정 조선 제11대 중종 후궁(後宮) 선조 할머...\n",
              "Name: 설명1, dtype: object"
            ]
          },
          "metadata": {
            "tags": []
          },
          "execution_count": 117
        }
      ]
    },
    {
      "cell_type": "code",
      "metadata": {
        "colab_type": "code",
        "outputId": "84fd3961-fdfd-4c5d-a6b4-25a5f7087256",
        "id": "WxxhC6UFBmgq",
        "colab": {
          "base_uri": "https://localhost:8080/",
          "height": 143
        }
      },
      "source": [
        "tfidf = TfidfVectorizer()\n",
        "dataset1 = tfidf.fit_transform(X_train)\n",
        "type(dataset1)\n",
        "tfidf"
      ],
      "execution_count": 0,
      "outputs": [
        {
          "output_type": "execute_result",
          "data": {
            "text/plain": [
              "TfidfVectorizer(analyzer='word', binary=False, decode_error='strict',\n",
              "        dtype=<class 'numpy.float64'>, encoding='utf-8', input='content',\n",
              "        lowercase=True, max_df=1.0, max_features=None, min_df=1,\n",
              "        ngram_range=(1, 1), norm='l2', preprocessor=None, smooth_idf=True,\n",
              "        stop_words=None, strip_accents=None, sublinear_tf=False,\n",
              "        token_pattern='(?u)\\\\b\\\\w\\\\w+\\\\b', tokenizer=None, use_idf=True,\n",
              "        vocabulary=None)"
            ]
          },
          "metadata": {
            "tags": []
          },
          "execution_count": 120
        }
      ]
    },
    {
      "cell_type": "code",
      "metadata": {
        "id": "--qDiQLB5XP8",
        "colab_type": "code",
        "colab": {}
      },
      "source": [
        "cluster_number = 15\n",
        "km1=KMeans(n_clusters=cluster_number)\n",
        "out1=km1.fit_predict(dataset1)"
      ],
      "execution_count": 0,
      "outputs": []
    },
    {
      "cell_type": "markdown",
      "metadata": {
        "id": "KWZWTtZ9HSQV",
        "colab_type": "text"
      },
      "source": [
        "####  KNN"
      ]
    },
    {
      "cell_type": "code",
      "metadata": {
        "id": "vRnPwYDtHR-P",
        "colab_type": "code",
        "colab": {}
      },
      "source": [
        "from sklearn.neighbors import KNeighborsClassifier"
      ],
      "execution_count": 0,
      "outputs": []
    },
    {
      "cell_type": "code",
      "metadata": {
        "id": "xf0ch6vsPNK4",
        "colab_type": "code",
        "outputId": "1a8ae53f-6c1b-4edd-f4a2-add7946a3151",
        "colab": {
          "base_uri": "https://localhost:8080/",
          "height": 125
        }
      },
      "source": [
        "X2_train = test_sulmyung_knn\n",
        "X2_train.head()"
      ],
      "execution_count": 0,
      "outputs": [
        {
          "output_type": "execute_result",
          "data": {
            "text/plain": [
              "0    지광국사탑 고려시대 조정 최고 승려 법계 ‘국사’(國師) 지광국사 해린(984∼10...\n",
              "1    정면 3칸 측면 2칸 중 2층 우진각지붕 동쪽 점 특징 대문 왼쪽 서북쪽 모서리 계...\n",
              "2    1832년 복온공주 세상 뒤 무덤 주변 자리하였고, 이 김병주 무덤 위치 재사 건립...\n",
              "3    창덕궁 후원(昌德宮後苑) 비원(祕苑) 창덕궁 북쪽 창경궁 한국 최대 궁중 정원 궁원...\n",
              "4    창빈 안씨 묘역(昌嬪 安氏 墓域 조선 제11대 임금 중종(1488∼1544) 후궁 ...\n",
              "Name: 설명2, dtype: object"
            ]
          },
          "metadata": {
            "tags": []
          },
          "execution_count": 123
        }
      ]
    },
    {
      "cell_type": "code",
      "metadata": {
        "id": "C5P_LrEcPOsr",
        "colab_type": "code",
        "outputId": "a63c0bee-d402-4fa2-9731-440773f5bc04",
        "colab": {
          "base_uri": "https://localhost:8080/",
          "height": 55
        }
      },
      "source": [
        "# training\n",
        "\n",
        "\n",
        "tfidf = TfidfVectorizer()\n",
        "dataset2 = tfidf.fit_transform(X2_train)\n",
        "dataset2.shape"
      ],
      "execution_count": 0,
      "outputs": [
        {
          "output_type": "execute_result",
          "data": {
            "text/plain": [
              "'\\n# from scipy.sparse import csr_matrix\\ndataset2_mat = csr_matrix(dataset2, dtype=np.int8).toarray()\\ndataset2_mat\\n\\n# from sklearn.decomposition import PCA\\nPCA2_1 = PCA(n_components = 5)\\nPCA2_2 = PCA2_1.transform(dataset2_mat)\\n\\nneighbors_number = 5\\nknn1 = KNeighborsClassifier(n_neighbors=neighbors_number)\\nknn.fit(dataset2)\\n'"
            ]
          },
          "metadata": {
            "tags": []
          },
          "execution_count": 124
        }
      ]
    },
    {
      "cell_type": "markdown",
      "metadata": {
        "id": "jmyymy1O7PcB",
        "colab_type": "text"
      },
      "source": [
        "### 예측값 정확도 확인하기"
      ]
    },
    {
      "cell_type": "code",
      "metadata": {
        "id": "gqZsjdyW831P",
        "colab_type": "code",
        "outputId": "47b4db95-5e6a-4580-ff9e-c837db6724ce",
        "colab": {
          "base_uri": "https://localhost:8080/",
          "height": 172
        }
      },
      "source": [
        "# 분류 bins 바꾸려면 cluster_number 지정해주기\n",
        "out1"
      ],
      "execution_count": 1,
      "outputs": [
        {
          "output_type": "error",
          "ename": "NameError",
          "evalue": "ignored",
          "traceback": [
            "\u001b[0;31m---------------------------------------------------------------------------\u001b[0m",
            "\u001b[0;31mNameError\u001b[0m                                 Traceback (most recent call last)",
            "\u001b[0;32m<ipython-input-1-e2928c8d2378>\u001b[0m in \u001b[0;36m<module>\u001b[0;34m()\u001b[0m\n\u001b[0;32m----> 1\u001b[0;31m \u001b[0mout1\u001b[0m\u001b[0;34m\u001b[0m\u001b[0;34m\u001b[0m\u001b[0m\n\u001b[0m",
            "\u001b[0;31mNameError\u001b[0m: name 'out1' is not defined"
          ]
        }
      ]
    },
    {
      "cell_type": "code",
      "metadata": {
        "id": "3oljKfIwBdQC",
        "colab_type": "code",
        "outputId": "5e3a8ee8-3e91-4975-828d-5e0a423347ad",
        "colab": {
          "base_uri": "https://localhost:8080/",
          "height": 269
        }
      },
      "source": [
        "import matplotlib.pyplot as plt\n",
        "import seaborn as sns\n",
        "from scipy import stats\n",
        "\n",
        "# x = np.random.normal(size=100)\n",
        "sns.distplot(out1, bins=cluster_number); # , fit=stats.gamma"
      ],
      "execution_count": 0,
      "outputs": [
        {
          "output_type": "display_data",
          "data": {
            "image/png": "[encoded data removed]",
            "text/plain": [
              "<Figure size 432x288 with 1 Axes>"
            ]
          },
          "metadata": {
            "tags": []
          }
        }
      ]
    },
    {
      "cell_type": "code",
      "metadata": {
        "id": "3F1d3H4-5zPc",
        "colab_type": "code",
        "outputId": "ef5d594e-47f0-4f55-dbb2-c410ad48e58a",
        "colab": {
          "base_uri": "https://localhost:8080/",
          "height": 251
        }
      },
      "source": [
        "test_1['왕(시기)'][out1==8]"
      ],
      "execution_count": 0,
      "outputs": [
        {
          "output_type": "execute_result",
          "data": {
            "text/plain": [
              "5                  태조\n",
              "21     태조(창건), 고종(중건)\n",
              "27     태조(건립), 고종(중건)\n",
              "37         태조, 명종(중건)\n",
              "38                 고종\n",
              "40                 고종\n",
              "51     세종(창건), 고종(중건)\n",
              "53     태종(창건), 고종(중건)\n",
              "79                 태조\n",
              "82                 태조\n",
              "90     태조(건립), 고종(재건)\n",
              "103                태조\n",
              "Name: 왕(시기), dtype: object"
            ]
          },
          "metadata": {
            "tags": []
          },
          "execution_count": 174
        }
      ]
    },
    {
      "cell_type": "markdown",
      "metadata": {
        "id": "MkoNHljTFw6g",
        "colab_type": "text"
      },
      "source": [
        "### Plot"
      ]
    },
    {
      "cell_type": "code",
      "metadata": {
        "id": "PnssF-d67VsB",
        "colab_type": "code",
        "outputId": "50e7c16d-21b7-4049-8002-52f2cc455a4c",
        "colab": {
          "base_uri": "https://localhost:8080/",
          "height": 251
        }
      },
      "source": [
        "test_1['명칭'][out1==8]"
      ],
      "execution_count": 0,
      "outputs": [
        {
          "output_type": "execute_result",
          "data": {
            "text/plain": [
              "5      천상열차분야지도각석\n",
              "21            홍례문\n",
              "27            경복궁\n",
              "37            강녕전\n",
              "38            건청궁\n",
              "40            자경전\n",
              "51            교태전\n",
              "53            근정전\n",
              "79          보신각동종\n",
              "82            사정전\n",
              "90            수정전\n",
              "103           영제교\n",
              "Name: 명칭, dtype: object"
            ]
          },
          "metadata": {
            "tags": []
          },
          "execution_count": 170
        }
      ]
    }
  ]
}