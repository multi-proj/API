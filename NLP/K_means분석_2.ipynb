{
  "nbformat": 4,
  "nbformat_minor": 0,
  "metadata": {
    "colab": {
      "name": "K-means분석-2.ipynb",
      "version": "0.3.2",
      "provenance": [],
      "toc_visible": true,
      "include_colab_link": true
    },
    "kernelspec": {
      "name": "python3",
      "display_name": "Python 3"
    }
  },
  "cells": [
    {
      "cell_type": "markdown",
      "metadata": {
        "id": "view-in-github",
        "colab_type": "text"
      },
      "source": [
        "<a href=\"https://colab.research.google.com/github/multi-proj/API/blob/master/K_means%EB%B6%84%EC%84%9D_2.ipynb\" target=\"_parent\"><img src=\"https://colab.research.google.com/assets/colab-badge.svg\" alt=\"Open In Colab\"/></a>"
      ]
    },
    {
      "cell_type": "code",
      "metadata": {
        "id": "Klyxi4O_wP_7",
        "colab_type": "code",
        "colab": {}
      },
      "source": [
        ""
      ],
      "execution_count": 0,
      "outputs": []
    },
    {
      "cell_type": "markdown",
      "metadata": {
        "id": "3sunvYIKH_Nk",
        "colab_type": "text"
      },
      "source": [
        "Reference\n",
        "\n",
        "- WikiDocs"
      ]
    },
    {
      "cell_type": "markdown",
      "metadata": {
        "id": "jxK1S142wSyO",
        "colab_type": "text"
      },
      "source": [
        "### File Preprocessing"
      ]
    },
    {
      "cell_type": "code",
      "metadata": {
        "id": "VWkin2MqwU-G",
        "colab_type": "code",
        "colab": {}
      },
      "source": [
        "# xlsx to csv\n",
        "\n",
        "import xlrd\n",
        "import csv\n",
        "\n",
        "def csv_from_excel():\n",
        "    wb = xlrd.open_workbook('test.xlsx')\n",
        "    sh = wb.sheet_by_name('test')\n",
        "    your_csv_file = open('test.csv', 'w')\n",
        "    wr = csv.writer(your_csv_file, quoting=csv.QUOTE_ALL)\n",
        "\n",
        "    for rownum in range(sh.nrows):\n",
        "        wr.writerow(sh.row_values(rownum))\n",
        "\n",
        "    your_csv_file.close()\n",
        "\n",
        "# runs the csv_from_excel function:\n",
        "csv_from_excel()"
      ],
      "execution_count": 0,
      "outputs": []
    },
    {
      "cell_type": "code",
      "metadata": {
        "id": "gx5ao4uPwVi3",
        "colab_type": "code",
        "colab": {}
      },
      "source": [
        "import pandas as pd\n",
        "import numpy as np\n",
        "\n",
        "from konlpy.tag import *\n",
        "from gensim.models import Word2Vec\n",
        "import gensim.models\n",
        "\n",
        "hannanum = Hannanum()\n",
        "kkma = Kkma()\n",
        "komoran = Komoran()\n",
        "okt = Okt()"
      ],
      "execution_count": 0,
      "outputs": []
    },
    {
      "cell_type": "code",
      "metadata": {
        "id": "0ddkTBtgwYhE",
        "colab_type": "code",
        "colab": {}
      },
      "source": [
        "from konlpy.corpus import kobill\n",
        "from gensim import corpora"
      ],
      "execution_count": 0,
      "outputs": []
    },
    {
      "cell_type": "markdown",
      "metadata": {
        "id": "ivtikMGywciq",
        "colab_type": "text"
      },
      "source": [
        "### 데이터 불러오기"
      ]
    },
    {
      "cell_type": "code",
      "metadata": {
        "id": "1zExS_Cdwcbx",
        "colab_type": "code",
        "colab": {
          "base_uri": "https://localhost:8080/",
          "height": 493
        },
        "outputId": "adf0ce67-65e9-49ad-e7d5-7f7477b0fce2"
      },
      "source": [
        "test_1 = pd.read_csv('test.csv')\n",
        "# csvreader = csv.reader(x.replace('\\0', '') for x in test_1)\n",
        "test_1.fillna('')\n",
        "test_1.head()"
      ],
      "execution_count": 21,
      "outputs": [
        {
          "output_type": "execute_result",
          "data": {
            "text/html": [
              "<div>\n",
              "<style scoped>\n",
              "    .dataframe tbody tr th:only-of-type {\n",
              "        vertical-align: middle;\n",
              "    }\n",
              "\n",
              "    .dataframe tbody tr th {\n",
              "        vertical-align: top;\n",
              "    }\n",
              "\n",
              "    .dataframe thead th {\n",
              "        text-align: right;\n",
              "    }\n",
              "</style>\n",
              "<table border=\"1\" class=\"dataframe\">\n",
              "  <thead>\n",
              "    <tr style=\"text-align: right;\">\n",
              "      <th></th>\n",
              "      <th>명칭</th>\n",
              "      <th>소속</th>\n",
              "      <th>왕(인물)</th>\n",
              "      <th>왕(시기)</th>\n",
              "      <th>유형</th>\n",
              "      <th>분류</th>\n",
              "      <th>행정 구</th>\n",
              "      <th>연도</th>\n",
              "      <th>설명1</th>\n",
              "      <th>설명2</th>\n",
              "    </tr>\n",
              "  </thead>\n",
              "  <tbody>\n",
              "    <tr>\n",
              "      <th>0</th>\n",
              "      <td>지광국사현묘탑</td>\n",
              "      <td>NaN</td>\n",
              "      <td>NaN</td>\n",
              "      <td>문종(고려)</td>\n",
              "      <td>승탑</td>\n",
              "      <td>국보</td>\n",
              "      <td>종로구</td>\n",
              "      <td>1075년</td>\n",
              "      <td>1962년 12월 20일 국보 제101호로 지정되었다. 전체 높이는 6.1m이다. ...</td>\n",
              "      <td>지광국사탑은 고려시대 조정이 최고의 승려에게 내리는 법계인 ‘국사’(國師)를 받은 ...</td>\n",
              "    </tr>\n",
              "    <tr>\n",
              "      <th>1</th>\n",
              "      <td>홍화문</td>\n",
              "      <td>창경궁</td>\n",
              "      <td>NaN</td>\n",
              "      <td>성종(건립), 광해군(재건)</td>\n",
              "      <td>궁궐, 궁문</td>\n",
              "      <td>보물</td>\n",
              "      <td>종로구</td>\n",
              "      <td>1484년</td>\n",
              "      <td>보물 제384호. 우진각지붕집. 정면 3칸, 측면 2칸의 다포계 중층 문루. 148...</td>\n",
              "      <td>정면 3칸, 측면 2칸의 중층(2층) 우진각지붕으로 동쪽으로 향한 점이 특징인 대문...</td>\n",
              "    </tr>\n",
              "    <tr>\n",
              "      <th>2</th>\n",
              "      <td>창녕위궁재사</td>\n",
              "      <td>NaN</td>\n",
              "      <td>NaN</td>\n",
              "      <td>순조</td>\n",
              "      <td>건축, 재사</td>\n",
              "      <td>등록문화재</td>\n",
              "      <td>강북구</td>\n",
              "      <td>1832년</td>\n",
              "      <td>조선 제23대 순조의 둘째 딸 복온공주(福溫公主:1818~1832)와 부마 창녕위(...</td>\n",
              "      <td>1832년에 복온공주가 세상을 떠난 뒤 무덤이 주변에 자리하였고, 이어서 김병주의 ...</td>\n",
              "    </tr>\n",
              "    <tr>\n",
              "      <th>3</th>\n",
              "      <td>후원</td>\n",
              "      <td>창덕궁</td>\n",
              "      <td>NaN</td>\n",
              "      <td>태종</td>\n",
              "      <td>유적, 정원</td>\n",
              "      <td>사적</td>\n",
              "      <td>종로구</td>\n",
              "      <td>1405년</td>\n",
              "      <td>면적 10만 3000여 평. 사적 제122호로 지정된 창덕궁 안에 있는 조선시대 정...</td>\n",
              "      <td>창덕궁 후원(昌德宮後苑) 또는 비원(祕苑)은 창덕궁 북쪽에 창경궁과 붙어 있는 한국...</td>\n",
              "    </tr>\n",
              "    <tr>\n",
              "      <th>4</th>\n",
              "      <td>창빈안씨묘역</td>\n",
              "      <td>NaN</td>\n",
              "      <td>숙종, 선조</td>\n",
              "      <td>명종</td>\n",
              "      <td>묘</td>\n",
              "      <td>시도유형문화재</td>\n",
              "      <td>동작구</td>\n",
              "      <td>1683년</td>\n",
              "      <td>1983년에 서울시유형문화재 제54호로 지정되었다. 조선 제11대 중종의 후궁(後宮...</td>\n",
              "      <td>창빈 안씨 묘역(昌嬪 安氏 墓域)은 조선 제11대 임금 중종(1488∼1544)의 ...</td>\n",
              "    </tr>\n",
              "  </tbody>\n",
              "</table>\n",
              "</div>"
            ],
            "text/plain": [
              "        명칭   소속   왕(인물)            왕(시기)      유형       분류 행정 구     연도  \\\n",
              "0  지광국사현묘탑  NaN     NaN           문종(고려)      승탑       국보  종로구  1075년   \n",
              "1      홍화문  창경궁     NaN  성종(건립), 광해군(재건)  궁궐, 궁문       보물  종로구  1484년   \n",
              "2   창녕위궁재사  NaN     NaN               순조  건축, 재사    등록문화재  강북구  1832년   \n",
              "3       후원  창덕궁     NaN               태종  유적, 정원       사적  종로구  1405년   \n",
              "4   창빈안씨묘역  NaN  숙종, 선조               명종       묘  시도유형문화재  동작구  1683년   \n",
              "\n",
              "                                                 설명1  \\\n",
              "0  1962년 12월 20일 국보 제101호로 지정되었다. 전체 높이는 6.1m이다. ...   \n",
              "1  보물 제384호. 우진각지붕집. 정면 3칸, 측면 2칸의 다포계 중층 문루. 148...   \n",
              "2  조선 제23대 순조의 둘째 딸 복온공주(福溫公主:1818~1832)와 부마 창녕위(...   \n",
              "3  면적 10만 3000여 평. 사적 제122호로 지정된 창덕궁 안에 있는 조선시대 정...   \n",
              "4  1983년에 서울시유형문화재 제54호로 지정되었다. 조선 제11대 중종의 후궁(後宮...   \n",
              "\n",
              "                                                 설명2  \n",
              "0  지광국사탑은 고려시대 조정이 최고의 승려에게 내리는 법계인 ‘국사’(國師)를 받은 ...  \n",
              "1  정면 3칸, 측면 2칸의 중층(2층) 우진각지붕으로 동쪽으로 향한 점이 특징인 대문...  \n",
              "2  1832년에 복온공주가 세상을 떠난 뒤 무덤이 주변에 자리하였고, 이어서 김병주의 ...  \n",
              "3  창덕궁 후원(昌德宮後苑) 또는 비원(祕苑)은 창덕궁 북쪽에 창경궁과 붙어 있는 한국...  \n",
              "4  창빈 안씨 묘역(昌嬪 安氏 墓域)은 조선 제11대 임금 중종(1488∼1544)의 ...  "
            ]
          },
          "metadata": {
            "tags": []
          },
          "execution_count": 21
        }
      ]
    },
    {
      "cell_type": "markdown",
      "metadata": {
        "id": "bYSM4b5ZwvCS",
        "colab_type": "text"
      },
      "source": [
        "### Data Preprocessing"
      ]
    },
    {
      "cell_type": "markdown",
      "metadata": {
        "id": "7aD8ZCjZ38wp",
        "colab_type": "text"
      },
      "source": [
        "- Concatenate several columns in one"
      ]
    },
    {
      "cell_type": "code",
      "metadata": {
        "id": "0dalsTQexLFo",
        "colab_type": "code",
        "colab": {}
      },
      "source": [
        "test_1['명칭_유형'] = list(i[-2:] for i in test_1['명칭'])\n",
        "test_1['명칭_유형'].head()\n",
        "test_type = test_1['명칭_유형']\n",
        "\n",
        "use_col = ['명칭', '명칭_유형', '연도', '행정 구', '분류', '유형', '소속']\n"
      ],
      "execution_count": 0,
      "outputs": []
    },
    {
      "cell_type": "markdown",
      "metadata": {
        "id": "OHDW5Cy1LKsG",
        "colab_type": "text"
      },
      "source": [
        "- K-means용 프레임데이터"
      ]
    },
    {
      "cell_type": "code",
      "metadata": {
        "id": "hJ_MmOYUwaGs",
        "colab_type": "code",
        "colab": {
          "base_uri": "https://localhost:8080/",
          "height": 125
        },
        "outputId": "3a12844a-51b3-47a5-b002-686323b410d6"
      },
      "source": [
        "test_1['설명1'] = test_1['설명1'].apply(hannanum.nouns)\n",
        "test_sulmyung = test_1['설명1']\n",
        "# hannanum.nouns(list(i for i in test_1['명칭'])) \n",
        "\n",
        "test_sulmyung.head()"
      ],
      "execution_count": 23,
      "outputs": [
        {
          "output_type": "execute_result",
          "data": {
            "text/plain": [
              "0    [1962년, 12월, 20일, 국보, 제101호, 지정, 전체, 6., 1m, 강...\n",
              "1    [보물, 제384호, 우진각지붕집, 정면, 3칸, 측면, 2칸, 다포계, 중층, 문...\n",
              "2    [조선, 제23대, 순조, 둘째, 복온공주(福溫公主:1818~1832), 부마, 창...\n",
              "3    [면적, 10, 3000, 평, 사적, 제122호, 지정, 창덕궁, 안, 조선시대,...\n",
              "4    [1983년, 서울시유형문화재, 제54호, 지정, 조선, 제11대, 중종, 후궁(後...\n",
              "Name: 설명1, dtype: object"
            ]
          },
          "metadata": {
            "tags": []
          },
          "execution_count": 23
        }
      ]
    },
    {
      "cell_type": "code",
      "metadata": {
        "id": "BcUFSxWuzBP5",
        "colab_type": "code",
        "colab": {
          "base_uri": "https://localhost:8080/",
          "height": 35
        },
        "outputId": "f1564883-9c24-408c-992b-2d8b15fa93dc"
      },
      "source": [
        "type(test_sulmyung[0])"
      ],
      "execution_count": 24,
      "outputs": [
        {
          "output_type": "execute_result",
          "data": {
            "text/plain": [
              "list"
            ]
          },
          "metadata": {
            "tags": []
          },
          "execution_count": 24
        }
      ]
    },
    {
      "cell_type": "code",
      "metadata": {
        "id": "bE2GLL7d28bN",
        "colab_type": "code",
        "colab": {
          "base_uri": "https://localhost:8080/",
          "height": 35
        },
        "outputId": "6d7797bd-c2f2-4bfc-8c1b-5c521117ebae"
      },
      "source": [
        "type(test_1['명칭_유형'][0])"
      ],
      "execution_count": 25,
      "outputs": [
        {
          "output_type": "execute_result",
          "data": {
            "text/plain": [
              "str"
            ]
          },
          "metadata": {
            "tags": []
          },
          "execution_count": 25
        }
      ]
    },
    {
      "cell_type": "code",
      "metadata": {
        "id": "K6wVPzjf2aFu",
        "colab_type": "code",
        "colab": {}
      },
      "source": [
        "for j in range(0,len(use_col)):\n",
        "  \n",
        "  for i in range(len(test_sulmyung)):\n",
        "    test_sulmyung[i].append(test_1[use_col[j]][i])"
      ],
      "execution_count": 0,
      "outputs": []
    },
    {
      "cell_type": "code",
      "metadata": {
        "id": "M9g6ivMP33Lx",
        "colab_type": "code",
        "colab": {
          "base_uri": "https://localhost:8080/",
          "height": 485
        },
        "outputId": "f90a8a3d-a553-476d-c6af-1c524f536d58"
      },
      "source": [
        "test_sulmyung[0]"
      ],
      "execution_count": 27,
      "outputs": [
        {
          "output_type": "execute_result",
          "data": {
            "text/plain": [
              "['1962년',\n",
              " '12월',\n",
              " '20일',\n",
              " '국보',\n",
              " '제101호',\n",
              " '지정',\n",
              " '전체',\n",
              " '6.',\n",
              " '1m',\n",
              " '강원',\n",
              " '원주시',\n",
              " '부론면(富論面)',\n",
              " '법천리(法泉里)',\n",
              " '국권침탈',\n",
              " '직후',\n",
              " '일본',\n",
              " '반출',\n",
              " '반환',\n",
              " '경복궁',\n",
              " '지광국사현묘탑',\n",
              " '묘탑',\n",
              " '1075년',\n",
              " '종로구',\n",
              " '국보',\n",
              " '승탑',\n",
              " nan]"
            ]
          },
          "metadata": {
            "tags": []
          },
          "execution_count": 27
        }
      ]
    },
    {
      "cell_type": "code",
      "metadata": {
        "id": "t0A6RL1h602_",
        "colab_type": "code",
        "colab": {
          "base_uri": "https://localhost:8080/",
          "height": 71
        },
        "outputId": "689eb60b-ca5a-44e0-8fe8-c14d071e8f87"
      },
      "source": [
        "# test_sulmyung=test_sulmyung.str.join(\" \")\n",
        "# test_sulmyung[0]\n",
        "\n",
        "# I have more args that might be None / or not exist like and that breaks\n",
        "# str(' ').join(test_sulmyung)\n",
        "'''for i in range(len(test_sulmyung)):\n",
        "  filter(None, test_sulmyung[i])'''\n",
        "\n",
        "for i in range(len(test_sulmyung)):\n",
        "  test_sulmyung[i] = list(filter(None, test_sulmyung[i])) # fastest\n",
        "\n",
        "  \n",
        "pd.isnull(test_sulmyung[0])"
      ],
      "execution_count": 56,
      "outputs": [
        {
          "output_type": "execute_result",
          "data": {
            "text/plain": [
              "array([False, False, False, False, False, False, False, False, False,\n",
              "       False, False, False, False, False, False, False, False, False,\n",
              "       False, False, False, False, False, False, False,  True])"
            ]
          },
          "metadata": {
            "tags": []
          },
          "execution_count": 56
        }
      ]
    },
    {
      "cell_type": "code",
      "metadata": {
        "id": "p8dpAoJ0yCFH",
        "colab_type": "code",
        "colab": {
          "base_uri": "https://localhost:8080/",
          "height": 35
        },
        "outputId": "79868777-d795-4679-f5bc-d130d6041999"
      },
      "source": [
        "test_sulmyung.shape\n",
        "# pd.concat([test_sulmyung, test_add], axis=1)    "
      ],
      "execution_count": 29,
      "outputs": [
        {
          "output_type": "execute_result",
          "data": {
            "text/plain": [
              "(121,)"
            ]
          },
          "metadata": {
            "tags": []
          },
          "execution_count": 29
        }
      ]
    },
    {
      "cell_type": "markdown",
      "metadata": {
        "id": "oZZxG8y0LQom",
        "colab_type": "text"
      },
      "source": [
        "- KNN용 프레임데이터"
      ]
    },
    {
      "cell_type": "code",
      "metadata": {
        "id": "7KKNE230LTAU",
        "colab_type": "code",
        "colab": {
          "base_uri": "https://localhost:8080/",
          "height": 125
        },
        "outputId": "69f9d2b5-639f-4c92-d494-181d5ea66918"
      },
      "source": [
        "test_1['설명2'] = test_1['설명2'].apply(hannanum.nouns)\n",
        "test_sulmyung_knn = test_1['설명2']\n",
        "test_sulmyung_knn.head()"
      ],
      "execution_count": 30,
      "outputs": [
        {
          "output_type": "execute_result",
          "data": {
            "text/plain": [
              "0    [지광국사탑, 고려시대, 조정, 최고, 승려, 법계, ‘국사’(國師), 지광국사, ...\n",
              "1    [정면, 3칸, 측면, 2칸, 중, 2층, 우진각지붕, 동쪽, 점, 특징, 대문, ...\n",
              "2    [1832년, 복온공주, 세상, 뒤, 무덤, 주변, 자리하였고,, 이, 김병주, 무...\n",
              "3    [창덕궁, 후원(昌德宮後苑), 비원(祕苑), 창덕궁, 북쪽, 창경궁, 한국, 최대,...\n",
              "4    [창빈, 안씨, 묘역(昌嬪, 安氏, 墓域, 조선, 제11대, 임금, 중종(1488∼...\n",
              "Name: 설명2, dtype: object"
            ]
          },
          "metadata": {
            "tags": []
          },
          "execution_count": 30
        }
      ]
    },
    {
      "cell_type": "code",
      "metadata": {
        "id": "KaAcVCr0Nve7",
        "colab_type": "code",
        "colab": {
          "base_uri": "https://localhost:8080/",
          "height": 35
        },
        "outputId": "e29399cf-34c1-466c-c050-9bd6c2267c2b"
      },
      "source": [
        "type(test_sulmyung_knn[0])"
      ],
      "execution_count": 31,
      "outputs": [
        {
          "output_type": "execute_result",
          "data": {
            "text/plain": [
              "list"
            ]
          },
          "metadata": {
            "tags": []
          },
          "execution_count": 31
        }
      ]
    },
    {
      "cell_type": "code",
      "metadata": {
        "id": "cSpb9vKjOU_L",
        "colab_type": "code",
        "colab": {
          "base_uri": "https://localhost:8080/",
          "height": 190
        },
        "outputId": "0f1717cd-d895-420b-ad4d-288614910165"
      },
      "source": [
        "test_sulmyung_knn=test_sulmyung.str.join(\" \")\n",
        "\" \".join(test_sulmyung_knn[0])"
      ],
      "execution_count": 32,
      "outputs": [
        {
          "output_type": "error",
          "ename": "TypeError",
          "evalue": "ignored",
          "traceback": [
            "\u001b[0;31m---------------------------------------------------------------------------\u001b[0m",
            "\u001b[0;31mTypeError\u001b[0m                                 Traceback (most recent call last)",
            "\u001b[0;32m<ipython-input-32-6771c3eaa4a1>\u001b[0m in \u001b[0;36m<module>\u001b[0;34m()\u001b[0m\n\u001b[1;32m      1\u001b[0m \u001b[0mtest_sulmyung_knn\u001b[0m\u001b[0;34m=\u001b[0m\u001b[0mtest_sulmyung\u001b[0m\u001b[0;34m.\u001b[0m\u001b[0mstr\u001b[0m\u001b[0;34m.\u001b[0m\u001b[0mjoin\u001b[0m\u001b[0;34m(\u001b[0m\u001b[0;34m\" \"\u001b[0m\u001b[0;34m)\u001b[0m\u001b[0;34m\u001b[0m\u001b[0;34m\u001b[0m\u001b[0m\n\u001b[0;32m----> 2\u001b[0;31m \u001b[0;34m\" \"\u001b[0m\u001b[0;34m.\u001b[0m\u001b[0mjoin\u001b[0m\u001b[0;34m(\u001b[0m\u001b[0mtest_sulmyung_knn\u001b[0m\u001b[0;34m[\u001b[0m\u001b[0;36m0\u001b[0m\u001b[0;34m]\u001b[0m\u001b[0;34m)\u001b[0m\u001b[0;34m\u001b[0m\u001b[0;34m\u001b[0m\u001b[0m\n\u001b[0m",
            "\u001b[0;31mTypeError\u001b[0m: can only join an iterable"
          ]
        }
      ]
    },
    {
      "cell_type": "code",
      "metadata": {
        "id": "1iGqOTJGOU1D",
        "colab_type": "code",
        "colab": {}
      },
      "source": [
        "test_sulmyung_knn.shape"
      ],
      "execution_count": 0,
      "outputs": []
    },
    {
      "cell_type": "markdown",
      "metadata": {
        "id": "_wLI_fEw4k8R",
        "colab_type": "text"
      },
      "source": [
        "### Training"
      ]
    },
    {
      "cell_type": "code",
      "metadata": {
        "id": "50NIIu9v0Voj",
        "colab_type": "code",
        "colab": {}
      },
      "source": [
        "from gensim.models import Word2Vec\n",
        "\n",
        "from sklearn.feature_extraction.text import TfidfVectorizer\n",
        "from sklearn.naive_bayes import MultinomialNB\n",
        "from sklearn.linear_model import SGDClassifier\n",
        "from sklearn.pipeline import Pipeline\n",
        "from sklearn.metrics import accuracy_score\n",
        "from sklearn.cluster import KMeans\n",
        "from sklearn.neighbors import KNeighborsClassifier  "
      ],
      "execution_count": 0,
      "outputs": []
    },
    {
      "cell_type": "code",
      "metadata": {
        "id": "w9Smv4AO0dbm",
        "colab_type": "code",
        "colab": {}
      },
      "source": [
        "'''# 사용할 데이터 Word2Vec포멧으로 embedding시키기\n",
        "\n",
        "embedding_model2 = Word2Vec(test_sulmyung, min_count = 1)\n",
        "embedding_model2'''"
      ],
      "execution_count": 0,
      "outputs": []
    },
    {
      "cell_type": "code",
      "metadata": {
        "id": "crO_PxvL5-A-",
        "colab_type": "code",
        "colab": {}
      },
      "source": [
        "type(test_sulmyung)"
      ],
      "execution_count": 0,
      "outputs": []
    },
    {
      "cell_type": "markdown",
      "metadata": {
        "id": "V2WSIuSH5JuY",
        "colab_type": "text"
      },
      "source": [
        "#### K-means"
      ]
    },
    {
      "cell_type": "code",
      "metadata": {
        "id": "B0x9K5GU5JgZ",
        "colab_type": "code",
        "colab": {}
      },
      "source": [
        "X_train = test_sulmyung\n",
        "X_train.head()"
      ],
      "execution_count": 0,
      "outputs": []
    },
    {
      "cell_type": "code",
      "metadata": {
        "id": "oeA_xZ0c4w83",
        "colab_type": "code",
        "colab": {}
      },
      "source": [
        "# training\n",
        "\n",
        "\n",
        "tfidf = TfidfVectorizer()\n",
        "dataset1 = tfidf.fit_transform(X_train)\n",
        "\n",
        "from scipy.sparse import csr_matrix\n",
        "dataset1_mat = csr_matrix(dataset1, dtype=np.int8).toarray()\n",
        "dataset1_mat\n",
        "# k-means에는 바로 적용가능하지만 다른 적용을 위해서는 numpy형태로 바꿔줘야해서 array배열로 바꿔주는 작업이 필요하다.(.toarray())\n",
        "\n",
        "from sklearn.decomposition import PCA\n",
        "PCA1 = PCA(n_components = 5)\n",
        "PCA2 = PCA1.fit_transform(dataset1_mat)"
      ],
      "execution_count": 0,
      "outputs": []
    },
    {
      "cell_type": "code",
      "metadata": {
        "id": "--qDiQLB5XP8",
        "colab_type": "code",
        "colab": {}
      },
      "source": [
        "cluster_number = 15\n",
        "km1=KMeans(n_clusters=cluster_number)\n",
        "out1=km1.fit_predict(dataset1)"
      ],
      "execution_count": 0,
      "outputs": []
    },
    {
      "cell_type": "markdown",
      "metadata": {
        "id": "KWZWTtZ9HSQV",
        "colab_type": "text"
      },
      "source": [
        "####  KNN"
      ]
    },
    {
      "cell_type": "code",
      "metadata": {
        "id": "vRnPwYDtHR-P",
        "colab_type": "code",
        "colab": {}
      },
      "source": [
        "from sklearn.neighbors import KNeighborsClassifier"
      ],
      "execution_count": 0,
      "outputs": []
    },
    {
      "cell_type": "code",
      "metadata": {
        "id": "xf0ch6vsPNK4",
        "colab_type": "code",
        "colab": {}
      },
      "source": [
        "X2_train = test_sulmyung_knn\n",
        "X2_train.head()"
      ],
      "execution_count": 0,
      "outputs": []
    },
    {
      "cell_type": "code",
      "metadata": {
        "id": "C5P_LrEcPOsr",
        "colab_type": "code",
        "colab": {}
      },
      "source": [
        "# training\n",
        "\n",
        "\n",
        "tfidf = TfidfVectorizer()\n",
        "dataset2 = tfidf.fit_transform(X2_train)\n",
        "dataset2.shape\n",
        "\n",
        "'''\n",
        "# from scipy.sparse import csr_matrix\n",
        "dataset2_mat = csr_matrix(dataset2, dtype=np.int8).toarray()\n",
        "dataset2_mat\n",
        "\n",
        "# from sklearn.decomposition import PCA\n",
        "PCA2_1 = PCA(n_components = 5)\n",
        "PCA2_2 = PCA2_1.transform(dataset2_mat)\n",
        "\n",
        "neighbors_number = 5\n",
        "knn1 = KNeighborsClassifier(n_neighbors=neighbors_number)\n",
        "knn.fit(dataset2)\n",
        "'''\n",
        "\n",
        "out2 = knn1.predict(dataset2)\n"
      ],
      "execution_count": 0,
      "outputs": []
    },
    {
      "cell_type": "markdown",
      "metadata": {
        "id": "Kshs-dzqQCD1",
        "colab_type": "text"
      },
      "source": [
        "Reference Code\n",
        "```\n",
        "tf1 = TfidfVectorizer()\n",
        "tf2 = tf1.fit_transform(data)\n",
        "type(tf2)\n",
        "\n",
        "knn1 = KNeighborsClassifier(n_neighbors=5)\n",
        "knn1.fit(tf2, out1)\n",
        "\n",
        "from scipy.sparse import scr_matrix\n",
        "tf3 = csr_matrix(tf2, dtype=np.int8).toarray()\n",
        "\n",
        "from sklearn.cluster import KMeans\n",
        "km1 = KMeans(n_clsuter=3)\n",
        "out1 = km1.fit_predict(tf3)\n",
        "txt2 = txt1[out==k]\n",
        "\n",
        "tf4 = tf1.transform(data) # tf2와 달리 fit과정을 거치지 않는다\n",
        "tf4.shape\n",
        "\n",
        "out2 = knn1.predict(tf4)\n",
        "```"
      ]
    },
    {
      "cell_type": "code",
      "metadata": {
        "id": "2Z7LKTLcHRV6",
        "colab_type": "code",
        "colab": {}
      },
      "source": [
        ""
      ],
      "execution_count": 0,
      "outputs": []
    },
    {
      "cell_type": "markdown",
      "metadata": {
        "id": "jmyymy1O7PcB",
        "colab_type": "text"
      },
      "source": [
        "### 예측값 정확도 확인하기"
      ]
    },
    {
      "cell_type": "code",
      "metadata": {
        "id": "gqZsjdyW831P",
        "colab_type": "code",
        "colab": {}
      },
      "source": [
        "'''\n",
        "cluster_number = ?\n",
        "'''\n",
        "out1"
      ],
      "execution_count": 0,
      "outputs": []
    },
    {
      "cell_type": "code",
      "metadata": {
        "id": "3oljKfIwBdQC",
        "colab_type": "code",
        "colab": {}
      },
      "source": [
        "import matplotlib.pyplot as plt\n",
        "import seaborn as sns\n",
        "from scipy import stats\n",
        "\n",
        "# x = np.random.normal(size=100)\n",
        "sns.distplot(out1, bins=cluster_number); # , fit=stats.gamma"
      ],
      "execution_count": 0,
      "outputs": []
    },
    {
      "cell_type": "code",
      "metadata": {
        "id": "3F1d3H4-5zPc",
        "colab_type": "code",
        "colab": {}
      },
      "source": [
        "test_1['명칭'][out1==3]"
      ],
      "execution_count": 0,
      "outputs": []
    },
    {
      "cell_type": "markdown",
      "metadata": {
        "id": "MkoNHljTFw6g",
        "colab_type": "text"
      },
      "source": [
        "### Plot"
      ]
    },
    {
      "cell_type": "code",
      "metadata": {
        "id": "PnssF-d67VsB",
        "colab_type": "code",
        "colab": {}
      },
      "source": [
        ""
      ],
      "execution_count": 0,
      "outputs": []
    }
  ]
}
