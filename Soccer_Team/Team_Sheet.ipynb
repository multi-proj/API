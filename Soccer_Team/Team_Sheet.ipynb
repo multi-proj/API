{
  "nbformat": 4,
  "nbformat_minor": 0,
  "metadata": {
    "colab": {
      "name": "Team_Sheet.ipynb",
      "version": "0.3.2",
      "provenance": [],
      "include_colab_link": true
    },
    "kernelspec": {
      "name": "python3",
      "display_name": "Python 3"
    }
  },
  "cells": [
    {
      "cell_type": "markdown",
      "metadata": {
        "id": "view-in-github",
        "colab_type": "text"
      },
      "source": [
        "<a href=\"https://colab.research.google.com/github/multi-proj/API/blob/master/Soccer_Team/Team_Sheet.ipynb\" target=\"_parent\"><img src=\"https://colab.research.google.com/assets/colab-badge.svg\" alt=\"Open In Colab\"/></a>"
      ]
    },
    {
      "cell_type": "code",
      "metadata": {
        "id": "ZlKNGHm7vQh6",
        "colab_type": "code",
        "colab": {}
      },
      "source": [
        "from selenium import webdriver"
      ],
      "execution_count": 0,
      "outputs": []
    },
    {
      "cell_type": "code",
      "metadata": {
        "id": "7WDtdpty77tJ",
        "colab_type": "code",
        "colab": {}
      },
      "source": [
        "!pip install selenium\n",
        "!apt install chromium-chromedriver"
      ],
      "execution_count": 0,
      "outputs": []
    },
    {
      "cell_type": "code",
      "metadata": {
        "id": "Kw0c1id9vngR",
        "colab_type": "code",
        "colab": {}
      },
      "source": [
        "!pip install -U -q Pydrive\n",
        "from pydrive.auth import GoogleAuth\n",
        "from pydrive.drive import GoogleDrive\n",
        "from google.colab import auth\n",
        "from oauth2client.client import GoogleCredentials\n",
        "\n",
        "# Authenticate and create the PyDrive client.\n",
        "auth.authenticate_user()\n",
        "gauth = GoogleAuth()\n",
        "gauth.credentials = GoogleCredentials.get_application_default()\n",
        "drive = GoogleDrive(gauth)"
      ],
      "execution_count": 0,
      "outputs": []
    },
    {
      "cell_type": "code",
      "metadata": {
        "id": "_17HbgKm8gIE",
        "colab_type": "code",
        "colab": {}
      },
      "source": [
        "url = 'https://drive.google.com/open?id=1dwaiV1_fIVBGHGeVKnRGXMgw-POve3I3'\n",
        "id = url.split('=')[1]"
      ],
      "execution_count": 0,
      "outputs": []
    },
    {
      "cell_type": "code",
      "metadata": {
        "id": "IEG8ZjYl8TML",
        "colab_type": "code",
        "colab": {
          "base_uri": "https://localhost:8080/",
          "height": 53
        },
        "outputId": "9efa622c-034b-4c28-acc6-cdeed9c80e0c"
      },
      "source": [
        "import sys\n",
        "sys.path.insert(0,'/usr/lib/chromium-browser/chromedriver')\n",
        "from selenium import webdriver\n",
        "chrome_options = webdriver.ChromeOptions()\n",
        "chrome_options.add_argument('--headless')\n",
        "chrome_options.add_argument('--no-sandbox')\n",
        "chrome_options.add_argument('--disable-dev-shm-usage')\n",
        "wd = webdriver.Chrome('chromedriver',chrome_options=chrome_options)\n",
        "wd.get(\"https://www.premierleague.com/players?se=79&cl=21\")"
      ],
      "execution_count": 86,
      "outputs": [
        {
          "output_type": "stream",
          "text": [
            "/usr/local/lib/python3.6/dist-packages/ipykernel_launcher.py:8: DeprecationWarning: use options instead of chrome_options\n",
            "  \n"
          ],
          "name": "stderr"
        }
      ]
    },
    {
      "cell_type": "markdown",
      "metadata": {
        "id": "nwPb0lDwV97C",
        "colab_type": "text"
      },
      "source": [
        "* **선수명 불러오기**"
      ]
    },
    {
      "cell_type": "code",
      "metadata": {
        "id": "AgYfSaR_CgFs",
        "colab_type": "code",
        "colab": {}
      },
      "source": [
        "player_list = wd.find_elements_by_class_name('playerName')"
      ],
      "execution_count": 0,
      "outputs": []
    },
    {
      "cell_type": "code",
      "metadata": {
        "id": "NNykuES4RSlC",
        "colab_type": "code",
        "colab": {}
      },
      "source": [
        "\n",
        "player_name = []\n",
        "\n",
        "for i in range(0, len(player_list)):\n",
        "    name = player_list[i].text\n",
        "    player_name.append(name)\n",
        "    \n",
        "player_name"
      ],
      "execution_count": 0,
      "outputs": []
    },
    {
      "cell_type": "markdown",
      "metadata": {
        "id": "6Rm_eqZQVkB3",
        "colab_type": "text"
      },
      "source": [
        "* **포지션 불러오기**"
      ]
    },
    {
      "cell_type": "code",
      "metadata": {
        "id": "VCdI3gsgWB1W",
        "colab_type": "code",
        "colab": {}
      },
      "source": [
        "player_position_name = wd.find_elements_by_class_name('hide-s')"
      ],
      "execution_count": 0,
      "outputs": []
    },
    {
      "cell_type": "code",
      "metadata": {
        "id": "HnKyTmNmWV1D",
        "colab_type": "code",
        "colab": {}
      },
      "source": [
        "player_position = []\n",
        "\n",
        "for i in range(2, len(player_position_name), 2):\n",
        "    name = player_position_name[i].text\n",
        "    player_position.append(name)\n",
        "\n",
        "player_position"
      ],
      "execution_count": 0,
      "outputs": []
    },
    {
      "cell_type": "markdown",
      "metadata": {
        "id": "uf5AdiNHaAoZ",
        "colab_type": "text"
      },
      "source": [
        "* **선수이름 + 포지션**"
      ]
    },
    {
      "cell_type": "code",
      "metadata": {
        "id": "QZIic3W_Yki9",
        "colab_type": "code",
        "colab": {
          "base_uri": "https://localhost:8080/",
          "height": 204
        },
        "outputId": "3b5c03d9-490d-4769-93c7-921bdf4822d4"
      },
      "source": [
        "import pandas as pd\n",
        "\n",
        "data = {'Name': player_name, 'Position': player_position}\n",
        "\n",
        "team_sheet = pd.DataFrame(data)\n",
        "team_sheet.head()"
      ],
      "execution_count": 184,
      "outputs": [
        {
          "output_type": "execute_result",
          "data": {
            "text/html": [
              "<div>\n",
              "<style scoped>\n",
              "    .dataframe tbody tr th:only-of-type {\n",
              "        vertical-align: middle;\n",
              "    }\n",
              "\n",
              "    .dataframe tbody tr th {\n",
              "        vertical-align: top;\n",
              "    }\n",
              "\n",
              "    .dataframe thead th {\n",
              "        text-align: right;\n",
              "    }\n",
              "</style>\n",
              "<table border=\"1\" class=\"dataframe\">\n",
              "  <thead>\n",
              "    <tr style=\"text-align: right;\">\n",
              "      <th></th>\n",
              "      <th>Name</th>\n",
              "      <th>Position</th>\n",
              "    </tr>\n",
              "  </thead>\n",
              "  <tbody>\n",
              "    <tr>\n",
              "      <th>0</th>\n",
              "      <td>Kazaiah Sterling</td>\n",
              "      <td>Forward</td>\n",
              "    </tr>\n",
              "    <tr>\n",
              "      <th>1</th>\n",
              "      <td>Hugo Lloris</td>\n",
              "      <td>Goalkeeper</td>\n",
              "    </tr>\n",
              "    <tr>\n",
              "      <th>2</th>\n",
              "      <td>Michel Vorm</td>\n",
              "      <td>Goalkeeper</td>\n",
              "    </tr>\n",
              "    <tr>\n",
              "      <th>3</th>\n",
              "      <td>Alfie Whiteman</td>\n",
              "      <td>Goalkeeper</td>\n",
              "    </tr>\n",
              "    <tr>\n",
              "      <th>4</th>\n",
              "      <td>Kyle Walker</td>\n",
              "      <td>Defender</td>\n",
              "    </tr>\n",
              "  </tbody>\n",
              "</table>\n",
              "</div>"
            ],
            "text/plain": [
              "               Name    Position\n",
              "0  Kazaiah Sterling     Forward\n",
              "1       Hugo Lloris  Goalkeeper\n",
              "2       Michel Vorm  Goalkeeper\n",
              "3    Alfie Whiteman  Goalkeeper\n",
              "4       Kyle Walker    Defender"
            ]
          },
          "metadata": {
            "tags": []
          },
          "execution_count": 184
        }
      ]
    },
    {
      "cell_type": "code",
      "metadata": {
        "id": "w66xOx9iaD4e",
        "colab_type": "code",
        "colab": {}
      },
      "source": [
        ""
      ],
      "execution_count": 0,
      "outputs": []
    }
  ]
}