{
 "cells": [
  {
   "cell_type": "code",
   "execution_count": 607,
   "metadata": {},
   "outputs": [],
   "source": [
    "import pandas as pd \n",
    "import seaborn as sns \n",
    "import matplotlib.pyplot as plt \n",
    "import numpy as np\n",
    "import scipy as sp"
   ]
  },
  {
   "cell_type": "code",
   "execution_count": 957,
   "metadata": {},
   "outputs": [],
   "source": [
    "stats_def = pd.read_csv(\"csv_files/tot_1516_def.csv\")\n",
    "stats_fw = pd.read_csv(\"csv_files/tot_1516_fw.csv\")\n",
    "stats_kp = pd.read_csv(\"csv_files/tot_1516_keeper.csv\")\n",
    "stats_mid = pd.read_csv(\"csv_files/tot_1516_mid.csv\")"
   ]
  },
  {
   "cell_type": "code",
   "execution_count": 958,
   "metadata": {},
   "outputs": [],
   "source": [
    "member_df_1516 = pd.read_csv(\"C:\\\\PythonProj\\\\csv_files\\\\players_with_son_1516.csv\", header=None).loc[1:, 1:11]\n",
    "member_df_1617 = pd.read_csv(\"C:\\\\PythonProj\\\\csv_files\\\\players_with_son_1617.csv\", header=None).loc[1:, 1:11]\n",
    "member_df_1718 = pd.read_csv(\"C:\\\\PythonProj\\\\csv_files\\\\players_with_son_1718.csv\", header=None).loc[1:, 1:11]\n",
    "member_df_1819 = pd.read_csv(\"C:\\\\PythonProj\\\\csv_files\\\\players_with_son_1819.csv\", header=None).loc[1:, 1:11]"
   ]
  },
  {
   "cell_type": "code",
   "execution_count": null,
   "metadata": {},
   "outputs": [],
   "source": []
  },
  {
   "cell_type": "markdown",
   "metadata": {},
   "source": [
    "# Comp-DataFrame"
   ]
  },
  {
   "cell_type": "code",
   "execution_count": 959,
   "metadata": {},
   "outputs": [],
   "source": [
    "# Empty Dataframe for saving values of Seasons\n",
    "\n",
    "# df_corr = pd.DataFrame(columns=['15/16', '16/17', '17/18', '18/19'], index=['def', 'fw', 'kp', 'mid', 'Mr.Son'])\n",
    "# df_stats = pd.DataFrame(columns=['15/16', '16/17', '17/18', '18/19'], index=['def', 'fw', 'kp', 'mid', 'Mr.Son'])"
   ]
  },
  {
   "cell_type": "markdown",
   "metadata": {},
   "source": [
    "# EPL 15/16 Season"
   ]
  },
  {
   "cell_type": "markdown",
   "metadata": {},
   "source": [
    "## Member-Stat Dictionary 만들기\n",
    "\n",
    "- for key, value in ages.items():\n",
    "    print('{}의 나이는 {} 입니다'.format(key, value))"
   ]
  },
  {
   "cell_type": "code",
   "execution_count": 1012,
   "metadata": {},
   "outputs": [],
   "source": [
    "import ast\n",
    "season = ['15/16', '16/17', '17/18', '18/19']\n",
    "position = ['def', 'fw', 'kp', 'mid', 'Mr.Son']\n",
    "\n",
    "data_1516 = pd.read_csv(\"C:\\\\PythonProj\\\\csv_files\\\\df_stats.csv\", delimiter=',', sep=',', index_col=0)[season[0]].to_frame()\n",
    "\n",
    "# data 내부 list 파싱\n",
    "for j in position:\n",
    "    data_1516.loc[j][season[0]] = ast.literal_eval(data_1516.loc[j][season[0]])"
   ]
  },
  {
   "cell_type": "code",
   "execution_count": 1024,
   "metadata": {},
   "outputs": [
    {
     "data": {
      "text/plain": [
       "[2.2094,\n",
       " 2.2337,\n",
       " 2.1666,\n",
       " 2.3014,\n",
       " 2.2013,\n",
       " 0.0,\n",
       " 2.0881,\n",
       " 2.3469,\n",
       " 0.0,\n",
       " 0.0,\n",
       " 2.3017,\n",
       " 0.0]"
      ]
     },
     "execution_count": 1024,
     "metadata": {},
     "output_type": "execute_result"
    }
   ],
   "source": [
    "member_df_1516.head()\n",
    "data_1516['15/16']['def']"
   ]
  },
  {
   "cell_type": "code",
   "execution_count": 1027,
   "metadata": {},
   "outputs": [
    {
     "data": {
      "text/plain": [
       "array([2.2094, 2.2337, 2.1666, 2.3014, 2.2013, 0.    , 2.0881, 2.3469,\n",
       "       0.    , 0.    , 2.3017, 0.    , 1.6804, 1.2925, 1.3555, 0.    ,\n",
       "       1.6804, 2.5205, 1.2305, 0.    , 0.    , 0.9695, 1.0169, 1.1315,\n",
       "       1.0616, 0.9695, 1.1021, 1.1111, 1.0869, 0.9695, 0.9695, 0.    ,\n",
       "       0.9695, 1.1208, 1.022 ])"
      ]
     },
     "execution_count": 1027,
     "metadata": {},
     "output_type": "execute_result"
    }
   ],
   "source": [
    "# parsing and extracting stats lists\n",
    "stats_def = data_1516.loc['def']['15/16']\n",
    "stats_fw = data_1516.loc['fw']['15/16']\n",
    "stats_kp = data_1516.loc['kp']['15/16']\n",
    "stats_mid = data_1516.loc['mid']['15/16'] \n",
    "\n",
    "# stats_1516 = stats_1516[~np.isnan(stats_1516)] # null값 제거하기 # 제거전 len:40\n",
    "\n",
    "stats_ovrl = np.hstack([stats_def, stats_fw, stats_kp, stats_mid])\n",
    "len(stats_ovrl) # 35\n",
    "stats_ovrl"
   ]
  },
  {
   "cell_type": "code",
   "execution_count": null,
   "metadata": {},
   "outputs": [],
   "source": []
  },
  {
   "cell_type": "code",
   "execution_count": 1021,
   "metadata": {},
   "outputs": [
    {
     "ename": "TypeError",
     "evalue": "list indices must be integers or slices, not str",
     "output_type": "error",
     "traceback": [
      "\u001b[1;31m---------------------------------------------------------------------------\u001b[0m",
      "\u001b[1;31mTypeError\u001b[0m                                 Traceback (most recent call last)",
      "\u001b[1;32m<ipython-input-1021-2b3a0d54353d>\u001b[0m in \u001b[0;36m<module>\u001b[1;34m()\u001b[0m\n\u001b[0;32m      1\u001b[0m \u001b[1;31m# names_1516과 member_df_1516의 'Name' 행 포맷 맞추기\u001b[0m\u001b[1;33m\u001b[0m\u001b[1;33m\u001b[0m\u001b[0m\n\u001b[0;32m      2\u001b[0m \u001b[1;33m\u001b[0m\u001b[0m\n\u001b[1;32m----> 3\u001b[1;33m \u001b[0mstats_def\u001b[0m\u001b[1;33m[\u001b[0m\u001b[1;34m'Name'\u001b[0m\u001b[1;33m]\u001b[0m \u001b[1;33m=\u001b[0m \u001b[0mstats_def\u001b[0m\u001b[1;33m[\u001b[0m\u001b[1;34m'Name'\u001b[0m\u001b[1;33m]\u001b[0m\u001b[1;33m.\u001b[0m\u001b[0mreplace\u001b[0m\u001b[1;33m(\u001b[0m\u001b[1;34m\"-\"\u001b[0m\u001b[1;33m,\u001b[0m \u001b[1;34m\" \"\u001b[0m\u001b[1;33m)\u001b[0m\u001b[1;33m\u001b[0m\u001b[0m\n\u001b[0m\u001b[0;32m      4\u001b[0m \u001b[0mstats_fw\u001b[0m\u001b[1;33m[\u001b[0m\u001b[1;34m'Name'\u001b[0m\u001b[1;33m]\u001b[0m \u001b[1;33m=\u001b[0m \u001b[0mstats_fw\u001b[0m\u001b[1;33m[\u001b[0m\u001b[1;34m'Name'\u001b[0m\u001b[1;33m]\u001b[0m\u001b[1;33m.\u001b[0m\u001b[0mreplace\u001b[0m\u001b[1;33m(\u001b[0m\u001b[1;34m\"-\"\u001b[0m\u001b[1;33m,\u001b[0m \u001b[1;34m\" \"\u001b[0m\u001b[1;33m)\u001b[0m\u001b[1;33m\u001b[0m\u001b[0m\n\u001b[0;32m      5\u001b[0m \u001b[0mstats_kp\u001b[0m\u001b[1;33m[\u001b[0m\u001b[1;34m'Name'\u001b[0m\u001b[1;33m]\u001b[0m \u001b[1;33m=\u001b[0m \u001b[0mstats_kp\u001b[0m\u001b[1;33m[\u001b[0m\u001b[1;34m'Name'\u001b[0m\u001b[1;33m]\u001b[0m\u001b[1;33m.\u001b[0m\u001b[0mreplace\u001b[0m\u001b[1;33m(\u001b[0m\u001b[1;34m\"-\"\u001b[0m\u001b[1;33m,\u001b[0m \u001b[1;34m\" \"\u001b[0m\u001b[1;33m)\u001b[0m\u001b[1;33m\u001b[0m\u001b[0m\n",
      "\u001b[1;31mTypeError\u001b[0m: list indices must be integers or slices, not str"
     ]
    }
   ],
   "source": [
    "# names_1516과 member_df_1516의 'Name' 행 포맷 맞추기\n",
    "\n",
    "stats_def['Name'] = stats_def['Name'].replace(\"-\", \" \")\n",
    "stats_fw['Name'] = stats_fw['Name'].replace(\"-\", \" \")\n",
    "stats_kp['Name'] = stats_kp['Name'].replace(\"-\", \" \")\n",
    "stats_mid['Name'] = stats_mid['Name'].replace(\"-\", \" \")"
   ]
  },
  {
   "cell_type": "code",
   "execution_count": 1008,
   "metadata": {},
   "outputs": [
    {
     "data": {
      "text/plain": [
       "array(['Kyle-Walker', 'Danny-Rose', 'Toby-Alderweireld', 'Jan-Vertonghen',\n",
       "       'Kieran-Trippier', 'Federico-Fazio', 'Kevin-Wimmer', 'Ben-Davies',\n",
       "       'Cameron-Carter-Vickers', 'Kyle-Walker-Peters', 'DeAndre-Yedlin',\n",
       "       'Dominic-Ball', 'Son-Heung-Min', 'Harry-Kane', \"Clinton-N'Jie\",\n",
       "       'Emmanuel-Adebayor', 'Roberto-Soldado', 'Hugo-Lloris',\n",
       "       'Michel-Vorm', 'Luke-McGee', 'Tom-Glover', 'Nabil-Bentaleb',\n",
       "       'Ryan-Mason', 'Erik-Lamela', 'Eric-Dier', 'Mousa-Dembele',\n",
       "       'Dele-Alli', 'Nacer-Chadli', 'Christian-Eriksen', 'Josh-Onomah',\n",
       "       'Tom-Carroll', 'Harry-Winks', 'Alex-Pritchard', 'Andros-Townsend',\n",
       "       'Aaron-Lennon'], dtype=object)"
      ]
     },
     "execution_count": 1008,
     "metadata": {},
     "output_type": "execute_result"
    }
   ],
   "source": [
    "names_1516 = np.hstack([stats_def['Name'], stats_fw['Name'], stats_kp['Name'], stats_mid['Name']])\n",
    "names_1516"
   ]
  },
  {
   "cell_type": "code",
   "execution_count": 1020,
   "metadata": {},
   "outputs": [
    {
     "data": {
      "text/plain": [
       "35"
      ]
     },
     "execution_count": 1020,
     "metadata": {},
     "output_type": "execute_result"
    }
   ],
   "source": [
    "len(names_1516) # 35\n",
    "len(stats_ovrl) # 35"
   ]
  },
  {
   "cell_type": "code",
   "execution_count": 997,
   "metadata": {},
   "outputs": [],
   "source": [
    "name_stats_dict = {}\n",
    "name_stats_dict = dict(zip(names_1516, stats_ovrl))\n",
    "name_stats_dict_keys = list(name_stats_dict.keys())\n",
    "name_stats_dict_values = list(name_stats_dict.values())"
   ]
  },
  {
   "cell_type": "code",
   "execution_count": 1002,
   "metadata": {},
   "outputs": [
    {
     "data": {
      "text/plain": [
       "['Kyle-Walker',\n",
       " 'Danny-Rose',\n",
       " 'Toby-Alderweireld',\n",
       " 'Jan-Vertonghen',\n",
       " 'Kieran-Trippier',\n",
       " 'Federico-Fazio',\n",
       " 'Kevin-Wimmer',\n",
       " 'Ben-Davies',\n",
       " 'Cameron-Carter-Vickers',\n",
       " 'Kyle-Walker-Peters',\n",
       " 'DeAndre-Yedlin',\n",
       " 'Dominic-Ball',\n",
       " 'Son-Heung-Min',\n",
       " 'Harry-Kane',\n",
       " \"Clinton-N'Jie\",\n",
       " 'Emmanuel-Adebayor',\n",
       " 'Roberto-Soldado',\n",
       " 'Hugo-Lloris',\n",
       " 'Michel-Vorm',\n",
       " 'Luke-McGee',\n",
       " 'Tom-Glover',\n",
       " 'Nabil-Bentaleb',\n",
       " 'Ryan-Mason',\n",
       " 'Erik-Lamela',\n",
       " 'Eric-Dier',\n",
       " 'Mousa-Dembele',\n",
       " 'Dele-Alli',\n",
       " 'Nacer-Chadli',\n",
       " 'Christian-Eriksen',\n",
       " 'Josh-Onomah',\n",
       " 'Tom-Carroll',\n",
       " 'Harry-Winks',\n",
       " 'Alex-Pritchard',\n",
       " 'Andros-Townsend',\n",
       " 'Aaron-Lennon']"
      ]
     },
     "execution_count": 1002,
     "metadata": {},
     "output_type": "execute_result"
    }
   ],
   "source": [
    "# name_stats_dict -> member_df_1516\n",
    "# member_df_1516[열][행]\n",
    "\n",
    "for i in range(1, 11+1): # 열 수\n",
    "    for j in range(1, len(member_df_1516[i])+1): # 행 수\n",
    "        \n",
    "        if member_df_1516[i][j] in name_stats_dict_keys:\n",
    "            n = member_df_1516[i][j]\n",
    "            print(n)\n",
    "            member_df_1516[i][j] = int(name_stats_dict[n])\n",
    "    \n",
    "member_df_1516 # (13, 11)\n",
    "name_stats_dict_keys\n",
    "# member_df_1516.map(name_stats_dict.keys(): name_stats_dict.values())"
   ]
  },
  {
   "cell_type": "code",
   "execution_count": 971,
   "metadata": {},
   "outputs": [
    {
     "data": {
      "text/plain": [
       "'Hugo Lloris'"
      ]
     },
     "execution_count": 971,
     "metadata": {},
     "output_type": "execute_result"
    }
   ],
   "source": [
    "member_df_1516[1][2]"
   ]
  },
  {
   "cell_type": "code",
   "execution_count": 903,
   "metadata": {},
   "outputs": [
    {
     "name": "stdout",
     "output_type": "stream",
     "text": [
      "Kyle-Walker의 평점은 2.2094 입니다\n",
      "Danny-Rose의 평점은 2.2337 입니다\n",
      "Toby-Alderweireld의 평점은 2.1666 입니다\n",
      "Jan-Vertonghen의 평점은 2.3014 입니다\n",
      "Kieran-Trippier의 평점은 2.2013 입니다\n",
      "Federico-Fazio의 평점은 0.0 입니다\n",
      "Kevin-Wimmer의 평점은 2.0881 입니다\n",
      "Ben-Davies의 평점은 2.3469 입니다\n",
      "Cameron-Carter-Vickers의 평점은 0.0 입니다\n",
      "Kyle-Walker-Peters의 평점은 0.0 입니다\n",
      "DeAndre-Yedlin의 평점은 2.3017 입니다\n",
      "Dominic-Ball의 평점은 0.0 입니다\n",
      "Son-Heung-Min의 평점은 1.6804 입니다\n",
      "Harry-Kane의 평점은 1.2925 입니다\n",
      "Clinton-N'Jie의 평점은 1.3555 입니다\n",
      "Emmanuel-Adebayor의 평점은 0.0 입니다\n",
      "Roberto-Soldado의 평점은 1.6804 입니다\n",
      "Hugo-Lloris의 평점은 2.5205 입니다\n",
      "Michel-Vorm의 평점은 1.2305 입니다\n",
      "Luke-McGee의 평점은 0.0 입니다\n",
      "Tom-Glover의 평점은 0.0 입니다\n",
      "Nabil-Bentaleb의 평점은 0.9695 입니다\n",
      "Ryan-Mason의 평점은 1.0169 입니다\n",
      "Erik-Lamela의 평점은 1.1315 입니다\n",
      "Eric-Dier의 평점은 1.0616 입니다\n",
      "Mousa-Dembele의 평점은 0.9695 입니다\n",
      "Dele-Alli의 평점은 1.1021 입니다\n",
      "Nacer-Chadli의 평점은 1.1111 입니다\n",
      "Christian-Eriksen의 평점은 1.0869 입니다\n",
      "Josh-Onomah의 평점은 0.9695 입니다\n",
      "Tom-Carroll의 평점은 0.9695 입니다\n",
      "Harry-Winks의 평점은 0.0 입니다\n",
      "Alex-Pritchard의 평점은 0.9695 입니다\n",
      "Andros-Townsend의 평점은 1.1208 입니다\n",
      "Aaron-Lennon의 평점은 1.022 입니다\n"
     ]
    }
   ],
   "source": [
    "for key, value in name_stats_dict.items():\n",
    "    print('{}의 평점은 {} 입니다'.format(key, value))"
   ]
  },
  {
   "cell_type": "markdown",
   "metadata": {},
   "source": [
    "# EPL 15/16 Season"
   ]
  },
  {
   "cell_type": "code",
   "execution_count": 851,
   "metadata": {},
   "outputs": [
    {
     "data": {
      "text/plain": [
       "13"
      ]
     },
     "execution_count": 851,
     "metadata": {},
     "output_type": "execute_result"
    }
   ],
   "source": [
    "member_df_1516 = pd.read_csv(\"C:\\\\PythonProj\\\\csv_files\\\\players_with_son_1516.csv\", header=None).loc[1:, 1:11]\n",
    "member_df_1516\n",
    "# member table을 stat으로 변경하기\n",
    "\n",
    "# member 이름만 뽑아내기\n",
    "# member 이름을 number label로 바꾸기\n",
    "from sklearn.preprocessing import LabelEncoder\n",
    "encoder = LabelEncoder()\n",
    "\n",
    "member_names = member_df_1516.values\n",
    "member_names_transformed_1516 = []\n",
    "for i in member_names:\n",
    "    encoder.fit(i)\n",
    "    member_names_transformed_1516.append(list(encoder.transform(i)))\n",
    "    \n",
    "member_names_transformed_1516 # len: 13\n",
    "len(member_names_transformed_1516)"
   ]
  },
  {
   "cell_type": "code",
   "execution_count": 852,
   "metadata": {},
   "outputs": [
    {
     "data": {
      "text/plain": [
       "array([4, 6, 7, 5, 7, 7, 6, 6, 6, 7, 6, 8, 6], dtype=int64)"
      ]
     },
     "execution_count": 852,
     "metadata": {},
     "output_type": "execute_result"
    }
   ],
   "source": [
    "# 15/16 시즌 손흥민 경기별 평점 \n",
    "rat_1516 = pd.read_csv(\"C:\\\\PythonProj\\\\csv_files\\\\players_with_son_1516.csv\")['Rating'].values\n",
    "len(rat_1516)\n",
    "rat_1516"
   ]
  },
  {
   "cell_type": "code",
   "execution_count": 893,
   "metadata": {},
   "outputs": [
    {
     "data": {
      "text/plain": [
       "0.6153846153846154"
      ]
     },
     "execution_count": 893,
     "metadata": {},
     "output_type": "execute_result"
    }
   ],
   "source": [
    "# 학습시키기\n",
    "from sklearn.linear_model import LogisticRegression\n",
    "\n",
    "X = member_names_transformed_1516\n",
    "y = rat_1516\n",
    "# X[:2]\n",
    "clf = LogisticRegression(random_state=0, solver='lbfgs', multi_class='multinomial').fit(X[:10], y[:10])\n",
    "clf.predict(X[10:])\n",
    "clf.predict_proba(X[10:]) \n",
    "clf.score(X, y) # 0.6153846153846154\n",
    "# score : Returns the mean accuracy on the given test data and labels."
   ]
  },
  {
   "cell_type": "markdown",
   "metadata": {},
   "source": [
    "# EPL 16/17 Season"
   ]
  },
  {
   "cell_type": "code",
   "execution_count": 857,
   "metadata": {},
   "outputs": [
    {
     "data": {
      "text/plain": [
       "22"
      ]
     },
     "execution_count": 857,
     "metadata": {},
     "output_type": "execute_result"
    }
   ],
   "source": [
    "member_df_1617 = pd.read_csv(\"C:\\\\PythonProj\\\\csv_files\\\\players_with_son_1617.csv\", header=None).loc[1:, 1:11]\n",
    "\n",
    "# member table을 stat으로 변경하기\n",
    "\n",
    "# member 이름만 뽑아내기\n",
    "# member 이름을 number label로 바꾸기\n",
    "from sklearn.preprocessing import LabelEncoder\n",
    "encoder = LabelEncoder()\n",
    "\n",
    "member_names = member_df_1617.values\n",
    "member_names_transformed_1617 = []\n",
    "for i in member_names:\n",
    "    encoder.fit(i)\n",
    "    member_names_transformed_1617.append(list(encoder.transform(i)))\n",
    "    \n",
    "member_names_transformed_1617 # len: 22\n",
    "len(member_names_transformed_1617)"
   ]
  },
  {
   "cell_type": "code",
   "execution_count": 861,
   "metadata": {},
   "outputs": [
    {
     "data": {
      "text/plain": [
       "array([7, 9, 7, 5, 8, 8, 8, 8, 7, 6, 7, 7, 8, 6, 7, 6, 6, 5, 5, 7, 8, 9],\n",
       "      dtype=int64)"
      ]
     },
     "execution_count": 861,
     "metadata": {},
     "output_type": "execute_result"
    }
   ],
   "source": [
    "# 16/17 시즌 손흥민 경기별 평점 \n",
    "rat_1617 = pd.read_csv(\"C:\\\\PythonProj\\\\csv_files\\\\players_with_son_1617.csv\")['Rating'].values\n",
    "rat_1617 # len 22\n",
    "# len(rat_1617)"
   ]
  },
  {
   "cell_type": "code",
   "execution_count": 895,
   "metadata": {},
   "outputs": [
    {
     "data": {
      "text/plain": [
       "0.9090909090909091"
      ]
     },
     "execution_count": 895,
     "metadata": {},
     "output_type": "execute_result"
    }
   ],
   "source": [
    "# 학습시키기\n",
    "from sklearn.linear_model import LogisticRegression\n",
    "from patsy import dmatrices\n",
    "\n",
    "# X = dmatrices('member_names_transformed')\n",
    "# X, y = load_iris(return_X_y=True)\n",
    "X = member_names_transformed_1617\n",
    "y = rat_1617\n",
    "# X[:2]\n",
    "clf = LogisticRegression(random_state=0, solver='lbfgs', multi_class='multinomial').fit(X[:18], y[:18])\n",
    "clf.predict(X[18:])\n",
    "clf.predict_proba(X[18:]) \n",
    "clf.score(X, y) # 0.9090909090909091"
   ]
  },
  {
   "cell_type": "markdown",
   "metadata": {},
   "source": [
    "# EPL 17/18 Season"
   ]
  },
  {
   "cell_type": "code",
   "execution_count": 867,
   "metadata": {},
   "outputs": [
    {
     "data": {
      "text/plain": [
       "[[5, 2, 7, 6, 0, 1, 3, 10, 8, 9, 4],\n",
       " [6, 2, 7, 8, 0, 4, 1, 10, 3, 9, 5],\n",
       " [3, 7, 0, 9, 4, 8, 5, 10, 6, 1, 2],\n",
       " [5, 1, 6, 2, 8, 7, 0, 9, 10, 3, 4],\n",
       " [6, 8, 0, 7, 2, 1, 9, 4, 5, 3, 10],\n",
       " [5, 1, 6, 8, 2, 3, 10, 9, 7, 0, 4],\n",
       " [6, 9, 0, 2, 7, 3, 8, 4, 1, 10, 5],\n",
       " [6, 2, 7, 8, 0, 10, 3, 1, 9, 4, 5],\n",
       " [6, 7, 8, 0, 2, 4, 3, 1, 9, 10, 5],\n",
       " [6, 7, 0, 2, 8, 3, 1, 9, 10, 4, 5],\n",
       " [6, 1, 9, 0, 5, 8, 2, 3, 10, 7, 4],\n",
       " [6, 9, 0, 7, 2, 10, 8, 1, 3, 4, 5],\n",
       " [6, 9, 0, 2, 7, 3, 8, 10, 1, 4, 5],\n",
       " [7, 2, 0, 9, 8, 5, 3, 1, 4, 10, 6],\n",
       " [6, 9, 2, 7, 1, 3, 4, 0, 10, 8, 5],\n",
       " [6, 0, 9, 2, 7, 1, 4, 10, 3, 8, 5],\n",
       " [6, 3, 8, 1, 7, 0, 9, 2, 5, 4, 10],\n",
       " [6, 7, 2, 9, 1, 0, 10, 3, 8, 5, 4],\n",
       " [6, 3, 7, 8, 0, 5, 10, 1, 9, 2, 4],\n",
       " [6, 7, 8, 0, 2, 1, 9, 10, 4, 3, 5],\n",
       " [7, 8, 2, 4, 9, 0, 3, 6, 1, 5, 10],\n",
       " [8, 2, 3, 6, 9, 1, 5, 0, 7, 10, 4],\n",
       " [5, 10, 3, 6, 4, 0, 8, 1, 7, 2, 9],\n",
       " [5, 1, 10, 6, 8, 7, 2, 0, 4, 3, 9],\n",
       " [6, 10, 1, 7, 8, 9, 3, 2, 5, 0, 4],\n",
       " [5, 1, 6, 10, 7, 3, 9, 0, 8, 4, 2],\n",
       " [5, 0, 6, 7, 10, 2, 1, 9, 8, 3, 4]]"
      ]
     },
     "execution_count": 867,
     "metadata": {},
     "output_type": "execute_result"
    }
   ],
   "source": [
    "member_df_1718 = pd.read_csv(\"C:\\\\PythonProj\\\\csv_files\\\\players_with_son_1718.csv\", header=None).loc[1:, 1:11]\n",
    "member_df_1718\n",
    "# member table을 stat으로 변경하기\n",
    "\n",
    "# member 이름만 뽑아내기\n",
    "# member 이름을 number label로 바꾸기\n",
    "from sklearn.preprocessing import LabelEncoder\n",
    "encoder = LabelEncoder()\n",
    "\n",
    "member_names = member_df_1718.values\n",
    "member_names_transformed_1718 = []\n",
    "for i in member_names:\n",
    "    encoder.fit(i)\n",
    "    member_names_transformed_1718.append(list(encoder.transform(i)))\n",
    "    \n",
    "member_names_transformed_1718 # len: 27\n",
    "# len(member_names_transformed)"
   ]
  },
  {
   "cell_type": "code",
   "execution_count": 870,
   "metadata": {},
   "outputs": [
    {
     "data": {
      "text/plain": [
       "array([6., 6., 7., 6., 7., 9., 9., 7., 6., 8., 5., 9., 7., 8., 7., 6., 7.,\n",
       "       9., 7., 6., 7., 5., 8., 5., 6., 5., 7.])"
      ]
     },
     "execution_count": 870,
     "metadata": {},
     "output_type": "execute_result"
    }
   ],
   "source": [
    "# 17/18 시즌 손흥민 경기별 평점 \n",
    "rat_1718 = pd.read_csv(\"C:\\\\PythonProj\\\\csv_files\\\\players_with_son_1718.csv\", header=0)['Rating'].values\n",
    "rat_1718\n",
    "\n",
    "rat_1718 # len 27\n",
    "# len(rat_1718)"
   ]
  },
  {
   "cell_type": "code",
   "execution_count": 899,
   "metadata": {},
   "outputs": [
    {
     "data": {
      "text/plain": [
       "0.7777777777777778"
      ]
     },
     "execution_count": 899,
     "metadata": {},
     "output_type": "execute_result"
    }
   ],
   "source": [
    "# 학습시키기\n",
    "from sklearn.linear_model import LogisticRegression\n",
    "\n",
    "X = member_names_transformed_1718\n",
    "y = rat_1718\n",
    "# X[:2]\n",
    "clf = LogisticRegression(random_state=0, solver='lbfgs', multi_class='multinomial').fit(X[:20], y[:20])\n",
    "clf.predict(X[20:])\n",
    "clf.predict_proba(X[20:]) \n",
    "clf.score(X, y) # 0.7777777777777778"
   ]
  },
  {
   "cell_type": "markdown",
   "metadata": {},
   "source": [
    "# Predict EPL 18/19 Season ~ 손흥민 평점"
   ]
  },
  {
   "cell_type": "code",
   "execution_count": 873,
   "metadata": {},
   "outputs": [
    {
     "data": {
      "text/plain": [
       "[[6, 7, 3, 0, 10, 5, 4, 1, 2, 8, 9],\n",
       " [4, 5, 9, 6, 1, 0, 2, 10, 7, 8, 3],\n",
       " [8, 2, 10, 5, 6, 0, 4, 1, 3, 7, 9],\n",
       " [5, 10, 6, 0, 7, 8, 1, 9, 3, 2, 4],\n",
       " [4, 9, 2, 5, 7, 1, 10, 6, 3, 0, 8],\n",
       " [6, 10, 7, 0, 2, 9, 1, 3, 5, 8, 4],\n",
       " [4, 6, 10, 5, 0, 1, 3, 7, 8, 9, 2],\n",
       " [5, 6, 2, 7, 1, 8, 0, 4, 9, 3, 10],\n",
       " [4, 5, 10, 1, 6, 8, 2, 9, 0, 3, 7],\n",
       " [5, 2, 10, 6, 8, 0, 7, 4, 1, 9, 3],\n",
       " [5, 7, 0, 10, 6, 2, 1, 4, 8, 9, 3],\n",
       " [6, 7, 1, 10, 2, 3, 8, 5, 0, 4, 9],\n",
       " [6, 2, 0, 7, 10, 1, 5, 3, 8, 9, 4],\n",
       " [4, 5, 1, 10, 6, 7, 8, 0, 9, 3, 2],\n",
       " [6, 7, 10, 2, 0, 3, 8, 1, 5, 9, 4],\n",
       " [4, 0, 10, 8, 5, 7, 9, 1, 2, 3, 6],\n",
       " [5, 10, 7, 1, 6, 2, 0, 9, 4, 8, 3],\n",
       " [5, 6, 0, 9, 7, 1, 8, 2, 3, 4, 10],\n",
       " [5, 8, 0, 10, 6, 7, 1, 2, 3, 4, 9],\n",
       " [5, 0, 6, 10, 1, 4, 2, 9, 8, 3, 7],\n",
       " [8, 1, 10, 4, 0, 5, 2, 7, 9, 6, 3],\n",
       " [8, 5, 1, 10, 4, 0, 9, 6, 7, 2, 3]]"
      ]
     },
     "execution_count": 873,
     "metadata": {},
     "output_type": "execute_result"
    }
   ],
   "source": [
    "member_df_1819 = pd.read_csv(\"C:\\\\PythonProj\\\\csv_files\\\\players_with_son_1819.csv\", header=None).loc[1:, 1:11]\n",
    "member_df_1819\n",
    "# member table을 stat으로 변경하기\n",
    "\n",
    "# member 이름만 뽑아내기\n",
    "# member 이름을 number label로 바꾸기\n",
    "from sklearn.preprocessing import LabelEncoder\n",
    "encoder = LabelEncoder()\n",
    "\n",
    "member_names = member_df_1819.values\n",
    "member_names_transformed_1819 = []\n",
    "for i in member_names:\n",
    "    encoder.fit(i)\n",
    "    member_names_transformed_1819.append(list(encoder.transform(i)))\n",
    "    \n",
    "member_names_transformed_1819 # len: 22\n",
    "# len(member_names_transformed)"
   ]
  },
  {
   "cell_type": "code",
   "execution_count": 874,
   "metadata": {},
   "outputs": [
    {
     "data": {
      "text/plain": [
       "array([3, 6, 6, 7, 8, 5, 5, 5, 7, 8, 8, 6, 8, 5, 8, 9, 8, 7, 7, 8, 6, 6],\n",
       "      dtype=int64)"
      ]
     },
     "execution_count": 874,
     "metadata": {},
     "output_type": "execute_result"
    }
   ],
   "source": [
    "# 18/19 시즌 손흥민 경기별 평점 \n",
    "rat_1819 = pd.read_csv(\"C:\\\\PythonProj\\\\csv_files\\\\players_with_son_1819.csv\", header=0)['Rating'].values\n",
    "\n",
    "rat_1819 # len 22\n",
    "# len(rat_1819)"
   ]
  },
  {
   "cell_type": "code",
   "execution_count": 900,
   "metadata": {},
   "outputs": [
    {
     "data": {
      "text/plain": [
       "0.8636363636363636"
      ]
     },
     "execution_count": 900,
     "metadata": {},
     "output_type": "execute_result"
    }
   ],
   "source": [
    "# 학습시키기\n",
    "from sklearn.linear_model import LogisticRegression\n",
    "\n",
    "X = member_names_transformed_1819\n",
    "y = rat_1819\n",
    "# X[:2]\n",
    "clf = LogisticRegression(random_state=0, solver='lbfgs', multi_class='multinomial').fit(X[:19], y[:19])\n",
    "clf.predict(X[19:])\n",
    "clf.predict_proba(X[19:]) \n",
    "clf.score(X, y) # 0.8636363636363636"
   ]
  },
  {
   "cell_type": "markdown",
   "metadata": {},
   "source": [
    "### merge"
   ]
  },
  {
   "cell_type": "code",
   "execution_count": 876,
   "metadata": {},
   "outputs": [
    {
     "data": {
      "text/plain": [
       "[[5, 0, 6, 10, 7, 9, 3, 1, 8, 2, 4],\n",
       " [5, 7, 6, 10, 1, 9, 3, 0, 8, 2, 4],\n",
       " [5, 7, 10, 1, 6, 9, 8, 3, 0, 2, 4],\n",
       " [5, 7, 6, 10, 1, 2, 9, 8, 0, 3, 4],\n",
       " [6, 8, 7, 10, 1, 9, 0, 4, 3, 2, 5],\n",
       " [5, 7, 6, 10, 1, 2, 9, 8, 0, 3, 4],\n",
       " [5, 7, 6, 10, 1, 2, 9, 8, 0, 3, 4],\n",
       " [5, 7, 10, 6, 1, 8, 3, 9, 0, 2, 4],\n",
       " [4, 6, 5, 10, 1, 9, 7, 0, 8, 2, 3],\n",
       " [5, 7, 6, 10, 1, 2, 9, 8, 0, 3, 4],\n",
       " [6, 8, 0, 7, 10, 9, 1, 4, 3, 2, 5],\n",
       " [5, 7, 0, 6, 10, 9, 8, 3, 2, 1, 4],\n",
       " [4, 6, 0, 5, 10, 1, 9, 7, 8, 2, 3],\n",
       " [4, 5, 9, 2, 6, 10, 0, 7, 3, 8, 1],\n",
       " [5, 6, 0, 9, 7, 2, 8, 1, 3, 10, 4],\n",
       " [5, 9, 0, 7, 6, 1, 2, 10, 8, 3, 4],\n",
       " [5, 9, 0, 7, 6, 8, 1, 10, 3, 2, 4],\n",
       " [5, 7, 10, 6, 0, 2, 8, 1, 3, 9, 4],\n",
       " [4, 6, 5, 9, 0, 3, 2, 7, 1, 8, 10],\n",
       " [6, 10, 4, 5, 0, 3, 2, 7, 1, 8, 9],\n",
       " [4, 9, 5, 3, 0, 6, 10, 7, 2, 8, 1],\n",
       " [5, 3, 9, 6, 0, 1, 7, 8, 2, 10, 4],\n",
       " [5, 3, 0, 6, 9, 1, 8, 7, 2, 10, 4],\n",
       " [6, 5, 9, 1, 3, 10, 0, 8, 7, 2, 4],\n",
       " [5, 6, 9, 3, 7, 0, 1, 10, 2, 4, 8],\n",
       " [4, 5, 6, 1, 9, 2, 10, 8, 7, 0, 3],\n",
       " [5, 3, 1, 6, 7, 9, 10, 2, 8, 0, 4],\n",
       " [4, 6, 5, 2, 7, 8, 0, 9, 10, 1, 3],\n",
       " [4, 5, 2, 6, 1, 8, 7, 10, 0, 3, 9],\n",
       " [4, 3, 5, 1, 6, 9, 2, 8, 7, 0, 10],\n",
       " [5, 6, 3, 7, 1, 10, 0, 2, 8, 4, 9],\n",
       " [4, 9, 1, 6, 5, 7, 2, 0, 3, 10, 8],\n",
       " [3, 4, 8, 5, 0, 1, 9, 2, 10, 7, 6],\n",
       " [3, 4, 1, 9, 5, 0, 10, 8, 7, 6, 2],\n",
       " [5, 9, 7, 0, 6, 2, 1, 3, 8, 10, 4],\n",
       " [5, 2, 7, 6, 0, 1, 3, 10, 8, 9, 4],\n",
       " [6, 2, 7, 8, 0, 4, 1, 10, 3, 9, 5],\n",
       " [3, 7, 0, 9, 4, 8, 5, 10, 6, 1, 2],\n",
       " [5, 1, 6, 2, 8, 7, 0, 9, 10, 3, 4],\n",
       " [6, 8, 0, 7, 2, 1, 9, 4, 5, 3, 10],\n",
       " [5, 1, 6, 8, 2, 3, 10, 9, 7, 0, 4],\n",
       " [6, 9, 0, 2, 7, 3, 8, 4, 1, 10, 5],\n",
       " [6, 2, 7, 8, 0, 10, 3, 1, 9, 4, 5],\n",
       " [6, 7, 8, 0, 2, 4, 3, 1, 9, 10, 5],\n",
       " [6, 7, 0, 2, 8, 3, 1, 9, 10, 4, 5],\n",
       " [6, 1, 9, 0, 5, 8, 2, 3, 10, 7, 4],\n",
       " [6, 9, 0, 7, 2, 10, 8, 1, 3, 4, 5],\n",
       " [6, 9, 0, 2, 7, 3, 8, 10, 1, 4, 5],\n",
       " [7, 2, 0, 9, 8, 5, 3, 1, 4, 10, 6],\n",
       " [6, 9, 2, 7, 1, 3, 4, 0, 10, 8, 5],\n",
       " [6, 0, 9, 2, 7, 1, 4, 10, 3, 8, 5],\n",
       " [6, 3, 8, 1, 7, 0, 9, 2, 5, 4, 10],\n",
       " [6, 7, 2, 9, 1, 0, 10, 3, 8, 5, 4],\n",
       " [6, 3, 7, 8, 0, 5, 10, 1, 9, 2, 4],\n",
       " [6, 7, 8, 0, 2, 1, 9, 10, 4, 3, 5],\n",
       " [7, 8, 2, 4, 9, 0, 3, 6, 1, 5, 10],\n",
       " [8, 2, 3, 6, 9, 1, 5, 0, 7, 10, 4],\n",
       " [5, 10, 3, 6, 4, 0, 8, 1, 7, 2, 9],\n",
       " [5, 1, 10, 6, 8, 7, 2, 0, 4, 3, 9],\n",
       " [6, 10, 1, 7, 8, 9, 3, 2, 5, 0, 4],\n",
       " [5, 1, 6, 10, 7, 3, 9, 0, 8, 4, 2],\n",
       " [5, 0, 6, 7, 10, 2, 1, 9, 8, 3, 4],\n",
       " [6, 7, 3, 0, 10, 5, 4, 1, 2, 8, 9],\n",
       " [4, 5, 9, 6, 1, 0, 2, 10, 7, 8, 3],\n",
       " [8, 2, 10, 5, 6, 0, 4, 1, 3, 7, 9],\n",
       " [5, 10, 6, 0, 7, 8, 1, 9, 3, 2, 4],\n",
       " [4, 9, 2, 5, 7, 1, 10, 6, 3, 0, 8],\n",
       " [6, 10, 7, 0, 2, 9, 1, 3, 5, 8, 4],\n",
       " [4, 6, 10, 5, 0, 1, 3, 7, 8, 9, 2],\n",
       " [5, 6, 2, 7, 1, 8, 0, 4, 9, 3, 10],\n",
       " [4, 5, 10, 1, 6, 8, 2, 9, 0, 3, 7],\n",
       " [5, 2, 10, 6, 8, 0, 7, 4, 1, 9, 3],\n",
       " [5, 7, 0, 10, 6, 2, 1, 4, 8, 9, 3],\n",
       " [6, 7, 1, 10, 2, 3, 8, 5, 0, 4, 9],\n",
       " [6, 2, 0, 7, 10, 1, 5, 3, 8, 9, 4],\n",
       " [4, 5, 1, 10, 6, 7, 8, 0, 9, 3, 2],\n",
       " [6, 7, 10, 2, 0, 3, 8, 1, 5, 9, 4],\n",
       " [4, 0, 10, 8, 5, 7, 9, 1, 2, 3, 6],\n",
       " [5, 10, 7, 1, 6, 2, 0, 9, 4, 8, 3],\n",
       " [5, 6, 0, 9, 7, 1, 8, 2, 3, 4, 10],\n",
       " [5, 8, 0, 10, 6, 7, 1, 2, 3, 4, 9],\n",
       " [5, 0, 6, 10, 1, 4, 2, 9, 8, 3, 7],\n",
       " [8, 1, 10, 4, 0, 5, 2, 7, 9, 6, 3],\n",
       " [8, 5, 1, 10, 4, 0, 9, 6, 7, 2, 3]]"
      ]
     },
     "execution_count": 876,
     "metadata": {},
     "output_type": "execute_result"
    }
   ],
   "source": [
    "member_names_transformed_ovrl = np.vstack([[member_names_transformed_1516,member_names_transformed_1617,member_names_transformed_1718,member_names_transformed_1819]])\n",
    "# len(member_names_transformed_ovrl.sum()) # len: 85\n",
    "member_names_transformed_ovrl = member_names_transformed_ovrl.sum()\n",
    "member_names_transformed_ovrl"
   ]
  },
  {
   "cell_type": "code",
   "execution_count": 877,
   "metadata": {},
   "outputs": [
    {
     "data": {
      "text/plain": [
       "array([4., 6., 7., 5., 7., 7., 6., 6., 6., 7., 6., 8., 6., 7., 9., 7., 5.,\n",
       "       8., 8., 8., 8., 7., 6., 7., 7., 8., 6., 7., 6., 6., 5., 5., 7., 8.,\n",
       "       9., 6., 6., 7., 6., 7., 9., 9., 7., 6., 8., 5., 9., 7., 8., 7., 6.,\n",
       "       7., 9., 7., 6., 7., 5., 8., 5., 6., 5., 7., 3., 6., 6., 7., 8., 5.,\n",
       "       5., 5., 7., 8., 8., 6., 8., 5., 8., 9., 8., 7., 7., 8., 6., 6.])"
      ]
     },
     "execution_count": 877,
     "metadata": {},
     "output_type": "execute_result"
    }
   ],
   "source": [
    "# ratings\n",
    "rat_ovrl = np.hstack([rat_1516, rat_1617, rat_1718, rat_1819])\n",
    "rat_ovrl\n",
    "# len(rat_ovrl) # 85"
   ]
  },
  {
   "cell_type": "code",
   "execution_count": 901,
   "metadata": {
    "scrolled": true
   },
   "outputs": [
    {
     "name": "stderr",
     "output_type": "stream",
     "text": [
      "C:\\Users\\DELL\\Anaconda3\\lib\\site-packages\\sklearn\\linear_model\\sag.py:326: ConvergenceWarning: The max_iter was reached which means the coef_ did not converge\n",
      "  \"the coef_ did not converge\", ConvergenceWarning)\n"
     ]
    },
    {
     "data": {
      "text/plain": [
       "0.40476190476190477"
      ]
     },
     "execution_count": 901,
     "metadata": {},
     "output_type": "execute_result"
    }
   ],
   "source": [
    "# 학습시키기\n",
    "from sklearn.linear_model import LogisticRegression\n",
    "\n",
    "X = member_names_transformed_ovrl\n",
    "y = rat_ovrl\n",
    "# X[:2]\n",
    "clf = LogisticRegression(random_state=0, solver='saga', multi_class='multinomial').fit(X[:60], y[:60])\n",
    "clf.predict(X[60:])\n",
    "clf.predict_proba(X[60:]) \n",
    "clf.score(X, y) # lbfgs : 0.40476190476190477 # newton-cg: 0.47619047619047616 # sag : 0.47619047619047616"
   ]
  },
  {
   "cell_type": "code",
   "execution_count": null,
   "metadata": {},
   "outputs": [],
   "source": []
  },
  {
   "cell_type": "markdown",
   "metadata": {},
   "source": [
    "## Plotting for Presentation"
   ]
  },
  {
   "cell_type": "code",
   "execution_count": 554,
   "metadata": {},
   "outputs": [
    {
     "ename": "ValueError",
     "evalue": "Expected 2D array, got 1D array instead:\narray=[1.239  1.1861 1.2098 1.2403 1.1678 1.2215 1.1712 1.2252 1.1503].\nReshape your data either using array.reshape(-1, 1) if your data has a single feature or array.reshape(1, -1) if it contains a single sample.",
     "output_type": "error",
     "traceback": [
      "\u001b[1;31m---------------------------------------------------------------------------\u001b[0m",
      "\u001b[1;31mValueError\u001b[0m                                Traceback (most recent call last)",
      "\u001b[1;32m<ipython-input-554-7a2bfc646990>\u001b[0m in \u001b[0;36m<module>\u001b[1;34m()\u001b[0m\n\u001b[0;32m      1\u001b[0m \u001b[1;32mfrom\u001b[0m \u001b[0msklearn\u001b[0m\u001b[1;33m.\u001b[0m\u001b[0mpreprocessing\u001b[0m \u001b[1;32mimport\u001b[0m \u001b[0mscale\u001b[0m\u001b[1;33m,\u001b[0m \u001b[0mminmax_scale\u001b[0m\u001b[1;33m,\u001b[0m \u001b[0mMinMaxScaler\u001b[0m\u001b[1;33m\u001b[0m\u001b[0m\n\u001b[0;32m      2\u001b[0m \u001b[0mscaler\u001b[0m \u001b[1;33m=\u001b[0m \u001b[0mMinMaxScaler\u001b[0m\u001b[1;33m(\u001b[0m\u001b[1;33m)\u001b[0m\u001b[1;33m\u001b[0m\u001b[0m\n\u001b[1;32m----> 3\u001b[1;33m \u001b[0mscaler\u001b[0m\u001b[1;33m.\u001b[0m\u001b[0mfit_transform\u001b[0m\u001b[1;33m(\u001b[0m\u001b[0mdata\u001b[0m\u001b[1;33m[\u001b[0m\u001b[1;34m'15/16'\u001b[0m\u001b[1;33m]\u001b[0m\u001b[1;33m[\u001b[0m\u001b[1;34m'def'\u001b[0m\u001b[1;33m]\u001b[0m\u001b[1;33m)\u001b[0m\u001b[1;33m\u001b[0m\u001b[0m\n\u001b[0m\u001b[0;32m      4\u001b[0m \u001b[0mdata\u001b[0m\u001b[1;33m[\u001b[0m\u001b[1;34m'15/16'\u001b[0m\u001b[1;33m]\u001b[0m\u001b[1;33m[\u001b[0m\u001b[1;34m'def'\u001b[0m\u001b[1;33m]\u001b[0m \u001b[1;33m=\u001b[0m \u001b[0mscaler\u001b[0m\u001b[1;33m.\u001b[0m\u001b[0mtransform\u001b[0m\u001b[1;33m(\u001b[0m\u001b[0mdata\u001b[0m\u001b[1;33m[\u001b[0m\u001b[1;34m'15/16'\u001b[0m\u001b[1;33m]\u001b[0m\u001b[1;33m[\u001b[0m\u001b[1;34m'def'\u001b[0m\u001b[1;33m]\u001b[0m\u001b[1;33m)\u001b[0m\u001b[1;33m\u001b[0m\u001b[0m\n\u001b[0;32m      5\u001b[0m \u001b[0mdata\u001b[0m\u001b[1;33m[\u001b[0m\u001b[1;34m'15/16'\u001b[0m\u001b[1;33m]\u001b[0m\u001b[1;33m[\u001b[0m\u001b[1;34m'def'\u001b[0m\u001b[1;33m]\u001b[0m\u001b[1;33m\u001b[0m\u001b[0m\n",
      "\u001b[1;32m~\\Anaconda3\\lib\\site-packages\\sklearn\\base.py\u001b[0m in \u001b[0;36mfit_transform\u001b[1;34m(self, X, y, **fit_params)\u001b[0m\n\u001b[0;32m    515\u001b[0m         \u001b[1;32mif\u001b[0m \u001b[0my\u001b[0m \u001b[1;32mis\u001b[0m \u001b[1;32mNone\u001b[0m\u001b[1;33m:\u001b[0m\u001b[1;33m\u001b[0m\u001b[0m\n\u001b[0;32m    516\u001b[0m             \u001b[1;31m# fit method of arity 1 (unsupervised transformation)\u001b[0m\u001b[1;33m\u001b[0m\u001b[1;33m\u001b[0m\u001b[0m\n\u001b[1;32m--> 517\u001b[1;33m             \u001b[1;32mreturn\u001b[0m \u001b[0mself\u001b[0m\u001b[1;33m.\u001b[0m\u001b[0mfit\u001b[0m\u001b[1;33m(\u001b[0m\u001b[0mX\u001b[0m\u001b[1;33m,\u001b[0m \u001b[1;33m**\u001b[0m\u001b[0mfit_params\u001b[0m\u001b[1;33m)\u001b[0m\u001b[1;33m.\u001b[0m\u001b[0mtransform\u001b[0m\u001b[1;33m(\u001b[0m\u001b[0mX\u001b[0m\u001b[1;33m)\u001b[0m\u001b[1;33m\u001b[0m\u001b[0m\n\u001b[0m\u001b[0;32m    518\u001b[0m         \u001b[1;32melse\u001b[0m\u001b[1;33m:\u001b[0m\u001b[1;33m\u001b[0m\u001b[0m\n\u001b[0;32m    519\u001b[0m             \u001b[1;31m# fit method of arity 2 (supervised transformation)\u001b[0m\u001b[1;33m\u001b[0m\u001b[1;33m\u001b[0m\u001b[0m\n",
      "\u001b[1;32m~\\Anaconda3\\lib\\site-packages\\sklearn\\preprocessing\\data.py\u001b[0m in \u001b[0;36mfit\u001b[1;34m(self, X, y)\u001b[0m\n\u001b[0;32m    306\u001b[0m         \u001b[1;31m# Reset internal state before fitting\u001b[0m\u001b[1;33m\u001b[0m\u001b[1;33m\u001b[0m\u001b[0m\n\u001b[0;32m    307\u001b[0m         \u001b[0mself\u001b[0m\u001b[1;33m.\u001b[0m\u001b[0m_reset\u001b[0m\u001b[1;33m(\u001b[0m\u001b[1;33m)\u001b[0m\u001b[1;33m\u001b[0m\u001b[0m\n\u001b[1;32m--> 308\u001b[1;33m         \u001b[1;32mreturn\u001b[0m \u001b[0mself\u001b[0m\u001b[1;33m.\u001b[0m\u001b[0mpartial_fit\u001b[0m\u001b[1;33m(\u001b[0m\u001b[0mX\u001b[0m\u001b[1;33m,\u001b[0m \u001b[0my\u001b[0m\u001b[1;33m)\u001b[0m\u001b[1;33m\u001b[0m\u001b[0m\n\u001b[0m\u001b[0;32m    309\u001b[0m \u001b[1;33m\u001b[0m\u001b[0m\n\u001b[0;32m    310\u001b[0m     \u001b[1;32mdef\u001b[0m \u001b[0mpartial_fit\u001b[0m\u001b[1;33m(\u001b[0m\u001b[0mself\u001b[0m\u001b[1;33m,\u001b[0m \u001b[0mX\u001b[0m\u001b[1;33m,\u001b[0m \u001b[0my\u001b[0m\u001b[1;33m=\u001b[0m\u001b[1;32mNone\u001b[0m\u001b[1;33m)\u001b[0m\u001b[1;33m:\u001b[0m\u001b[1;33m\u001b[0m\u001b[0m\n",
      "\u001b[1;32m~\\Anaconda3\\lib\\site-packages\\sklearn\\preprocessing\\data.py\u001b[0m in \u001b[0;36mpartial_fit\u001b[1;34m(self, X, y)\u001b[0m\n\u001b[0;32m    332\u001b[0m \u001b[1;33m\u001b[0m\u001b[0m\n\u001b[0;32m    333\u001b[0m         X = check_array(X, copy=self.copy, warn_on_dtype=True,\n\u001b[1;32m--> 334\u001b[1;33m                         estimator=self, dtype=FLOAT_DTYPES)\n\u001b[0m\u001b[0;32m    335\u001b[0m \u001b[1;33m\u001b[0m\u001b[0m\n\u001b[0;32m    336\u001b[0m         \u001b[0mdata_min\u001b[0m \u001b[1;33m=\u001b[0m \u001b[0mnp\u001b[0m\u001b[1;33m.\u001b[0m\u001b[0mmin\u001b[0m\u001b[1;33m(\u001b[0m\u001b[0mX\u001b[0m\u001b[1;33m,\u001b[0m \u001b[0maxis\u001b[0m\u001b[1;33m=\u001b[0m\u001b[1;36m0\u001b[0m\u001b[1;33m)\u001b[0m\u001b[1;33m\u001b[0m\u001b[0m\n",
      "\u001b[1;32m~\\Anaconda3\\lib\\site-packages\\sklearn\\utils\\validation.py\u001b[0m in \u001b[0;36mcheck_array\u001b[1;34m(array, accept_sparse, dtype, order, copy, force_all_finite, ensure_2d, allow_nd, ensure_min_samples, ensure_min_features, warn_on_dtype, estimator)\u001b[0m\n\u001b[0;32m    439\u001b[0m                     \u001b[1;34m\"Reshape your data either using array.reshape(-1, 1) if \"\u001b[0m\u001b[1;33m\u001b[0m\u001b[0m\n\u001b[0;32m    440\u001b[0m                     \u001b[1;34m\"your data has a single feature or array.reshape(1, -1) \"\u001b[0m\u001b[1;33m\u001b[0m\u001b[0m\n\u001b[1;32m--> 441\u001b[1;33m                     \"if it contains a single sample.\".format(array))\n\u001b[0m\u001b[0;32m    442\u001b[0m             \u001b[0marray\u001b[0m \u001b[1;33m=\u001b[0m \u001b[0mnp\u001b[0m\u001b[1;33m.\u001b[0m\u001b[0matleast_2d\u001b[0m\u001b[1;33m(\u001b[0m\u001b[0marray\u001b[0m\u001b[1;33m)\u001b[0m\u001b[1;33m\u001b[0m\u001b[0m\n\u001b[0;32m    443\u001b[0m             \u001b[1;31m# To ensure that array flags are maintained\u001b[0m\u001b[1;33m\u001b[0m\u001b[1;33m\u001b[0m\u001b[0m\n",
      "\u001b[1;31mValueError\u001b[0m: Expected 2D array, got 1D array instead:\narray=[1.239  1.1861 1.2098 1.2403 1.1678 1.2215 1.1712 1.2252 1.1503].\nReshape your data either using array.reshape(-1, 1) if your data has a single feature or array.reshape(1, -1) if it contains a single sample."
     ]
    }
   ],
   "source": [
    "from sklearn.preprocessing import scale, minmax_scale, MinMaxScaler\n",
    "scaler = MinMaxScaler()\n",
    "scaler.fit_transform(data['15/16']['def'])\n",
    "data['15/16']['def'] = scaler.transform(data['15/16']['def'])\n",
    "data['15/16']['def'] "
   ]
  },
  {
   "cell_type": "code",
   "execution_count": 913,
   "metadata": {},
   "outputs": [
    {
     "name": "stderr",
     "output_type": "stream",
     "text": [
      "C:\\Users\\DELL\\Anaconda3\\lib\\site-packages\\ipykernel_launcher.py:5: SettingWithCopyWarning: \n",
      "A value is trying to be set on a copy of a slice from a DataFrame\n",
      "\n",
      "See the caveats in the documentation: http://pandas.pydata.org/pandas-docs/stable/indexing.html#indexing-view-versus-copy\n",
      "  \"\"\"\n"
     ]
    },
    {
     "data": {
      "text/plain": [
       "array([2.2094, 2.2337, 2.1666, 2.3014, 2.2013, 0.    , 2.0881, 2.3469,\n",
       "       0.    , 0.    , 2.3017, 0.    , 1.6804, 1.2925, 1.3555, 0.    ,\n",
       "       1.6804, 2.5205, 1.2305, 0.    , 0.    , 1.6804])"
      ]
     },
     "execution_count": 913,
     "metadata": {},
     "output_type": "execute_result"
    }
   ],
   "source": [
    "data = pd.read_csv(\"C:\\\\PythonProj\\\\csv_files\\\\df_stats.csv\", delimiter=',', sep=',', encoding='utf-8', index_col=0)\n",
    "\n",
    "position = ['def', 'fw', 'kp', 'mid', 'Mr.Son']\n",
    "for j in position:\n",
    "    data.loc[j]['15/16'] = ast.literal_eval(data.loc[j]['15/16'])\n",
    "    \n",
    "stats_1516 = np.hstack([ast.literal_eval(data.loc['def']['15/16']), ast.literal_eval(data.loc['fw']['15/16']), ast.literal_eval(data.loc['kp']['15/16']), ast.literal_eval(data.loc['Mr.Son']['15/16'])])\n",
    "# len(stats_1516)\n",
    "# data\n",
    "stats_1516"
   ]
  },
  {
   "cell_type": "code",
   "execution_count": 665,
   "metadata": {},
   "outputs": [
    {
     "name": "stderr",
     "output_type": "stream",
     "text": [
      "C:\\Users\\DELL\\Anaconda3\\lib\\site-packages\\ipykernel_launcher.py:12: SettingWithCopyWarning: \n",
      "A value is trying to be set on a copy of a slice from a DataFrame\n",
      "\n",
      "See the caveats in the documentation: http://pandas.pydata.org/pandas-docs/stable/indexing.html#indexing-view-versus-copy\n",
      "  if sys.path[0] == '':\n"
     ]
    },
    {
     "ename": "TypeError",
     "evalue": "cannot do label indexing on <class 'pandas.core.indexes.base.Index'> with these indexers [0] of <class 'int'>",
     "output_type": "error",
     "traceback": [
      "\u001b[1;31m---------------------------------------------------------------------------\u001b[0m",
      "\u001b[1;31mTypeError\u001b[0m                                 Traceback (most recent call last)",
      "\u001b[1;32m<ipython-input-665-2f59ae7dab30>\u001b[0m in \u001b[0;36m<module>\u001b[1;34m()\u001b[0m\n\u001b[0;32m     19\u001b[0m     \u001b[1;32mfor\u001b[0m \u001b[0mj\u001b[0m \u001b[1;32min\u001b[0m \u001b[0mposition\u001b[0m\u001b[1;33m:\u001b[0m\u001b[1;33m\u001b[0m\u001b[0m\n\u001b[0;32m     20\u001b[0m         \u001b[1;32mfor\u001b[0m \u001b[0mk\u001b[0m \u001b[1;32min\u001b[0m \u001b[0mrange\u001b[0m\u001b[1;33m(\u001b[0m\u001b[0mlen\u001b[0m\u001b[1;33m(\u001b[0m\u001b[0mdata\u001b[0m\u001b[1;33m[\u001b[0m\u001b[0mi\u001b[0m\u001b[1;33m]\u001b[0m\u001b[1;33m[\u001b[0m\u001b[0mj\u001b[0m\u001b[1;33m]\u001b[0m\u001b[1;33m)\u001b[0m\u001b[1;33m)\u001b[0m\u001b[1;33m:\u001b[0m\u001b[1;33m\u001b[0m\u001b[0m\n\u001b[1;32m---> 21\u001b[1;33m             \u001b[0mdf_stats_set\u001b[0m\u001b[1;33m.\u001b[0m\u001b[0mloc\u001b[0m\u001b[1;33m[\u001b[0m\u001b[0mk\u001b[0m\u001b[1;33m]\u001b[0m\u001b[1;33m[\u001b[0m\u001b[1;33m(\u001b[0m\u001b[0mi\u001b[0m\u001b[1;33m,\u001b[0m \u001b[0mj\u001b[0m\u001b[1;33m)\u001b[0m\u001b[1;33m]\u001b[0m \u001b[1;33m=\u001b[0m \u001b[0mdata\u001b[0m\u001b[1;33m.\u001b[0m\u001b[0mloc\u001b[0m\u001b[1;33m[\u001b[0m\u001b[0mj\u001b[0m\u001b[1;33m]\u001b[0m\u001b[1;33m[\u001b[0m\u001b[0mi\u001b[0m\u001b[1;33m]\u001b[0m\u001b[1;33m[\u001b[0m\u001b[0mk\u001b[0m\u001b[1;33m]\u001b[0m\u001b[1;33m\u001b[0m\u001b[0m\n\u001b[0m\u001b[0;32m     22\u001b[0m \u001b[1;33m\u001b[0m\u001b[0m\n\u001b[0;32m     23\u001b[0m \u001b[0mdf_stats_set\u001b[0m\u001b[1;33m.\u001b[0m\u001b[0mreplace\u001b[0m\u001b[1;33m(\u001b[0m\u001b[0mnp\u001b[0m\u001b[1;33m.\u001b[0m\u001b[0mnan\u001b[0m\u001b[1;33m,\u001b[0m \u001b[1;34m\" \"\u001b[0m\u001b[1;33m)\u001b[0m\u001b[1;33m\u001b[0m\u001b[0m\n",
      "\u001b[1;32m~\\AppData\\Roaming\\Python\\Python37\\site-packages\\pandas\\core\\indexing.py\u001b[0m in \u001b[0;36m__getitem__\u001b[1;34m(self, key)\u001b[0m\n\u001b[0;32m   1476\u001b[0m \u001b[1;33m\u001b[0m\u001b[0m\n\u001b[0;32m   1477\u001b[0m             \u001b[0mmaybe_callable\u001b[0m \u001b[1;33m=\u001b[0m \u001b[0mcom\u001b[0m\u001b[1;33m.\u001b[0m\u001b[0m_apply_if_callable\u001b[0m\u001b[1;33m(\u001b[0m\u001b[0mkey\u001b[0m\u001b[1;33m,\u001b[0m \u001b[0mself\u001b[0m\u001b[1;33m.\u001b[0m\u001b[0mobj\u001b[0m\u001b[1;33m)\u001b[0m\u001b[1;33m\u001b[0m\u001b[0m\n\u001b[1;32m-> 1478\u001b[1;33m             \u001b[1;32mreturn\u001b[0m \u001b[0mself\u001b[0m\u001b[1;33m.\u001b[0m\u001b[0m_getitem_axis\u001b[0m\u001b[1;33m(\u001b[0m\u001b[0mmaybe_callable\u001b[0m\u001b[1;33m,\u001b[0m \u001b[0maxis\u001b[0m\u001b[1;33m=\u001b[0m\u001b[0maxis\u001b[0m\u001b[1;33m)\u001b[0m\u001b[1;33m\u001b[0m\u001b[0m\n\u001b[0m\u001b[0;32m   1479\u001b[0m \u001b[1;33m\u001b[0m\u001b[0m\n\u001b[0;32m   1480\u001b[0m     \u001b[1;32mdef\u001b[0m \u001b[0m_is_scalar_access\u001b[0m\u001b[1;33m(\u001b[0m\u001b[0mself\u001b[0m\u001b[1;33m,\u001b[0m \u001b[0mkey\u001b[0m\u001b[1;33m)\u001b[0m\u001b[1;33m:\u001b[0m\u001b[1;33m\u001b[0m\u001b[0m\n",
      "\u001b[1;32m~\\AppData\\Roaming\\Python\\Python37\\site-packages\\pandas\\core\\indexing.py\u001b[0m in \u001b[0;36m_getitem_axis\u001b[1;34m(self, key, axis)\u001b[0m\n\u001b[0;32m   1909\u001b[0m \u001b[1;33m\u001b[0m\u001b[0m\n\u001b[0;32m   1910\u001b[0m         \u001b[1;31m# fall thru to straight lookup\u001b[0m\u001b[1;33m\u001b[0m\u001b[1;33m\u001b[0m\u001b[0m\n\u001b[1;32m-> 1911\u001b[1;33m         \u001b[0mself\u001b[0m\u001b[1;33m.\u001b[0m\u001b[0m_validate_key\u001b[0m\u001b[1;33m(\u001b[0m\u001b[0mkey\u001b[0m\u001b[1;33m,\u001b[0m \u001b[0maxis\u001b[0m\u001b[1;33m)\u001b[0m\u001b[1;33m\u001b[0m\u001b[0m\n\u001b[0m\u001b[0;32m   1912\u001b[0m         \u001b[1;32mreturn\u001b[0m \u001b[0mself\u001b[0m\u001b[1;33m.\u001b[0m\u001b[0m_get_label\u001b[0m\u001b[1;33m(\u001b[0m\u001b[0mkey\u001b[0m\u001b[1;33m,\u001b[0m \u001b[0maxis\u001b[0m\u001b[1;33m=\u001b[0m\u001b[0maxis\u001b[0m\u001b[1;33m)\u001b[0m\u001b[1;33m\u001b[0m\u001b[0m\n\u001b[0;32m   1913\u001b[0m \u001b[1;33m\u001b[0m\u001b[0m\n",
      "\u001b[1;32m~\\AppData\\Roaming\\Python\\Python37\\site-packages\\pandas\\core\\indexing.py\u001b[0m in \u001b[0;36m_validate_key\u001b[1;34m(self, key, axis)\u001b[0m\n\u001b[0;32m   1786\u001b[0m \u001b[1;33m\u001b[0m\u001b[0m\n\u001b[0;32m   1787\u001b[0m             \u001b[1;32mtry\u001b[0m\u001b[1;33m:\u001b[0m\u001b[1;33m\u001b[0m\u001b[0m\n\u001b[1;32m-> 1788\u001b[1;33m                 \u001b[0mkey\u001b[0m \u001b[1;33m=\u001b[0m \u001b[0mself\u001b[0m\u001b[1;33m.\u001b[0m\u001b[0m_convert_scalar_indexer\u001b[0m\u001b[1;33m(\u001b[0m\u001b[0mkey\u001b[0m\u001b[1;33m,\u001b[0m \u001b[0maxis\u001b[0m\u001b[1;33m)\u001b[0m\u001b[1;33m\u001b[0m\u001b[0m\n\u001b[0m\u001b[0;32m   1789\u001b[0m                 \u001b[1;32mif\u001b[0m \u001b[1;32mnot\u001b[0m \u001b[0max\u001b[0m\u001b[1;33m.\u001b[0m\u001b[0mcontains\u001b[0m\u001b[1;33m(\u001b[0m\u001b[0mkey\u001b[0m\u001b[1;33m)\u001b[0m\u001b[1;33m:\u001b[0m\u001b[1;33m\u001b[0m\u001b[0m\n\u001b[0;32m   1790\u001b[0m                     \u001b[0merror\u001b[0m\u001b[1;33m(\u001b[0m\u001b[1;33m)\u001b[0m\u001b[1;33m\u001b[0m\u001b[0m\n",
      "\u001b[1;32m~\\AppData\\Roaming\\Python\\Python37\\site-packages\\pandas\\core\\indexing.py\u001b[0m in \u001b[0;36m_convert_scalar_indexer\u001b[1;34m(self, key, axis)\u001b[0m\n\u001b[0;32m    259\u001b[0m         \u001b[0max\u001b[0m \u001b[1;33m=\u001b[0m \u001b[0mself\u001b[0m\u001b[1;33m.\u001b[0m\u001b[0mobj\u001b[0m\u001b[1;33m.\u001b[0m\u001b[0m_get_axis\u001b[0m\u001b[1;33m(\u001b[0m\u001b[0mmin\u001b[0m\u001b[1;33m(\u001b[0m\u001b[0maxis\u001b[0m\u001b[1;33m,\u001b[0m \u001b[0mself\u001b[0m\u001b[1;33m.\u001b[0m\u001b[0mndim\u001b[0m \u001b[1;33m-\u001b[0m \u001b[1;36m1\u001b[0m\u001b[1;33m)\u001b[0m\u001b[1;33m)\u001b[0m\u001b[1;33m\u001b[0m\u001b[0m\n\u001b[0;32m    260\u001b[0m         \u001b[1;31m# a scalar\u001b[0m\u001b[1;33m\u001b[0m\u001b[1;33m\u001b[0m\u001b[0m\n\u001b[1;32m--> 261\u001b[1;33m         \u001b[1;32mreturn\u001b[0m \u001b[0max\u001b[0m\u001b[1;33m.\u001b[0m\u001b[0m_convert_scalar_indexer\u001b[0m\u001b[1;33m(\u001b[0m\u001b[0mkey\u001b[0m\u001b[1;33m,\u001b[0m \u001b[0mkind\u001b[0m\u001b[1;33m=\u001b[0m\u001b[0mself\u001b[0m\u001b[1;33m.\u001b[0m\u001b[0mname\u001b[0m\u001b[1;33m)\u001b[0m\u001b[1;33m\u001b[0m\u001b[0m\n\u001b[0m\u001b[0;32m    262\u001b[0m \u001b[1;33m\u001b[0m\u001b[0m\n\u001b[0;32m    263\u001b[0m     \u001b[1;32mdef\u001b[0m \u001b[0m_convert_slice_indexer\u001b[0m\u001b[1;33m(\u001b[0m\u001b[0mself\u001b[0m\u001b[1;33m,\u001b[0m \u001b[0mkey\u001b[0m\u001b[1;33m,\u001b[0m \u001b[0maxis\u001b[0m\u001b[1;33m)\u001b[0m\u001b[1;33m:\u001b[0m\u001b[1;33m\u001b[0m\u001b[0m\n",
      "\u001b[1;32m~\\AppData\\Roaming\\Python\\Python37\\site-packages\\pandas\\core\\indexes\\base.py\u001b[0m in \u001b[0;36m_convert_scalar_indexer\u001b[1;34m(self, key, kind)\u001b[0m\n\u001b[0;32m   1677\u001b[0m             \u001b[1;32melif\u001b[0m \u001b[0mkind\u001b[0m \u001b[1;32min\u001b[0m \u001b[1;33m[\u001b[0m\u001b[1;34m'loc'\u001b[0m\u001b[1;33m]\u001b[0m \u001b[1;32mand\u001b[0m \u001b[0mis_integer\u001b[0m\u001b[1;33m(\u001b[0m\u001b[0mkey\u001b[0m\u001b[1;33m)\u001b[0m\u001b[1;33m:\u001b[0m\u001b[1;33m\u001b[0m\u001b[0m\n\u001b[0;32m   1678\u001b[0m                 \u001b[1;32mif\u001b[0m \u001b[1;32mnot\u001b[0m \u001b[0mself\u001b[0m\u001b[1;33m.\u001b[0m\u001b[0mholds_integer\u001b[0m\u001b[1;33m(\u001b[0m\u001b[1;33m)\u001b[0m\u001b[1;33m:\u001b[0m\u001b[1;33m\u001b[0m\u001b[0m\n\u001b[1;32m-> 1679\u001b[1;33m                     \u001b[1;32mreturn\u001b[0m \u001b[0mself\u001b[0m\u001b[1;33m.\u001b[0m\u001b[0m_invalid_indexer\u001b[0m\u001b[1;33m(\u001b[0m\u001b[1;34m'label'\u001b[0m\u001b[1;33m,\u001b[0m \u001b[0mkey\u001b[0m\u001b[1;33m)\u001b[0m\u001b[1;33m\u001b[0m\u001b[0m\n\u001b[0m\u001b[0;32m   1680\u001b[0m \u001b[1;33m\u001b[0m\u001b[0m\n\u001b[0;32m   1681\u001b[0m         \u001b[1;32mreturn\u001b[0m \u001b[0mkey\u001b[0m\u001b[1;33m\u001b[0m\u001b[0m\n",
      "\u001b[1;32m~\\AppData\\Roaming\\Python\\Python37\\site-packages\\pandas\\core\\indexes\\base.py\u001b[0m in \u001b[0;36m_invalid_indexer\u001b[1;34m(self, form, key)\u001b[0m\n\u001b[0;32m   1861\u001b[0m                         \"indexers [{key}] of {kind}\".format(\n\u001b[0;32m   1862\u001b[0m                             \u001b[0mform\u001b[0m\u001b[1;33m=\u001b[0m\u001b[0mform\u001b[0m\u001b[1;33m,\u001b[0m \u001b[0mklass\u001b[0m\u001b[1;33m=\u001b[0m\u001b[0mtype\u001b[0m\u001b[1;33m(\u001b[0m\u001b[0mself\u001b[0m\u001b[1;33m)\u001b[0m\u001b[1;33m,\u001b[0m \u001b[0mkey\u001b[0m\u001b[1;33m=\u001b[0m\u001b[0mkey\u001b[0m\u001b[1;33m,\u001b[0m\u001b[1;33m\u001b[0m\u001b[0m\n\u001b[1;32m-> 1863\u001b[1;33m                             kind=type(key)))\n\u001b[0m\u001b[0;32m   1864\u001b[0m \u001b[1;33m\u001b[0m\u001b[0m\n\u001b[0;32m   1865\u001b[0m     \u001b[1;32mdef\u001b[0m \u001b[0mget_duplicates\u001b[0m\u001b[1;33m(\u001b[0m\u001b[0mself\u001b[0m\u001b[1;33m)\u001b[0m\u001b[1;33m:\u001b[0m\u001b[1;33m\u001b[0m\u001b[0m\n",
      "\u001b[1;31mTypeError\u001b[0m: cannot do label indexing on <class 'pandas.core.indexes.base.Index'> with these indexers [0] of <class 'int'>"
     ]
    }
   ],
   "source": [
    "col_tot = np.hstack([['15/16']*5,['16/17']*5,['17/18']*5,['18/19']*5])\n",
    "col_sub = np.hstack(['def', 'fw', 'kp', 'mid', 'Mr.Son']*4)\n",
    "season = ['15/16', '16/17', '17/18', '18/19']\n",
    "position = ['def', 'fw', 'kp', 'mid', 'Mr.Son']\n",
    "\n",
    "data = pd.read_csv(\"C:\\\\PythonProj\\\\csv_files\\\\df_stats.csv\", delimiter=',', sep=',', encoding='utf-8', index_col=0)\n",
    "data\n",
    "# data 내부 list 파싱\n",
    "import ast\n",
    "# for i in season:\n",
    "for j in position:\n",
    "    data.loc[j]['15/16'] = ast.literal_eval(data.loc[j]['15/16'])\n",
    "\n",
    "\n",
    "df_stats_set = pd.DataFrame(data, columns=[col_tot, col_sub])\n",
    "df_stats_set\n",
    "df_stats_set.columns.names = [\"Season\", \"Position\"]\n",
    "for i in season:\n",
    "    for j in position:\n",
    "        for k in range(len(data[i][j])):\n",
    "            df_stats_set.loc[k][(i, j)] = data.loc[j][i][k]\n",
    "\n",
    "df_stats_set.replace(np.nan, \" \")\n",
    "# # df_stats_set.replace(\" \", np.nan)\n",
    "df_stats_set"
   ]
  },
  {
   "cell_type": "code",
   "execution_count": 614,
   "metadata": {},
   "outputs": [
    {
     "data": {
      "text/plain": [
       "array([1.239 , 1.1861, 1.2098, 1.2403, 1.1678, 1.2215, 1.1712, 1.2252,\n",
       "       1.1503, 2.3564, 1.9179, 2.3564, 1.9761, 1.9181, 1.9164, 1.2151,\n",
       "       1.3429, 1.2219, 1.3489, 1.1712, 1.2119, 1.0759])"
      ]
     },
     "execution_count": 614,
     "metadata": {},
     "output_type": "execute_result"
    }
   ],
   "source": [
    "stats_1516"
   ]
  },
  {
   "cell_type": "code",
   "execution_count": 540,
   "metadata": {},
   "outputs": [
    {
     "data": {
      "text/html": [
       "<div>\n",
       "<style scoped>\n",
       "    .dataframe tbody tr th:only-of-type {\n",
       "        vertical-align: middle;\n",
       "    }\n",
       "\n",
       "    .dataframe tbody tr th {\n",
       "        vertical-align: top;\n",
       "    }\n",
       "\n",
       "    .dataframe thead th {\n",
       "        text-align: right;\n",
       "    }\n",
       "</style>\n",
       "<table border=\"1\" class=\"dataframe\">\n",
       "  <thead>\n",
       "    <tr style=\"text-align: right;\">\n",
       "      <th></th>\n",
       "      <th>Name</th>\n",
       "      <th>Position</th>\n",
       "      <th>id</th>\n",
       "      <th>link</th>\n",
       "      <th>Clean sheets</th>\n",
       "      <th>Goals conceded</th>\n",
       "      <th>Tackles</th>\n",
       "      <th>Tackle success %</th>\n",
       "      <th>Last man tackles</th>\n",
       "      <th>Blocked shots</th>\n",
       "      <th>...</th>\n",
       "      <th>Accurate long balls</th>\n",
       "      <th>Yellow cards</th>\n",
       "      <th>Red cards</th>\n",
       "      <th>Fouls</th>\n",
       "      <th>Offsides</th>\n",
       "      <th>Goals</th>\n",
       "      <th>Headed goals</th>\n",
       "      <th>Goals with right foot</th>\n",
       "      <th>Goals with left foot</th>\n",
       "      <th>Hit woodwork</th>\n",
       "    </tr>\n",
       "  </thead>\n",
       "  <tbody>\n",
       "    <tr>\n",
       "      <th>0</th>\n",
       "      <td>Kyle-Walker</td>\n",
       "      <td>Defender</td>\n",
       "      <td>3955</td>\n",
       "      <td>https://www.premierleague.com/players/3955/Kyl...</td>\n",
       "      <td>12</td>\n",
       "      <td>28</td>\n",
       "      <td>87</td>\n",
       "      <td>82</td>\n",
       "      <td>0</td>\n",
       "      <td>8</td>\n",
       "      <td>...</td>\n",
       "      <td>77</td>\n",
       "      <td>7</td>\n",
       "      <td>0</td>\n",
       "      <td>29</td>\n",
       "      <td>3</td>\n",
       "      <td>1</td>\n",
       "      <td>0</td>\n",
       "      <td>1</td>\n",
       "      <td>0</td>\n",
       "      <td>0</td>\n",
       "    </tr>\n",
       "    <tr>\n",
       "      <th>1</th>\n",
       "      <td>Danny-Rose</td>\n",
       "      <td>Defender</td>\n",
       "      <td>3507</td>\n",
       "      <td>https://www.premierleague.com/players/3507/Dan...</td>\n",
       "      <td>8</td>\n",
       "      <td>19</td>\n",
       "      <td>67</td>\n",
       "      <td>84</td>\n",
       "      <td>0</td>\n",
       "      <td>8</td>\n",
       "      <td>...</td>\n",
       "      <td>49</td>\n",
       "      <td>7</td>\n",
       "      <td>0</td>\n",
       "      <td>41</td>\n",
       "      <td>1</td>\n",
       "      <td>1</td>\n",
       "      <td>0</td>\n",
       "      <td>0</td>\n",
       "      <td>1</td>\n",
       "      <td>0</td>\n",
       "    </tr>\n",
       "    <tr>\n",
       "      <th>2</th>\n",
       "      <td>Toby-Alderweireld</td>\n",
       "      <td>Defender</td>\n",
       "      <td>4916</td>\n",
       "      <td>https://www.premierleague.com/players/4916/Tob...</td>\n",
       "      <td>13</td>\n",
       "      <td>35</td>\n",
       "      <td>45</td>\n",
       "      <td>71</td>\n",
       "      <td>0</td>\n",
       "      <td>8</td>\n",
       "      <td>...</td>\n",
       "      <td>238</td>\n",
       "      <td>3</td>\n",
       "      <td>0</td>\n",
       "      <td>9</td>\n",
       "      <td>1</td>\n",
       "      <td>4</td>\n",
       "      <td>3</td>\n",
       "      <td>0</td>\n",
       "      <td>1</td>\n",
       "      <td>0</td>\n",
       "    </tr>\n",
       "    <tr>\n",
       "      <th>3</th>\n",
       "      <td>Jan-Vertonghen</td>\n",
       "      <td>Defender</td>\n",
       "      <td>4666</td>\n",
       "      <td>https://www.premierleague.com/players/4666/Jan...</td>\n",
       "      <td>9</td>\n",
       "      <td>29</td>\n",
       "      <td>48</td>\n",
       "      <td>75</td>\n",
       "      <td>0</td>\n",
       "      <td>4</td>\n",
       "      <td>...</td>\n",
       "      <td>102</td>\n",
       "      <td>5</td>\n",
       "      <td>0</td>\n",
       "      <td>17</td>\n",
       "      <td>0</td>\n",
       "      <td>0</td>\n",
       "      <td>0</td>\n",
       "      <td>0</td>\n",
       "      <td>0</td>\n",
       "      <td>0</td>\n",
       "    </tr>\n",
       "    <tr>\n",
       "      <th>4</th>\n",
       "      <td>Kieran-Trippier</td>\n",
       "      <td>Defender</td>\n",
       "      <td>3905</td>\n",
       "      <td>https://www.premierleague.com/players/3905/Kie...</td>\n",
       "      <td>1</td>\n",
       "      <td>4</td>\n",
       "      <td>14</td>\n",
       "      <td>86</td>\n",
       "      <td>0</td>\n",
       "      <td>0</td>\n",
       "      <td>...</td>\n",
       "      <td>11</td>\n",
       "      <td>1</td>\n",
       "      <td>0</td>\n",
       "      <td>3</td>\n",
       "      <td>0</td>\n",
       "      <td>1</td>\n",
       "      <td>0</td>\n",
       "      <td>1</td>\n",
       "      <td>0</td>\n",
       "      <td>0</td>\n",
       "    </tr>\n",
       "    <tr>\n",
       "      <th>5</th>\n",
       "      <td>Federico-Fazio</td>\n",
       "      <td>Defender</td>\n",
       "      <td>7215</td>\n",
       "      <td>https://www.premierleague.com/players/7215/Fed...</td>\n",
       "      <td>0</td>\n",
       "      <td>0</td>\n",
       "      <td>0</td>\n",
       "      <td>0</td>\n",
       "      <td>0</td>\n",
       "      <td>0</td>\n",
       "      <td>...</td>\n",
       "      <td>0</td>\n",
       "      <td>0</td>\n",
       "      <td>0</td>\n",
       "      <td>0</td>\n",
       "      <td>0</td>\n",
       "      <td>0</td>\n",
       "      <td>0</td>\n",
       "      <td>0</td>\n",
       "      <td>0</td>\n",
       "      <td>0</td>\n",
       "    </tr>\n",
       "    <tr>\n",
       "      <th>6</th>\n",
       "      <td>Kevin-Wimmer</td>\n",
       "      <td>Defender</td>\n",
       "      <td>13813</td>\n",
       "      <td>https://www.premierleague.com/players/13813/Ke...</td>\n",
       "      <td>4</td>\n",
       "      <td>6</td>\n",
       "      <td>5</td>\n",
       "      <td>60</td>\n",
       "      <td>0</td>\n",
       "      <td>0</td>\n",
       "      <td>...</td>\n",
       "      <td>46</td>\n",
       "      <td>2</td>\n",
       "      <td>0</td>\n",
       "      <td>12</td>\n",
       "      <td>0</td>\n",
       "      <td>0</td>\n",
       "      <td>0</td>\n",
       "      <td>0</td>\n",
       "      <td>0</td>\n",
       "      <td>0</td>\n",
       "    </tr>\n",
       "    <tr>\n",
       "      <th>7</th>\n",
       "      <td>Ben-Davies</td>\n",
       "      <td>Defender</td>\n",
       "      <td>4408</td>\n",
       "      <td>https://www.premierleague.com/players/4408/Ben...</td>\n",
       "      <td>5</td>\n",
       "      <td>16</td>\n",
       "      <td>32</td>\n",
       "      <td>69</td>\n",
       "      <td>0</td>\n",
       "      <td>3</td>\n",
       "      <td>...</td>\n",
       "      <td>26</td>\n",
       "      <td>3</td>\n",
       "      <td>0</td>\n",
       "      <td>16</td>\n",
       "      <td>0</td>\n",
       "      <td>0</td>\n",
       "      <td>0</td>\n",
       "      <td>0</td>\n",
       "      <td>0</td>\n",
       "      <td>1</td>\n",
       "    </tr>\n",
       "    <tr>\n",
       "      <th>8</th>\n",
       "      <td>Cameron-Carter-Vickers</td>\n",
       "      <td>Defender</td>\n",
       "      <td>13814</td>\n",
       "      <td>https://www.premierleague.com/players/13814/Ca...</td>\n",
       "      <td>0</td>\n",
       "      <td>0</td>\n",
       "      <td>0</td>\n",
       "      <td>0</td>\n",
       "      <td>0</td>\n",
       "      <td>0</td>\n",
       "      <td>...</td>\n",
       "      <td>0</td>\n",
       "      <td>0</td>\n",
       "      <td>0</td>\n",
       "      <td>0</td>\n",
       "      <td>0</td>\n",
       "      <td>0</td>\n",
       "      <td>0</td>\n",
       "      <td>0</td>\n",
       "      <td>0</td>\n",
       "      <td>0</td>\n",
       "    </tr>\n",
       "    <tr>\n",
       "      <th>9</th>\n",
       "      <td>Kyle-Walker-Peters</td>\n",
       "      <td>Defender</td>\n",
       "      <td>13815</td>\n",
       "      <td>https://www.premierleague.com/players/13815/Ky...</td>\n",
       "      <td>0</td>\n",
       "      <td>0</td>\n",
       "      <td>0</td>\n",
       "      <td>0</td>\n",
       "      <td>0</td>\n",
       "      <td>0</td>\n",
       "      <td>...</td>\n",
       "      <td>0</td>\n",
       "      <td>0</td>\n",
       "      <td>0</td>\n",
       "      <td>0</td>\n",
       "      <td>0</td>\n",
       "      <td>0</td>\n",
       "      <td>0</td>\n",
       "      <td>0</td>\n",
       "      <td>0</td>\n",
       "      <td>0</td>\n",
       "    </tr>\n",
       "    <tr>\n",
       "      <th>10</th>\n",
       "      <td>DeAndre-Yedlin</td>\n",
       "      <td>Defender</td>\n",
       "      <td>10522</td>\n",
       "      <td>https://www.premierleague.com/players/10522/De...</td>\n",
       "      <td>6</td>\n",
       "      <td>26</td>\n",
       "      <td>39</td>\n",
       "      <td>74</td>\n",
       "      <td>0</td>\n",
       "      <td>0</td>\n",
       "      <td>...</td>\n",
       "      <td>21</td>\n",
       "      <td>2</td>\n",
       "      <td>0</td>\n",
       "      <td>21</td>\n",
       "      <td>0</td>\n",
       "      <td>0</td>\n",
       "      <td>0</td>\n",
       "      <td>0</td>\n",
       "      <td>0</td>\n",
       "      <td>0</td>\n",
       "    </tr>\n",
       "    <tr>\n",
       "      <th>11</th>\n",
       "      <td>Dominic-Ball</td>\n",
       "      <td>Defender</td>\n",
       "      <td>7485</td>\n",
       "      <td>https://www.premierleague.com/players/7485/Dom...</td>\n",
       "      <td>0</td>\n",
       "      <td>0</td>\n",
       "      <td>0</td>\n",
       "      <td>0</td>\n",
       "      <td>0</td>\n",
       "      <td>0</td>\n",
       "      <td>...</td>\n",
       "      <td>0</td>\n",
       "      <td>0</td>\n",
       "      <td>0</td>\n",
       "      <td>0</td>\n",
       "      <td>0</td>\n",
       "      <td>0</td>\n",
       "      <td>0</td>\n",
       "      <td>0</td>\n",
       "      <td>0</td>\n",
       "      <td>0</td>\n",
       "    </tr>\n",
       "  </tbody>\n",
       "</table>\n",
       "<p>12 rows × 39 columns</p>\n",
       "</div>"
      ],
      "text/plain": [
       "                      Name  Position     id  \\\n",
       "0              Kyle-Walker  Defender   3955   \n",
       "1               Danny-Rose  Defender   3507   \n",
       "2        Toby-Alderweireld  Defender   4916   \n",
       "3           Jan-Vertonghen  Defender   4666   \n",
       "4          Kieran-Trippier  Defender   3905   \n",
       "5           Federico-Fazio  Defender   7215   \n",
       "6             Kevin-Wimmer  Defender  13813   \n",
       "7               Ben-Davies  Defender   4408   \n",
       "8   Cameron-Carter-Vickers  Defender  13814   \n",
       "9       Kyle-Walker-Peters  Defender  13815   \n",
       "10          DeAndre-Yedlin  Defender  10522   \n",
       "11            Dominic-Ball  Defender   7485   \n",
       "\n",
       "                                                 link  Clean sheets  \\\n",
       "0   https://www.premierleague.com/players/3955/Kyl...            12   \n",
       "1   https://www.premierleague.com/players/3507/Dan...             8   \n",
       "2   https://www.premierleague.com/players/4916/Tob...            13   \n",
       "3   https://www.premierleague.com/players/4666/Jan...             9   \n",
       "4   https://www.premierleague.com/players/3905/Kie...             1   \n",
       "5   https://www.premierleague.com/players/7215/Fed...             0   \n",
       "6   https://www.premierleague.com/players/13813/Ke...             4   \n",
       "7   https://www.premierleague.com/players/4408/Ben...             5   \n",
       "8   https://www.premierleague.com/players/13814/Ca...             0   \n",
       "9   https://www.premierleague.com/players/13815/Ky...             0   \n",
       "10  https://www.premierleague.com/players/10522/De...             6   \n",
       "11  https://www.premierleague.com/players/7485/Dom...             0   \n",
       "\n",
       "    Goals conceded  Tackles  Tackle success %  Last man tackles  \\\n",
       "0               28       87                82                 0   \n",
       "1               19       67                84                 0   \n",
       "2               35       45                71                 0   \n",
       "3               29       48                75                 0   \n",
       "4                4       14                86                 0   \n",
       "5                0        0                 0                 0   \n",
       "6                6        5                60                 0   \n",
       "7               16       32                69                 0   \n",
       "8                0        0                 0                 0   \n",
       "9                0        0                 0                 0   \n",
       "10              26       39                74                 0   \n",
       "11               0        0                 0                 0   \n",
       "\n",
       "    Blocked shots      ...       Accurate long balls  Yellow cards  Red cards  \\\n",
       "0               8      ...                        77             7          0   \n",
       "1               8      ...                        49             7          0   \n",
       "2               8      ...                       238             3          0   \n",
       "3               4      ...                       102             5          0   \n",
       "4               0      ...                        11             1          0   \n",
       "5               0      ...                         0             0          0   \n",
       "6               0      ...                        46             2          0   \n",
       "7               3      ...                        26             3          0   \n",
       "8               0      ...                         0             0          0   \n",
       "9               0      ...                         0             0          0   \n",
       "10              0      ...                        21             2          0   \n",
       "11              0      ...                         0             0          0   \n",
       "\n",
       "    Fouls  Offsides  Goals  Headed goals  Goals with right foot  \\\n",
       "0      29         3      1             0                      1   \n",
       "1      41         1      1             0                      0   \n",
       "2       9         1      4             3                      0   \n",
       "3      17         0      0             0                      0   \n",
       "4       3         0      1             0                      1   \n",
       "5       0         0      0             0                      0   \n",
       "6      12         0      0             0                      0   \n",
       "7      16         0      0             0                      0   \n",
       "8       0         0      0             0                      0   \n",
       "9       0         0      0             0                      0   \n",
       "10     21         0      0             0                      0   \n",
       "11      0         0      0             0                      0   \n",
       "\n",
       "    Goals with left foot  Hit woodwork  \n",
       "0                      0             0  \n",
       "1                      1             0  \n",
       "2                      1             0  \n",
       "3                      0             0  \n",
       "4                      0             0  \n",
       "5                      0             0  \n",
       "6                      0             0  \n",
       "7                      0             1  \n",
       "8                      0             0  \n",
       "9                      0             0  \n",
       "10                     0             0  \n",
       "11                     0             0  \n",
       "\n",
       "[12 rows x 39 columns]"
      ]
     },
     "execution_count": 540,
     "metadata": {},
     "output_type": "execute_result"
    }
   ],
   "source": [
    "stats_def"
   ]
  },
  {
   "cell_type": "code",
   "execution_count": null,
   "metadata": {},
   "outputs": [],
   "source": []
  },
  {
   "cell_type": "code",
   "execution_count": 476,
   "metadata": {},
   "outputs": [
    {
     "data": {
      "text/plain": [
       "array(['Kyle-Walker', 'Danny-Rose', 'Toby-Alderweireld', 'Jan-Vertonghen',\n",
       "       'Kieran-Trippier', 'Federico-Fazio', 'Kevin-Wimmer', 'Ben-Davies',\n",
       "       'Cameron-Carter-Vickers', 'Kyle-Walker-Peters', 'DeAndre-Yedlin',\n",
       "       'Dominic-Ball', 'Son-Heung-Min', 'Harry-Kane', \"Clinton-N'Jie\",\n",
       "       'Emmanuel-Adebayor', 'Roberto-Soldado', 'Hugo-Lloris',\n",
       "       'Michel-Vorm', 'Luke-McGee', 'Tom-Glover', 'Nabil-Bentaleb',\n",
       "       'Ryan-Mason', 'Erik-Lamela', 'Eric-Dier', 'Mousa-Dembele',\n",
       "       'Dele-Alli', 'Nacer-Chadli', 'Christian-Eriksen', 'Josh-Onomah',\n",
       "       'Tom-Carroll', 'Harry-Winks', 'Alex-Pritchard', 'Andros-Townsend',\n",
       "       'Aaron-Lennon'], dtype=object)"
      ]
     },
     "execution_count": 476,
     "metadata": {},
     "output_type": "execute_result"
    }
   ],
   "source": [
    "names_1516 # len : 35"
   ]
  },
  {
   "cell_type": "markdown",
   "metadata": {},
   "source": [
    "## Plotting for Application"
   ]
  },
  {
   "cell_type": "code",
   "execution_count": 599,
   "metadata": {},
   "outputs": [
    {
     "data": {
      "text/plain": [
       "array([1.239 , 1.1861, 1.2098, 1.2403, 1.1678, 1.2215, 1.1712, 1.2252,\n",
       "       1.1503,    nan, 2.3564, 1.9179, 2.3564,    nan,    nan,    nan,\n",
       "          nan,    nan,    nan,    nan, 1.9761, 1.9181, 1.9164,    nan,\n",
       "          nan,    nan,    nan,    nan,    nan,    nan, 1.2151, 1.3429,\n",
       "       1.2219, 1.3489, 1.1712, 1.2119, 1.0759,    nan,    nan,    nan])"
      ]
     },
     "execution_count": 599,
     "metadata": {},
     "output_type": "execute_result"
    }
   ],
   "source": [
    "df_stats_set.replace(\" \", \"\")"
   ]
  },
  {
   "cell_type": "code",
   "execution_count": 601,
   "metadata": {},
   "outputs": [
    {
     "ename": "SyntaxError",
     "evalue": "invalid syntax (<ipython-input-601-cabf14c619e2>, line 8)",
     "output_type": "error",
     "traceback": [
      "\u001b[1;36m  File \u001b[1;32m\"<ipython-input-601-cabf14c619e2>\"\u001b[1;36m, line \u001b[1;32m8\u001b[0m\n\u001b[1;33m    df_stats_stacked[j].append(a).reset_index(drop=True)\u001b[0m\n\u001b[1;37m                   ^\u001b[0m\n\u001b[1;31mSyntaxError\u001b[0m\u001b[1;31m:\u001b[0m invalid syntax\n"
     ]
    }
   ],
   "source": [
    "df_stats_stacked = pd.DataFrame(columns=position)\n",
    "\n",
    "for j in position:\n",
    "    df_stats_stacked[j] = 0\n",
    "    for i in season:\n",
    "#         for k in range(len(df_stats_set[(i, j)])):\n",
    "        a = pd.Series(df_stats_set[(i, j)]\n",
    "        df_stats_stacked[j].append(a).reset_index(drop=True)\n",
    "\n",
    "# np.vstack[df_stats_set['15/16'], df_stats_set['16/17'], df_stats_set['17/18'], df_stats_set['18/19']]\n",
    "df_stats_stacked"
   ]
  },
  {
   "cell_type": "code",
   "execution_count": 568,
   "metadata": {
    "scrolled": true
   },
   "outputs": [],
   "source": [
    "# # 혹시 stat없는사람 있는지 조회하기\n",
    "# # for k in member_df_1516:\n",
    "# for i in (member_df_1516.loc[1])[1:]:\n",
    "#     i = i.replace(\" \", \"-\")\n",
    "# #     for j in range(1, len(i)):\n",
    "#     if i not in names_1516:\n",
    "#         print(i)\n",
    "        \n",
    "        \n",
    "# for i in names_1516:\n",
    "     \n",
    "#     for j in (member_df_1516.loc[1])[1:]:\n",
    "#         j = j.replace(\" \", \"-\")\n",
    "#         if i not in member_df_1516:\n",
    "#             print(j)"
   ]
  },
  {
   "cell_type": "code",
   "execution_count": 569,
   "metadata": {},
   "outputs": [
    {
     "data": {
      "text/plain": [
       "22"
      ]
     },
     "execution_count": 569,
     "metadata": {},
     "output_type": "execute_result"
    }
   ],
   "source": [
    "names_map = list(range(1, 36))\n",
    "len(stats_1516)"
   ]
  },
  {
   "cell_type": "code",
   "execution_count": 570,
   "metadata": {
    "scrolled": true
   },
   "outputs": [
    {
     "data": {
      "text/html": [
       "<div>\n",
       "<style scoped>\n",
       "    .dataframe tbody tr th:only-of-type {\n",
       "        vertical-align: middle;\n",
       "    }\n",
       "\n",
       "    .dataframe tbody tr th {\n",
       "        vertical-align: top;\n",
       "    }\n",
       "\n",
       "    .dataframe thead th {\n",
       "        text-align: right;\n",
       "    }\n",
       "</style>\n",
       "<table border=\"1\" class=\"dataframe\">\n",
       "  <thead>\n",
       "    <tr style=\"text-align: right;\">\n",
       "      <th></th>\n",
       "      <th>1</th>\n",
       "      <th>2</th>\n",
       "      <th>3</th>\n",
       "      <th>4</th>\n",
       "      <th>5</th>\n",
       "      <th>6</th>\n",
       "      <th>7</th>\n",
       "      <th>8</th>\n",
       "      <th>9</th>\n",
       "      <th>10</th>\n",
       "      <th>11</th>\n",
       "      <th>12</th>\n",
       "      <th>13</th>\n",
       "      <th>14</th>\n",
       "      <th>15</th>\n",
       "      <th>16</th>\n",
       "      <th>17</th>\n",
       "      <th>18</th>\n",
       "    </tr>\n",
       "    <tr>\n",
       "      <th>0</th>\n",
       "      <th></th>\n",
       "      <th></th>\n",
       "      <th></th>\n",
       "      <th></th>\n",
       "      <th></th>\n",
       "      <th></th>\n",
       "      <th></th>\n",
       "      <th></th>\n",
       "      <th></th>\n",
       "      <th></th>\n",
       "      <th></th>\n",
       "      <th></th>\n",
       "      <th></th>\n",
       "      <th></th>\n",
       "      <th></th>\n",
       "      <th></th>\n",
       "      <th></th>\n",
       "      <th></th>\n",
       "    </tr>\n",
       "  </thead>\n",
       "  <tbody>\n",
       "    <tr>\n",
       "      <th>NaN</th>\n",
       "      <td>1</td>\n",
       "      <td>2</td>\n",
       "      <td>3</td>\n",
       "      <td>4</td>\n",
       "      <td>5</td>\n",
       "      <td>6</td>\n",
       "      <td>7</td>\n",
       "      <td>8</td>\n",
       "      <td>9</td>\n",
       "      <td>10</td>\n",
       "      <td>11</td>\n",
       "      <td>12</td>\n",
       "      <td>13</td>\n",
       "      <td>14</td>\n",
       "      <td>15</td>\n",
       "      <td>16</td>\n",
       "      <td>17</td>\n",
       "      <td>18</td>\n",
       "    </tr>\n",
       "    <tr>\n",
       "      <th>1</th>\n",
       "      <td>Hugo Lloris</td>\n",
       "      <td>Ben Davies</td>\n",
       "      <td>Jan Vertonghen</td>\n",
       "      <td>Toby Alderweireld</td>\n",
       "      <td>Kyle Walker</td>\n",
       "      <td>Son Heung-Min</td>\n",
       "      <td>Erik Lamela</td>\n",
       "      <td>Christian Eriksen</td>\n",
       "      <td>Ryan Mason</td>\n",
       "      <td>Eric Dier</td>\n",
       "      <td>Harry Kane</td>\n",
       "      <td>Michel Vorm</td>\n",
       "      <td>Kevin Wimmer</td>\n",
       "      <td>Danny Rose</td>\n",
       "      <td>Josh Onomah</td>\n",
       "      <td>Nacer Chadli</td>\n",
       "      <td>Tom Carroll</td>\n",
       "      <td>Clinton N'Jie</td>\n",
       "    </tr>\n",
       "    <tr>\n",
       "      <th>1</th>\n",
       "      <td>Hugo Lloris</td>\n",
       "      <td>Kyle Walker</td>\n",
       "      <td>Jan Vertonghen</td>\n",
       "      <td>Toby Alderweireld</td>\n",
       "      <td>Danny Rose</td>\n",
       "      <td>Son Heung-Min</td>\n",
       "      <td>Erik Lamela</td>\n",
       "      <td>Christian Eriksen</td>\n",
       "      <td>Ryan Mason</td>\n",
       "      <td>Eric Dier</td>\n",
       "      <td>Harry Kane</td>\n",
       "      <td>Michel Vorm</td>\n",
       "      <td>Kevin Wimmer</td>\n",
       "      <td>Ben Davies</td>\n",
       "      <td>Harry Winks</td>\n",
       "      <td>Tom Carroll</td>\n",
       "      <td>Nacer Chadli</td>\n",
       "      <td>Clinton N'Jie</td>\n",
       "    </tr>\n",
       "    <tr>\n",
       "      <th>2</th>\n",
       "      <td>Hugo Lloris</td>\n",
       "      <td>Kyle Walker</td>\n",
       "      <td>Toby Alderweireld</td>\n",
       "      <td>Danny Rose</td>\n",
       "      <td>Jan Vertonghen</td>\n",
       "      <td>Son Heung-Min</td>\n",
       "      <td>Mousa Dembele</td>\n",
       "      <td>Erik Lamela</td>\n",
       "      <td>Christian Eriksen</td>\n",
       "      <td>Eric Dier</td>\n",
       "      <td>Harry Kane</td>\n",
       "      <td>Michel Vorm</td>\n",
       "      <td>Kevin Wimmer</td>\n",
       "      <td>Ben Davies</td>\n",
       "      <td>Ryan Mason</td>\n",
       "      <td>Tom Carroll</td>\n",
       "      <td>Nacer Chadli</td>\n",
       "      <td>Clinton N'Jie</td>\n",
       "    </tr>\n",
       "    <tr>\n",
       "      <th>0</th>\n",
       "      <td>Hugo Lloris</td>\n",
       "      <td>Kyle Walker</td>\n",
       "      <td>Jan Vertonghen</td>\n",
       "      <td>Toby Alderweireld</td>\n",
       "      <td>Danny Rose</td>\n",
       "      <td>Dele Alli</td>\n",
       "      <td>Mousa Dembele</td>\n",
       "      <td>Eric Dier</td>\n",
       "      <td>Christian Eriksen</td>\n",
       "      <td>Erik Lamela</td>\n",
       "      <td>Harry Kane</td>\n",
       "      <td>Michel Vorm</td>\n",
       "      <td>Ben Davies</td>\n",
       "      <td>Kieran Trippier</td>\n",
       "      <td>Son Heung-Min</td>\n",
       "      <td>Ryan Mason</td>\n",
       "      <td>Tom Carroll</td>\n",
       "      <td>Nacer Chadli</td>\n",
       "    </tr>\n",
       "  </tbody>\n",
       "</table>\n",
       "</div>"
      ],
      "text/plain": [
       "              1            2                  3                  4   \\\n",
       "0                                                                     \n",
       "NaN            1            2                  3                  4   \n",
       "1    Hugo Lloris   Ben Davies     Jan Vertonghen  Toby Alderweireld   \n",
       "1    Hugo Lloris  Kyle Walker     Jan Vertonghen  Toby Alderweireld   \n",
       "2    Hugo Lloris  Kyle Walker  Toby Alderweireld         Danny Rose   \n",
       "0    Hugo Lloris  Kyle Walker     Jan Vertonghen  Toby Alderweireld   \n",
       "\n",
       "                 5              6              7                  8   \\\n",
       "0                                                                      \n",
       "NaN               5              6              7                  8   \n",
       "1       Kyle Walker  Son Heung-Min    Erik Lamela  Christian Eriksen   \n",
       "1        Danny Rose  Son Heung-Min    Erik Lamela  Christian Eriksen   \n",
       "2    Jan Vertonghen  Son Heung-Min  Mousa Dembele        Erik Lamela   \n",
       "0        Danny Rose      Dele Alli  Mousa Dembele          Eric Dier   \n",
       "\n",
       "                    9            10          11           12            13  \\\n",
       "0                                                                            \n",
       "NaN                  9           10          11           12            13   \n",
       "1           Ryan Mason    Eric Dier  Harry Kane  Michel Vorm  Kevin Wimmer   \n",
       "1           Ryan Mason    Eric Dier  Harry Kane  Michel Vorm  Kevin Wimmer   \n",
       "2    Christian Eriksen    Eric Dier  Harry Kane  Michel Vorm  Kevin Wimmer   \n",
       "0    Christian Eriksen  Erik Lamela  Harry Kane  Michel Vorm    Ben Davies   \n",
       "\n",
       "                  14             15            16            17             18  \n",
       "0                                                                               \n",
       "NaN               14             15            16            17             18  \n",
       "1         Danny Rose    Josh Onomah  Nacer Chadli   Tom Carroll  Clinton N'Jie  \n",
       "1         Ben Davies    Harry Winks   Tom Carroll  Nacer Chadli  Clinton N'Jie  \n",
       "2         Ben Davies     Ryan Mason   Tom Carroll  Nacer Chadli  Clinton N'Jie  \n",
       "0    Kieran Trippier  Son Heung-Min    Ryan Mason   Tom Carroll   Nacer Chadli  "
      ]
     },
     "execution_count": 570,
     "metadata": {},
     "output_type": "execute_result"
    }
   ],
   "source": [
    "member_df_1516.head() # (39, 18)"
   ]
  },
  {
   "cell_type": "code",
   "execution_count": 595,
   "metadata": {},
   "outputs": [
    {
     "data": {
      "text/plain": [
       "[7, 0, 8, 16, 11, 15, 5, 1, 14, 4, 6, 12, 10, 3, 9, 13, 17, 2]"
      ]
     },
     "execution_count": 595,
     "metadata": {},
     "output_type": "execute_result"
    }
   ],
   "source": [
    "# member 이름을 number label로 바꾸기\n",
    "from sklearn.preprocessing import LabelEncoder\n",
    "encoder = LabelEncoder()\n",
    "\n",
    "member_names = member_df_1516.values\n",
    "member_names = member_names[1:]\n",
    "member_names_transformed = []\n",
    "for i in member_names:\n",
    "    encoder.fit(i)\n",
    "    member_names_transformed.append(list(encoder.transform(i)))\n",
    "\n",
    "# member이름을 stat으로 바꾸기\n",
    "\n",
    "'''\n",
    "['Hugo Lloris', 'Ben Davies', 'Jan Vertonghen', 'Toby Alderweireld',\n",
    "'Kyle Walker', 'Son Heung-Min', 'Erik Lamela', 'Christian Eriksen',\n",
    "'Ryan Mason', 'Eric Dier', 'Harry Kane', 'Michel Vorm',\n",
    "'Kevin Wimmer', 'Danny Rose', 'Josh Onomah', 'Nacer Chadli',\n",
    "'Tom Carroll', \"Clinton N'Jie\"]\n",
    "\n",
    "[7, 0, 8, 16, 11, 15, 5, 1, 14, 4, 6, 12, 10, 3, 9, 13, 17, 2]\n",
    "\n",
    "'''\n",
    "member_names_transformed[0]"
   ]
  },
  {
   "cell_type": "code",
   "execution_count": 528,
   "metadata": {},
   "outputs": [],
   "source": [
    "rating_df_1516 = pd.read_csv(\"C:\\\\PythonProj\\\\csv_files\\\\Son_1516_ratings_df.csv\")['Rating']\n",
    "rating_df_1617 = pd.read_csv(\"C:\\\\PythonProj\\\\csv_files\\\\Son_1617_ratings_df.csv\")['Rating']\n",
    "rating_df_1718 = pd.read_csv(\"C:\\\\PythonProj\\\\csv_files\\\\Son_1718_ratings_df.csv\")['Rating']\n",
    "rating_df_1819 = pd.read_csv(\"C:\\\\PythonProj\\\\csv_files\\\\Son_1819_ratings_df.csv\")['Rating']"
   ]
  },
  {
   "cell_type": "code",
   "execution_count": 532,
   "metadata": {},
   "outputs": [
    {
     "data": {
      "text/plain": [
       "0     4\n",
       "1     6\n",
       "2     7\n",
       "3     5\n",
       "4     7\n",
       "5     7\n",
       "6     6\n",
       "7     6\n",
       "8     6\n",
       "9     7\n",
       "10    6\n",
       "11    8\n",
       "12    6\n",
       "Name: Rating, dtype: int64"
      ]
     },
     "execution_count": 532,
     "metadata": {},
     "output_type": "execute_result"
    }
   ],
   "source": [
    "rating_df_1516 # len : 13"
   ]
  },
  {
   "cell_type": "code",
   "execution_count": null,
   "metadata": {},
   "outputs": [],
   "source": []
  },
  {
   "cell_type": "markdown",
   "metadata": {},
   "source": [
    "**Logistic Regression Reference Pages** - *For Recommendation Engine*\n",
    "- [연관규칙분석 설명](https://ratsgo.github.io/machine%20learning/2017/04/08/apriori/) </br>\n",
    "- [연관규칙 코드](https://frhyme.github.io/associative_mining/)"
   ]
  },
  {
   "cell_type": "code",
   "execution_count": 10,
   "metadata": {},
   "outputs": [
    {
     "data": {
      "image/png": "[encoded data removed]",
      "text/plain": [
       "<Figure size 432x288 with 1 Axes>"
      ]
     },
     "metadata": {
      "needs_background": "light"
     },
     "output_type": "display_data"
    }
   ],
   "source": [
    "xx = np.linspace(-5, 5, 1000)\n",
    "plt.plot(xx, 1/(1+np.exp(-xx)), 'r-', label=\"logistic\")\n",
    "plt.plot(xx, sp.special.erf(0.5*np.sqrt(np.pi)*xx), 'g:', label=\"erf\")\n",
    "plt.plot(xx, np.tanh(xx), 'b--', label=\"tanh\")\n",
    "plt.ylim([-1.1, 1.1])\n",
    "plt.legend(loc=2)\n",
    "plt.xlabel(\"x\")\n",
    "plt.ylabel(\"sigmoid\")\n",
    "plt.show()"
   ]
  },
  {
   "cell_type": "code",
   "execution_count": 344,
   "metadata": {
    "scrolled": true
   },
   "outputs": [
    {
     "data": {
      "text/html": [
       "<div>\n",
       "<style scoped>\n",
       "    .dataframe tbody tr th:only-of-type {\n",
       "        vertical-align: middle;\n",
       "    }\n",
       "\n",
       "    .dataframe tbody tr th {\n",
       "        vertical-align: top;\n",
       "    }\n",
       "\n",
       "    .dataframe thead th {\n",
       "        text-align: right;\n",
       "    }\n",
       "</style>\n",
       "<table border=\"1\" class=\"dataframe\">\n",
       "  <thead>\n",
       "    <tr style=\"text-align: right;\">\n",
       "      <th></th>\n",
       "      <th>education</th>\n",
       "      <th>sex</th>\n",
       "      <th>agree</th>\n",
       "      <th>disagree</th>\n",
       "      <th>ratio</th>\n",
       "    </tr>\n",
       "  </thead>\n",
       "  <tbody>\n",
       "    <tr>\n",
       "      <th>37</th>\n",
       "      <td>16</td>\n",
       "      <td>Female</td>\n",
       "      <td>13</td>\n",
       "      <td>115</td>\n",
       "      <td>0.101562</td>\n",
       "    </tr>\n",
       "    <tr>\n",
       "      <th>38</th>\n",
       "      <td>17</td>\n",
       "      <td>Female</td>\n",
       "      <td>3</td>\n",
       "      <td>28</td>\n",
       "      <td>0.096774</td>\n",
       "    </tr>\n",
       "    <tr>\n",
       "      <th>39</th>\n",
       "      <td>18</td>\n",
       "      <td>Female</td>\n",
       "      <td>0</td>\n",
       "      <td>21</td>\n",
       "      <td>0.000000</td>\n",
       "    </tr>\n",
       "    <tr>\n",
       "      <th>40</th>\n",
       "      <td>19</td>\n",
       "      <td>Female</td>\n",
       "      <td>1</td>\n",
       "      <td>2</td>\n",
       "      <td>0.333333</td>\n",
       "    </tr>\n",
       "    <tr>\n",
       "      <th>41</th>\n",
       "      <td>20</td>\n",
       "      <td>Female</td>\n",
       "      <td>2</td>\n",
       "      <td>4</td>\n",
       "      <td>0.333333</td>\n",
       "    </tr>\n",
       "  </tbody>\n",
       "</table>\n",
       "</div>"
      ],
      "text/plain": [
       "    education     sex  agree  disagree     ratio\n",
       "37         16  Female     13       115  0.101562\n",
       "38         17  Female      3        28  0.096774\n",
       "39         18  Female      0        21  0.000000\n",
       "40         19  Female      1         2  0.333333\n",
       "41         20  Female      2         4  0.333333"
      ]
     },
     "execution_count": 344,
     "metadata": {},
     "output_type": "execute_result"
    }
   ],
   "source": [
    "# import statsmodels.api as sm\n",
    "\n",
    "# data_wrole = sm.datasets.get_rdataset(\"womensrole\", package=\"HSAUR\")\n",
    "# df_wrole = data_wrole.data\n",
    "# df_wrole[\"ratio\"] = df_wrole.agree / (df_wrole.agree + df_wrole.disagree)\n",
    "# df_wrole.tail()"
   ]
  },
  {
   "cell_type": "code",
   "execution_count": 386,
   "metadata": {},
   "outputs": [
    {
     "ename": "ValueError",
     "evalue": "Could not interpret input 'Position'",
     "output_type": "error",
     "traceback": [
      "\u001b[1;31m---------------------------------------------------------------------------\u001b[0m",
      "\u001b[1;31mValueError\u001b[0m                                Traceback (most recent call last)",
      "\u001b[1;32m<ipython-input-386-f3d92542c6e1>\u001b[0m in \u001b[0;36m<module>\u001b[1;34m()\u001b[0m\n\u001b[1;32m----> 1\u001b[1;33m \u001b[0msns\u001b[0m\u001b[1;33m.\u001b[0m\u001b[0mscatterplot\u001b[0m\u001b[1;33m(\u001b[0m\u001b[0mx\u001b[0m\u001b[1;33m=\u001b[0m\u001b[1;34m\"Position\"\u001b[0m\u001b[1;33m,\u001b[0m \u001b[0my\u001b[0m\u001b[1;33m=\u001b[0m\u001b[1;34m\"Count\"\u001b[0m\u001b[1;33m,\u001b[0m \u001b[0mstyle\u001b[0m\u001b[1;33m=\u001b[0m\u001b[1;34m\"Season\"\u001b[0m\u001b[1;33m,\u001b[0m \u001b[0mdata\u001b[0m\u001b[1;33m=\u001b[0m\u001b[0mdf_stats_set\u001b[0m\u001b[1;33m)\u001b[0m\u001b[1;33m\u001b[0m\u001b[0m\n\u001b[0m\u001b[0;32m      2\u001b[0m \u001b[0mplt\u001b[0m\u001b[1;33m.\u001b[0m\u001b[0mgrid\u001b[0m\u001b[1;33m(\u001b[0m\u001b[1;32mTrue\u001b[0m\u001b[1;33m)\u001b[0m\u001b[1;33m\u001b[0m\u001b[0m\n\u001b[0;32m      3\u001b[0m \u001b[0mplt\u001b[0m\u001b[1;33m.\u001b[0m\u001b[0mshow\u001b[0m\u001b[1;33m(\u001b[0m\u001b[1;33m)\u001b[0m\u001b[1;33m\u001b[0m\u001b[0m\n",
      "\u001b[1;32m~\\Anaconda3\\lib\\site-packages\\seaborn\\relational.py\u001b[0m in \u001b[0;36mscatterplot\u001b[1;34m(x, y, hue, style, size, data, palette, hue_order, hue_norm, sizes, size_order, size_norm, markers, style_order, x_bins, y_bins, units, estimator, ci, n_boot, alpha, x_jitter, y_jitter, legend, ax, **kwargs)\u001b[0m\n\u001b[0;32m   1333\u001b[0m         \u001b[0mx_bins\u001b[0m\u001b[1;33m=\u001b[0m\u001b[0mx_bins\u001b[0m\u001b[1;33m,\u001b[0m \u001b[0my_bins\u001b[0m\u001b[1;33m=\u001b[0m\u001b[0my_bins\u001b[0m\u001b[1;33m,\u001b[0m\u001b[1;33m\u001b[0m\u001b[0m\n\u001b[0;32m   1334\u001b[0m         \u001b[0mestimator\u001b[0m\u001b[1;33m=\u001b[0m\u001b[0mestimator\u001b[0m\u001b[1;33m,\u001b[0m \u001b[0mci\u001b[0m\u001b[1;33m=\u001b[0m\u001b[0mci\u001b[0m\u001b[1;33m,\u001b[0m \u001b[0mn_boot\u001b[0m\u001b[1;33m=\u001b[0m\u001b[0mn_boot\u001b[0m\u001b[1;33m,\u001b[0m\u001b[1;33m\u001b[0m\u001b[0m\n\u001b[1;32m-> 1335\u001b[1;33m         \u001b[0malpha\u001b[0m\u001b[1;33m=\u001b[0m\u001b[0malpha\u001b[0m\u001b[1;33m,\u001b[0m \u001b[0mx_jitter\u001b[0m\u001b[1;33m=\u001b[0m\u001b[0mx_jitter\u001b[0m\u001b[1;33m,\u001b[0m \u001b[0my_jitter\u001b[0m\u001b[1;33m=\u001b[0m\u001b[0my_jitter\u001b[0m\u001b[1;33m,\u001b[0m \u001b[0mlegend\u001b[0m\u001b[1;33m=\u001b[0m\u001b[0mlegend\u001b[0m\u001b[1;33m,\u001b[0m\u001b[1;33m\u001b[0m\u001b[0m\n\u001b[0m\u001b[0;32m   1336\u001b[0m     )\n\u001b[0;32m   1337\u001b[0m \u001b[1;33m\u001b[0m\u001b[0m\n",
      "\u001b[1;32m~\\Anaconda3\\lib\\site-packages\\seaborn\\relational.py\u001b[0m in \u001b[0;36m__init__\u001b[1;34m(self, x, y, hue, size, style, data, palette, hue_order, hue_norm, sizes, size_order, size_norm, dashes, markers, style_order, x_bins, y_bins, units, estimator, ci, n_boot, alpha, x_jitter, y_jitter, legend)\u001b[0m\n\u001b[0;32m    850\u001b[0m \u001b[1;33m\u001b[0m\u001b[0m\n\u001b[0;32m    851\u001b[0m         plot_data = self.establish_variables(\n\u001b[1;32m--> 852\u001b[1;33m             \u001b[0mx\u001b[0m\u001b[1;33m,\u001b[0m \u001b[0my\u001b[0m\u001b[1;33m,\u001b[0m \u001b[0mhue\u001b[0m\u001b[1;33m,\u001b[0m \u001b[0msize\u001b[0m\u001b[1;33m,\u001b[0m \u001b[0mstyle\u001b[0m\u001b[1;33m,\u001b[0m \u001b[0munits\u001b[0m\u001b[1;33m,\u001b[0m \u001b[0mdata\u001b[0m\u001b[1;33m\u001b[0m\u001b[0m\n\u001b[0m\u001b[0;32m    853\u001b[0m         )\n\u001b[0;32m    854\u001b[0m \u001b[1;33m\u001b[0m\u001b[0m\n",
      "\u001b[1;32m~\\Anaconda3\\lib\\site-packages\\seaborn\\relational.py\u001b[0m in \u001b[0;36mestablish_variables\u001b[1;34m(self, x, y, hue, size, style, units, data)\u001b[0m\n\u001b[0;32m    140\u001b[0m                 \u001b[1;32mif\u001b[0m \u001b[0misinstance\u001b[0m\u001b[1;33m(\u001b[0m\u001b[0mvar\u001b[0m\u001b[1;33m,\u001b[0m \u001b[0mstring_types\u001b[0m\u001b[1;33m)\u001b[0m\u001b[1;33m:\u001b[0m\u001b[1;33m\u001b[0m\u001b[0m\n\u001b[0;32m    141\u001b[0m                     \u001b[0merr\u001b[0m \u001b[1;33m=\u001b[0m \u001b[1;34m\"Could not interpret input '{}'\"\u001b[0m\u001b[1;33m.\u001b[0m\u001b[0mformat\u001b[0m\u001b[1;33m(\u001b[0m\u001b[0mvar\u001b[0m\u001b[1;33m)\u001b[0m\u001b[1;33m\u001b[0m\u001b[0m\n\u001b[1;32m--> 142\u001b[1;33m                     \u001b[1;32mraise\u001b[0m \u001b[0mValueError\u001b[0m\u001b[1;33m(\u001b[0m\u001b[0merr\u001b[0m\u001b[1;33m)\u001b[0m\u001b[1;33m\u001b[0m\u001b[0m\n\u001b[0m\u001b[0;32m    143\u001b[0m \u001b[1;33m\u001b[0m\u001b[0m\n\u001b[0;32m    144\u001b[0m             \u001b[1;31m# Extract variable names\u001b[0m\u001b[1;33m\u001b[0m\u001b[1;33m\u001b[0m\u001b[0m\n",
      "\u001b[1;31mValueError\u001b[0m: Could not interpret input 'Position'"
     ]
    }
   ],
   "source": [
    "sns.scatterplot(x=\"Position\", y=\"Count\", style=\"Season\", data=df_stats_set)\n",
    "plt.grid(True)\n",
    "plt.show()"
   ]
  },
  {
   "cell_type": "code",
   "execution_count": 4,
   "metadata": {},
   "outputs": [],
   "source": [
    "import pandas as pd \n",
    "import itertools \n",
    "\n",
    "\n",
    "def support(df, item_lst):\n",
    "    return (df[list(item_lst)].sum(axis=1)==len(item_lst)).mean()\n",
    "\n",
    "\n",
    "def make_all_set_over_support(df, support_threshold):\n",
    "    items = []\n",
    "    single_items = [col for col in df.columns if support(df, [col]) > support_threshold] # size 1 items\n",
    "    \n",
    "    size = 2\n",
    "    while True:\n",
    "        new_items = []\n",
    "        for item_cand in itertools.combinations(single_items, size):\n",
    "            #print(item_cand, (df[list(item_cand)].sum(axis=1)==size).mean())\n",
    "            if support(df, list(item_cand)) > support_threshold:\n",
    "                new_items.append(list(item_cand))\n",
    "        if len(new_items)==0:\n",
    "            break\n",
    "        else:\n",
    "            items+=new_items\n",
    "            size+=1\n",
    "    items += [ [s] for s in single_items]# 이렇게 해줘야 모든 type이 list가 됨\n",
    "    return items\n",
    "\n",
    "\n",
    "def make_confidence_lst(df, item_set_over_support, confidence_threshold):\n",
    "    r_lst = []\n",
    "    for item1 in item_set_over_support:\n",
    "        for item2 in item_set_over_support:\n",
    "            if len(set(item1).intersection(set(item2)))==0:\n",
    "                conf = support(df, list(set(item1).union(set(item2))))/ support(df, item1)\n",
    "                if conf > confidence_threshold:\n",
    "                    r_lst.append((item1, item2, conf))\n",
    "            else:\n",
    "                continue\n",
    "    return sorted(r_lst, key=lambda x: x[2], reverse=True)\n",
    "\n",
    "\n",
    "def make_lift_lst(df, item_set_over_support, lift_threhsold):\n",
    "    r_lst = []\n",
    "    for item1 in item_set_over_support:\n",
    "        for item2 in item_set_over_support:\n",
    "            if len(set(item1).intersection(set(item2)))==0:\n",
    "                lift = support(df, list(set(item1).union(set(item2))))\n",
    "                lift /= support(df, item1)\n",
    "                lift /= support(df, item2)\n",
    "                if lift > lift_threhsold:\n",
    "                    r_lst.append((item1, item2, lift))\n",
    "            else:\n",
    "                continue\n",
    "    return sorted(r_lst, key=lambda x: x[2], reverse=True)\n",
    "\n",
    "\n",
    "over_support_lst = make_all_set_over_support(df, 0.07)# 0.05로 하면 두 개짜리도 나옴. 로 하면 3개 짜리도 나옴\n",
    "print(\"over support list\")\n",
    "print(over_support_lst)\n",
    "print(\"-----------------\")\n",
    "print(\"over confidence list\")\n",
    "for a, b, conf in  make_confidence_lst(df, over_support_lst, 0.53):\n",
    "    print(\"{} => {}: {}\".format(a, b, conf))\n",
    "print(\"-----------------\")\n",
    "print(\"over lift list\")\n",
    "for a, b, lift in  make_lift_lst(df, over_support_lst, 5.6):\n",
    "    print(\"{} => {}: {}\".format(a, b, lift))\n",
    "print(\"-----------------\")"
   ]
  },
  {
   "cell_type": "code",
   "execution_count": null,
   "metadata": {},
   "outputs": [],
   "source": []
  },
  {
   "cell_type": "code",
   "execution_count": 535,
   "metadata": {},
   "outputs": [
    {
     "ename": "ValueError",
     "evalue": "could not convert string to float: 'Tom Carroll'",
     "output_type": "error",
     "traceback": [
      "\u001b[1;31m---------------------------------------------------------------------------\u001b[0m",
      "\u001b[1;31mValueError\u001b[0m                                Traceback (most recent call last)",
      "\u001b[1;32m<ipython-input-535-70ca39974a94>\u001b[0m in \u001b[0;36m<module>\u001b[1;34m()\u001b[0m\n\u001b[0;32m      5\u001b[0m \u001b[0mX\u001b[0m \u001b[1;33m=\u001b[0m \u001b[0mmember_df_1516\u001b[0m\u001b[1;33m.\u001b[0m\u001b[0mloc\u001b[0m\u001b[1;33m[\u001b[0m\u001b[1;33m:\u001b[0m\u001b[1;33m:\u001b[0m\u001b[1;36m3\u001b[0m\u001b[1;33m]\u001b[0m\u001b[1;33m\u001b[0m\u001b[0m\n\u001b[0;32m      6\u001b[0m \u001b[0my\u001b[0m \u001b[1;33m=\u001b[0m \u001b[0mrating_df_1516\u001b[0m\u001b[1;33m\u001b[0m\u001b[0m\n\u001b[1;32m----> 7\u001b[1;33m \u001b[0mclf\u001b[0m \u001b[1;33m=\u001b[0m \u001b[0mLogisticRegression\u001b[0m\u001b[1;33m(\u001b[0m\u001b[0mrandom_state\u001b[0m\u001b[1;33m=\u001b[0m\u001b[1;36m0\u001b[0m\u001b[1;33m,\u001b[0m \u001b[0msolver\u001b[0m\u001b[1;33m=\u001b[0m\u001b[1;34m'lbfgs'\u001b[0m\u001b[1;33m,\u001b[0m \u001b[0mmulti_class\u001b[0m\u001b[1;33m=\u001b[0m\u001b[1;34m'multinomial'\u001b[0m\u001b[1;33m)\u001b[0m\u001b[1;33m.\u001b[0m\u001b[0mfit\u001b[0m\u001b[1;33m(\u001b[0m\u001b[0mX\u001b[0m\u001b[1;33m,\u001b[0m \u001b[0my\u001b[0m\u001b[1;33m)\u001b[0m\u001b[1;33m\u001b[0m\u001b[0m\n\u001b[0m\u001b[0;32m      8\u001b[0m \u001b[0mclf\u001b[0m\u001b[1;33m.\u001b[0m\u001b[0mpredict\u001b[0m\u001b[1;33m(\u001b[0m\u001b[0mX\u001b[0m\u001b[1;33m[\u001b[0m\u001b[1;33m:\u001b[0m\u001b[1;36m2\u001b[0m\u001b[1;33m,\u001b[0m \u001b[1;33m:\u001b[0m\u001b[1;33m]\u001b[0m\u001b[1;33m)\u001b[0m\u001b[1;33m\u001b[0m\u001b[0m\n\u001b[0;32m      9\u001b[0m \u001b[0mclf\u001b[0m\u001b[1;33m.\u001b[0m\u001b[0mpredict_proba\u001b[0m\u001b[1;33m(\u001b[0m\u001b[0mX\u001b[0m\u001b[1;33m[\u001b[0m\u001b[1;33m:\u001b[0m\u001b[1;36m2\u001b[0m\u001b[1;33m,\u001b[0m \u001b[1;33m:\u001b[0m\u001b[1;33m]\u001b[0m\u001b[1;33m)\u001b[0m\u001b[1;33m\u001b[0m\u001b[0m\n",
      "\u001b[1;32m~\\Anaconda3\\lib\\site-packages\\sklearn\\linear_model\\logistic.py\u001b[0m in \u001b[0;36mfit\u001b[1;34m(self, X, y, sample_weight)\u001b[0m\n\u001b[0;32m   1218\u001b[0m \u001b[1;33m\u001b[0m\u001b[0m\n\u001b[0;32m   1219\u001b[0m         X, y = check_X_y(X, y, accept_sparse='csr', dtype=_dtype,\n\u001b[1;32m-> 1220\u001b[1;33m                          order=\"C\")\n\u001b[0m\u001b[0;32m   1221\u001b[0m         \u001b[0mcheck_classification_targets\u001b[0m\u001b[1;33m(\u001b[0m\u001b[0my\u001b[0m\u001b[1;33m)\u001b[0m\u001b[1;33m\u001b[0m\u001b[0m\n\u001b[0;32m   1222\u001b[0m         \u001b[0mself\u001b[0m\u001b[1;33m.\u001b[0m\u001b[0mclasses_\u001b[0m \u001b[1;33m=\u001b[0m \u001b[0mnp\u001b[0m\u001b[1;33m.\u001b[0m\u001b[0munique\u001b[0m\u001b[1;33m(\u001b[0m\u001b[0my\u001b[0m\u001b[1;33m)\u001b[0m\u001b[1;33m\u001b[0m\u001b[0m\n",
      "\u001b[1;32m~\\Anaconda3\\lib\\site-packages\\sklearn\\utils\\validation.py\u001b[0m in \u001b[0;36mcheck_X_y\u001b[1;34m(X, y, accept_sparse, dtype, order, copy, force_all_finite, ensure_2d, allow_nd, multi_output, ensure_min_samples, ensure_min_features, y_numeric, warn_on_dtype, estimator)\u001b[0m\n\u001b[0;32m    571\u001b[0m     X = check_array(X, accept_sparse, dtype, order, copy, force_all_finite,\n\u001b[0;32m    572\u001b[0m                     \u001b[0mensure_2d\u001b[0m\u001b[1;33m,\u001b[0m \u001b[0mallow_nd\u001b[0m\u001b[1;33m,\u001b[0m \u001b[0mensure_min_samples\u001b[0m\u001b[1;33m,\u001b[0m\u001b[1;33m\u001b[0m\u001b[0m\n\u001b[1;32m--> 573\u001b[1;33m                     ensure_min_features, warn_on_dtype, estimator)\n\u001b[0m\u001b[0;32m    574\u001b[0m     \u001b[1;32mif\u001b[0m \u001b[0mmulti_output\u001b[0m\u001b[1;33m:\u001b[0m\u001b[1;33m\u001b[0m\u001b[0m\n\u001b[0;32m    575\u001b[0m         y = check_array(y, 'csr', force_all_finite=True, ensure_2d=False,\n",
      "\u001b[1;32m~\\Anaconda3\\lib\\site-packages\\sklearn\\utils\\validation.py\u001b[0m in \u001b[0;36mcheck_array\u001b[1;34m(array, accept_sparse, dtype, order, copy, force_all_finite, ensure_2d, allow_nd, ensure_min_samples, ensure_min_features, warn_on_dtype, estimator)\u001b[0m\n\u001b[0;32m    431\u001b[0m                                       force_all_finite)\n\u001b[0;32m    432\u001b[0m     \u001b[1;32melse\u001b[0m\u001b[1;33m:\u001b[0m\u001b[1;33m\u001b[0m\u001b[0m\n\u001b[1;32m--> 433\u001b[1;33m         \u001b[0marray\u001b[0m \u001b[1;33m=\u001b[0m \u001b[0mnp\u001b[0m\u001b[1;33m.\u001b[0m\u001b[0marray\u001b[0m\u001b[1;33m(\u001b[0m\u001b[0marray\u001b[0m\u001b[1;33m,\u001b[0m \u001b[0mdtype\u001b[0m\u001b[1;33m=\u001b[0m\u001b[0mdtype\u001b[0m\u001b[1;33m,\u001b[0m \u001b[0morder\u001b[0m\u001b[1;33m=\u001b[0m\u001b[0morder\u001b[0m\u001b[1;33m,\u001b[0m \u001b[0mcopy\u001b[0m\u001b[1;33m=\u001b[0m\u001b[0mcopy\u001b[0m\u001b[1;33m)\u001b[0m\u001b[1;33m\u001b[0m\u001b[0m\n\u001b[0m\u001b[0;32m    434\u001b[0m \u001b[1;33m\u001b[0m\u001b[0m\n\u001b[0;32m    435\u001b[0m         \u001b[1;32mif\u001b[0m \u001b[0mensure_2d\u001b[0m\u001b[1;33m:\u001b[0m\u001b[1;33m\u001b[0m\u001b[0m\n",
      "\u001b[1;31mValueError\u001b[0m: could not convert string to float: 'Tom Carroll'"
     ]
    }
   ],
   "source": [
    "from sklearn.datasets import load_iris\n",
    "from sklearn.linear_model import LogisticRegression\n",
    "from patsy import dmatrices\n",
    "\n",
    "y, X = dmatrices('')\n",
    "# X, y = load_iris(return_X_y=True)\n",
    "X = member_df_1516.loc[::3]\n",
    "y = rating_df_1516\n",
    "clf = LogisticRegression(random_state=0, solver='lbfgs', multi_class='multinomial').fit(X, y)\n",
    "clf.predict(X[:2, :])\n",
    "clf.predict_proba(X[:2, :]) \n",
    "clf.score(X, y)"
   ]
  },
  {
   "cell_type": "code",
   "execution_count": null,
   "metadata": {},
   "outputs": [],
   "source": []
  }
 ],
 "metadata": {
  "kernelspec": {
   "display_name": "Python 3",
   "language": "python",
   "name": "python3"
  },
  "language_info": {
   "codemirror_mode": {
    "name": "ipython",
    "version": 3
   },
   "file_extension": ".py",
   "mimetype": "text/x-python",
   "name": "python",
   "nbconvert_exporter": "python",
   "pygments_lexer": "ipython3",
   "version": "3.7.0"
  }
 },
 "nbformat": 4,
 "nbformat_minor": 2
}
