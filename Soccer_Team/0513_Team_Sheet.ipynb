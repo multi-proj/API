{
  "nbformat": 4,
  "nbformat_minor": 0,
  "metadata": {
    "colab": {
      "name": "Team_Sheet.ipynb",
      "version": "0.3.2",
      "provenance": [],
      "collapsed_sections": [],
      "include_colab_link": true
    },
    "kernelspec": {
      "name": "python3",
      "display_name": "Python 3"
    }
  },
  "cells": [
    {
      "cell_type": "markdown",
      "metadata": {
        "id": "view-in-github",
        "colab_type": "text"
      },
      "source": [
        "<a href=\"https://colab.research.google.com/github/multi-proj/API/blob/master/Soccer_Team/Team_Sheet.ipynb\" target=\"_parent\"><img src=\"https://colab.research.google.com/assets/colab-badge.svg\" alt=\"Open In Colab\"/></a>"
      ]
    },
    {
      "cell_type": "code",
      "metadata": {
        "id": "ZlKNGHm7vQh6",
        "colab_type": "code",
        "colab": {}
      },
      "source": [
        "from selenium import webdriver"
      ],
      "execution_count": 0,
      "outputs": []
    },
    {
      "cell_type": "code",
      "metadata": {
        "id": "7WDtdpty77tJ",
        "colab_type": "code",
        "colab": {}
      },
      "source": [
        "!pip install selenium\n",
        "!apt install chromium-chromedriver"
      ],
      "execution_count": 0,
      "outputs": []
    },
    {
      "cell_type": "code",
      "metadata": {
        "id": "Kw0c1id9vngR",
        "colab_type": "code",
        "colab": {}
      },
      "source": [
        "!pip install -U -q Pydrive\n",
        "from pydrive.auth import GoogleAuth\n",
        "from pydrive.drive import GoogleDrive\n",
        "from google.colab import auth\n",
        "from oauth2client.client import GoogleCredentials\n",
        "\n",
        "# Authenticate and create the PyDrive client.\n",
        "auth.authenticate_user()\n",
        "gauth = GoogleAuth()\n",
        "gauth.credentials = GoogleCredentials.get_application_default()\n",
        "drive = GoogleDrive(gauth)"
      ],
      "execution_count": 0,
      "outputs": []
    },
    {
      "cell_type": "code",
      "metadata": {
        "id": "_17HbgKm8gIE",
        "colab_type": "code",
        "colab": {}
      },
      "source": [
        "url = 'https://drive.google.com/open?id=1dwaiV1_fIVBGHGeVKnRGXMgw-POve3I3'\n",
        "id = url.split('=')[1]"
      ],
      "execution_count": 0,
      "outputs": []
    },
    {
      "cell_type": "code",
      "metadata": {
        "id": "IEG8ZjYl8TML",
        "colab_type": "code",
        "outputId": "9efa622c-034b-4c28-acc6-cdeed9c80e0c",
        "colab": {
          "base_uri": "https://localhost:8080/",
          "height": 53
        }
      },
      "source": [
        "import sys\n",
        "sys.path.insert(0,'/usr/lib/chromium-browser/chromedriver')\n",
        "from selenium import webdriver\n",
        "chrome_options = webdriver.ChromeOptions()\n",
        "chrome_options.add_argument('--headless')\n",
        "chrome_options.add_argument('--no-sandbox')\n",
        "chrome_options.add_argument('--disable-dev-shm-usage')\n",
        "wd = webdriver.Chrome('chromedriver',chrome_options=chrome_options)\n",
        "wd.get(\"https://www.premierleague.com/players?se=79&cl=21\")"
      ],
      "execution_count": 0,
      "outputs": [
        {
          "output_type": "stream",
          "text": [
            "/usr/local/lib/python3.6/dist-packages/ipykernel_launcher.py:8: DeprecationWarning: use options instead of chrome_options\n",
            "  \n"
          ],
          "name": "stderr"
        }
      ]
    },
    {
      "cell_type": "markdown",
      "metadata": {
        "id": "XUtgQ39km4rw",
        "colab_type": "text"
      },
      "source": [
        "---"
      ]
    },
    {
      "cell_type": "markdown",
      "metadata": {
        "id": "nwPb0lDwV97C",
        "colab_type": "text"
      },
      "source": [
        "* **선수명 불러오기**"
      ]
    },
    {
      "cell_type": "code",
      "metadata": {
        "id": "AgYfSaR_CgFs",
        "colab_type": "code",
        "colab": {}
      },
      "source": [
        "player_list = wd.find_elements_by_class_name('playerName')"
      ],
      "execution_count": 0,
      "outputs": []
    },
    {
      "cell_type": "code",
      "metadata": {
        "id": "NNykuES4RSlC",
        "colab_type": "code",
        "colab": {}
      },
      "source": [
        "player_name = []\n",
        "\n",
        "for i in range(0, len(player_list)):\n",
        "    name = player_list[i].text\n",
        "    player_name.append(name)\n",
        "    \n",
        "player_name"
      ],
      "execution_count": 0,
      "outputs": []
    },
    {
      "cell_type": "markdown",
      "metadata": {
        "id": "ypi0UOrmm6lV",
        "colab_type": "text"
      },
      "source": [
        "---"
      ]
    },
    {
      "cell_type": "markdown",
      "metadata": {
        "id": "6Rm_eqZQVkB3",
        "colab_type": "text"
      },
      "source": [
        "* **포지션 불러오기**"
      ]
    },
    {
      "cell_type": "code",
      "metadata": {
        "id": "VCdI3gsgWB1W",
        "colab_type": "code",
        "colab": {}
      },
      "source": [
        "player_position_name = wd.find_elements_by_class_name('hide-s')"
      ],
      "execution_count": 0,
      "outputs": []
    },
    {
      "cell_type": "code",
      "metadata": {
        "id": "HnKyTmNmWV1D",
        "colab_type": "code",
        "colab": {}
      },
      "source": [
        "player_position = []\n",
        "\n",
        "for i in range(2, len(player_position_name), 2):\n",
        "    name = player_position_name[i].text\n",
        "    player_position.append(name)\n",
        "\n",
        "player_position"
      ],
      "execution_count": 0,
      "outputs": []
    },
    {
      "cell_type": "markdown",
      "metadata": {
        "id": "1_5PbaEzxKHx",
        "colab_type": "text"
      },
      "source": [
        "---"
      ]
    },
    {
      "cell_type": "markdown",
      "metadata": {
        "id": "uf5AdiNHaAoZ",
        "colab_type": "text"
      },
      "source": [
        "* **선수이름 + 포지션**"
      ]
    },
    {
      "cell_type": "code",
      "metadata": {
        "id": "QZIic3W_Yki9",
        "colab_type": "code",
        "colab": {}
      },
      "source": [
        "import pandas as pd\n",
        "\n",
        "data = {'Name': player_name, 'Position': player_position}\n",
        "\n",
        "team_sheet = pd.DataFrame(data)\n",
        "team_sheet.head()\n",
        "\n",
        "team_sheet = team_sheet.drop(49)"
      ],
      "execution_count": 0,
      "outputs": []
    },
    {
      "cell_type": "markdown",
      "metadata": {
        "id": "X37F5n4HxMTG",
        "colab_type": "text"
      },
      "source": [
        "---"
      ]
    },
    {
      "cell_type": "markdown",
      "metadata": {
        "id": "lz6TwiiSkkVB",
        "colab_type": "text"
      },
      "source": [
        "* **선수 링크 긁어오기**"
      ]
    },
    {
      "cell_type": "code",
      "metadata": {
        "id": "K4f8Z_nvexg7",
        "colab_type": "code",
        "colab": {}
      },
      "source": [
        "test = wd.find_elements_by_tag_name('a')\n",
        "test"
      ],
      "execution_count": 0,
      "outputs": []
    },
    {
      "cell_type": "code",
      "metadata": {
        "id": "JjGEDGfFfvsa",
        "colab_type": "code",
        "colab": {}
      },
      "source": [
        "link = []\n",
        "for i in range(0, len(test)):\n",
        "    a = test[i].get_attribute('href')\n",
        "    link.append(a)\n",
        "    \n",
        "link"
      ],
      "execution_count": 0,
      "outputs": []
    },
    {
      "cell_type": "code",
      "metadata": {
        "id": "XIFtao2gjJS6",
        "colab_type": "code",
        "colab": {}
      },
      "source": [
        "link = link[109:158]"
      ],
      "execution_count": 0,
      "outputs": []
    },
    {
      "cell_type": "code",
      "metadata": {
        "id": "DTHrgS5kiwYj",
        "colab_type": "code",
        "colab": {}
      },
      "source": [
        "link_number = []\n",
        "\n",
        "for i in range(0, len(link)):\n",
        "               a = int(link[i].split('/')[4])\n",
        "               link_number.append(a)\n",
        "\n",
        "            \n",
        "# 선수 테이블과 합치기\n",
        "team_sheet['id'] = link_number"
      ],
      "execution_count": 0,
      "outputs": []
    },
    {
      "cell_type": "markdown",
      "metadata": {
        "id": "S4EmFbq3jr8X",
        "colab_type": "text"
      },
      "source": [
        "---"
      ]
    },
    {
      "cell_type": "markdown",
      "metadata": {
        "id": "SKkOtYT8l5Bx",
        "colab_type": "text"
      },
      "source": [
        "## **지난 경기 기록 긁어오기**"
      ]
    },
    {
      "cell_type": "code",
      "metadata": {
        "id": "SX-oIA68xPFg",
        "colab_type": "code",
        "colab": {}
      },
      "source": [
        "import sys\n",
        "sys.path.insert(0,'/usr/lib/chromium-browser/chromedriver')\n",
        "from selenium import webdriver\n",
        "chrome_options = webdriver.ChromeOptions()\n",
        "chrome_options.add_argument('--headless')\n",
        "chrome_options.add_argument('--no-sandbox')\n",
        "chrome_options.add_argument('--disable-dev-shm-usage')\n",
        "match_wd = webdriver.Chrome('chromedriver',chrome_options=chrome_options)\n",
        "match_wd.get(\"https://www.premierleague.com/clubs/21/Tottenham-Hotspur/results?co=1&se=79\")"
      ],
      "execution_count": 0,
      "outputs": []
    },
    {
      "cell_type": "code",
      "metadata": {
        "id": "okkYTpL3xiG-",
        "colab_type": "code",
        "colab": {}
      },
      "source": [
        "# match_tag = match_wd.find_elements_by_tag_name('li')\n",
        "\n",
        "match_num_01 = []\n",
        "\n",
        "for i in range(1, 39):\n",
        "    a = i * 3\n",
        "    number = '#mainContent > div:nth-child(6) > div > div.wrapper.col-12.active > div.col-12 > section > div:nth-child(%d) > ul > li > div' % a\n",
        "    b = match_wd.find_element_by_css_selector(number)\n",
        "    \n",
        "    match_num_01.append(b)"
      ],
      "execution_count": 0,
      "outputs": []
    },
    {
      "cell_type": "code",
      "metadata": {
        "id": "QYHf_DlmxwoK",
        "colab_type": "code",
        "colab": {}
      },
      "source": [
        "match_num_02 = []\n",
        "\n",
        "for i in range(0, len(match_num_01)):\n",
        "    a = match_num_01[i].get_attribute('data-matchid')\n",
        "    match_num_02.append(a)\n",
        "    \n",
        "match_num_02 = list(map(int,match_num_02))\n",
        "match_num_02"
      ],
      "execution_count": 0,
      "outputs": []
    },
    {
      "cell_type": "code",
      "metadata": {
        "id": "5RuOMwimz91S",
        "colab_type": "code",
        "colab": {}
      },
      "source": [
        "for i in match_num_02:\n",
        "    a = 'https://www.premierleague.com/match/%d' % i\n",
        "    print(a)"
      ],
      "execution_count": 0,
      "outputs": []
    },
    {
      "cell_type": "markdown",
      "metadata": {
        "id": "yFZvFaIb6w_n",
        "colab_type": "text"
      },
      "source": [
        "---"
      ]
    },
    {
      "cell_type": "markdown",
      "metadata": {
        "id": "5z9jdN187XSc",
        "colab_type": "text"
      },
      "source": [
        "## **경기별 선수 명단 긁어오기**"
      ]
    },
    {
      "cell_type": "code",
      "metadata": {
        "id": "K-Ojt_UQ7Vye",
        "colab_type": "code",
        "colab": {}
      },
      "source": [
        "# https://www.premierleague.com/match/22720\n",
        "from bs4 import BeautifulSoup\n",
        "import urllib.request\n",
        "import urllib.parse\n",
        "\n",
        "# web_url에 원하는 웹의 URL을 넣어주시면 됩니다.\n",
        "web_url = \"https://www.premierleague.com/match/22720\"\n",
        "\n",
        "with urllib.request.urlopen(web_url) as response:\n",
        "    html = response.read()\n",
        "    soup = BeautifulSoup(html, 'html.parser')    \n",
        "\n",
        "players = soup.find_all('div', 'matchLineupTeamContainer')"
      ],
      "execution_count": 0,
      "outputs": []
    },
    {
      "cell_type": "code",
      "metadata": {
        "id": "YGYUejqWYWXZ",
        "colab_type": "code",
        "colab": {}
      },
      "source": [
        "len(players)"
      ],
      "execution_count": 0,
      "outputs": []
    },
    {
      "cell_type": "code",
      "metadata": {
        "id": "TGu-a5EJaYDD",
        "colab_type": "code",
        "colab": {}
      },
      "source": [
        "a.find_all(\"div\", class_=\"name\").t"
      ],
      "execution_count": 0,
      "outputs": []
    },
    {
      "cell_type": "code",
      "metadata": {
        "id": "qBMkS3-Zef7j",
        "colab_type": "code",
        "outputId": "ec4a7f21-2eeb-4e1e-81b2-8e8f99c5989c",
        "colab": {
          "base_uri": "https://localhost:8080/",
          "height": 35
        }
      },
      "source": [
        "a = players[i].find_all(\"div\", class_=\"name\")\n",
        "a[0].get_text()"
      ],
      "execution_count": 0,
      "outputs": [
        {
          "output_type": "execute_result",
          "data": {
            "text/plain": [
              "' Hugo Lloris '"
            ]
          },
          "metadata": {
            "tags": []
          },
          "execution_count": 651
        }
      ]
    },
    {
      "cell_type": "code",
      "metadata": {
        "id": "6uQytkMhag9u",
        "colab_type": "code",
        "outputId": "2bd72fa5-5554-4488-ab63-2ad304e8b08f",
        "colab": {
          "base_uri": "https://localhost:8080/",
          "height": 341
        }
      },
      "source": [
        "player_name = []\n",
        "for i in range(0, len(players)) :\n",
        "    if (players[i].get_attribute_list('data-team-id')[0] == '21') :\n",
        "        a = players[i].find_all(\"div\", class_=\"name\")\n",
        "       # print(a)\n",
        "        for j in range(0, len(a)) :\n",
        "            player_name.append(a[j].get_text())\n",
        "\n",
        "player_name"
      ],
      "execution_count": 0,
      "outputs": [
        {
          "output_type": "execute_result",
          "data": {
            "text/plain": [
              "[' Hugo Lloris ',\n",
              " ' Eric Dier ',\n",
              " ' Kyle Walker-Peters ',\n",
              " ' Danny Rose ',\n",
              " ' Toby Alderweireld ',\n",
              " ' Victor Wanyama ',\n",
              " \" Erik Lamela 78'\",\n",
              " \" Lucas Moura 74'\",\n",
              " \" Moussa Sissoko 84'\",\n",
              " ' Christian Eriksen ',\n",
              " ' Harry Kane ',\n",
              " ' Michel Vorm ',\n",
              " ' Ben Davies ',\n",
              " ' Juan Foyth ',\n",
              " \" Davinson Sánchez 78'\",\n",
              " \" Dele Alli 74'\",\n",
              " \" Son Heung-Min 84'\",\n",
              " ' Fernando Llorente ']"
            ]
          },
          "metadata": {
            "tags": []
          },
          "execution_count": 697
        }
      ]
    },
    {
      "cell_type": "code",
      "metadata": {
        "id": "jO3q45CcbxUq",
        "colab_type": "code",
        "outputId": "c3c63ecf-0369-4d40-e95e-80d1131e86b6",
        "colab": {
          "base_uri": "https://localhost:8080/",
          "height": 341
        }
      },
      "source": [
        "lstrip_player_name = []\n",
        "\n",
        "for i in range(0, len(player_name)):\n",
        "    a = player_name[i].lstrip()\n",
        "    lstrip_player_name.append(a)\n",
        "    \n",
        "lstrip_player_name"
      ],
      "execution_count": 0,
      "outputs": [
        {
          "output_type": "execute_result",
          "data": {
            "text/plain": [
              "['Hugo Lloris ',\n",
              " 'Eric Dier ',\n",
              " 'Kyle Walker-Peters ',\n",
              " 'Danny Rose ',\n",
              " 'Toby Alderweireld ',\n",
              " 'Victor Wanyama ',\n",
              " \"Erik Lamela 78'\",\n",
              " \"Lucas Moura 74'\",\n",
              " \"Moussa Sissoko 84'\",\n",
              " 'Christian Eriksen ',\n",
              " 'Harry Kane ',\n",
              " 'Michel Vorm ',\n",
              " 'Ben Davies ',\n",
              " 'Juan Foyth ',\n",
              " \"Davinson Sánchez 78'\",\n",
              " \"Dele Alli 74'\",\n",
              " \"Son Heung-Min 84'\",\n",
              " 'Fernando Llorente ']"
            ]
          },
          "metadata": {
            "tags": []
          },
          "execution_count": 699
        }
      ]
    },
    {
      "cell_type": "markdown",
      "metadata": {
        "id": "Af1gKZcxmbmW",
        "colab_type": "text"
      },
      "source": [
        "* **정규식**\n",
        "    * 출처1: http://melonicedlatte.com/python/2017/02/23/152309.html\n",
        "    * 출처2: https://niceman.tistory.com/156"
      ]
    },
    {
      "cell_type": "code",
      "metadata": {
        "id": "NoxMC6JldvaE",
        "colab_type": "code",
        "outputId": "deab47ac-970f-49b4-ac1f-a3ea86cf007c",
        "colab": {
          "base_uri": "https://localhost:8080/",
          "height": 341
        }
      },
      "source": [
        "re_player_name = []\n",
        "fin_player_name = []\n",
        "\n",
        "import re\n",
        "\n",
        "for i in range(0, len(lstrip_player_name)):\n",
        "    text = lstrip_player_name[i]\n",
        "    parse = re.sub('[' '][0-9][0-9][-=+,#/\\?:^$.@*\\\"※~&%ㆍ!』\\\\‘|\\(\\)\\[\\]\\<\\>`\\'…》]', '', text)\n",
        "    re_player_name.append(parse)\n",
        "\n",
        "for j in range(0, len(re_player_name)):\n",
        "    a = re_player_name[j].rstrip()\n",
        "    fin_player_name.append(a)\n",
        "        \n",
        "fin_player_name\n",
        "\n",
        "#     for j in range(0, len(re_player_name)):\n",
        "#         a = re_player_name[j].rstrip()\n",
        "#         fin_player_name.append(a)"
      ],
      "execution_count": 0,
      "outputs": [
        {
          "output_type": "execute_result",
          "data": {
            "text/plain": [
              "['Hugo Lloris',\n",
              " 'Eric Dier',\n",
              " 'Kyle Walker-Peters',\n",
              " 'Danny Rose',\n",
              " 'Toby Alderweireld',\n",
              " 'Victor Wanyama',\n",
              " 'Erik Lamela',\n",
              " 'Lucas Moura',\n",
              " 'Moussa Sissoko',\n",
              " 'Christian Eriksen',\n",
              " 'Harry Kane',\n",
              " 'Michel Vorm',\n",
              " 'Ben Davies',\n",
              " 'Juan Foyth',\n",
              " 'Davinson Sánchez',\n",
              " 'Dele Alli',\n",
              " 'Son Heung-Min',\n",
              " 'Fernando Llorente']"
            ]
          },
          "metadata": {
            "tags": []
          },
          "execution_count": 713
        }
      ]
    }
  ]
}
