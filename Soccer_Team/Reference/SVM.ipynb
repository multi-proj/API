{
  "nbformat": 4,
  "nbformat_minor": 0,
  "metadata": {
    "colab": {
      "name": "SVM.ipynb",
      "version": "0.3.2",
      "provenance": [],
      "collapsed_sections": [],
      "include_colab_link": true
    },
    "kernelspec": {
      "name": "python3",
      "display_name": "Python 3"
    }
  },
  "cells": [
    {
      "cell_type": "markdown",
      "metadata": {
        "id": "view-in-github",
        "colab_type": "text"
      },
      "source": [
        "<a href=\"https://colab.research.google.com/github/multi-proj/API/blob/master/Soccer_Team/Reference/SVM.ipynb\" target=\"_parent\"><img src=\"https://colab.research.google.com/assets/colab-badge.svg\" alt=\"Open In Colab\"/></a>"
      ]
    },
    {
      "cell_type": "markdown",
      "metadata": {
        "id": "6kDYInKuIKTQ",
        "colab_type": "text"
      },
      "source": [
        "# SVM\n",
        "\n",
        "* 서포트 벡터 머신(support vector machine, SVM)은 기계 학습의 분야 중 하나로 패턴 인식, 자료 분석을 위한 지도 학습 모델이며, 주로 분류와 회귀 분석을 위해 사용한다. 두 카테고리 중 어느 하나에 속한 데이터의 집합이 주어졌을 때, SVM 알고리즘은 주어진 데이터 집합을 바탕으로 하여 새로운 데이터가 어느 카테고리에 속할지 판단하는 비확률적 이진 선형 분류 모델을 만든\n",
        "다.\n",
        "\n",
        "* support vector(가장 근접한 train data)만 사용 --> 계산량 감소\n",
        "\n",
        "https://www.slideshare.net/freepsw/svm-77055058"
      ]
    },
    {
      "cell_type": "markdown",
      "metadata": {
        "id": "-cQ_EtJ0Slgk",
        "colab_type": "text"
      },
      "source": [
        "필요한 라이브러리를 호출하고\n",
        "cancer 데이터를 호출하자"
      ]
    },
    {
      "cell_type": "code",
      "metadata": {
        "id": "MGu87z2B9rdI",
        "colab_type": "code",
        "colab": {}
      },
      "source": [
        "from sklearn import datasets\n",
        "from sklearn.model_selection import train_test_split\n",
        "from\n",
        "cancer = datasets.load_breast_cancer()"
      ],
      "execution_count": 0,
      "outputs": []
    },
    {
      "cell_type": "markdown",
      "metadata": {
        "id": "nNsikPoESwr8",
        "colab_type": "text"
      },
      "source": [
        "cancer 데이터 확인"
      ]
    },
    {
      "cell_type": "code",
      "metadata": {
        "id": "MZrgqCZvSd-_",
        "colab_type": "code",
        "outputId": "9f1bf9b2-2533-49ab-93fd-86a4a8454e05",
        "colab": {
          "base_uri": "https://localhost:8080/",
          "height": 973
        }
      },
      "source": [
        "cancer"
      ],
      "execution_count": 0,
      "outputs": [
        {
          "output_type": "execute_result",
          "data": {
            "text/plain": [
              "{'DESCR': '.. _breast_cancer_dataset:\\n\\nBreast cancer wisconsin (diagnostic) dataset\\n--------------------------------------------\\n\\n**Data Set Characteristics:**\\n\\n    :Number of Instances: 569\\n\\n    :Number of Attributes: 30 numeric, predictive attributes and the class\\n\\n    :Attribute Information:\\n        - radius (mean of distances from center to points on the perimeter)\\n        - texture (standard deviation of gray-scale values)\\n        - perimeter\\n        - area\\n        - smoothness (local variation in radius lengths)\\n        - compactness (perimeter^2 / area - 1.0)\\n        - concavity (severity of concave portions of the contour)\\n        - concave points (number of concave portions of the contour)\\n        - symmetry \\n        - fractal dimension (\"coastline approximation\" - 1)\\n\\n        The mean, standard error, and \"worst\" or largest (mean of the three\\n        largest values) of these features were computed for each image,\\n        resulting in 30 features.  For instance, field 3 is Mean Radius, field\\n        13 is Radius SE, field 23 is Worst Radius.\\n\\n        - class:\\n                - WDBC-Malignant\\n                - WDBC-Benign\\n\\n    :Summary Statistics:\\n\\n    ===================================== ====== ======\\n                                           Min    Max\\n    ===================================== ====== ======\\n    radius (mean):                        6.981  28.11\\n    texture (mean):                       9.71   39.28\\n    perimeter (mean):                     43.79  188.5\\n    area (mean):                          143.5  2501.0\\n    smoothness (mean):                    0.053  0.163\\n    compactness (mean):                   0.019  0.345\\n    concavity (mean):                     0.0    0.427\\n    concave points (mean):                0.0    0.201\\n    symmetry (mean):                      0.106  0.304\\n    fractal dimension (mean):             0.05   0.097\\n    radius (standard error):              0.112  2.873\\n    texture (standard error):             0.36   4.885\\n    perimeter (standard error):           0.757  21.98\\n    area (standard error):                6.802  542.2\\n    smoothness (standard error):          0.002  0.031\\n    compactness (standard error):         0.002  0.135\\n    concavity (standard error):           0.0    0.396\\n    concave points (standard error):      0.0    0.053\\n    symmetry (standard error):            0.008  0.079\\n    fractal dimension (standard error):   0.001  0.03\\n    radius (worst):                       7.93   36.04\\n    texture (worst):                      12.02  49.54\\n    perimeter (worst):                    50.41  251.2\\n    area (worst):                         185.2  4254.0\\n    smoothness (worst):                   0.071  0.223\\n    compactness (worst):                  0.027  1.058\\n    concavity (worst):                    0.0    1.252\\n    concave points (worst):               0.0    0.291\\n    symmetry (worst):                     0.156  0.664\\n    fractal dimension (worst):            0.055  0.208\\n    ===================================== ====== ======\\n\\n    :Missing Attribute Values: None\\n\\n    :Class Distribution: 212 - Malignant, 357 - Benign\\n\\n    :Creator:  Dr. William H. Wolberg, W. Nick Street, Olvi L. Mangasarian\\n\\n    :Donor: Nick Street\\n\\n    :Date: November, 1995\\n\\nThis is a copy of UCI ML Breast Cancer Wisconsin (Diagnostic) datasets.\\nhttps://goo.gl/U2Uwz2\\n\\nFeatures are computed from a digitized image of a fine needle\\naspirate (FNA) of a breast mass.  They describe\\ncharacteristics of the cell nuclei present in the image.\\n\\nSeparating plane described above was obtained using\\nMultisurface Method-Tree (MSM-T) [K. P. Bennett, \"Decision Tree\\nConstruction Via Linear Programming.\" Proceedings of the 4th\\nMidwest Artificial Intelligence and Cognitive Science Society,\\npp. 97-101, 1992], a classification method which uses linear\\nprogramming to construct a decision tree.  Relevant features\\nwere selected using an exhaustive search in the space of 1-4\\nfeatures and 1-3 separating planes.\\n\\nThe actual linear program used to obtain the separating plane\\nin the 3-dimensional space is that described in:\\n[K. P. Bennett and O. L. Mangasarian: \"Robust Linear\\nProgramming Discrimination of Two Linearly Inseparable Sets\",\\nOptimization Methods and Software 1, 1992, 23-34].\\n\\nThis database is also available through the UW CS ftp server:\\n\\nftp ftp.cs.wisc.edu\\ncd math-prog/cpo-dataset/machine-learn/WDBC/\\n\\n.. topic:: References\\n\\n   - W.N. Street, W.H. Wolberg and O.L. Mangasarian. Nuclear feature extraction \\n     for breast tumor diagnosis. IS&T/SPIE 1993 International Symposium on \\n     Electronic Imaging: Science and Technology, volume 1905, pages 861-870,\\n     San Jose, CA, 1993.\\n   - O.L. Mangasarian, W.N. Street and W.H. Wolberg. Breast cancer diagnosis and \\n     prognosis via linear programming. Operations Research, 43(4), pages 570-577, \\n     July-August 1995.\\n   - W.H. Wolberg, W.N. Street, and O.L. Mangasarian. Machine learning techniques\\n     to diagnose breast cancer from fine-needle aspirates. Cancer Letters 77 (1994) \\n     163-171.',\n",
              " 'data': array([[1.799e+01, 1.038e+01, 1.228e+02, ..., 2.654e-01, 4.601e-01,\n",
              "         1.189e-01],\n",
              "        [2.057e+01, 1.777e+01, 1.329e+02, ..., 1.860e-01, 2.750e-01,\n",
              "         8.902e-02],\n",
              "        [1.969e+01, 2.125e+01, 1.300e+02, ..., 2.430e-01, 3.613e-01,\n",
              "         8.758e-02],\n",
              "        ...,\n",
              "        [1.660e+01, 2.808e+01, 1.083e+02, ..., 1.418e-01, 2.218e-01,\n",
              "         7.820e-02],\n",
              "        [2.060e+01, 2.933e+01, 1.401e+02, ..., 2.650e-01, 4.087e-01,\n",
              "         1.240e-01],\n",
              "        [7.760e+00, 2.454e+01, 4.792e+01, ..., 0.000e+00, 2.871e-01,\n",
              "         7.039e-02]]),\n",
              " 'feature_names': array(['mean radius', 'mean texture', 'mean perimeter', 'mean area',\n",
              "        'mean smoothness', 'mean compactness', 'mean concavity',\n",
              "        'mean concave points', 'mean symmetry', 'mean fractal dimension',\n",
              "        'radius error', 'texture error', 'perimeter error', 'area error',\n",
              "        'smoothness error', 'compactness error', 'concavity error',\n",
              "        'concave points error', 'symmetry error',\n",
              "        'fractal dimension error', 'worst radius', 'worst texture',\n",
              "        'worst perimeter', 'worst area', 'worst smoothness',\n",
              "        'worst compactness', 'worst concavity', 'worst concave points',\n",
              "        'worst symmetry', 'worst fractal dimension'], dtype='<U23'),\n",
              " 'filename': '/usr/local/lib/python3.6/dist-packages/sklearn/datasets/data/breast_cancer.csv',\n",
              " 'target': array([0, 0, 0, 0, 0, 0, 0, 0, 0, 0, 0, 0, 0, 0, 0, 0, 0, 0, 0, 1, 1, 1,\n",
              "        0, 0, 0, 0, 0, 0, 0, 0, 0, 0, 0, 0, 0, 0, 0, 1, 0, 0, 0, 0, 0, 0,\n",
              "        0, 0, 1, 0, 1, 1, 1, 1, 1, 0, 0, 1, 0, 0, 1, 1, 1, 1, 0, 1, 0, 0,\n",
              "        1, 1, 1, 1, 0, 1, 0, 0, 1, 0, 1, 0, 0, 1, 1, 1, 0, 0, 1, 0, 0, 0,\n",
              "        1, 1, 1, 0, 1, 1, 0, 0, 1, 1, 1, 0, 0, 1, 1, 1, 1, 0, 1, 1, 0, 1,\n",
              "        1, 1, 1, 1, 1, 1, 1, 0, 0, 0, 1, 0, 0, 1, 1, 1, 0, 0, 1, 0, 1, 0,\n",
              "        0, 1, 0, 0, 1, 1, 0, 1, 1, 0, 1, 1, 1, 1, 0, 1, 1, 1, 1, 1, 1, 1,\n",
              "        1, 1, 0, 1, 1, 1, 1, 0, 0, 1, 0, 1, 1, 0, 0, 1, 1, 0, 0, 1, 1, 1,\n",
              "        1, 0, 1, 1, 0, 0, 0, 1, 0, 1, 0, 1, 1, 1, 0, 1, 1, 0, 0, 1, 0, 0,\n",
              "        0, 0, 1, 0, 0, 0, 1, 0, 1, 0, 1, 1, 0, 1, 0, 0, 0, 0, 1, 1, 0, 0,\n",
              "        1, 1, 1, 0, 1, 1, 1, 1, 1, 0, 0, 1, 1, 0, 1, 1, 0, 0, 1, 0, 1, 1,\n",
              "        1, 1, 0, 1, 1, 1, 1, 1, 0, 1, 0, 0, 0, 0, 0, 0, 0, 0, 0, 0, 0, 0,\n",
              "        0, 0, 1, 1, 1, 1, 1, 1, 0, 1, 0, 1, 1, 0, 1, 1, 0, 1, 0, 0, 1, 1,\n",
              "        1, 1, 1, 1, 1, 1, 1, 1, 1, 1, 1, 0, 1, 1, 0, 1, 0, 1, 1, 1, 1, 1,\n",
              "        1, 1, 1, 1, 1, 1, 1, 1, 1, 0, 1, 1, 1, 0, 1, 0, 1, 1, 1, 1, 0, 0,\n",
              "        0, 1, 1, 1, 1, 0, 1, 0, 1, 0, 1, 1, 1, 0, 1, 1, 1, 1, 1, 1, 1, 0,\n",
              "        0, 0, 1, 1, 1, 1, 1, 1, 1, 1, 1, 1, 1, 0, 0, 1, 0, 0, 0, 1, 0, 0,\n",
              "        1, 1, 1, 1, 1, 0, 1, 1, 1, 1, 1, 0, 1, 1, 1, 0, 1, 1, 0, 0, 1, 1,\n",
              "        1, 1, 1, 1, 0, 1, 1, 1, 1, 1, 1, 1, 0, 1, 1, 1, 1, 1, 0, 1, 1, 0,\n",
              "        1, 1, 1, 1, 1, 1, 1, 1, 1, 1, 1, 1, 0, 1, 0, 0, 1, 0, 1, 1, 1, 1,\n",
              "        1, 0, 1, 1, 0, 1, 0, 1, 1, 0, 1, 0, 1, 1, 1, 1, 1, 1, 1, 1, 0, 0,\n",
              "        1, 1, 1, 1, 1, 1, 0, 1, 1, 1, 1, 1, 1, 1, 1, 1, 1, 0, 1, 1, 1, 1,\n",
              "        1, 1, 1, 0, 1, 0, 1, 1, 0, 1, 1, 1, 1, 1, 0, 0, 1, 0, 1, 0, 1, 1,\n",
              "        1, 1, 1, 0, 1, 1, 0, 1, 0, 1, 0, 0, 1, 1, 1, 0, 1, 1, 1, 1, 1, 1,\n",
              "        1, 1, 1, 1, 1, 0, 1, 0, 0, 1, 1, 1, 1, 1, 1, 1, 1, 1, 1, 1, 1, 1,\n",
              "        1, 1, 1, 1, 1, 1, 1, 1, 1, 1, 1, 1, 0, 0, 0, 0, 0, 0, 1]),\n",
              " 'target_names': array(['malignant', 'benign'], dtype='<U9')}"
            ]
          },
          "metadata": {
            "tags": []
          },
          "execution_count": 66
        }
      ]
    },
    {
      "cell_type": "code",
      "metadata": {
        "id": "P0uGW71W-rW2",
        "colab_type": "code",
        "outputId": "873512ee-3aca-4c77-96e6-5264aa72e98f",
        "colab": {
          "base_uri": "https://localhost:8080/",
          "height": 197
        }
      },
      "source": [
        "cancer.feature_names"
      ],
      "execution_count": 0,
      "outputs": [
        {
          "output_type": "execute_result",
          "data": {
            "text/plain": [
              "array(['mean radius', 'mean texture', 'mean perimeter', 'mean area',\n",
              "       'mean smoothness', 'mean compactness', 'mean concavity',\n",
              "       'mean concave points', 'mean symmetry', 'mean fractal dimension',\n",
              "       'radius error', 'texture error', 'perimeter error', 'area error',\n",
              "       'smoothness error', 'compactness error', 'concavity error',\n",
              "       'concave points error', 'symmetry error',\n",
              "       'fractal dimension error', 'worst radius', 'worst texture',\n",
              "       'worst perimeter', 'worst area', 'worst smoothness',\n",
              "       'worst compactness', 'worst concavity', 'worst concave points',\n",
              "       'worst symmetry', 'worst fractal dimension'], dtype='<U23')"
            ]
          },
          "metadata": {
            "tags": []
          },
          "execution_count": 67
        }
      ]
    },
    {
      "cell_type": "code",
      "metadata": {
        "id": "4f6pgZ6x-3rt",
        "colab_type": "code",
        "outputId": "80f1f470-daff-4012-8422-f2796ccef499",
        "colab": {
          "base_uri": "https://localhost:8080/",
          "height": 35
        }
      },
      "source": [
        "cancer.data.shape"
      ],
      "execution_count": 0,
      "outputs": [
        {
          "output_type": "execute_result",
          "data": {
            "text/plain": [
              "(569, 30)"
            ]
          },
          "metadata": {
            "tags": []
          },
          "execution_count": 68
        }
      ]
    },
    {
      "cell_type": "code",
      "metadata": {
        "id": "uO5yURFx-54N",
        "colab_type": "code",
        "colab": {}
      },
      "source": [
        "cancer.data[0:5]"
      ],
      "execution_count": 0,
      "outputs": []
    },
    {
      "cell_type": "code",
      "metadata": {
        "id": "VpoORW28--GL",
        "colab_type": "code",
        "colab": {}
      },
      "source": [
        "cancer.target"
      ],
      "execution_count": 0,
      "outputs": []
    },
    {
      "cell_type": "code",
      "metadata": {
        "id": "GZcKA4Wu_C7z",
        "colab_type": "code",
        "outputId": "f1f8f870-e04f-4ada-d0dc-3214bd72c1b0",
        "colab": {
          "base_uri": "https://localhost:8080/",
          "height": 35
        }
      },
      "source": [
        "cancer.target_names"
      ],
      "execution_count": 0,
      "outputs": [
        {
          "output_type": "execute_result",
          "data": {
            "text/plain": [
              "array(['malignant', 'benign'], dtype='<U9')"
            ]
          },
          "metadata": {
            "tags": []
          },
          "execution_count": 12
        }
      ]
    },
    {
      "cell_type": "markdown",
      "metadata": {
        "id": "1Tx86QRFS1QF",
        "colab_type": "text"
      },
      "source": [
        "입력 데이터 : cancer.data - 암 수치 데이터\n",
        "\n",
        "출력 데이터 : cancer.target - 암 발병 여부\n",
        "\n",
        "입력 데이터 와 출력데이터를 훈련셋과 테스트셋으로나누어 주자"
      ]
    },
    {
      "cell_type": "code",
      "metadata": {
        "id": "lYoD4lXU_GSM",
        "colab_type": "code",
        "colab": {}
      },
      "source": [
        "xtrain,xtest,ytrain,ytest = train_test_split(cancer.data,cancer.target,test_size=0.3,random_state=0)"
      ],
      "execution_count": 0,
      "outputs": []
    },
    {
      "cell_type": "markdown",
      "metadata": {
        "id": "XNsmo9o-TH18",
        "colab_type": "text"
      },
      "source": [
        "이번 예측 모델은 SVM을 사용 할 것이다. 라이브러리 호출해주고\n",
        "\n",
        "선형 커널을 사용해서 모델을 생성해주자."
      ]
    },
    {
      "cell_type": "code",
      "metadata": {
        "id": "n-OEi0pZ_wC8",
        "colab_type": "code",
        "colab": {}
      },
      "source": [
        "from sklearn import svm\n",
        "clf = svm.SVC(kernel='linear')"
      ],
      "execution_count": 0,
      "outputs": []
    },
    {
      "cell_type": "markdown",
      "metadata": {
        "id": "Yt0661_dTPUD",
        "colab_type": "text"
      },
      "source": [
        "만든 clf 모델에 xtrain,ytrain 데이터를 fit해주자"
      ]
    },
    {
      "cell_type": "code",
      "metadata": {
        "id": "mu62gOOuAD_M",
        "colab_type": "code",
        "outputId": "1e8cfa6e-197d-4b43-8d8e-67dc793dd68b",
        "colab": {
          "base_uri": "https://localhost:8080/",
          "height": 89
        }
      },
      "source": [
        "clf.fit(xtrain,ytrain)"
      ],
      "execution_count": 0,
      "outputs": [
        {
          "output_type": "execute_result",
          "data": {
            "text/plain": [
              "SVC(C=1.0, cache_size=200, class_weight=None, coef0=0.0,\n",
              "  decision_function_shape='ovr', degree=3, gamma='auto_deprecated',\n",
              "  kernel='linear', max_iter=-1, probability=False, random_state=None,\n",
              "  shrinking=True, tol=0.001, verbose=False)"
            ]
          },
          "metadata": {
            "tags": []
          },
          "execution_count": 21
        }
      ]
    },
    {
      "cell_type": "markdown",
      "metadata": {
        "id": "3z9gBz6fTT7N",
        "colab_type": "text"
      },
      "source": [
        "테스트셋을 모델에 입력해 이후 값을 예측해보자."
      ]
    },
    {
      "cell_type": "code",
      "metadata": {
        "id": "jWm8hWxFAHxz",
        "colab_type": "code",
        "colab": {}
      },
      "source": [
        "yResult = clf.predict(xtest)"
      ],
      "execution_count": 0,
      "outputs": []
    },
    {
      "cell_type": "markdown",
      "metadata": {
        "id": "EtScv5JwTa-r",
        "colab_type": "text"
      },
      "source": [
        "accuracy(정확도)\n",
        "(양성이든 음성이든 상관없이) 예측한 것들 중에서 얼마나 맞추었는가?\n",
        "\n",
        "precision\n",
        "양성으로 예측한 놈들 중에서, 실제로 양성인 놈이 얼마나 있는가?\n",
        "\n",
        "모델의 성능을 accuracy와 precision으로 평가한다."
      ]
    },
    {
      "cell_type": "code",
      "metadata": {
        "id": "Wtb0hIePAO0D",
        "colab_type": "code",
        "outputId": "c90518a7-a303-4c0e-dccf-220733cb935b",
        "colab": {
          "base_uri": "https://localhost:8080/",
          "height": 35
        }
      },
      "source": [
        "from sklearn import metrics\n",
        "metrics.accuracy_score(ytest,yResult), metrics.precision_score(ytest,yResult)"
      ],
      "execution_count": 0,
      "outputs": [
        {
          "output_type": "execute_result",
          "data": {
            "text/plain": [
              "(0.9590643274853801, 0.9809523809523809)"
            ]
          },
          "metadata": {
            "tags": []
          },
          "execution_count": 27
        }
      ]
    },
    {
      "cell_type": "markdown",
      "metadata": {
        "id": "Y_KpPJ2zTriD",
        "colab_type": "text"
      },
      "source": [
        "이번에는 붓꽃데이터로 예측해보자.\n",
        "\n",
        "라이브러리를 호출해주고 붓꽃데이터를 호출한다~"
      ]
    },
    {
      "cell_type": "code",
      "metadata": {
        "id": "LytSL4ztAyGC",
        "colab_type": "code",
        "colab": {}
      },
      "source": [
        "from sklearn import datasets\n",
        "from sklearn.model_selection import train_test_split\n",
        "\n",
        "iris = datasets.load_iris()"
      ],
      "execution_count": 0,
      "outputs": []
    },
    {
      "cell_type": "code",
      "metadata": {
        "id": "dWsJGGggUB-b",
        "colab_type": "code",
        "colab": {}
      },
      "source": [
        "iris"
      ],
      "execution_count": 0,
      "outputs": []
    },
    {
      "cell_type": "markdown",
      "metadata": {
        "id": "w3XZRHwRUTAz",
        "colab_type": "text"
      },
      "source": [
        "sepal.length, sepal.width을 이용해 결과를 예측해보자\n",
        "\n",
        "입력 데이터 : iris.data - 붓꽃 수치 데이터(sepal.length, sepal.width)\n",
        "\n",
        "출력 데이터 : cancer.target - 붓꽃 품종 데이터\n"
      ]
    },
    {
      "cell_type": "code",
      "metadata": {
        "id": "WJm5-NNoEyeY",
        "colab_type": "code",
        "colab": {}
      },
      "source": [
        "x = iris.data[:,:2] \n",
        "y = iris.target"
      ],
      "execution_count": 0,
      "outputs": []
    },
    {
      "cell_type": "code",
      "metadata": {
        "id": "WtwSOkrdE5cA",
        "colab_type": "code",
        "outputId": "de2389e2-7ef6-4a17-a6a2-44c662b26ec4",
        "colab": {
          "base_uri": "https://localhost:8080/",
          "height": 35
        }
      },
      "source": [
        "x.shape,y.shape"
      ],
      "execution_count": 0,
      "outputs": [
        {
          "output_type": "execute_result",
          "data": {
            "text/plain": [
              "((150, 2), (150,))"
            ]
          },
          "metadata": {
            "tags": []
          },
          "execution_count": 30
        }
      ]
    },
    {
      "cell_type": "markdown",
      "metadata": {
        "id": "LG7jBTpJU2Iz",
        "colab_type": "text"
      },
      "source": [
        "plt.scatter를 이용해 어떻게 분포되어있는지 산점도로 확인한다."
      ]
    },
    {
      "cell_type": "code",
      "metadata": {
        "id": "qoZYVMoTE7vo",
        "colab_type": "code",
        "outputId": "e8dba2d7-ca73-4051-9da2-b759a6fd1fbb",
        "colab": {
          "base_uri": "https://localhost:8080/",
          "height": 365
        }
      },
      "source": [
        "import matplotlib.pyplot as plt\n",
        "plt.scatter(x[:,0],x[:,1],c=y,cmap=plt.cm.coolwarm)\n",
        "plt.show"
      ],
      "execution_count": 0,
      "outputs": [
        {
          "output_type": "execute_result",
          "data": {
            "text/plain": [
              "<function matplotlib.pyplot.show>"
            ]
          },
          "metadata": {
            "tags": []
          },
          "execution_count": 32
        },
        {
          "output_type": "display_data",
          "data": {
            "image/png": "[encoded data removed]",
            "text/plain": [
              "<Figure size 576x396 with 1 Axes>"
            ]
          },
          "metadata": {
            "tags": []
          }
        }
      ]
    },
    {
      "cell_type": "code",
      "metadata": {
        "id": "wSfcv_lQFGd5",
        "colab_type": "code",
        "colab": {}
      },
      "source": [
        "from sklearn import svm, datasets"
      ],
      "execution_count": 0,
      "outputs": []
    },
    {
      "cell_type": "markdown",
      "metadata": {
        "id": "e-Dg766OVh9y",
        "colab_type": "text"
      },
      "source": [
        "---\n",
        "\n",
        "**감마 매개변수**\n",
        "\n",
        "* gamma 매개변수는 앞 절의 공식에 나와 있는 γ로 가우시안 커널 폭의 역수에 해당합니다. gamma 매개변수가 하나의 훈련 샘플이 미치는 영향의 범위를 결정합니다. 작은 값은 넓은 영역을 의미하며 큰 값일 경우 영향이 미치는 범위가 제한적입니다. 다른 말로 하면, 가우시안 커널의 반경이 클수록 훈련 샘플의 영향 범위도 커집니다.\n",
        "\n",
        "* 작은 gamma 값이 결정 경계를 천천히 바뀌게 하므로 모델의 복잡도를 낮춥니다. 반면에 큰 gamma 값은 더 복잡한 모델을 만듭니다.\n",
        " \n",
        "* train data 하나가 영향을 끼치는 범위 조절\n",
        "\n",
        "* gamma값 증가 --> 영향 범위 감소\n",
        "\n",
        "**C 매개변수**\n",
        "\n",
        "* cost\n",
        "\n",
        "* C 매개변수는 선형 모델에서 사용한 것과 비슷한 규제 매개변수입니다. 이 매개변수는 각 포인트의 중요도(정확히는 dual_coef_ 값)를 제한합니다\n",
        "\n",
        "* C를 증가시키면 이 포인트들이 모델에 큰 영향을 주며 결정 경계를 휘어서 정확하게 분류하게 합니다.\n",
        "\n",
        "* cost값 증가 --> train data를 최대한 만족 --> margin 감소 --> 새로운 data 적용시, 오류 발생 가능성 증가\n",
        "\n",
        "**Grid Search**\n",
        "\n",
        "* cost-gamma table 형성 --> 그 중, 성능 높은것을 찾는다\n",
        "\n",
        "\n",
        "\n",
        "![image](https://tensorflowkorea.files.wordpress.com/2017/06/2-42.png?w=625)\n",
        "\n",
        "\n",
        "---"
      ]
    },
    {
      "cell_type": "markdown",
      "metadata": {
        "id": "D0WdKMEuWvJR",
        "colab_type": "text"
      },
      "source": [
        "**커널함수란**\n",
        "\n",
        "선형 분류가 불가능한 데이터에 대한 처리를 하기 위해 데이터의 차원을 증가시켜 하나의 초평면으로 분류할 수 있도록 도와주는 함수\n",
        "\n",
        "커널을 사용하면 베이시스 함수를 하나씩 정의하는 수고를 덜 수 있을뿐더러 변환과 내적에 들어가는 계산량이 줄어든다\n",
        "\n",
        "**커널종류**\n",
        "\n",
        "선형 서포트 벡터 머신\n",
        "\n",
        "다항 커널 (Polynomial Kernel)\n",
        "\n",
        "RBF(Radial Basis Function) 또는 가우시안 커널(Gaussian Kernel)\n",
        "\n",
        "시그모이드 커널 (Sigmoid Kernel)\n"
      ]
    },
    {
      "cell_type": "markdown",
      "metadata": {
        "id": "WRaZyYWhXlGo",
        "colab_type": "text"
      },
      "source": [
        "svm 모델을 만들어 준다.\n",
        "\n",
        "이때 커널은 linear와 poly를 이용해 2개 생성한다.\n",
        "생성 후 x,y를 fit해준다."
      ]
    },
    {
      "cell_type": "code",
      "metadata": {
        "id": "80PP4cEZFUu4",
        "colab_type": "code",
        "outputId": "6d36c108-d841-4494-b9b4-def8164f2597",
        "colab": {
          "base_uri": "https://localhost:8080/",
          "height": 89
        }
      },
      "source": [
        "svc = svm.SVC(kernel='linear',C=1.0)\n",
        "svc.fit(x,y)\n",
        "ply_svc = svm.SVC(kernel='poly',degree=3,C=1.0,gamma=0.7)\n",
        "ply_svc.fit(x,y)"
      ],
      "execution_count": 0,
      "outputs": [
        {
          "output_type": "execute_result",
          "data": {
            "text/plain": [
              "SVC(C=1.0, cache_size=200, class_weight=None, coef0=0.0,\n",
              "  decision_function_shape='ovr', degree=3, gamma=0.7, kernel='poly',\n",
              "  max_iter=-1, probability=False, random_state=None, shrinking=True,\n",
              "  tol=0.001, verbose=False)"
            ]
          },
          "metadata": {
            "tags": []
          },
          "execution_count": 39
        }
      ]
    },
    {
      "cell_type": "markdown",
      "metadata": {
        "id": "8_wUgbCmXz6A",
        "colab_type": "text"
      },
      "source": [
        "두 모델로 예측해보자"
      ]
    },
    {
      "cell_type": "code",
      "metadata": {
        "id": "OtqfIHRtFfkI",
        "colab_type": "code",
        "outputId": "82f688d8-2ce6-4af6-c81b-894f92f83aa2",
        "colab": {
          "base_uri": "https://localhost:8080/",
          "height": 35
        }
      },
      "source": [
        "svc.predict([[5.2,3.5]])"
      ],
      "execution_count": 0,
      "outputs": [
        {
          "output_type": "execute_result",
          "data": {
            "text/plain": [
              "array([0])"
            ]
          },
          "metadata": {
            "tags": []
          },
          "execution_count": 41
        }
      ]
    },
    {
      "cell_type": "code",
      "metadata": {
        "id": "Fw3xlKw-Gadn",
        "colab_type": "code",
        "outputId": "7d3b7ba0-d6bd-4585-dfca-b0fb628d6070",
        "colab": {
          "base_uri": "https://localhost:8080/",
          "height": 35
        }
      },
      "source": [
        "ply_svc.predict([[5.2,3.5]])"
      ],
      "execution_count": 0,
      "outputs": [
        {
          "output_type": "execute_result",
          "data": {
            "text/plain": [
              "array([0])"
            ]
          },
          "metadata": {
            "tags": []
          },
          "execution_count": 42
        }
      ]
    },
    {
      "cell_type": "markdown",
      "metadata": {
        "id": "CJRHRbztXvwJ",
        "colab_type": "text"
      },
      "source": [
        "모델의 정확성을 평가하면 다음과 같다."
      ]
    },
    {
      "cell_type": "code",
      "metadata": {
        "id": "XWMDKgGaG6L2",
        "colab_type": "code",
        "outputId": "d44d5361-075c-463a-ba16-4b20a89273d8",
        "colab": {
          "base_uri": "https://localhost:8080/",
          "height": 35
        }
      },
      "source": [
        "from sklearn import metrics\n",
        "metrics.accuracy_score(svc.predict([[5.2,3.5]]),[0])"
      ],
      "execution_count": 0,
      "outputs": [
        {
          "output_type": "execute_result",
          "data": {
            "text/plain": [
              "1.0"
            ]
          },
          "metadata": {
            "tags": []
          },
          "execution_count": 48
        }
      ]
    },
    {
      "cell_type": "markdown",
      "metadata": {
        "id": "ziz2291WX3lX",
        "colab_type": "text"
      },
      "source": [
        "마지막으로 digits 데이터로 SVM 모델을 만들어 예측해보자."
      ]
    },
    {
      "cell_type": "code",
      "metadata": {
        "id": "d0Jor8f5If3t",
        "colab_type": "code",
        "colab": {}
      },
      "source": [
        "digits = datasets.load_digits()"
      ],
      "execution_count": 0,
      "outputs": []
    },
    {
      "cell_type": "markdown",
      "metadata": {
        "id": "uQHjMjsPX8GH",
        "colab_type": "text"
      },
      "source": [
        "기본 svm 모델 clf 와\n",
        "\n",
        "감마와 C를 조정한 모델 clf2를 생성해준다."
      ]
    },
    {
      "cell_type": "code",
      "metadata": {
        "id": "yI36XOpUIeBk",
        "colab_type": "code",
        "colab": {}
      },
      "source": [
        "clf = svm.SVC()\n",
        "clf2 = svm.SVC(gamma = 0.01, C = 100)"
      ],
      "execution_count": 0,
      "outputs": []
    },
    {
      "cell_type": "markdown",
      "metadata": {
        "id": "Tj5JNLSlYD3A",
        "colab_type": "text"
      },
      "source": [
        "data 데이터와 target 데이터의 형태를 확인하고\n",
        "\n",
        "입력데이터 x와 출력데이터 y에 넣어준다."
      ]
    },
    {
      "cell_type": "code",
      "metadata": {
        "id": "3TDvokVzJH_1",
        "colab_type": "code",
        "colab": {}
      },
      "source": [
        "#digits.data[:-10],digits.target[:-10]\n",
        "x,y = digits.data[:-10],digits.target[:-10]"
      ],
      "execution_count": 0,
      "outputs": []
    },
    {
      "cell_type": "markdown",
      "metadata": {
        "id": "cBRAANRLYK7g",
        "colab_type": "text"
      },
      "source": [
        "두 모델에 데이터를 fit~~~"
      ]
    },
    {
      "cell_type": "code",
      "metadata": {
        "id": "HMcN2t70JW8F",
        "colab_type": "code",
        "outputId": "787863a5-558c-4e1f-c50f-0bca40680ce4",
        "colab": {
          "base_uri": "https://localhost:8080/",
          "height": 145
        }
      },
      "source": [
        "clf.fit(x,y)\n",
        "clf2.fit(x,y)"
      ],
      "execution_count": 0,
      "outputs": [
        {
          "output_type": "stream",
          "text": [
            "/usr/local/lib/python3.6/dist-packages/sklearn/svm/base.py:196: FutureWarning: The default value of gamma will change from 'auto' to 'scale' in version 0.22 to account better for unscaled features. Set gamma explicitly to 'auto' or 'scale' to avoid this warning.\n",
            "  \"avoid this warning.\", FutureWarning)\n"
          ],
          "name": "stderr"
        },
        {
          "output_type": "execute_result",
          "data": {
            "text/plain": [
              "SVC(C=100, cache_size=200, class_weight=None, coef0=0.0,\n",
              "  decision_function_shape='ovr', degree=3, gamma=0.01, kernel='rbf',\n",
              "  max_iter=-1, probability=False, random_state=None, shrinking=True,\n",
              "  tol=0.001, verbose=False)"
            ]
          },
          "metadata": {
            "tags": []
          },
          "execution_count": 54
        }
      ]
    },
    {
      "cell_type": "markdown",
      "metadata": {
        "id": "2HcZrj96YOzH",
        "colab_type": "text"
      },
      "source": [
        "-5 번 데이터의 이미지를 확인해보자.\n",
        "\n",
        "9와 같은 형태의 이미지가 출력된다."
      ]
    },
    {
      "cell_type": "code",
      "metadata": {
        "id": "glIcK5d6Jc89",
        "colab_type": "code",
        "outputId": "4e579e96-8f3e-4677-f7f5-da19bfefc241",
        "colab": {
          "base_uri": "https://localhost:8080/",
          "height": 365
        }
      },
      "source": [
        "#digits.data[-5]\n",
        "import matplotlib.pyplot as plt\n",
        "plt.imshow(digits.images[-5],cmap=plt.cm.gray_r)\n",
        "plt.show"
      ],
      "execution_count": 0,
      "outputs": [
        {
          "output_type": "execute_result",
          "data": {
            "text/plain": [
              "<function matplotlib.pyplot.show>"
            ]
          },
          "metadata": {
            "tags": []
          },
          "execution_count": 58
        },
        {
          "output_type": "display_data",
          "data": {
            "image/png": "[encoded data removed]",
            "text/plain": [
              "<Figure size 576x396 with 1 Axes>"
            ]
          },
          "metadata": {
            "tags": []
          }
        }
      ]
    },
    {
      "cell_type": "markdown",
      "metadata": {
        "id": "GMuOxKY4YWB3",
        "colab_type": "text"
      },
      "source": [
        "-5번의 data 데이터를 모델에 입력해 결과를 예측해보자.\n",
        "\n",
        "그냥 입력시 모델에 입력하는 데이터의 형태와 달라 오류가 난다 reshape를 해주자.\n",
        "\n",
        "결과확인"
      ]
    },
    {
      "cell_type": "code",
      "metadata": {
        "id": "xMYtVohxJp-1",
        "colab_type": "code",
        "outputId": "db35f70c-a0d3-411a-f4c0-e84b36b61a24",
        "colab": {
          "base_uri": "https://localhost:8080/",
          "height": 35
        }
      },
      "source": [
        "rResult = clf.predict(digits.data[-5].reshape(1,-1))\n",
        "rResult2 = clf2.predict(digits.data[-5].reshape(1,-1))\n",
        "rResult,rResult2"
      ],
      "execution_count": 0,
      "outputs": [
        {
          "output_type": "execute_result",
          "data": {
            "text/plain": [
              "(array([9]), array([9]))"
            ]
          },
          "metadata": {
            "tags": []
          },
          "execution_count": 62
        }
      ]
    },
    {
      "cell_type": "markdown",
      "metadata": {
        "id": "pcCkI7vSYilq",
        "colab_type": "text"
      },
      "source": [
        "모델의 정확성을 확인하자."
      ]
    },
    {
      "cell_type": "code",
      "metadata": {
        "id": "L04DdacwMIFi",
        "colab_type": "code",
        "outputId": "a41f8ad5-68c8-4443-d8fe-f5ae38829f53",
        "colab": {
          "base_uri": "https://localhost:8080/",
          "height": 35
        }
      },
      "source": [
        "metrics.accuracy_score(rResult,digits.target[-5].reshape(1,-1))"
      ],
      "execution_count": 0,
      "outputs": [
        {
          "output_type": "execute_result",
          "data": {
            "text/plain": [
              "1.0"
            ]
          },
          "metadata": {
            "tags": []
          },
          "execution_count": 65
        }
      ]
    },
    {
      "cell_type": "code",
      "metadata": {
        "id": "Ru5_7LNcMiNC",
        "colab_type": "code",
        "colab": {}
      },
      "source": [
        ""
      ],
      "execution_count": 0,
      "outputs": []
    }
  ]
}