{
  "nbformat": 4,
  "nbformat_minor": 0,
  "metadata": {
    "colab": {
      "name": "Team_Sheet.ipynb",
      "version": "0.3.2",
      "provenance": [],
      "collapsed_sections": [],
      "include_colab_link": true
    },
    "kernelspec": {
      "name": "python3",
      "display_name": "Python 3"
    }
  },
  "cells": [
    {
      "cell_type": "markdown",
      "metadata": {
        "id": "view-in-github",
        "colab_type": "text"
      },
      "source": [
        "<a href=\"https://colab.research.google.com/github/multi-proj/API/blob/master/Soccer_Team/Team_Sheet_20190514.ipynb\" target=\"_parent\"><img src=\"https://colab.research.google.com/assets/colab-badge.svg\" alt=\"Open In Colab\"/></a>"
      ]
    },
    {
      "cell_type": "code",
      "metadata": {
        "id": "ZlKNGHm7vQh6",
        "colab_type": "code",
        "colab": {}
      },
      "source": [
        "from selenium import webdriver"
      ],
      "execution_count": 0,
      "outputs": []
    },
    {
      "cell_type": "code",
      "metadata": {
        "id": "7WDtdpty77tJ",
        "colab_type": "code",
        "colab": {}
      },
      "source": [
        "!pip install selenium\n",
        "!apt install chromium-chromedriver"
      ],
      "execution_count": 0,
      "outputs": []
    },
    {
      "cell_type": "code",
      "metadata": {
        "id": "Kw0c1id9vngR",
        "colab_type": "code",
        "colab": {
          "base_uri": "https://localhost:8080/",
          "height": 53
        },
        "outputId": "87a91e1b-47cf-4cf7-bd39-e93caa1cfa59"
      },
      "source": [
        "!pip install -U -q Pydrive\n",
        "from pydrive.auth import GoogleAuth\n",
        "from pydrive.drive import GoogleDrive\n",
        "from google.colab import auth\n",
        "from oauth2client.client import GoogleCredentials\n",
        "\n",
        "# Authenticate and create the PyDrive client.\n",
        "auth.authenticate_user()\n",
        "gauth = GoogleAuth()\n",
        "gauth.credentials = GoogleCredentials.get_application_default()\n",
        "drive = GoogleDrive(gauth)"
      ],
      "execution_count": 5,
      "outputs": [
        {
          "output_type": "stream",
          "text": [
            "\u001b[?25l\r\u001b[K     |▎                               | 10kB 18.1MB/s eta 0:00:01\r\u001b[K     |▋                               | 20kB 3.1MB/s eta 0:00:01\r\u001b[K     |█                               | 30kB 4.5MB/s eta 0:00:01\r\u001b[K     |█▎                              | 40kB 3.0MB/s eta 0:00:01\r\u001b[K     |█▋                              | 51kB 3.7MB/s eta 0:00:01\r\u001b[K     |██                              | 61kB 4.4MB/s eta 0:00:01\r\u001b[K     |██▎                             | 71kB 5.0MB/s eta 0:00:01\r\u001b[K     |██▋                             | 81kB 5.7MB/s eta 0:00:01\r\u001b[K     |███                             | 92kB 6.3MB/s eta 0:00:01\r\u001b[K     |███▎                            | 102kB 4.9MB/s eta 0:00:01\r\u001b[K     |███▋                            | 112kB 4.9MB/s eta 0:00:01\r\u001b[K     |████                            | 122kB 4.9MB/s eta 0:00:01\r\u001b[K     |████▎                           | 133kB 4.9MB/s eta 0:00:01\r\u001b[K     |████▋                           | 143kB 4.9MB/s eta 0:00:01\r\u001b[K     |█████                           | 153kB 4.9MB/s eta 0:00:01\r\u001b[K     |█████▎                          | 163kB 4.9MB/s eta 0:00:01\r\u001b[K     |█████▋                          | 174kB 4.9MB/s eta 0:00:01\r\u001b[K     |██████                          | 184kB 4.9MB/s eta 0:00:01\r\u001b[K     |██████▎                         | 194kB 4.9MB/s eta 0:00:01\r\u001b[K     |██████▋                         | 204kB 4.9MB/s eta 0:00:01\r\u001b[K     |███████                         | 215kB 4.9MB/s eta 0:00:01\r\u001b[K     |███████▎                        | 225kB 4.9MB/s eta 0:00:01\r\u001b[K     |███████▋                        | 235kB 4.9MB/s eta 0:00:01\r\u001b[K     |████████                        | 245kB 4.9MB/s eta 0:00:01\r\u001b[K     |████████▎                       | 256kB 4.9MB/s eta 0:00:01\r\u001b[K     |████████▋                       | 266kB 4.9MB/s eta 0:00:01\r\u001b[K     |█████████                       | 276kB 4.9MB/s eta 0:00:01\r\u001b[K     |█████████▎                      | 286kB 4.9MB/s eta 0:00:01\r\u001b[K     |█████████▋                      | 296kB 4.9MB/s eta 0:00:01\r\u001b[K     |██████████                      | 307kB 4.9MB/s eta 0:00:01\r\u001b[K     |██████████▎                     | 317kB 4.9MB/s eta 0:00:01\r\u001b[K     |██████████▋                     | 327kB 4.9MB/s eta 0:00:01\r\u001b[K     |███████████                     | 337kB 4.9MB/s eta 0:00:01\r\u001b[K     |███████████▎                    | 348kB 4.9MB/s eta 0:00:01\r\u001b[K     |███████████▋                    | 358kB 4.9MB/s eta 0:00:01\r\u001b[K     |████████████                    | 368kB 4.9MB/s eta 0:00:01\r\u001b[K     |████████████▎                   | 378kB 4.9MB/s eta 0:00:01\r\u001b[K     |████████████▋                   | 389kB 4.9MB/s eta 0:00:01\r\u001b[K     |█████████████                   | 399kB 4.9MB/s eta 0:00:01\r\u001b[K     |█████████████▎                  | 409kB 4.9MB/s eta 0:00:01\r\u001b[K     |█████████████▋                  | 419kB 4.9MB/s eta 0:00:01\r\u001b[K     |██████████████                  | 430kB 4.9MB/s eta 0:00:01\r\u001b[K     |██████████████▎                 | 440kB 4.9MB/s eta 0:00:01\r\u001b[K     |██████████████▋                 | 450kB 4.9MB/s eta 0:00:01\r\u001b[K     |███████████████                 | 460kB 4.9MB/s eta 0:00:01\r\u001b[K     |███████████████▎                | 471kB 4.9MB/s eta 0:00:01\r\u001b[K     |███████████████▋                | 481kB 4.9MB/s eta 0:00:01\r\u001b[K     |████████████████                | 491kB 4.9MB/s eta 0:00:01\r\u001b[K     |████████████████▎               | 501kB 4.9MB/s eta 0:00:01\r\u001b[K     |████████████████▋               | 512kB 4.9MB/s eta 0:00:01\r\u001b[K     |█████████████████               | 522kB 4.9MB/s eta 0:00:01\r\u001b[K     |█████████████████▎              | 532kB 4.9MB/s eta 0:00:01\r\u001b[K     |█████████████████▋              | 542kB 4.9MB/s eta 0:00:01\r\u001b[K     |██████████████████              | 552kB 4.9MB/s eta 0:00:01\r\u001b[K     |██████████████████▎             | 563kB 4.9MB/s eta 0:00:01\r\u001b[K     |██████████████████▋             | 573kB 4.9MB/s eta 0:00:01\r\u001b[K     |███████████████████             | 583kB 4.9MB/s eta 0:00:01\r\u001b[K     |███████████████████▎            | 593kB 4.9MB/s eta 0:00:01\r\u001b[K     |███████████████████▋            | 604kB 4.9MB/s eta 0:00:01\r\u001b[K     |████████████████████            | 614kB 4.9MB/s eta 0:00:01\r\u001b[K     |████████████████████▎           | 624kB 4.9MB/s eta 0:00:01\r\u001b[K     |████████████████████▋           | 634kB 4.9MB/s eta 0:00:01\r\u001b[K     |█████████████████████           | 645kB 4.9MB/s eta 0:00:01\r\u001b[K     |█████████████████████▎          | 655kB 4.9MB/s eta 0:00:01\r\u001b[K     |█████████████████████▋          | 665kB 4.9MB/s eta 0:00:01\r\u001b[K     |██████████████████████          | 675kB 4.9MB/s eta 0:00:01\r\u001b[K     |██████████████████████▎         | 686kB 4.9MB/s eta 0:00:01\r\u001b[K     |██████████████████████▋         | 696kB 4.9MB/s eta 0:00:01\r\u001b[K     |███████████████████████         | 706kB 4.9MB/s eta 0:00:01\r\u001b[K     |███████████████████████▎        | 716kB 4.9MB/s eta 0:00:01\r\u001b[K     |███████████████████████▋        | 727kB 4.9MB/s eta 0:00:01\r\u001b[K     |████████████████████████        | 737kB 4.9MB/s eta 0:00:01\r\u001b[K     |████████████████████████▎       | 747kB 4.9MB/s eta 0:00:01\r\u001b[K     |████████████████████████▋       | 757kB 4.9MB/s eta 0:00:01\r\u001b[K     |████████████████████████▉       | 768kB 4.9MB/s eta 0:00:01\r\u001b[K     |█████████████████████████▏      | 778kB 4.9MB/s eta 0:00:01\r\u001b[K     |█████████████████████████▌      | 788kB 4.9MB/s eta 0:00:01\r\u001b[K     |█████████████████████████▉      | 798kB 4.9MB/s eta 0:00:01\r\u001b[K     |██████████████████████████▏     | 808kB 4.9MB/s eta 0:00:01\r\u001b[K     |██████████████████████████▌     | 819kB 4.9MB/s eta 0:00:01\r\u001b[K     |██████████████████████████▉     | 829kB 4.9MB/s eta 0:00:01\r\u001b[K     |███████████████████████████▏    | 839kB 4.9MB/s eta 0:00:01\r\u001b[K     |███████████████████████████▌    | 849kB 4.9MB/s eta 0:00:01\r\u001b[K     |███████████████████████████▉    | 860kB 4.9MB/s eta 0:00:01\r\u001b[K     |████████████████████████████▏   | 870kB 4.9MB/s eta 0:00:01\r\u001b[K     |████████████████████████████▌   | 880kB 4.9MB/s eta 0:00:01\r\u001b[K     |████████████████████████████▉   | 890kB 4.9MB/s eta 0:00:01\r\u001b[K     |█████████████████████████████▏  | 901kB 4.9MB/s eta 0:00:01\r\u001b[K     |█████████████████████████████▌  | 911kB 4.9MB/s eta 0:00:01\r\u001b[K     |█████████████████████████████▉  | 921kB 4.9MB/s eta 0:00:01\r\u001b[K     |██████████████████████████████▏ | 931kB 4.9MB/s eta 0:00:01\r\u001b[K     |██████████████████████████████▌ | 942kB 4.9MB/s eta 0:00:01\r\u001b[K     |██████████████████████████████▉ | 952kB 4.9MB/s eta 0:00:01\r\u001b[K     |███████████████████████████████▏| 962kB 4.9MB/s eta 0:00:01\r\u001b[K     |███████████████████████████████▌| 972kB 4.9MB/s eta 0:00:01\r\u001b[K     |███████████████████████████████▉| 983kB 4.9MB/s eta 0:00:01\r\u001b[K     |████████████████████████████████| 993kB 4.9MB/s \n",
            "\u001b[?25h  Building wheel for Pydrive (setup.py) ... \u001b[?25l\u001b[?25hdone\n"
          ],
          "name": "stdout"
        }
      ]
    },
    {
      "cell_type": "code",
      "metadata": {
        "id": "_17HbgKm8gIE",
        "colab_type": "code",
        "colab": {}
      },
      "source": [
        "url = 'https://drive.google.com/open?id=1dwaiV1_fIVBGHGeVKnRGXMgw-POve3I3'\n",
        "id = url.split('=')[1]"
      ],
      "execution_count": 0,
      "outputs": []
    },
    {
      "cell_type": "code",
      "metadata": {
        "id": "IEG8ZjYl8TML",
        "colab_type": "code",
        "outputId": "9efa622c-034b-4c28-acc6-cdeed9c80e0c",
        "colab": {
          "base_uri": "https://localhost:8080/",
          "height": 53
        }
      },
      "source": [
        "import sys\n",
        "sys.path.insert(0,'/usr/lib/chromium-browser/chromedriver')\n",
        "from selenium import webdriver\n",
        "chrome_options = webdriver.ChromeOptions()\n",
        "chrome_options.add_argument('--headless')\n",
        "chrome_options.add_argument('--no-sandbox')\n",
        "chrome_options.add_argument('--disable-dev-shm-usage')\n",
        "wd = webdriver.Chrome('chromedriver',chrome_options=chrome_options)\n",
        "wd.get(\"https://www.premierleague.com/players?se=79&cl=21\")"
      ],
      "execution_count": 0,
      "outputs": [
        {
          "output_type": "stream",
          "text": [
            "/usr/local/lib/python3.6/dist-packages/ipykernel_launcher.py:8: DeprecationWarning: use options instead of chrome_options\n",
            "  \n"
          ],
          "name": "stderr"
        }
      ]
    },
    {
      "cell_type": "markdown",
      "metadata": {
        "id": "XUtgQ39km4rw",
        "colab_type": "text"
      },
      "source": [
        "---"
      ]
    },
    {
      "cell_type": "markdown",
      "metadata": {
        "id": "nwPb0lDwV97C",
        "colab_type": "text"
      },
      "source": [
        "* **선수명 불러오기**"
      ]
    },
    {
      "cell_type": "code",
      "metadata": {
        "id": "AgYfSaR_CgFs",
        "colab_type": "code",
        "colab": {}
      },
      "source": [
        "player_list = wd.find_elements_by_class_name('playerName')"
      ],
      "execution_count": 0,
      "outputs": []
    },
    {
      "cell_type": "code",
      "metadata": {
        "id": "NNykuES4RSlC",
        "colab_type": "code",
        "colab": {}
      },
      "source": [
        "player_name = []\n",
        "\n",
        "for i in range(0, len(player_list)):\n",
        "    name = player_list[i].text\n",
        "    player_name.append(name)\n",
        "    \n",
        "player_name"
      ],
      "execution_count": 0,
      "outputs": []
    },
    {
      "cell_type": "markdown",
      "metadata": {
        "id": "ypi0UOrmm6lV",
        "colab_type": "text"
      },
      "source": [
        "---"
      ]
    },
    {
      "cell_type": "markdown",
      "metadata": {
        "id": "6Rm_eqZQVkB3",
        "colab_type": "text"
      },
      "source": [
        "* **포지션 불러오기**"
      ]
    },
    {
      "cell_type": "code",
      "metadata": {
        "id": "VCdI3gsgWB1W",
        "colab_type": "code",
        "colab": {}
      },
      "source": [
        "player_position_name = wd.find_elements_by_class_name('hide-s')"
      ],
      "execution_count": 0,
      "outputs": []
    },
    {
      "cell_type": "code",
      "metadata": {
        "id": "HnKyTmNmWV1D",
        "colab_type": "code",
        "colab": {}
      },
      "source": [
        "player_position = []\n",
        "\n",
        "for i in range(2, len(player_position_name), 2):\n",
        "    name = player_position_name[i].text\n",
        "    player_position.append(name)\n",
        "\n",
        "player_position"
      ],
      "execution_count": 0,
      "outputs": []
    },
    {
      "cell_type": "markdown",
      "metadata": {
        "id": "1_5PbaEzxKHx",
        "colab_type": "text"
      },
      "source": [
        "---"
      ]
    },
    {
      "cell_type": "markdown",
      "metadata": {
        "id": "uf5AdiNHaAoZ",
        "colab_type": "text"
      },
      "source": [
        "* **선수이름 + 포지션**"
      ]
    },
    {
      "cell_type": "code",
      "metadata": {
        "id": "QZIic3W_Yki9",
        "colab_type": "code",
        "colab": {}
      },
      "source": [
        "import pandas as pd\n",
        "\n",
        "data = {'Name': player_name, 'Position': player_position}\n",
        "\n",
        "team_sheet = pd.DataFrame(data)\n",
        "team_sheet.head()\n",
        "\n",
        "team_sheet = team_sheet.drop(49)"
      ],
      "execution_count": 0,
      "outputs": []
    },
    {
      "cell_type": "markdown",
      "metadata": {
        "id": "X37F5n4HxMTG",
        "colab_type": "text"
      },
      "source": [
        "---"
      ]
    },
    {
      "cell_type": "markdown",
      "metadata": {
        "id": "lz6TwiiSkkVB",
        "colab_type": "text"
      },
      "source": [
        "* **선수 링크 긁어오기**"
      ]
    },
    {
      "cell_type": "code",
      "metadata": {
        "id": "K4f8Z_nvexg7",
        "colab_type": "code",
        "colab": {}
      },
      "source": [
        "test = wd.find_elements_by_tag_name('a')\n",
        "test"
      ],
      "execution_count": 0,
      "outputs": []
    },
    {
      "cell_type": "code",
      "metadata": {
        "id": "JjGEDGfFfvsa",
        "colab_type": "code",
        "colab": {}
      },
      "source": [
        "link = []\n",
        "for i in range(0, len(test)):\n",
        "    a = test[i].get_attribute('href')\n",
        "    link.append(a)\n",
        "    \n",
        "link"
      ],
      "execution_count": 0,
      "outputs": []
    },
    {
      "cell_type": "code",
      "metadata": {
        "id": "XIFtao2gjJS6",
        "colab_type": "code",
        "colab": {}
      },
      "source": [
        "link = link[109:158]"
      ],
      "execution_count": 0,
      "outputs": []
    },
    {
      "cell_type": "code",
      "metadata": {
        "id": "DTHrgS5kiwYj",
        "colab_type": "code",
        "colab": {}
      },
      "source": [
        "link_number = []\n",
        "\n",
        "for i in range(0, len(link)):\n",
        "               a = int(link[i].split('/')[4])\n",
        "               link_number.append(a)\n",
        "\n",
        "            \n",
        "# 선수 테이블과 합치기\n",
        "team_sheet['id'] = link_number"
      ],
      "execution_count": 0,
      "outputs": []
    },
    {
      "cell_type": "markdown",
      "metadata": {
        "id": "S4EmFbq3jr8X",
        "colab_type": "text"
      },
      "source": [
        "---"
      ]
    },
    {
      "cell_type": "markdown",
      "metadata": {
        "id": "SKkOtYT8l5Bx",
        "colab_type": "text"
      },
      "source": [
        "## **지난 경기 기록 긁어오기**"
      ]
    },
    {
      "cell_type": "code",
      "metadata": {
        "id": "SX-oIA68xPFg",
        "colab_type": "code",
        "colab": {}
      },
      "source": [
        "!pip install selenium\n",
        "import sys\n",
        "sys.path.insert(0,'/usr/lib/chromium-browser/chromedriver')\n",
        "from selenium import webdriver\n",
        "chrome_options = webdriver.ChromeOptions()\n",
        "chrome_options.add_argument('--headless')\n",
        "chrome_options.add_argument('--no-sandbox')\n",
        "chrome_options.add_argument('--disable-dev-shm-usage')\n",
        "match_wd = webdriver.Chrome('chromedriver',chrome_options=chrome_options)\n",
        "match_wd.get(\"https://www.premierleague.com/clubs/21/Tottenham-Hotspur/results?co=1&se=79\")"
      ],
      "execution_count": 0,
      "outputs": []
    },
    {
      "cell_type": "code",
      "metadata": {
        "id": "okkYTpL3xiG-",
        "colab_type": "code",
        "colab": {}
      },
      "source": [
        "# match_tag = match_wd.find_elements_by_tag_name('li')\n",
        "\n",
        "match_num_01 = []\n",
        "\n",
        "for i in range(1, 39):\n",
        "    a = i * 3\n",
        "    number = '#mainContent > div:nth-child(6) > div > div.wrapper.col-12.active > div.col-12 > section > div:nth-child(%d) > ul > li > div' % a\n",
        "    b = match_wd.find_element_by_css_selector(number)\n",
        "    \n",
        "    match_num_01.append(b)"
      ],
      "execution_count": 0,
      "outputs": []
    },
    {
      "cell_type": "code",
      "metadata": {
        "id": "QYHf_DlmxwoK",
        "colab_type": "code",
        "colab": {}
      },
      "source": [
        "match_num_02 = []\n",
        "\n",
        "for i in range(0, len(match_num_01)):\n",
        "    a = match_num_01[i].get_attribute('data-matchid')\n",
        "    match_num_02.append(a)\n",
        "    \n",
        "match_num_02 = list(map(int,match_num_02))\n",
        "match_num_02"
      ],
      "execution_count": 0,
      "outputs": []
    },
    {
      "cell_type": "code",
      "metadata": {
        "id": "5RuOMwimz91S",
        "colab_type": "code",
        "colab": {
          "base_uri": "https://localhost:8080/",
          "height": 701
        },
        "outputId": "583902a8-5eae-4edd-a2ae-22f19e683709"
      },
      "source": [
        "match_num_03 = []\n",
        "for i in match_num_02:\n",
        "    a = 'https://www.premierleague.com/match/%d' % i\n",
        "    match_num_03.append(a)\n",
        "    \n",
        "match_num_03"
      ],
      "execution_count": 48,
      "outputs": [
        {
          "output_type": "execute_result",
          "data": {
            "text/plain": [
              "['https://www.premierleague.com/match/22720',\n",
              " 'https://www.premierleague.com/match/22650',\n",
              " 'https://www.premierleague.com/match/22711',\n",
              " 'https://www.premierleague.com/match/22700',\n",
              " 'https://www.premierleague.com/match/22684',\n",
              " 'https://www.premierleague.com/match/22680',\n",
              " 'https://www.premierleague.com/match/22669',\n",
              " 'https://www.premierleague.com/match/22654',\n",
              " 'https://www.premierleague.com/match/22633',\n",
              " 'https://www.premierleague.com/match/22630',\n",
              " 'https://www.premierleague.com/match/22616',\n",
              " 'https://www.premierleague.com/match/22610',\n",
              " 'https://www.premierleague.com/match/22598',\n",
              " 'https://www.premierleague.com/match/22591',\n",
              " 'https://www.premierleague.com/match/22578',\n",
              " 'https://www.premierleague.com/match/22569',\n",
              " 'https://www.premierleague.com/match/22549',\n",
              " 'https://www.premierleague.com/match/22560',\n",
              " 'https://www.premierleague.com/match/22539',\n",
              " 'https://www.premierleague.com/match/22524',\n",
              " 'https://www.premierleague.com/match/22518',\n",
              " 'https://www.premierleague.com/match/22511',\n",
              " 'https://www.premierleague.com/match/22500',\n",
              " 'https://www.premierleague.com/match/22490',\n",
              " 'https://www.premierleague.com/match/22475',\n",
              " 'https://www.premierleague.com/match/22470',\n",
              " 'https://www.premierleague.com/match/22452',\n",
              " 'https://www.premierleague.com/match/22450',\n",
              " 'https://www.premierleague.com/match/22439',\n",
              " 'https://www.premierleague.com/match/22430',\n",
              " 'https://www.premierleague.com/match/22420',\n",
              " 'https://www.premierleague.com/match/22406',\n",
              " 'https://www.premierleague.com/match/22401',\n",
              " 'https://www.premierleague.com/match/22389',\n",
              " 'https://www.premierleague.com/match/22375',\n",
              " 'https://www.premierleague.com/match/22369',\n",
              " 'https://www.premierleague.com/match/22360',\n",
              " 'https://www.premierleague.com/match/22348']"
            ]
          },
          "metadata": {
            "tags": []
          },
          "execution_count": 48
        }
      ]
    },
    {
      "cell_type": "markdown",
      "metadata": {
        "id": "yFZvFaIb6w_n",
        "colab_type": "text"
      },
      "source": [
        "---"
      ]
    },
    {
      "cell_type": "markdown",
      "metadata": {
        "id": "5z9jdN187XSc",
        "colab_type": "text"
      },
      "source": [
        "## **경기별 선수 명단 긁어오기**"
      ]
    },
    {
      "cell_type": "code",
      "metadata": {
        "id": "K-Ojt_UQ7Vye",
        "colab_type": "code",
        "colab": {}
      },
      "source": [
        "# https://www.premierleague.com/match/22720\n",
        "from bs4 import BeautifulSoup\n",
        "import urllib.request\n",
        "import urllib.parse\n",
        "\n",
        "# web_url에 원하는 웹의 URL을 넣어주시면 됩니다.\n",
        "\n",
        "players = []\n",
        "\n",
        "for i in match_num_03:\n",
        "\n",
        "    with urllib.request.urlopen(i) as response:\n",
        "        html = response.read()\n",
        "        soup = BeautifulSoup(html, 'html.parser')\n",
        "        players.append(soup.find_all('div', 'matchLineupTeamContainer'))\n"
      ],
      "execution_count": 0,
      "outputs": []
    },
    {
      "cell_type": "code",
      "metadata": {
        "id": "YGYUejqWYWXZ",
        "colab_type": "code",
        "colab": {
          "base_uri": "https://localhost:8080/",
          "height": 55
        },
        "outputId": "70a84960-9a59-4499-eb34-03597e165acd"
      },
      "source": [
        ""
      ],
      "execution_count": 83,
      "outputs": [
        {
          "output_type": "execute_result",
          "data": {
            "text/plain": [
              "<div class=\"matchLineupTeamContainer\" data-index-class=\"home\" data-team-id=\"21\"><ul class=\"startingLineUpContainer squadList home\"><li class=\"player\" data-age=\"535939200000\" data-position=\"0\"><a href=\"/players/4664/Hugo-Lloris/overview\"><div class=\"number\">1</div><img alt=\"Hugo Lloris\" class=\"img\" data-player=\"p37915\" data-script=\"pl_player-image\" data-size=\"110x140\" data-widget=\"player-image\" src=\"//platform-static-files.s3.amazonaws.com/premierleague/photos/players/110x140/Photo-Missing.png\"/><div class=\"info\"><div class=\"name\"> Hugo Lloris <div class=\"playerLineupEventContainer-4,664\"></div></div><span class=\"position\"><div class=\"cpt\">C</div><span>Goalkeeper</span></span></div></a></li><li class=\"player\" data-age=\"758592000000\" data-position=\"1\"><a href=\"/players/4112/Eric-Dier/overview\"><div class=\"number\">15</div><img alt=\"Eric Dier\" class=\"img\" data-player=\"p93264\" data-script=\"pl_player-image\" data-size=\"110x140\" data-widget=\"player-image\" src=\"//platform-static-files.s3.amazonaws.com/premierleague/photos/players/110x140/Photo-Missing.png\"/><div class=\"info\"><div class=\"name\"> Eric Dier <div class=\"playerLineupEventContainer-4,112\"></div></div><span class=\"position\"><span>Defender</span></span></div></a></li><li class=\"player\" data-age=\"860889600000\" data-position=\"2\"><a href=\"/players/13815/Kyle-Walker-Peters/overview\"><div class=\"number\">37</div><img alt=\"Kyle Walker-Peters\" class=\"img\" data-player=\"p158534\" data-script=\"pl_player-image\" data-size=\"110x140\" data-widget=\"player-image\" src=\"//platform-static-files.s3.amazonaws.com/premierleague/photos/players/110x140/Photo-Missing.png\"/><div class=\"info\"><div class=\"name\"> Kyle Walker-Peters <div class=\"playerLineupEventContainer-13,815\"></div></div><span class=\"position\"><span>Defender</span></span></div></a></li><li class=\"player\" data-age=\"646876800000\" data-position=\"3\"><a href=\"/players/3507/Danny-Rose/overview\"><div class=\"number\">3</div><img alt=\"Danny Rose\" class=\"img\" data-player=\"p38290\" data-script=\"pl_player-image\" data-size=\"110x140\" data-widget=\"player-image\" src=\"//platform-static-files.s3.amazonaws.com/premierleague/photos/players/110x140/Photo-Missing.png\"/><div class=\"info\"><div class=\"name\"> Danny Rose <div class=\"playerLineupEventContainer-3,507\"></div></div><span class=\"position\"><span>Defender</span></span></div></a></li><li class=\"player\" data-age=\"604800000000\" data-position=\"4\"><a href=\"/players/4916/Toby-Alderweireld/overview\"><div class=\"number\">4</div><img alt=\"Toby Alderweireld\" class=\"img\" data-player=\"p55605\" data-script=\"pl_player-image\" data-size=\"110x140\" data-widget=\"player-image\" src=\"//platform-static-files.s3.amazonaws.com/premierleague/photos/players/110x140/Photo-Missing.png\"/><div class=\"info\"><div class=\"name\"> Toby Alderweireld <div class=\"playerLineupEventContainer-4,916\"></div></div><span class=\"position\"><span>Defender</span></span></div></a></li><li class=\"player\" data-age=\"677808000000\" data-position=\"5\"><a href=\"/players/4816/Victor-Wanyama/overview\"><div class=\"number\">12</div><img alt=\"Victor Wanyama\" class=\"img\" data-player=\"p54756\" data-script=\"pl_player-image\" data-size=\"110x140\" data-widget=\"player-image\" src=\"//platform-static-files.s3.amazonaws.com/premierleague/photos/players/110x140/Photo-Missing.png\"/><div class=\"info\"><div class=\"name\"> Victor Wanyama <div class=\"playerLineupEventContainer-4,816\"><span class=\"icn card-yellow\"></span></div></div><span class=\"position\"><span>Midfielder</span></span></div></a></li><li class=\"player\" data-age=\"699667200000\" data-position=\"6\"><a href=\"/players/4842/Erik-Lamela/overview\"><div class=\"number\">11</div><img alt=\"Erik Lamela\" class=\"img\" data-player=\"p62974\" data-script=\"pl_player-image\" data-size=\"110x140\" data-widget=\"player-image\" src=\"//platform-static-files.s3.amazonaws.com/premierleague/photos/players/110x140/Photo-Missing.png\"/><div class=\"info\"><div class=\"name\"> Erik Lamela <div class=\"playerLineupEventContainer-4,842\"><span class=\"icn ball-small\"></span><span class=\"icn ball-small\"></span><span class=\"icn sub-off\"></span><span class=\"sub\">78'</span></div></div><span class=\"position\"><span>Midfielder</span></span></div></a></li><li class=\"player\" data-age=\"713664000000\" data-position=\"7\"><a href=\"/players/5762/Lucas-Moura/overview\"><div class=\"number\">27</div><img alt=\"Lucas Moura\" class=\"img\" data-player=\"p95715\" data-script=\"pl_player-image\" data-size=\"110x140\" data-widget=\"player-image\" src=\"//platform-static-files.s3.amazonaws.com/premierleague/photos/players/110x140/Photo-Missing.png\"/><div class=\"info\"><div class=\"name\"> Lucas Moura <div class=\"playerLineupEventContainer-5,762\"><span class=\"icn sub-off\"></span><span class=\"sub\">74'</span></div></div><span class=\"position\"><span>Midfielder</span></span></div></a></li><li class=\"player\" data-age=\"619228800000\" data-position=\"8\"><a href=\"/players/4549/Moussa-Sissoko/overview\"><div class=\"number\">17</div><img alt=\"Moussa Sissoko\" class=\"img\" data-player=\"p45268\" data-script=\"pl_player-image\" data-size=\"110x140\" data-widget=\"player-image\" src=\"//platform-static-files.s3.amazonaws.com/premierleague/photos/players/110x140/Photo-Missing.png\"/><div class=\"info\"><div class=\"name\"> Moussa Sissoko <div class=\"playerLineupEventContainer-4,549\"><span class=\"icn sub-off\"></span><span class=\"sub\">84'</span></div></div><span class=\"position\"><span>Midfielder</span></span></div></a></li><li class=\"player\" data-age=\"698025600000\" data-position=\"9\"><a href=\"/players/4845/Christian-Eriksen/overview\"><div class=\"number\">23</div><img alt=\"Christian Eriksen\" class=\"img\" data-player=\"p80607\" data-script=\"pl_player-image\" data-size=\"110x140\" data-widget=\"player-image\" src=\"//platform-static-files.s3.amazonaws.com/premierleague/photos/players/110x140/Photo-Missing.png\"/><div class=\"info\"><div class=\"name\"> Christian Eriksen <div class=\"playerLineupEventContainer-4,845\"></div></div><span class=\"position\"><span>Midfielder</span></span></div></a></li><li class=\"player\" data-age=\"743817600000\" data-position=\"10\"><a href=\"/players/3960/Harry-Kane/overview\"><div class=\"number\">10</div><img alt=\"Harry Kane\" class=\"img\" data-player=\"p78830\" data-script=\"pl_player-image\" data-size=\"110x140\" data-widget=\"player-image\" src=\"//platform-static-files.s3.amazonaws.com/premierleague/photos/players/110x140/Photo-Missing.png\"/><div class=\"info\"><div class=\"name\"> Harry Kane <div class=\"playerLineupEventContainer-3,960\"><span class=\"icn ball-small\"></span><span class=\"icn ball-small\"></span></div></div><span class=\"position\"><span>Forward</span></span></div></a></li></ul><h3 class=\"substituteHeader home\">Substitutes </h3><ul class=\"startingLineUpContainer squadList home\"><li class=\"player\" data-age=\"435456000000\" data-position=\"0\"><a href=\"/players/4398/Michel-Vorm/overview\"><div class=\"number\">13</div><img alt=\"Michel Vorm\" class=\"img\" data-player=\"p39215\" data-script=\"pl_player-image\" data-size=\"110x140\" data-widget=\"player-image\" src=\"//platform-static-files.s3.amazonaws.com/premierleague/photos/players/110x140/Photo-Missing.png\"/><div class=\"info\"><div class=\"name\"> Michel Vorm <div class=\"playerLineupEventContainer-4,398\"></div></div><span class=\"position\"><span>Goalkeeper</span></span></div></a></li><li class=\"player\" data-age=\"735609600000\" data-position=\"1\"><a href=\"/players/4408/Ben-Davies/overview\"><div class=\"number\">33</div><img alt=\"Ben Davies\" class=\"img\" data-player=\"p115556\" data-script=\"pl_player-image\" data-size=\"110x140\" data-widget=\"player-image\" src=\"//platform-static-files.s3.amazonaws.com/premierleague/photos/players/110x140/Photo-Missing.png\"/><div class=\"info\"><div class=\"name\"> Ben Davies <div class=\"playerLineupEventContainer-4,408\"></div></div><span class=\"position\"><span>Defender</span></span></div></a></li><li class=\"player\" data-age=\"884563200000\" data-position=\"2\"><a href=\"/players/25309/Juan-Foyth/overview\"><div class=\"number\">21</div><img alt=\"Juan Foyth\" class=\"img\" data-player=\"p234908\" data-script=\"pl_player-image\" data-size=\"110x140\" data-widget=\"player-image\" src=\"//platform-static-files.s3.amazonaws.com/premierleague/photos/players/110x140/Photo-Missing.png\"/><div class=\"info\"><div class=\"name\"> Juan Foyth <div class=\"playerLineupEventContainer-25,309\"></div></div><span class=\"position\"><span>Defender</span></span></div></a></li><li class=\"player\" data-age=\"834537600000\" data-position=\"3\"><a href=\"/players/20224/Davinson-Sánchez/overview\"><div class=\"number\">6</div><img alt=\"Davinson Sánchez\" class=\"img\" data-player=\"p173904\" data-script=\"pl_player-image\" data-size=\"110x140\" data-widget=\"player-image\" src=\"//platform-static-files.s3.amazonaws.com/premierleague/photos/players/110x140/Photo-Missing.png\"/><div class=\"info\"><div class=\"name\"> Davinson Sánchez <div class=\"playerLineupEventContainer-20,224\"><span class=\"icn sub-on\"></span><span class=\"sub\">78'</span></div></div><span class=\"position\"><span>Defender</span></span></div></a></li><li class=\"player\" data-age=\"829180800000\" data-position=\"4\"><a href=\"/players/9167/Dele-Alli/overview\"><div class=\"number\">20</div><img alt=\"Dele Alli\" class=\"img\" data-player=\"p108823\" data-script=\"pl_player-image\" data-size=\"110x140\" data-widget=\"player-image\" src=\"//platform-static-files.s3.amazonaws.com/premierleague/photos/players/110x140/Photo-Missing.png\"/><div class=\"info\"><div class=\"name\"> Dele Alli <div class=\"playerLineupEventContainer-9,167\"><span class=\"icn sub-on\"></span><span class=\"sub\">74'</span></div></div><span class=\"position\"><span>Midfielder</span></span></div></a></li><li class=\"player\" data-age=\"710553600000\" data-position=\"5\"><a href=\"/players/4999/Son-Heung-Min/overview\"><div class=\"number\">7</div><img alt=\"Son Heung-Min\" class=\"img\" data-player=\"p85971\" data-script=\"pl_player-image\" data-size=\"110x140\" data-widget=\"player-image\" src=\"//platform-static-files.s3.amazonaws.com/premierleague/photos/players/110x140/Photo-Missing.png\"/><div class=\"info\"><div class=\"name\"> Son Heung-Min <div class=\"playerLineupEventContainer-4,999\"><span class=\"icn sub-on\"></span><span class=\"sub\">84'</span></div></div><span class=\"position\"><span>Forward</span></span></div></a></li><li class=\"player\" data-age=\"478224000000\" data-position=\"6\"><a href=\"/players/5551/Fernando-Llorente/overview\"><div class=\"number\">18</div><img alt=\"Fernando Llorente\" class=\"img\" data-player=\"p19760\" data-script=\"pl_player-image\" data-size=\"110x140\" data-widget=\"player-image\" src=\"//platform-static-files.s3.amazonaws.com/premierleague/photos/players/110x140/Photo-Missing.png\"/><div class=\"info\"><div class=\"name\"> Fernando Llorente <div class=\"playerLineupEventContainer-5,551\"></div></div><span class=\"position\"><span>Forward</span></span></div></a></li></ul></div>"
            ]
          },
          "metadata": {
            "tags": []
          },
          "execution_count": 83
        }
      ]
    },
    {
      "cell_type": "code",
      "metadata": {
        "id": "wSkNMNXA7aqN",
        "colab_type": "code",
        "colab": {
          "base_uri": "https://localhost:8080/",
          "height": 49
        },
        "outputId": "122e09e3-01a0-4583-e3f3-f17ffeb3baf8"
      },
      "source": [
        "import pandas as pd\n",
        "import numpy as np\n",
        "\n",
        "players_name = []\n",
        "\n",
        "df = pd.DataFrame(players_name, columns = ['Name', 'Goal'])\n",
        "df\n",
        "\n",
        "# df.loc[j, 'Name'] = [players_name]\n",
        "# df.loc[j, 'Goal'] = [players_goal]"
      ],
      "execution_count": 73,
      "outputs": [
        {
          "output_type": "execute_result",
          "data": {
            "text/html": [
              "<div>\n",
              "<style scoped>\n",
              "    .dataframe tbody tr th:only-of-type {\n",
              "        vertical-align: middle;\n",
              "    }\n",
              "\n",
              "    .dataframe tbody tr th {\n",
              "        vertical-align: top;\n",
              "    }\n",
              "\n",
              "    .dataframe thead th {\n",
              "        text-align: right;\n",
              "    }\n",
              "</style>\n",
              "<table border=\"1\" class=\"dataframe\">\n",
              "  <thead>\n",
              "    <tr style=\"text-align: right;\">\n",
              "      <th></th>\n",
              "      <th>Name</th>\n",
              "      <th>Goal</th>\n",
              "    </tr>\n",
              "  </thead>\n",
              "  <tbody>\n",
              "  </tbody>\n",
              "</table>\n",
              "</div>"
            ],
            "text/plain": [
              "Empty DataFrame\n",
              "Columns: [Name, Goal]\n",
              "Index: []"
            ]
          },
          "metadata": {
            "tags": []
          },
          "execution_count": 73
        }
      ]
    },
    {
      "cell_type": "code",
      "metadata": {
        "id": "tX9J5qKcA6oU",
        "colab_type": "code",
        "colab": {
          "base_uri": "https://localhost:8080/",
          "height": 372
        },
        "outputId": "9a4c2fec-b95d-45c7-8105-ed8ff3719072"
      },
      "source": [
        "player_name = []\n",
        "\n",
        "for i in range(0, len(players)) :\n",
        "    if (players[i].get_attribute_list('data-team-id')[0] == '21') :\n",
        "        a = players[i].find_all(\"div\", class_=\"name\")\n",
        "       # print(a)\n",
        "        for j in range(0, len(a)) :\n",
        "            player_name.append(a[j].get_text())\n",
        "\n",
        "player_name"
      ],
      "execution_count": 81,
      "outputs": [
        {
          "output_type": "error",
          "ename": "AttributeError",
          "evalue": "ignored",
          "traceback": [
            "\u001b[0;31m---------------------------------------------------------------------------\u001b[0m",
            "\u001b[0;31mAttributeError\u001b[0m                            Traceback (most recent call last)",
            "\u001b[0;32m<ipython-input-81-519aa758dc8c>\u001b[0m in \u001b[0;36m<module>\u001b[0;34m()\u001b[0m\n\u001b[1;32m      1\u001b[0m \u001b[0mplayer_name\u001b[0m \u001b[0;34m=\u001b[0m \u001b[0;34m[\u001b[0m\u001b[0;34m]\u001b[0m\u001b[0;34m\u001b[0m\u001b[0;34m\u001b[0m\u001b[0m\n\u001b[1;32m      2\u001b[0m \u001b[0;32mfor\u001b[0m \u001b[0mi\u001b[0m \u001b[0;32min\u001b[0m \u001b[0mrange\u001b[0m\u001b[0;34m(\u001b[0m\u001b[0;36m0\u001b[0m\u001b[0;34m,\u001b[0m \u001b[0mlen\u001b[0m\u001b[0;34m(\u001b[0m\u001b[0mplayers\u001b[0m\u001b[0;34m)\u001b[0m\u001b[0;34m)\u001b[0m \u001b[0;34m:\u001b[0m\u001b[0;34m\u001b[0m\u001b[0;34m\u001b[0m\u001b[0m\n\u001b[0;32m----> 3\u001b[0;31m     \u001b[0;32mif\u001b[0m \u001b[0;34m(\u001b[0m\u001b[0mplayers\u001b[0m\u001b[0;34m[\u001b[0m\u001b[0mi\u001b[0m\u001b[0;34m]\u001b[0m\u001b[0;34m.\u001b[0m\u001b[0mget_attribute_list\u001b[0m\u001b[0;34m(\u001b[0m\u001b[0;34m'data-team-id'\u001b[0m\u001b[0;34m)\u001b[0m\u001b[0;34m[\u001b[0m\u001b[0;36m0\u001b[0m\u001b[0;34m]\u001b[0m \u001b[0;34m==\u001b[0m \u001b[0;34m'21'\u001b[0m\u001b[0;34m)\u001b[0m \u001b[0;34m:\u001b[0m\u001b[0;34m\u001b[0m\u001b[0;34m\u001b[0m\u001b[0m\n\u001b[0m\u001b[1;32m      4\u001b[0m         \u001b[0ma\u001b[0m \u001b[0;34m=\u001b[0m \u001b[0mplayers\u001b[0m\u001b[0;34m[\u001b[0m\u001b[0mi\u001b[0m\u001b[0;34m]\u001b[0m\u001b[0;34m.\u001b[0m\u001b[0mfind_all\u001b[0m\u001b[0;34m(\u001b[0m\u001b[0;34m\"div\"\u001b[0m\u001b[0;34m,\u001b[0m \u001b[0mclass_\u001b[0m\u001b[0;34m=\u001b[0m\u001b[0;34m\"name\"\u001b[0m\u001b[0;34m)\u001b[0m\u001b[0;34m\u001b[0m\u001b[0;34m\u001b[0m\u001b[0m\n\u001b[1;32m      5\u001b[0m        \u001b[0;31m# print(a)\u001b[0m\u001b[0;34m\u001b[0m\u001b[0;34m\u001b[0m\u001b[0;34m\u001b[0m\u001b[0m\n",
            "\u001b[0;32m/usr/local/lib/python3.6/dist-packages/bs4/element.py\u001b[0m in \u001b[0;36m__getattr__\u001b[0;34m(self, key)\u001b[0m\n\u001b[1;32m   1882\u001b[0m     \u001b[0;32mdef\u001b[0m \u001b[0m__getattr__\u001b[0m\u001b[0;34m(\u001b[0m\u001b[0mself\u001b[0m\u001b[0;34m,\u001b[0m \u001b[0mkey\u001b[0m\u001b[0;34m)\u001b[0m\u001b[0;34m:\u001b[0m\u001b[0;34m\u001b[0m\u001b[0;34m\u001b[0m\u001b[0m\n\u001b[1;32m   1883\u001b[0m         raise AttributeError(\n\u001b[0;32m-> 1884\u001b[0;31m             \u001b[0;34m\"ResultSet object has no attribute '%s'. You're probably treating a list of items like a single item. Did you call find_all() when you meant to call find()?\"\u001b[0m \u001b[0;34m%\u001b[0m \u001b[0mkey\u001b[0m\u001b[0;34m\u001b[0m\u001b[0;34m\u001b[0m\u001b[0m\n\u001b[0m\u001b[1;32m   1885\u001b[0m         )\n",
            "\u001b[0;31mAttributeError\u001b[0m: ResultSet object has no attribute 'get_attribute_list'. You're probably treating a list of items like a single item. Did you call find_all() when you meant to call find()?"
          ]
        }
      ]
    },
    {
      "cell_type": "code",
      "metadata": {
        "id": "z8uIqIDY3Eaf",
        "colab_type": "code",
        "colab": {
          "base_uri": "https://localhost:8080/",
          "height": 372
        },
        "outputId": "bf294704-3294-4def-eb4a-6650bba53e30"
      },
      "source": [
        "players_name = []\n",
        "players_goal = []\n",
        "\n",
        "for i in range(0, len(players)) :\n",
        "    if (players[i].get_attribute_list('data-team-id')[0] == '21'):\n",
        "        a = players[i].find_all(\"div\", class_=\"name\")\n",
        "    elif (players[i].get_attribute_list('data-team-id')[1] == '21'):\n",
        "    \n",
        "        for j in range(0, len(a)) :\n",
        "            players_name = a[j].get_text()\n",
        "            players_goal = int(len(a[j].find_all(\"span\", class_=\"icn ball-small\")))\n",
        "            \n",
        "            df.loc[j, 'Name'] = [players_name]\n",
        "            df.loc[j, 'Goal'] = [players_goal]\n",
        "\n",
        "df"
      ],
      "execution_count": 78,
      "outputs": [
        {
          "output_type": "error",
          "ename": "AttributeError",
          "evalue": "ignored",
          "traceback": [
            "\u001b[0;31m---------------------------------------------------------------------------\u001b[0m",
            "\u001b[0;31mAttributeError\u001b[0m                            Traceback (most recent call last)",
            "\u001b[0;32m<ipython-input-78-90a0367882b8>\u001b[0m in \u001b[0;36m<module>\u001b[0;34m()\u001b[0m\n\u001b[1;32m      3\u001b[0m \u001b[0;34m\u001b[0m\u001b[0m\n\u001b[1;32m      4\u001b[0m \u001b[0;32mfor\u001b[0m \u001b[0mi\u001b[0m \u001b[0;32min\u001b[0m \u001b[0mrange\u001b[0m\u001b[0;34m(\u001b[0m\u001b[0;36m0\u001b[0m\u001b[0;34m,\u001b[0m \u001b[0mlen\u001b[0m\u001b[0;34m(\u001b[0m\u001b[0mplayers\u001b[0m\u001b[0;34m)\u001b[0m\u001b[0;34m)\u001b[0m \u001b[0;34m:\u001b[0m\u001b[0;34m\u001b[0m\u001b[0;34m\u001b[0m\u001b[0m\n\u001b[0;32m----> 5\u001b[0;31m     \u001b[0;32mif\u001b[0m \u001b[0mplayers\u001b[0m\u001b[0;34m[\u001b[0m\u001b[0mi\u001b[0m\u001b[0;34m]\u001b[0m\u001b[0;34m.\u001b[0m\u001b[0mget_attribute_list\u001b[0m\u001b[0;34m(\u001b[0m\u001b[0;34m'data-team-id'\u001b[0m\u001b[0;34m)\u001b[0m\u001b[0;34m[\u001b[0m\u001b[0;36m0\u001b[0m\u001b[0;34m]\u001b[0m \u001b[0;34m==\u001b[0m \u001b[0;34m'21'\u001b[0m \u001b[0;34m:\u001b[0m\u001b[0;34m\u001b[0m\u001b[0;34m\u001b[0m\u001b[0m\n\u001b[0m\u001b[1;32m      6\u001b[0m         \u001b[0ma\u001b[0m \u001b[0;34m=\u001b[0m \u001b[0mplayers\u001b[0m\u001b[0;34m[\u001b[0m\u001b[0mi\u001b[0m\u001b[0;34m]\u001b[0m\u001b[0;34m.\u001b[0m\u001b[0mfind_all\u001b[0m\u001b[0;34m(\u001b[0m\u001b[0;34m\"div\"\u001b[0m\u001b[0;34m,\u001b[0m \u001b[0mclass_\u001b[0m\u001b[0;34m=\u001b[0m\u001b[0;34m\"name\"\u001b[0m\u001b[0;34m)\u001b[0m\u001b[0;34m\u001b[0m\u001b[0;34m\u001b[0m\u001b[0m\n\u001b[1;32m      7\u001b[0m         \u001b[0;32mfor\u001b[0m \u001b[0mj\u001b[0m \u001b[0;32min\u001b[0m \u001b[0mrange\u001b[0m\u001b[0;34m(\u001b[0m\u001b[0;36m0\u001b[0m\u001b[0;34m,\u001b[0m \u001b[0mlen\u001b[0m\u001b[0;34m(\u001b[0m\u001b[0ma\u001b[0m\u001b[0;34m)\u001b[0m\u001b[0;34m)\u001b[0m \u001b[0;34m:\u001b[0m\u001b[0;34m\u001b[0m\u001b[0;34m\u001b[0m\u001b[0m\n",
            "\u001b[0;32m/usr/local/lib/python3.6/dist-packages/bs4/element.py\u001b[0m in \u001b[0;36m__getattr__\u001b[0;34m(self, key)\u001b[0m\n\u001b[1;32m   1882\u001b[0m     \u001b[0;32mdef\u001b[0m \u001b[0m__getattr__\u001b[0m\u001b[0;34m(\u001b[0m\u001b[0mself\u001b[0m\u001b[0;34m,\u001b[0m \u001b[0mkey\u001b[0m\u001b[0;34m)\u001b[0m\u001b[0;34m:\u001b[0m\u001b[0;34m\u001b[0m\u001b[0;34m\u001b[0m\u001b[0m\n\u001b[1;32m   1883\u001b[0m         raise AttributeError(\n\u001b[0;32m-> 1884\u001b[0;31m             \u001b[0;34m\"ResultSet object has no attribute '%s'. You're probably treating a list of items like a single item. Did you call find_all() when you meant to call find()?\"\u001b[0m \u001b[0;34m%\u001b[0m \u001b[0mkey\u001b[0m\u001b[0;34m\u001b[0m\u001b[0;34m\u001b[0m\u001b[0m\n\u001b[0m\u001b[1;32m   1885\u001b[0m         )\n",
            "\u001b[0;31mAttributeError\u001b[0m: ResultSet object has no attribute 'get_attribute_list'. You're probably treating a list of items like a single item. Did you call find_all() when you meant to call find()?"
          ]
        }
      ]
    },
    {
      "cell_type": "markdown",
      "metadata": {
        "id": "LBDgJxHT3i96",
        "colab_type": "text"
      },
      "source": [
        "* **골 뽑아오기**"
      ]
    },
    {
      "cell_type": "code",
      "metadata": {
        "id": "6uQytkMhag9u",
        "colab_type": "code",
        "outputId": "5c4fa8d8-9096-40e6-d2e1-f5db14d5e033",
        "colab": {
          "base_uri": "https://localhost:8080/",
          "height": 341
        }
      },
      "source": [
        "players_name = []\n",
        "\n",
        "for i in range(0, len(players)) :\n",
        "    if (players[i].get_attribute_list('data-team-id')[0] == '21') :\n",
        "        a = players[i].find_all(\"div\", class_=\"name\")\n",
        "        for j in range(0, len(a)):\n",
        "            print(len(a[j].find_all(\"span\", class_=\"icn ball-small\")))"
      ],
      "execution_count": 45,
      "outputs": [
        {
          "output_type": "stream",
          "text": [
            "0\n",
            "0\n",
            "0\n",
            "0\n",
            "0\n",
            "0\n",
            "2\n",
            "0\n",
            "0\n",
            "0\n",
            "2\n",
            "0\n",
            "0\n",
            "0\n",
            "0\n",
            "0\n",
            "0\n",
            "0\n"
          ],
          "name": "stdout"
        }
      ]
    },
    {
      "cell_type": "code",
      "metadata": {
        "id": "jO3q45CcbxUq",
        "colab_type": "code",
        "outputId": "efbd2e9d-f6b1-473b-9d95-5c295362d335",
        "colab": {
          "base_uri": "https://localhost:8080/",
          "height": 341
        }
      },
      "source": [
        "lstrip_players_name = []\n",
        "\n",
        "for i in range(0, len(players_name)):\n",
        "    a = player_name[i].lstrip()\n",
        "    lstrip_players_name.append(a)\n",
        "    \n",
        "lstrip_player_name"
      ],
      "execution_count": 20,
      "outputs": [
        {
          "output_type": "execute_result",
          "data": {
            "text/plain": [
              "['Hugo Lloris ',\n",
              " 'Eric Dier ',\n",
              " 'Kyle Walker-Peters ',\n",
              " 'Danny Rose ',\n",
              " 'Toby Alderweireld ',\n",
              " 'Victor Wanyama ',\n",
              " \"Erik Lamela 78'\",\n",
              " \"Lucas Moura 74'\",\n",
              " \"Moussa Sissoko 84'\",\n",
              " 'Christian Eriksen ',\n",
              " 'Harry Kane ',\n",
              " 'Michel Vorm ',\n",
              " 'Ben Davies ',\n",
              " 'Juan Foyth ',\n",
              " \"Davinson Sánchez 78'\",\n",
              " \"Dele Alli 74'\",\n",
              " \"Son Heung-Min 84'\",\n",
              " 'Fernando Llorente ']"
            ]
          },
          "metadata": {
            "tags": []
          },
          "execution_count": 20
        }
      ]
    },
    {
      "cell_type": "markdown",
      "metadata": {
        "id": "Af1gKZcxmbmW",
        "colab_type": "text"
      },
      "source": [
        "* **정규식**\n",
        "    * 출처1: http://melonicedlatte.com/python/2017/02/23/152309.html\n",
        "    * 출처2: https://niceman.tistory.com/156"
      ]
    },
    {
      "cell_type": "code",
      "metadata": {
        "id": "NoxMC6JldvaE",
        "colab_type": "code",
        "outputId": "7e7fb6a3-8682-4d1e-f1d3-4cd7d4cb7185",
        "colab": {
          "base_uri": "https://localhost:8080/",
          "height": 341
        }
      },
      "source": [
        "re_players_name = []\n",
        "fin_players_name = []\n",
        "\n",
        "import re\n",
        "\n",
        "for i in range(0, len(lstrip_players_name)):\n",
        "    text = lstrip_players_name[i]\n",
        "    parse = re.sub('[' '][0-9][0-9][-=+,#/\\?:^$.@*\\\"※~&%ㆍ!』\\\\‘|\\(\\)\\[\\]\\<\\>`\\'…》]', '', text)\n",
        "    re_players_name.append(parse)\n",
        "\n",
        "for j in range(0, len(re_players_name)):\n",
        "    a = re_players_name[j].rstrip()\n",
        "    fin_players_name.append(a)\n",
        "        \n",
        "fin_players_name\n",
        "\n",
        "#     for j in range(0, len(re_player_name)):\n",
        "#         a = re_player_name[j].rstrip()\n",
        "#         fin_player_name.append(a)"
      ],
      "execution_count": 22,
      "outputs": [
        {
          "output_type": "execute_result",
          "data": {
            "text/plain": [
              "['Hugo Lloris',\n",
              " 'Eric Dier',\n",
              " 'Kyle Walker-Peters',\n",
              " 'Danny Rose',\n",
              " 'Toby Alderweireld',\n",
              " 'Victor Wanyama',\n",
              " 'Erik Lamela',\n",
              " 'Lucas Moura',\n",
              " 'Moussa Sissoko',\n",
              " 'Christian Eriksen',\n",
              " 'Harry Kane',\n",
              " 'Michel Vorm',\n",
              " 'Ben Davies',\n",
              " 'Juan Foyth',\n",
              " 'Davinson Sánchez',\n",
              " 'Dele Alli',\n",
              " 'Son Heung-Min',\n",
              " 'Fernando Llorente']"
            ]
          },
          "metadata": {
            "tags": []
          },
          "execution_count": 22
        }
      ]
    }
  ]
}