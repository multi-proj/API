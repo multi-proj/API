{
  "nbformat": 4,
  "nbformat_minor": 0,
  "metadata": {
    "colab": {
      "name": "[sey]Team_Sheet_01.ipynb",
      "version": "0.3.2",
      "provenance": [],
      "collapsed_sections": [],
      "include_colab_link": true
    },
    "kernelspec": {
      "name": "python3",
      "display_name": "Python 3"
    }
  },
  "cells": [
    {
      "cell_type": "markdown",
      "metadata": {
        "id": "view-in-github",
        "colab_type": "text"
      },
      "source": [
        "<a href=\"https://colab.research.google.com/github/multi-proj/API/blob/master/Soccer_Team/%5Bsey%5DTeam_Sheet_01.ipynb\" target=\"_parent\"><img src=\"https://colab.research.google.com/assets/colab-badge.svg\" alt=\"Open In Colab\"/></a>"
      ]
    },
    {
      "cell_type": "code",
      "metadata": {
        "id": "ZlKNGHm7vQh6",
        "colab_type": "code",
        "colab": {}
      },
      "source": [
        "from selenium import webdriver"
      ],
      "execution_count": 0,
      "outputs": []
    },
    {
      "cell_type": "code",
      "metadata": {
        "id": "7WDtdpty77tJ",
        "colab_type": "code",
        "outputId": "46396ddc-246a-4d9c-8748-3dc868acad8e",
        "colab": {
          "base_uri": "https://localhost:8080/",
          "height": 197
        }
      },
      "source": [
        "!pip install selenium\n",
        "!apt install chromium-chromedriver"
      ],
      "execution_count": 74,
      "outputs": [
        {
          "output_type": "stream",
          "text": [
            "Requirement already satisfied: selenium in /usr/local/lib/python3.6/dist-packages (3.141.0)\n",
            "Requirement already satisfied: urllib3 in /usr/local/lib/python3.6/dist-packages (from selenium) (1.24.3)\n",
            "Reading package lists... Done\n",
            "Building dependency tree       \n",
            "Reading state information... Done\n",
            "chromium-chromedriver is already the newest version (73.0.3683.86-0ubuntu0.18.04.1).\n",
            "The following package was automatically installed and is no longer required:\n",
            "  libnvidia-common-410\n",
            "Use 'apt autoremove' to remove it.\n",
            "0 upgraded, 0 newly installed, 0 to remove and 16 not upgraded.\n"
          ],
          "name": "stdout"
        }
      ]
    },
    {
      "cell_type": "code",
      "metadata": {
        "id": "Kw0c1id9vngR",
        "colab_type": "code",
        "colab": {}
      },
      "source": [
        "!pip install -U -q Pydrive\n",
        "from pydrive.auth import GoogleAuth\n",
        "from pydrive.drive import GoogleDrive\n",
        "from google.colab import auth\n",
        "from oauth2client.client import GoogleCredentials\n",
        "\n",
        "# Authenticate and create the PyDrive client.\n",
        "auth.authenticate_user()\n",
        "gauth = GoogleAuth()\n",
        "gauth.credentials = GoogleCredentials.get_application_default()\n",
        "drive = GoogleDrive(gauth)"
      ],
      "execution_count": 0,
      "outputs": []
    },
    {
      "cell_type": "code",
      "metadata": {
        "id": "_17HbgKm8gIE",
        "colab_type": "code",
        "colab": {}
      },
      "source": [
        "url = 'https://drive.google.com/open?id=1dwaiV1_fIVBGHGeVKnRGXMgw-POve3I3'\n",
        "id = url.split('=')[1]"
      ],
      "execution_count": 0,
      "outputs": []
    },
    {
      "cell_type": "code",
      "metadata": {
        "id": "IEG8ZjYl8TML",
        "colab_type": "code",
        "outputId": "4f0a21c1-3d67-4f73-e1af-71e678be9792",
        "colab": {
          "base_uri": "https://localhost:8080/",
          "height": 53
        }
      },
      "source": [
        "import sys\n",
        "sys.path.insert(0,'/usr/lib/chromium-browser/chromedriver')\n",
        "from selenium import webdriver\n",
        "chrome_options = webdriver.ChromeOptions()\n",
        "chrome_options.add_argument('--headless')\n",
        "chrome_options.add_argument('--no-sandbox')\n",
        "chrome_options.add_argument('--disable-dev-shm-usage')\n",
        "wd = webdriver.Chrome('chromedriver',chrome_options=chrome_options)\n",
        "wd.get(\"https://www.premierleague.com/players?se=79&cl=21\")"
      ],
      "execution_count": 77,
      "outputs": [
        {
          "output_type": "stream",
          "text": [
            "/usr/local/lib/python3.6/dist-packages/ipykernel_launcher.py:8: DeprecationWarning: use options instead of chrome_options\n",
            "  \n"
          ],
          "name": "stderr"
        }
      ]
    },
    {
      "cell_type": "markdown",
      "metadata": {
        "id": "SKkOtYT8l5Bx",
        "colab_type": "text"
      },
      "source": [
        "## **지난 경기 기록 긁어오기**"
      ]
    },
    {
      "cell_type": "code",
      "metadata": {
        "id": "SX-oIA68xPFg",
        "colab_type": "code",
        "outputId": "fe32a197-85c7-4e08-8bfd-c13edbd5e564",
        "colab": {
          "base_uri": "https://localhost:8080/",
          "height": 53
        }
      },
      "source": [
        "import sys\n",
        "sys.path.insert(0,'/usr/lib/chromium-browser/chromedriver')\n",
        "from selenium import webdriver\n",
        "chrome_options = webdriver.ChromeOptions()\n",
        "chrome_options.add_argument('--headless')\n",
        "chrome_options.add_argument('--no-sandbox')\n",
        "chrome_options.add_argument('--disable-dev-shm-usage')\n",
        "match_wd = webdriver.Chrome('chromedriver',chrome_options=chrome_options)\n",
        "match_wd.get(\"https://www.premierleague.com/clubs/21/Tottenham-Hotspur/results?co=1&se=79\")"
      ],
      "execution_count": 78,
      "outputs": [
        {
          "output_type": "stream",
          "text": [
            "/usr/local/lib/python3.6/dist-packages/ipykernel_launcher.py:8: DeprecationWarning: use options instead of chrome_options\n",
            "  \n"
          ],
          "name": "stderr"
        }
      ]
    },
    {
      "cell_type": "code",
      "metadata": {
        "id": "okkYTpL3xiG-",
        "colab_type": "code",
        "colab": {}
      },
      "source": [
        "# match_tag = match_wd.find_elements_by_tag_name('li')\n",
        "\n",
        "match_num_01 = []\n",
        "\n",
        "for i in range(1, 39):\n",
        "    a = i * 3\n",
        "    number = '#mainContent > div:nth-child(6) > div > div.wrapper.col-12.active > div.col-12 > section > div:nth-child(%d) > ul > li > div' % a\n",
        "    b = match_wd.find_element_by_css_selector(number)\n",
        "    \n",
        "    match_num_01.append(b)"
      ],
      "execution_count": 0,
      "outputs": []
    },
    {
      "cell_type": "code",
      "metadata": {
        "id": "QYHf_DlmxwoK",
        "colab_type": "code",
        "colab": {}
      },
      "source": [
        "match_num_02 = []\n",
        "\n",
        "for i in range(0, len(match_num_01)):\n",
        "    a = match_num_01[i].get_attribute('data-matchid')\n",
        "    match_num_02.append(a)\n",
        "    \n",
        "match_num_02 = list(map(int,match_num_02))\n",
        "match_num_02"
      ],
      "execution_count": 0,
      "outputs": []
    },
    {
      "cell_type": "code",
      "metadata": {
        "id": "5RuOMwimz91S",
        "colab_type": "code",
        "colab": {}
      },
      "source": [
        "match_num_03 = []\n",
        "for i in match_num_02:\n",
        "    a = 'https://www.premierleague.com/match/%d' % i\n",
        "    match_num_03.append(a)\n",
        "    \n",
        "match_num_03"
      ],
      "execution_count": 0,
      "outputs": []
    },
    {
      "cell_type": "markdown",
      "metadata": {
        "id": "yFZvFaIb6w_n",
        "colab_type": "text"
      },
      "source": [
        "---"
      ]
    },
    {
      "cell_type": "markdown",
      "metadata": {
        "id": "5z9jdN187XSc",
        "colab_type": "text"
      },
      "source": [
        "## **경기별 선수 명단 긁어오기**"
      ]
    },
    {
      "cell_type": "code",
      "metadata": {
        "id": "K-Ojt_UQ7Vye",
        "colab_type": "code",
        "colab": {}
      },
      "source": [
        "# https://www.premierleague.com/match/22720\n",
        "from bs4 import BeautifulSoup\n",
        "import urllib.request\n",
        "import urllib.parse\n",
        "\n",
        "# web_url에 원하는 웹의 URL을 넣어주시면 됩니다.\n",
        "\n",
        "players = []\n",
        "\n",
        "for i in match_num_03:\n",
        "\n",
        "    with urllib.request.urlopen(i) as response:\n",
        "        html = response.read()\n",
        "        soup = BeautifulSoup(html, 'html.parser')\n",
        "        players.append(soup.find_all('div', 'matchLineupTeamContainer'))"
      ],
      "execution_count": 0,
      "outputs": []
    },
    {
      "cell_type": "code",
      "metadata": {
        "id": "rD3B0vlBF_hP",
        "colab_type": "code",
        "colab": {}
      },
      "source": [
        "players # 이중리스트구조 상태"
      ],
      "execution_count": 0,
      "outputs": []
    },
    {
      "cell_type": "code",
      "metadata": {
        "id": "k4JacHC5N7aE",
        "colab_type": "code",
        "colab": {}
      },
      "source": [
        "# 리스트 구조 변경 (이중리스트 -> 단일리스트)\n",
        "players = sum(players, [])\n",
        "\n",
        "players # 구조변경 확인하기"
      ],
      "execution_count": 0,
      "outputs": []
    },
    {
      "cell_type": "code",
      "metadata": {
        "id": "odWQ32UV0TcB",
        "colab_type": "code",
        "colab": {}
      },
      "source": [
        "players_21 = []\n",
        "\n",
        "\n",
        "# Tottenham(21)만 추출\n",
        "for i in range(0, len(players)):\n",
        "    if players[i].get_attribute_list('data-team-id')[0] == '21':\n",
        "        players_21.append(players[i])\n",
        "                \n",
        "players_21"
      ],
      "execution_count": 0,
      "outputs": []
    },
    {
      "cell_type": "code",
      "metadata": {
        "id": "wSkNMNXA7aqN",
        "colab_type": "code",
        "outputId": "c5bdb4ad-fa35-44c5-b44b-4ff876a7c91b",
        "colab": {
          "base_uri": "https://localhost:8080/",
          "height": 49
        }
      },
      "source": [
        "import pandas as pd\n",
        "import numpy as np\n",
        "\n",
        "data = []\n",
        "\n",
        "df = pd.DataFrame(data, columns = ['Name', 'Goal'])\n",
        "df\n",
        "\n",
        "# 데이터프레임에 데이터 추가하는 법\n",
        "# df.loc[j, 'Name'] = players_name\n",
        "# df.loc[j, 'Goal'] = players_goal"
      ],
      "execution_count": 233,
      "outputs": [
        {
          "output_type": "execute_result",
          "data": {
            "text/html": [
              "<div>\n",
              "<style scoped>\n",
              "    .dataframe tbody tr th:only-of-type {\n",
              "        vertical-align: middle;\n",
              "    }\n",
              "\n",
              "    .dataframe tbody tr th {\n",
              "        vertical-align: top;\n",
              "    }\n",
              "\n",
              "    .dataframe thead th {\n",
              "        text-align: right;\n",
              "    }\n",
              "</style>\n",
              "<table border=\"1\" class=\"dataframe\">\n",
              "  <thead>\n",
              "    <tr style=\"text-align: right;\">\n",
              "      <th></th>\n",
              "      <th>Name</th>\n",
              "      <th>Goal</th>\n",
              "    </tr>\n",
              "  </thead>\n",
              "  <tbody>\n",
              "  </tbody>\n",
              "</table>\n",
              "</div>"
            ],
            "text/plain": [
              "Empty DataFrame\n",
              "Columns: [Name, Goal]\n",
              "Index: []"
            ]
          },
          "metadata": {
            "tags": []
          },
          "execution_count": 233
        }
      ]
    },
    {
      "cell_type": "code",
      "metadata": {
        "id": "mMci8u_O4fKd",
        "colab_type": "code",
        "colab": {}
      },
      "source": [
        "# Tottenham 경기정보만 불러오기\n",
        "\n",
        "players_name = []\n",
        "\n",
        "for i in players_21:\n",
        "    players_name.append(i.find_all('div', 'name'))\n",
        "    \n",
        "players_name"
      ],
      "execution_count": 0,
      "outputs": []
    },
    {
      "cell_type": "code",
      "metadata": {
        "id": "4GBzn94zl8oN",
        "colab_type": "code",
        "outputId": "31ad3256-663f-40a3-9495-17a3ffa0a5d6",
        "colab": {
          "base_uri": "https://localhost:8080/",
          "height": 341
        }
      },
      "source": [
        "# 이름 추출\n",
        "players_goal = []\n",
        "\n",
        "players_name_ex = []\n",
        "for i in range(0, len(players_name)):\n",
        "    temp1 = []\n",
        "    \n",
        "    \n",
        "\n",
        "    for j in players_name[i]:\n",
        "        # j = <div class=\"name\"> Robert Elliot <div class=\"playerLineupEventContainer-2,214\"></div></div>\n",
        "        \n",
        "        temp2 = []\n",
        "\n",
        "        # 이름 정규화\n",
        "        j = j.get_text()\n",
        "        temp2.append((j.split(' '))[1:3])\n",
        "        j = sum(temp2, [])\n",
        "        j = \" \".join(j)\n",
        "\n",
        "        temp1.append(j)\n",
        "        \n",
        "    players_name_ex.append(temp1)\n",
        "    \n",
        "    # structuring\n",
        "    df.loc[i, 'Name'] = temp1\n",
        "    \n",
        "##### designed structure list\n",
        "df.loc[0]['Name']"
      ],
      "execution_count": 235,
      "outputs": [
        {
          "output_type": "execute_result",
          "data": {
            "text/plain": [
              "['Hugo Lloris',\n",
              " 'Eric Dier',\n",
              " 'Kyle Walker-Peters',\n",
              " 'Danny Rose',\n",
              " 'Toby Alderweireld',\n",
              " 'Victor Wanyama',\n",
              " 'Erik Lamela',\n",
              " 'Lucas Moura',\n",
              " 'Moussa Sissoko',\n",
              " 'Christian Eriksen',\n",
              " 'Harry Kane',\n",
              " 'Michel Vorm',\n",
              " 'Ben Davies',\n",
              " 'Juan Foyth',\n",
              " 'Davinson Sánchez',\n",
              " 'Dele Alli',\n",
              " 'Son Heung-Min',\n",
              " 'Fernando Llorente']"
            ]
          },
          "metadata": {
            "tags": []
          },
          "execution_count": 235
        }
      ]
    },
    {
      "cell_type": "code",
      "metadata": {
        "id": "Pfike9rIKoVm",
        "colab_type": "code",
        "colab": {}
      },
      "source": [
        "players_goal = []\n",
        "\n",
        "\n",
        "for j in range(0, len(players_21)):\n",
        "    # Goal수 추출\n",
        "    players_goal = int(len(players_21[j].find_all(\"span\", class_=\"icn ball-small\")))\n",
        "\n",
        "    df.loc[j, 'Goal'] = players_goal"
      ],
      "execution_count": 0,
      "outputs": []
    },
    {
      "cell_type": "code",
      "metadata": {
        "id": "NNqrTTOuH_bv",
        "colab_type": "code",
        "colab": {
          "base_uri": "https://localhost:8080/",
          "height": 71
        },
        "outputId": "c8ffb6c1-02bb-4dd4-cd3e-4a1b3444c82d"
      },
      "source": [
        "df.loc[1]"
      ],
      "execution_count": 237,
      "outputs": [
        {
          "output_type": "execute_result",
          "data": {
            "text/plain": [
              "Name    [Hugo Lloris, Davinson Sánchez, Kieran Trippie...\n",
              "Goal                                                    1\n",
              "Name: 1, dtype: object"
            ]
          },
          "metadata": {
            "tags": []
          },
          "execution_count": 237
        }
      ]
    },
    {
      "cell_type": "markdown",
      "metadata": {
        "id": "Af1gKZcxmbmW",
        "colab_type": "text"
      },
      "source": [
        "#### 정규식\n",
        "    * 출처1: http://melonicedlatte.com/python/2017/02/23/152309.html\n",
        "    * 출처2: https://niceman.tistory.com/156\n",
        "    \n",
        "    \n",
        "\n",
        "```\n",
        "players_name = []\n",
        "\n",
        "for i in range(0, len(players)) :\n",
        "    if (players[i].get_attribute_list('data-team-id')[0] == '21') :\n",
        "        for j in range(0, len(a)):\n",
        "            print(len(a[j].find_all(\"span\", class_=\"icn ball-small\")))\n",
        "\n",
        "\n",
        "\n",
        "lstrip_players_name = []\n",
        "\n",
        "for i in range(0, len(players_name)):\n",
        "    a = player_name[i].lstrip()\n",
        "    lstrip_players_name.append(a)\n",
        "    \n",
        "lstrip_player_name\n",
        "\n",
        "\n",
        "\n",
        "\n",
        "re_players_name = []\n",
        "fin_players_name = []\n",
        "\n",
        "import re\n",
        "\n",
        "for i in range(0, len(lstrip_players_name)):\n",
        "    text = lstrip_players_name[i]\n",
        "    parse = re.sub('[' '][0-9][0-9][-=+,#/\\?:^$.@*\\\"※~&%ㆍ!』\\\\‘|\\(\\)\\[\\]\\<\\>`\\'…》]', '', text)\n",
        "    re_players_name.append(parse)\n",
        "\n",
        "for j in range(0, len(re_players_name)):\n",
        "    a = re_players_name[j].rstrip()\n",
        "    fin_players_name.append(a)\n",
        "        \n",
        "fin_players_name\n",
        "\n",
        "#     for j in range(0, len(re_player_name)):\n",
        "#         a = re_player_name[j].rstrip()\n",
        "#         fin_player_name.append(a)```\n",
        "\n"
      ]
    }
  ]
}